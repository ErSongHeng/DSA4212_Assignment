{
  "nbformat": 4,
  "nbformat_minor": 0,
  "metadata": {
    "colab": {
      "provenance": []
    },
    "kernelspec": {
      "name": "python3",
      "display_name": "Python 3"
    },
    "language_info": {
      "name": "python"
    },
    "accelerator": "GPU",
    "gpuClass": "standard"
  },
  "cells": [
    {
      "cell_type": "code",
      "execution_count": null,
      "metadata": {
        "id": "mo-NUuZmKInC"
      },
      "outputs": [],
      "source": [
        "import numpy as np\n",
        "## Progress bar\n",
        "from tqdm.auto import tqdm\n",
        "import pylab as plt\n",
        "import copy\n",
        "import time\n",
        "import tensorflow as tf\n",
        "from tensorflow import keras\n",
        "from tensorflow.keras import datasets, layers, models"
      ]
    },
    {
      "cell_type": "code",
      "source": [
        "if 'google.colab' in str(get_ipython()):\n",
        "  print(\"All ok -- code is running on a Google Colab\")\n",
        "else:\n",
        "    print(\"===\"*15, \" WARNING \",\"===\"*15)\n",
        "    print(\"For DSA4212 assignment 1, code needs to be run on a Google Colab with a single GPU\")\n",
        "    print(\"===\"*15, \" WARNING \",\"===\"*15)\n",
        "\n"
      ],
      "metadata": {
        "colab": {
          "base_uri": "https://localhost:8080/"
        },
        "id": "y86ViYIFKN9j",
        "outputId": "68b8e58f-cf59-49fe-d4b4-167453138f88"
      },
      "execution_count": null,
      "outputs": [
        {
          "output_type": "stream",
          "name": "stdout",
          "text": [
            "All ok -- code is running on a Google Colab\n"
          ]
        }
      ]
    },
    {
      "cell_type": "code",
      "source": [
        "# mount the Google Drive\n",
        "from google.colab import drive\n",
        "drive.mount(\"/content/drive\")"
      ],
      "metadata": {
        "colab": {
          "base_uri": "https://localhost:8080/"
        },
        "id": "_c7FvOu7KPeB",
        "outputId": "624d879a-a2ee-4a75-950c-e24bd0813c57"
      },
      "execution_count": null,
      "outputs": [
        {
          "output_type": "stream",
          "name": "stdout",
          "text": [
            "Drive already mounted at /content/drive; to attempt to forcibly remount, call drive.mount(\"/content/drive\", force_remount=True).\n"
          ]
        }
      ]
    },
    {
      "cell_type": "code",
      "source": [
        "# goto to data folder -- you may need to change this location\n",
        "%cd /content/drive/MyDrive/DSA4212/assignment_1_script/"
      ],
      "metadata": {
        "colab": {
          "base_uri": "https://localhost:8080/"
        },
        "id": "MnUFqD2nKRQf",
        "outputId": "dffef641-9545-4ee2-f8cc-a13aad9d2963"
      },
      "execution_count": null,
      "outputs": [
        {
          "output_type": "stream",
          "name": "stdout",
          "text": [
            "/content/drive/MyDrive/DSA4212/assignment_1_script\n"
          ]
        }
      ]
    },
    {
      "cell_type": "code",
      "source": [
        "class_names=[\"fish\", \"dog\", \"device\", \"chainsaw\", \"church\", \"horn\", \"truck\", \"petrol\", \"golf\", \"parachute\"]\n",
        "\n",
        "# load data -- be patient, does take a few secs\n",
        "data_train = np.load(\"assignment_1_train.npz\")\n",
        "data_val = np.load(\"assignment_1_val.npz\")\n",
        "\n",
        "X_train = data_train[\"img\"].astype(np.float32) / 256.   # set pixel intensities to [0,1]\n",
        "X_val = data_val[\"img\"].astype(np.float32) / 256.\n",
        "Y_train = data_train[\"label\"].astype(int)\n",
        "Y_val = data_val[\"label\"].astype(int)\n",
        "\n",
        "_,H,W,C = X_train.shape\n",
        "print(f\"Img Shape: {H}x{W}x{C}\")\n"
      ],
      "metadata": {
        "colab": {
          "base_uri": "https://localhost:8080/"
        },
        "id": "wJfvFRD5K6ub",
        "outputId": "b6a938f3-e83e-407f-953d-301e3760b526"
      },
      "execution_count": null,
      "outputs": [
        {
          "output_type": "stream",
          "name": "stdout",
          "text": [
            "Img Shape: 128x128x3\n"
          ]
        }
      ]
    },
    {
      "cell_type": "code",
      "source": [
        "# shuffle the train set\n",
        "indices_shuffled = np.arange(len(X_train))\n",
        "np.random.shuffle(indices_shuffled)\n",
        "X_train = X_train[indices_shuffled]\n",
        "Y_train = Y_train[indices_shuffled]\n",
        "\n",
        "# shuffle the validation set\n",
        "indices_shuffled = np.arange(len(X_val))\n",
        "np.random.shuffle(indices_shuffled)\n",
        "X_val = X_val[indices_shuffled]\n",
        "Y_val = Y_val[indices_shuffled]"
      ],
      "metadata": {
        "id": "2y4MrGLpK8Y7"
      },
      "execution_count": null,
      "outputs": []
    },
    {
      "cell_type": "code",
      "source": [
        "# Basic neural network\n",
        "model = tf.keras.Sequential([\n",
        "    tf.keras.layers.Flatten(input_shape=(128, 128,3)),\n",
        "    tf.keras.layers.Dense(128, activation='relu'),\n",
        "    tf.keras.layers.Dense(10),\n",
        "    tf.keras.layers.Softmax()\n",
        "])\n",
        "\n",
        "model.compile(optimizer='adam',\n",
        "              loss=tf.keras.losses.SparseCategoricalCrossentropy(from_logits=True),\n",
        "              metrics=['accuracy'])\n",
        "\n",
        "model.fit(X_train, Y_train, epochs=10)\n",
        "\n",
        "test_loss, test_acc = model.evaluate(X_val,  Y_val, verbose=2)\n",
        "\n",
        "print('\\nTest accuracy:', test_acc*100, \"%\")"
      ],
      "metadata": {
        "colab": {
          "base_uri": "https://localhost:8080/"
        },
        "id": "FmBZKFWVLEx1",
        "outputId": "9412c618-a9aa-44c2-a0ad-23750c5f6973"
      },
      "execution_count": null,
      "outputs": [
        {
          "output_type": "stream",
          "name": "stdout",
          "text": [
            "Epoch 1/10\n"
          ]
        },
        {
          "output_type": "stream",
          "name": "stderr",
          "text": [
            "/usr/local/lib/python3.9/dist-packages/keras/backend.py:5585: UserWarning: \"`sparse_categorical_crossentropy` received `from_logits=True`, but the `output` argument was produced by a Softmax activation and thus does not represent logits. Was this intended?\n",
            "  output, from_logits = _get_logits(\n"
          ]
        },
        {
          "output_type": "stream",
          "name": "stdout",
          "text": [
            "291/291 [==============================] - 7s 6ms/step - loss: 3.5798 - accuracy: 0.1082\n",
            "Epoch 2/10\n",
            "291/291 [==============================] - 2s 6ms/step - loss: 2.3026 - accuracy: 0.0999\n",
            "Epoch 3/10\n",
            "291/291 [==============================] - 2s 6ms/step - loss: 2.3021 - accuracy: 0.1036\n",
            "Epoch 4/10\n",
            "291/291 [==============================] - 2s 6ms/step - loss: 2.3018 - accuracy: 0.1039\n",
            "Epoch 5/10\n",
            "291/291 [==============================] - 2s 7ms/step - loss: 2.3018 - accuracy: 0.1032\n",
            "Epoch 6/10\n",
            "291/291 [==============================] - 2s 7ms/step - loss: 2.3019 - accuracy: 0.1056\n",
            "Epoch 7/10\n",
            "291/291 [==============================] - 2s 6ms/step - loss: 2.3024 - accuracy: 0.1041\n",
            "Epoch 8/10\n",
            "291/291 [==============================] - 2s 6ms/step - loss: 2.3021 - accuracy: 0.1055\n",
            "Epoch 9/10\n",
            "291/291 [==============================] - 2s 6ms/step - loss: 2.3020 - accuracy: 0.1055\n",
            "Epoch 10/10\n",
            "291/291 [==============================] - 2s 6ms/step - loss: 2.3020 - accuracy: 0.1055\n",
            "121/121 - 1s - loss: 2.3038 - accuracy: 0.0915 - 606ms/epoch - 5ms/step\n",
            "\n",
            "Test accuracy: 9.154564142227173 %\n"
          ]
        }
      ]
    },
    {
      "cell_type": "code",
      "source": [
        "# Basic CNN model\n",
        "BCCN = models.Sequential()\n",
        "BCCN.add(layers.Conv2D(32, (3, 3), activation='relu', input_shape=(128, 128, 3)))\n",
        "BCCN.add(layers.MaxPooling2D((2, 2)))\n",
        "BCCN.add(layers.Conv2D(64, (3, 3), activation='relu'))\n",
        "BCCN.add(layers.MaxPooling2D((2, 2)))\n",
        "BCCN.add(layers.Conv2D(128, (3, 3), activation='relu'))\n",
        "BCCN.add(layers.Flatten())\n",
        "BCCN.add(layers.Dense(64, activation='relu'))\n",
        "BCCN.add(layers.Dense(10,activation = \"softmax\"))\n",
        "\n",
        "BCCN.compile(optimizer='adam',\n",
        "              loss=tf.keras.losses.SparseCategoricalCrossentropy(from_logits=True),\n",
        "              metrics=['accuracy'])\n",
        "\n",
        "BCCN.fit(X_train, Y_train, epochs=10)\n",
        "\n",
        "test_loss, test_acc = BCCN.evaluate(X_val,  Y_val, verbose=2)\n",
        "\n",
        "print('\\nTest accuracy:', test_acc*100, \"%\")"
      ],
      "metadata": {
        "id": "lmJO5BelSwf_",
        "colab": {
          "base_uri": "https://localhost:8080/"
        },
        "outputId": "a0f57262-c55e-4152-86d8-7c3531c80555"
      },
      "execution_count": null,
      "outputs": [
        {
          "output_type": "stream",
          "name": "stdout",
          "text": [
            "Epoch 1/10\n"
          ]
        },
        {
          "output_type": "stream",
          "name": "stderr",
          "text": [
            "/usr/local/lib/python3.9/dist-packages/keras/backend.py:5585: UserWarning: \"`sparse_categorical_crossentropy` received `from_logits=True`, but the `output` argument was produced by a Softmax activation and thus does not represent logits. Was this intended?\n",
            "  output, from_logits = _get_logits(\n"
          ]
        },
        {
          "output_type": "stream",
          "name": "stdout",
          "text": [
            "291/291 [==============================] - 17s 20ms/step - loss: 1.8467 - accuracy: 0.3650\n",
            "Epoch 2/10\n",
            "291/291 [==============================] - 6s 20ms/step - loss: 1.2682 - accuracy: 0.5858\n",
            "Epoch 3/10\n",
            "291/291 [==============================] - 5s 19ms/step - loss: 0.9320 - accuracy: 0.6977\n",
            "Epoch 4/10\n",
            "291/291 [==============================] - 8s 26ms/step - loss: 0.6163 - accuracy: 0.8034\n",
            "Epoch 5/10\n",
            "291/291 [==============================] - 6s 20ms/step - loss: 0.3270 - accuracy: 0.8980\n",
            "Epoch 6/10\n",
            "291/291 [==============================] - 6s 19ms/step - loss: 0.1550 - accuracy: 0.9534\n",
            "Epoch 7/10\n",
            "291/291 [==============================] - 6s 20ms/step - loss: 0.0900 - accuracy: 0.9744\n",
            "Epoch 8/10\n",
            "291/291 [==============================] - 6s 20ms/step - loss: 0.0542 - accuracy: 0.9839\n",
            "Epoch 9/10\n",
            "291/291 [==============================] - 6s 20ms/step - loss: 0.0612 - accuracy: 0.9816\n",
            "Epoch 10/10\n",
            "291/291 [==============================] - 6s 19ms/step - loss: 0.0712 - accuracy: 0.9782\n",
            "121/121 - 1s - loss: 2.9905 - accuracy: 0.5718 - 1s/epoch - 9ms/step\n",
            "\n",
            "Test accuracy: 57.18361139297485 %\n"
          ]
        }
      ]
    },
    {
      "cell_type": "code",
      "source": [
        "# Base LeNet model\n",
        "BLN = models.Sequential()\n",
        "BLN.add(layers.Conv2D(32, (3,3), activation='relu', input_shape=(128, 128, 3)))\n",
        "BLN.add(layers.AveragePooling2D((2,2)))\n",
        "BLN.add(layers.Activation('sigmoid'))\n",
        "BLN.add(layers.Conv2D(64,(3,3), activation='relu'))\n",
        "BLN.add(layers.AveragePooling2D((2,2)))\n",
        "BLN.add(layers.Activation('sigmoid'))\n",
        "BLN.add(layers.Conv2D(128, (3,3), activation='relu'))\n",
        "BLN.add(layers.Flatten())\n",
        "BLN.add(layers.Dense(84, activation='relu'))\n",
        "BLN.add(layers.Dense(10))\n",
        "\n",
        "\n",
        "BLN.compile(optimizer='adam',\n",
        "              loss=tf.keras.losses.SparseCategoricalCrossentropy(from_logits=True),\n",
        "              metrics=['accuracy'])\n",
        "\n",
        "BLN.fit(X_train, Y_train, epochs=10)\n",
        "\n",
        "test_loss, test_acc = BLN.evaluate(X_val,  Y_val, verbose=2)\n",
        "\n",
        "print('\\nTest accuracy:', test_acc*100, \"%\")"
      ],
      "metadata": {
        "colab": {
          "base_uri": "https://localhost:8080/"
        },
        "id": "fxeUvr_iGcpc",
        "outputId": "704596ef-8887-402f-9023-a997d2158863"
      },
      "execution_count": null,
      "outputs": [
        {
          "output_type": "stream",
          "name": "stdout",
          "text": [
            "Epoch 1/10\n",
            "291/291 [==============================] - 20s 27ms/step - loss: 2.4698 - accuracy: 0.1024\n",
            "Epoch 2/10\n",
            "291/291 [==============================] - 6s 20ms/step - loss: 2.3022 - accuracy: 0.1014\n",
            "Epoch 3/10\n",
            "291/291 [==============================] - 6s 22ms/step - loss: 2.3022 - accuracy: 0.1043\n",
            "Epoch 4/10\n",
            "291/291 [==============================] - 6s 20ms/step - loss: 2.3021 - accuracy: 0.1045\n",
            "Epoch 5/10\n",
            "291/291 [==============================] - 5s 19ms/step - loss: 2.3022 - accuracy: 0.1055\n",
            "Epoch 6/10\n",
            "291/291 [==============================] - 6s 20ms/step - loss: 2.3021 - accuracy: 0.1046\n",
            "Epoch 7/10\n",
            "291/291 [==============================] - 6s 21ms/step - loss: 2.3021 - accuracy: 0.1015\n",
            "Epoch 8/10\n",
            "291/291 [==============================] - 6s 19ms/step - loss: 2.3021 - accuracy: 0.1055\n",
            "Epoch 9/10\n",
            "291/291 [==============================] - 6s 20ms/step - loss: 2.3021 - accuracy: 0.1055\n",
            "Epoch 10/10\n",
            "291/291 [==============================] - 5s 19ms/step - loss: 2.3021 - accuracy: 0.1028\n",
            "121/121 - 1s - loss: 2.3037 - accuracy: 0.0915 - 1s/epoch - 9ms/step\n",
            "\n",
            "Test accuracy: 9.154564142227173 %\n"
          ]
        }
      ]
    },
    {
      "cell_type": "code",
      "source": [
        "# Base AlexNet\n",
        "AlexNet = keras.models.Sequential([\n",
        "    keras.layers.Conv2D(filters=32, kernel_size=(3,3), strides=(2,2), activation='relu', input_shape=(128,128,3)),\n",
        "    keras.layers.BatchNormalization(),\n",
        "    keras.layers.MaxPool2D(pool_size=(3,3), strides=(2,2)),\n",
        "    keras.layers.Conv2D(filters=64, kernel_size=(5,5), strides=(1,1), activation='relu', padding=\"same\"),\n",
        "    keras.layers.BatchNormalization(),\n",
        "    keras.layers.MaxPool2D(pool_size=(3,3), strides=(2,2)),\n",
        "    keras.layers.Conv2D(filters=128, kernel_size=(3,3), strides=(1,1), activation='relu', padding=\"same\"),\n",
        "    keras.layers.BatchNormalization(),\n",
        "    keras.layers.Conv2D(filters=32, kernel_size=(3,3), strides=(1,1), activation='relu', padding=\"same\"),\n",
        "    keras.layers.BatchNormalization(),\n",
        "    keras.layers.Conv2D(filters=64, kernel_size=(3,3), strides=(1,1), activation='relu', padding=\"same\"),\n",
        "    keras.layers.BatchNormalization(),\n",
        "    keras.layers.MaxPool2D(pool_size=(3,3), strides=(2,2)),\n",
        "    keras.layers.Flatten(),\n",
        "    keras.layers.Dense(4096, activation='relu'),\n",
        "    keras.layers.Dropout(0.5),\n",
        "    keras.layers.Dense(4096, activation='relu'),\n",
        "    keras.layers.Dropout(0.5),\n",
        "    keras.layers.Dense(10, activation='softmax')\n",
        "])\n",
        "\n",
        "AlexNet.compile(optimizer='adam',\n",
        "              loss=tf.keras.losses.SparseCategoricalCrossentropy(from_logits=True),\n",
        "              metrics=['accuracy'])\n",
        "\n",
        "AlexNet.fit(X_train, Y_train, epochs=10)\n",
        "\n",
        "test_loss, test_acc = AlexNet.evaluate(X_val,  Y_val, verbose=2)\n",
        "\n",
        "print('\\nTest accuracy:', test_acc*100, \"%\")"
      ],
      "metadata": {
        "colab": {
          "base_uri": "https://localhost:8080/"
        },
        "id": "w50UAoTRRKx5",
        "outputId": "d8fbc10a-40f1-46d2-9129-92257b651121"
      },
      "execution_count": null,
      "outputs": [
        {
          "output_type": "stream",
          "name": "stdout",
          "text": [
            "Epoch 1/10\n"
          ]
        },
        {
          "output_type": "stream",
          "name": "stderr",
          "text": [
            "/usr/local/lib/python3.9/dist-packages/keras/backend.py:5585: UserWarning: \"`sparse_categorical_crossentropy` received `from_logits=True`, but the `output` argument was produced by a Softmax activation and thus does not represent logits. Was this intended?\n",
            "  output, from_logits = _get_logits(\n"
          ]
        },
        {
          "output_type": "stream",
          "name": "stdout",
          "text": [
            "291/291 [==============================] - 11s 19ms/step - loss: 2.8892 - accuracy: 0.3178\n",
            "Epoch 2/10\n",
            "291/291 [==============================] - 6s 19ms/step - loss: 1.7166 - accuracy: 0.4487\n",
            "Epoch 3/10\n",
            "291/291 [==============================] - 5s 19ms/step - loss: 1.5324 - accuracy: 0.5224\n",
            "Epoch 4/10\n",
            "291/291 [==============================] - 5s 18ms/step - loss: 1.4283 - accuracy: 0.5622\n",
            "Epoch 5/10\n",
            "291/291 [==============================] - 6s 21ms/step - loss: 1.3337 - accuracy: 0.5952\n",
            "Epoch 6/10\n",
            "291/291 [==============================] - 5s 18ms/step - loss: 1.2610 - accuracy: 0.6124\n",
            "Epoch 7/10\n",
            "291/291 [==============================] - 5s 18ms/step - loss: 1.2017 - accuracy: 0.6348\n",
            "Epoch 8/10\n",
            "291/291 [==============================] - 6s 19ms/step - loss: 1.0844 - accuracy: 0.6637\n",
            "Epoch 9/10\n",
            "291/291 [==============================] - 5s 19ms/step - loss: 1.0514 - accuracy: 0.6800\n",
            "Epoch 10/10\n",
            "291/291 [==============================] - 6s 19ms/step - loss: 1.0159 - accuracy: 0.6942\n",
            "121/121 - 1s - loss: 1.7717 - accuracy: 0.4992 - 1s/epoch - 10ms/step\n",
            "\n",
            "Test accuracy: 49.92219805717468 %\n"
          ]
        }
      ]
    },
    {
      "cell_type": "code",
      "source": [
        "# Base ResNet model\n"
      ],
      "metadata": {
        "id": "VRgpb0tvT98n"
      },
      "execution_count": null,
      "outputs": []
    }
  ]
}