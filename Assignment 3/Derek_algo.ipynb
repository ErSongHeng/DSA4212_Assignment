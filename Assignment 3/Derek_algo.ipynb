{
 "cells": [
  {
   "cell_type": "code",
   "execution_count": 8,
   "id": "cc4798c6",
   "metadata": {},
   "outputs": [
    {
     "name": "stderr",
     "output_type": "stream",
     "text": [
      "\n",
      "Bad key text.latex.preview in file C:\\ProgramData\\Anaconda3\\lib\\site-packages\\matplotlib\\mpl-data\\stylelib\\_classic_test.mplstyle, line 123 ('text.latex.preview : False')\n",
      "You probably need to get an updated matplotlibrc file from\n",
      "https://github.com/matplotlib/matplotlib/blob/v3.5.3/matplotlibrc.template\n",
      "or from the matplotlib source distribution\n",
      "\n",
      "Bad key mathtext.fallback_to_cm in file C:\\ProgramData\\Anaconda3\\lib\\site-packages\\matplotlib\\mpl-data\\stylelib\\_classic_test.mplstyle, line 155 ('mathtext.fallback_to_cm : True  # When True, use symbols from the Computer Modern')\n",
      "You probably need to get an updated matplotlibrc file from\n",
      "https://github.com/matplotlib/matplotlib/blob/v3.5.3/matplotlibrc.template\n",
      "or from the matplotlib source distribution\n",
      "\n",
      "Bad key savefig.jpeg_quality in file C:\\ProgramData\\Anaconda3\\lib\\site-packages\\matplotlib\\mpl-data\\stylelib\\_classic_test.mplstyle, line 418 ('savefig.jpeg_quality: 95       # when a jpeg is saved, the default quality parameter.')\n",
      "You probably need to get an updated matplotlibrc file from\n",
      "https://github.com/matplotlib/matplotlib/blob/v3.5.3/matplotlibrc.template\n",
      "or from the matplotlib source distribution\n",
      "\n",
      "Bad key keymap.all_axes in file C:\\ProgramData\\Anaconda3\\lib\\site-packages\\matplotlib\\mpl-data\\stylelib\\_classic_test.mplstyle, line 466 ('keymap.all_axes : a                 # enable all axes')\n",
      "You probably need to get an updated matplotlibrc file from\n",
      "https://github.com/matplotlib/matplotlib/blob/v3.5.3/matplotlibrc.template\n",
      "or from the matplotlib source distribution\n",
      "\n",
      "Bad key animation.avconv_path in file C:\\ProgramData\\Anaconda3\\lib\\site-packages\\matplotlib\\mpl-data\\stylelib\\_classic_test.mplstyle, line 477 ('animation.avconv_path: avconv     # Path to avconv binary. Without full path')\n",
      "You probably need to get an updated matplotlibrc file from\n",
      "https://github.com/matplotlib/matplotlib/blob/v3.5.3/matplotlibrc.template\n",
      "or from the matplotlib source distribution\n",
      "\n",
      "Bad key animation.avconv_args in file C:\\ProgramData\\Anaconda3\\lib\\site-packages\\matplotlib\\mpl-data\\stylelib\\_classic_test.mplstyle, line 479 ('animation.avconv_args:            # Additional arguments to pass to avconv')\n",
      "You probably need to get an updated matplotlibrc file from\n",
      "https://github.com/matplotlib/matplotlib/blob/v3.5.3/matplotlibrc.template\n",
      "or from the matplotlib source distribution\n"
     ]
    }
   ],
   "source": [
    "import numpy as np\n",
    "import matplotlib.pyplot as plt\n",
    "from mpl_toolkits.mplot3d import Axes3D"
   ]
  },
  {
   "cell_type": "code",
   "execution_count": 9,
   "id": "e5792499",
   "metadata": {},
   "outputs": [],
   "source": [
    "cities = np.load(\"cities.npy\", allow_pickle = True)\n",
    "#cities"
   ]
  },
  {
   "cell_type": "markdown",
   "id": "4539e7fc",
   "metadata": {},
   "source": [
    "# 1. Ant Colony algorithm"
   ]
  },
  {
   "cell_type": "code",
   "execution_count": 7,
   "id": "fd3acd17",
   "metadata": {},
   "outputs": [],
   "source": [
    "# Ant Colony\n",
    "# https://induraj2020.medium.com/implementation-of-ant-colony-optimization-using-python-solve-traveling-salesman-problem-9c14d3114475"
   ]
  },
  {
   "cell_type": "code",
   "execution_count": 17,
   "id": "e046c9ba",
   "metadata": {},
   "outputs": [
    {
     "data": {
      "text/plain": [
       "([1, 9, 2, 6, 7, 4, 5, 0, 8, 3], 3.757392121526811)"
      ]
     },
     "execution_count": 17,
     "metadata": {},
     "output_type": "execute_result"
    }
   ],
   "source": [
    "def distance(point1, point2):\n",
    "    return np.sqrt(np.sum((point1 - point2)**2))\n",
    "\n",
    "def ant_colony_optimization(points, n_ants, n_iterations, alpha, beta, evaporation_rate, Q):\n",
    "    n_points = len(points)\n",
    "    pheromone = np.ones((n_points, n_points)) # Initialise pheromones for each path between each city\n",
    "    best_path = None\n",
    "    best_path_length = np.inf\n",
    "    \n",
    "    for iteration in range(n_iterations): # Number of simulations for all ants to find path\n",
    "        paths = [] # To store converged path in this iteration\n",
    "        path_lengths = [] # To store the length of the coenverged path\n",
    "        \n",
    "        for ant in range(n_ants): # For each ant where each ant travels through all the cities\n",
    "            visited = [False]*n_points # Initialise ant has not travelled to any city yet\n",
    "            current_point = np.random.randint(n_points) # Randomly choose a city to visit\n",
    "            visited[current_point] = True # Update visited city\n",
    "            path = [current_point] # Update path of this ant \n",
    "            path_length = 0 # \n",
    "            \n",
    "            while False in visited: # This while loop ensures that the ant runs through all cities\n",
    "                unvisited = np.where(np.logical_not(visited))[0] # Get all non-visited cities\n",
    "                probabilities = np.zeros(len(unvisited))# Initialise probability vector\n",
    "                \n",
    "                for i, unvisited_point in enumerate(unvisited):\n",
    "                    # Updating probabilities of each unvisited city path \n",
    "                    probabilities[i] = pheromone[current_point, unvisited_point]**alpha / distance(points[current_point], points[unvisited_point])**beta\n",
    "                \n",
    "                # Convert to probabilities\n",
    "                probabilities /= np.sum(probabilities)\n",
    "                \n",
    "                \n",
    "                next_point = np.random.choice(unvisited, p=probabilities)# To decide next city to visit based off probability\n",
    "                path.append(next_point) # Add next city to path\n",
    "                path_length += distance(points[current_point], points[next_point]) # Update path length\n",
    "                visited[next_point] = True # Update that the city has been visited\n",
    "                current_point = next_point # Update current position\n",
    "            \n",
    "            paths.append(path)# Updates the whole path the ant took, each path is a list of numbers\n",
    "            path_lengths.append(path_length)# Updates the best \n",
    "            \n",
    "            if path_length < best_path_length: # Update best path and best path length\n",
    "                best_path = path\n",
    "                best_path_length = path_length\n",
    "        \n",
    "        pheromone *= evaporation_rate # This assumes that pheromones changes after each ants journey\n",
    "        \n",
    "        for path, path_length in zip(paths, path_lengths):\n",
    "            for i in range(n_points-1):\n",
    "                pheromone[path[i], path[i+1]] += Q/path_length\n",
    "            pheromone[path[-1], path[0]] += Q/path_length\n",
    "            \n",
    "            \n",
    "    return(best_path,best_path_length)\n",
    "    \n",
    "# Example usage:\n",
    "#points = np.random.rand(10, 3) # Generate 10 random 3D points\n",
    "\n",
    "#ant_colony_optimization(points, n_ants=10, n_iterations=100, alpha=1, beta=1, evaporation_rate=0.5, Q=1)\n",
    "#cities"
   ]
  },
  {
   "cell_type": "code",
   "execution_count": 18,
   "id": "63de6488",
   "metadata": {},
   "outputs": [],
   "source": [
    "# Random parameters, this took 30min to run\n",
    "best_path,best_length = ant_colony_optimization(cities, n_ants=10, n_iterations=10, alpha=1, beta=1, evaporation_rate=0.5, Q=1)"
   ]
  },
  {
   "cell_type": "code",
   "execution_count": 26,
   "id": "12db1385",
   "metadata": {},
   "outputs": [],
   "source": [
    "#best_path\n",
    "#best_length # 318.36\n"
   ]
  },
  {
   "cell_type": "markdown",
   "id": "dc2ba262",
   "metadata": {},
   "source": [
    "# 1.1 Extensions of Ant Colony\n",
    "1. Using MST distance as stopping condition for number of iterations\n",
    "2. Changing the way probabilites of each path is derived for each path\n",
    "## 1. Using MST as stopping condition"
   ]
  },
  {
   "cell_type": "code",
   "execution_count": 35,
   "id": "71626ccd",
   "metadata": {},
   "outputs": [],
   "source": [
    "# Kruskal's Algorithm to get MST length\n",
    "# https://www.pythonpool.com/kruskals-algorithm-python/\n",
    "class Graph:\n",
    "    def __init__(self, vertex):\n",
    "        self.V = vertex\n",
    "        self.graph = []\n",
    " \n",
    "    def add_edge(self, u, v, w):\n",
    "        self.graph.append([u, v, w])\n",
    " \n",
    " \n",
    "    def search(self, parent, i):\n",
    "        if parent[i] == i:\n",
    "            return i\n",
    "        return self.search(parent, parent[i])\n",
    " \n",
    "    def apply_union(self, parent, rank, x, y):\n",
    "        xroot = self.search(parent, x)\n",
    "        yroot = self.search(parent, y)\n",
    "        if rank[xroot] < rank[yroot]:\n",
    "            parent[xroot] = yroot\n",
    "        elif rank[xroot] > rank[yroot]:\n",
    "            parent[yroot] = xroot\n",
    "        else:\n",
    "            parent[yroot] = xroot\n",
    "            rank[xroot] += 1\n",
    " \n",
    "  \n",
    "    def kruskal(self):\n",
    "        result = []\n",
    "        i, e = 0, 0\n",
    "        self.graph = sorted(self.graph, key=lambda item: item[2])\n",
    "        parent = []\n",
    "        rank = []\n",
    "        for node in range(self.V):\n",
    "            parent.append(node)\n",
    "            rank.append(0)\n",
    "        while e < self.V - 1:\n",
    "            u, v, w = self.graph[i]\n",
    "            i = i + 1\n",
    "            x = self.search(parent, u)\n",
    "            y = self.search(parent, v)\n",
    "            if x != y:\n",
    "                e = e + 1\n",
    "                result.append([u, v, w])\n",
    "                self.apply_union(parent, rank, x, y)\n",
    "        total = 0\n",
    "        for u, v, weight in result:\n",
    "            #print(\"Edge:\",u, v,end =\" \")\n",
    "            #print(\"-\",weight)\n",
    "            total += weight\n",
    "        print(total)\n",
    "        return(total)\n",
    "#g = Graph(5)\n",
    "#g.add_edge(0, 1, 8)\n",
    "#g.add_edge(0, 2, 5)\n",
    "#g.add_edge(1, 2, 9)\n",
    "#g.add_edge(1, 3, 11)\n",
    "#g.add_edge(2, 3, 15)\n",
    "#g.add_edge(2, 4, 10)\n",
    "#g.add_edge(3, 4, 7)\n",
    "#g.kruskal()\n",
    "dist_matrix = [[distance(c1, c2) for c2 in cities] for c1 in cities]\n",
    "\n",
    "\n"
   ]
  },
  {
   "cell_type": "code",
   "execution_count": 36,
   "id": "8cda206f",
   "metadata": {},
   "outputs": [],
   "source": [
    "g = Graph(1000)\n",
    "for i in range(0,1000):\n",
    "    for j in range(i,1000):\n",
    "        g.add_edge(i,j,dist_matrix[i][j])"
   ]
  },
  {
   "cell_type": "code",
   "execution_count": 37,
   "id": "e75f5d05",
   "metadata": {},
   "outputs": [
    {
     "name": "stdout",
     "output_type": "stream",
     "text": [
      "21.105649469046114\n"
     ]
    },
    {
     "data": {
      "text/plain": [
       "21.105649469046114"
      ]
     },
     "execution_count": 37,
     "metadata": {},
     "output_type": "execute_result"
    }
   ],
   "source": [
    "g.kruskal()"
   ]
  },
  {
   "cell_type": "markdown",
   "id": "a8d45fb6",
   "metadata": {},
   "source": [
    "## 2. Changing the way probabilities are updated based on pheromones"
   ]
  },
  {
   "cell_type": "markdown",
   "id": "7dbe1bfc",
   "metadata": {},
   "source": [
    "# 2.Approximation methods"
   ]
  },
  {
   "cell_type": "markdown",
   "id": "b38cb2b4",
   "metadata": {},
   "source": [
    "## 2.1. Double tree algorithm"
   ]
  },
  {
   "cell_type": "markdown",
   "id": "8b18d5fe",
   "metadata": {},
   "source": [
    "## 2.2. Christofides algorithm"
   ]
  },
  {
   "cell_type": "code",
   "execution_count": null,
   "id": "73a76179",
   "metadata": {},
   "outputs": [],
   "source": []
  }
 ],
 "metadata": {
  "kernelspec": {
   "display_name": "Python 3 (ipykernel)",
   "language": "python",
   "name": "python3"
  },
  "language_info": {
   "codemirror_mode": {
    "name": "ipython",
    "version": 3
   },
   "file_extension": ".py",
   "mimetype": "text/x-python",
   "name": "python",
   "nbconvert_exporter": "python",
   "pygments_lexer": "ipython3",
   "version": "3.7.3"
  }
 },
 "nbformat": 4,
 "nbformat_minor": 5
}
