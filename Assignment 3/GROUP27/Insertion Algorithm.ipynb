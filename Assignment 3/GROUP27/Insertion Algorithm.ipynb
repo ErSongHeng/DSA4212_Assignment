{
 "cells": [
  {
   "cell_type": "code",
   "execution_count": 1,
   "metadata": {
    "id": "_2NbMa1zlWrY"
   },
   "outputs": [],
   "source": [
    "import numpy as onp\n",
    "import pylab as plt\n",
    "import tqdm\n",
    "\n",
    "import imageio\n",
    "import os\n",
    "from skimage.transform import rescale, resize, downscale_local_mean\n",
    "import pandas as pd\n",
    "import time\n",
    "import scipy\n",
    "from numpy.linalg import norm\n"
   ]
  },
  {
   "cell_type": "code",
   "execution_count": 2,
   "metadata": {
    "colab": {
     "base_uri": "https://localhost:8080/"
    },
    "id": "Gzi2-vVFFrJn",
    "outputId": "966d0d1f-e7c6-42d9-b345-d60148a6a6d1"
   },
   "outputs": [
    {
     "data": {
      "text/plain": [
       "array([[0.42063307, 0.36365371],\n",
       "       [0.42055583, 0.71203725],\n",
       "       [0.77196185, 0.52303056],\n",
       "       ...,\n",
       "       [0.81118992, 0.84354499],\n",
       "       [0.78685968, 0.50938438],\n",
       "       [0.83058875, 0.35190042]])"
      ]
     },
     "execution_count": 2,
     "metadata": {},
     "output_type": "execute_result"
    }
   ],
   "source": [
    "cities= onp.load(\"cities.npy\", allow_pickle=True)\n",
    "cities"
   ]
  },
  {
   "cell_type": "code",
   "execution_count": 3,
   "metadata": {
    "id": "Ezo4IaQoO5vO"
   },
   "outputs": [
    {
     "name": "stdout",
     "output_type": "stream",
     "text": [
      "(1000, 1000)\n"
     ]
    }
   ],
   "source": [
    "# creating distance matrix \n",
    "dist=norm(cities-cities[0],axis=1)\n",
    "for i in range(1,len(cities)):\n",
    "    temp=norm(cities-cities[i],axis=1)\n",
    "    dist=onp.c_[dist,temp]\n",
    "\n",
    "print(dist.shape) # 1000 by 1000"
   ]
  },
  {
   "cell_type": "markdown",
   "metadata": {
    "id": "a34cjd3GMCub"
   },
   "source": [
    "# Nearest insertion algo\n",
    "sources : \n",
    "https://datascience.lc/travelling-salesman-problem-tsp-concept/ \n",
    "https://github.com/afourmy/pyTSP\n",
    "https://stemlounge.com/animated-algorithms-for-the-traveling-salesman-problem/"
   ]
  },
  {
   "cell_type": "code",
   "execution_count": 4,
   "metadata": {},
   "outputs": [],
   "source": [
    "def insert_nearest(tour,k,cities):\n",
    "    '''\n",
    "    To insert city k into tour\n",
    "    Basically minimize function of dist(i,k)+dist(k,j)-dist(i,j), where i and j are the cities currently in tour\n",
    "    cities is the coordinates of all cities to travel\n",
    "    '''\n",
    "\n",
    "    min_dist=999999999\n",
    "    insert_pos=None\n",
    "    for i in range(len(tour)):\n",
    "        dist_ij=norm(cities[tour[i%len(tour)]]-cities[tour[(i+1)%len(tour)]])\n",
    "        dist_ik=norm(cities[tour[i%len(tour)]]-cities[k])\n",
    "        dist_kj=norm(cities[k]-cities[tour[(i+1)%len(tour)]])\n",
    "        dist=dist_ik+dist_kj-dist_ij\n",
    "        #print(i)\n",
    "        #print(dist)\n",
    "        if dist <min_dist : # only add in if the \n",
    "            insert_pos=i+1\n",
    "            min_dist=dist\n",
    "        #print(min_dist)\n",
    "    #print(insert_pos)\n",
    "    # when tour has only 2 cities, and when inserting in between the 2 cities lead to a longer route\n",
    "    #choose to place them at either the start or end\n",
    "    if len(tour)==2 and min_dist>0:\n",
    "        start_dis=norm(cities[k]-cities[tour[0]])\n",
    "        end_dis=norm(cities[k]-cities[tour[1]])\n",
    "        #print(start_dis)\n",
    "        #print(end_dis)\n",
    "        if end_dis<start_dis:\n",
    "            tour.append(k)\n",
    "        else:\n",
    "            tour.insert(0,k)\n",
    "        return\n",
    "    tour.insert(insert_pos,k)\n",
    "\n",
    "        \n",
    "        \n",
    "        \n"
   ]
  },
  {
   "cell_type": "code",
   "execution_count": 5,
   "metadata": {},
   "outputs": [],
   "source": [
    "def select_k(tour,left,dist):\n",
    "    sel_dist=dist[:,left][tour,]\n",
    "    k=left[sel_dist.argmin()%len(left)]\n",
    "    left.remove(k)\n",
    "    return k\n"
   ]
  },
  {
   "cell_type": "code",
   "execution_count": 6,
   "metadata": {},
   "outputs": [],
   "source": [
    "def tsp_nearest_insertion(city1,cities,dist):\n",
    "    #intialise left list \n",
    "    left=list(range(len(cities)))\n",
    "\n",
    "    left.remove(city1)\n",
    "    #2nd city is the one nearest to city 1\n",
    "    city2=left[dist[city1,left].argmin()]\n",
    "    left.remove(city2)\n",
    "    tour=[city1,city2]\n",
    "\n",
    "    while len(tour)<len(cities):\n",
    "        k=select_k(tour,left,dist) #select next city based on the nearest city to any city in current tour list\n",
    "        insert_nearest(tour,k,cities)\n",
    "\n",
    "    nearest_insert_total_dist=sum(norm(cities[tour[i]]-cities[tour[i+1]]) for i in range(len(tour)-1))\n",
    "    return nearest_insert_total_dist,tour"
   ]
  },
  {
   "cell_type": "code",
   "execution_count": 9,
   "metadata": {},
   "outputs": [
    {
     "data": {
      "text/plain": [
       "15.666501998901367"
      ]
     },
     "execution_count": 9,
     "metadata": {},
     "output_type": "execute_result"
    }
   ],
   "source": [
    "# time needed for one run\n",
    "\n",
    "start=time.time()\n",
    "tsp_nearest_insertion(1,cities,dist)\n",
    "end=time.time()\n",
    "end-start # about 15 secs "
   ]
  },
  {
   "cell_type": "code",
   "execution_count": 15,
   "metadata": {},
   "outputs": [
    {
     "name": "stderr",
     "output_type": "stream",
     "text": [
      "100%|████████████████████████████████████████████████████████████████████████████| 1000/1000 [2:37:14<00:00,  9.43s/it]\n"
     ]
    }
   ],
   "source": [
    "# use every possible city as city 1 and store respective L \n",
    "# takes about 4-5h to run \n",
    "L_lst_nearest=[]\n",
    "tour_lst_nearest=[]\n",
    "for i in tqdm.tqdm(range(len(cities))):\n",
    "    L_cityi,tour_cityi=tsp_nearest_insertion(i,cities,dist)\n",
    "    L_lst_nearest.append(L_cityi)\n",
    "    tour_lst_nearest.append(tour_cityi)\n",
    "\n"
   ]
  },
  {
   "cell_type": "code",
   "execution_count": 56,
   "metadata": {},
   "outputs": [
    {
     "name": "stdout",
     "output_type": "stream",
     "text": [
      "28.701855065308923\n",
      "588\n",
      "[463, 265, 305, 588, 993, 342, 248, 122, 922, 475, 451, 664, 218, 688, 571, 864, 985, 174, 204, 125, 965, 990, 402, 395, 709, 983, 198, 257, 668, 502, 569, 911, 853, 915, 110, 663, 454, 862, 920, 77, 484, 193, 893, 349, 821, 274, 518, 962, 1, 544, 809, 459, 180, 827, 468, 787, 754, 370, 439, 734, 908, 559, 600, 969, 165, 230, 93, 956, 6, 350, 760, 195, 907, 693, 286, 513, 30, 510, 241, 782, 921, 939, 380, 914, 634, 980, 812, 471, 978, 205, 902, 344, 393, 717, 424, 696, 676, 379, 118, 413, 240, 873, 243, 400, 325, 358, 626, 741, 292, 34, 472, 715, 94, 538, 121, 478, 795, 434, 221, 887, 46, 799, 997, 442, 611, 136, 567, 607, 48, 731, 623, 314, 881, 595, 433, 699, 114, 508, 490, 52, 483, 438, 743, 604, 777, 181, 9, 704, 556, 796, 503, 457, 776, 301, 669, 115, 25, 803, 239, 41, 494, 723, 599, 324, 516, 830, 59, 275, 774, 445, 15, 157, 73, 83, 95, 427, 714, 98, 100, 49, 108, 721, 199, 612, 259, 823, 7, 919, 321, 552, 900, 807, 888, 97, 135, 560, 329, 587, 897, 973, 755, 826, 469, 133, 640, 234, 119, 129, 842, 343, 446, 639, 367, 549, 164, 832, 80, 763, 294, 925, 889, 768, 299, 334, 718, 716, 20, 311, 860, 74, 337, 0, 813, 904, 951, 8, 36, 762, 707, 555, 111, 655, 288, 480, 942, 802, 947, 512, 866, 245, 102, 141, 550, 142, 28, 829, 608, 658, 64, 833, 528, 126, 291, 96, 26, 62, 542, 797, 320, 428, 266, 992, 287, 382, 452, 650, 47, 263, 104, 148, 871, 426, 477, 44, 858, 145, 449, 592, 515, 870, 628, 214, 686, 354, 961, 372, 536, 740, 912, 644, 789, 638, 597, 335, 901, 225, 574, 82, 642, 814, 620, 491, 465, 708, 3, 386, 757, 12, 616, 123, 384, 621, 913, 565, 994, 455, 891, 705, 863, 473, 788, 87, 744, 662, 982, 296, 207, 303, 765, 14, 176, 86, 633, 363, 794, 151, 697, 843, 357, 403, 958, 548, 880, 470, 738, 422, 338, 406, 394, 971, 222, 389, 601, 51, 764, 954, 975, 197, 632, 572, 780, 281, 489, 352, 326, 517, 798, 166, 610, 739, 99, 481, 232, 837, 995, 364, 258, 667, 977, 226, 186, 996, 849, 781, 371, 786, 420, 687, 953, 576, 546, 724, 312, 493, 271, 558, 158, 712, 453, 530, 792, 277, 247, 486, 76, 726, 737, 462, 859, 284, 374, 162, 575, 191, 269, 648, 931, 251, 407, 280, 875, 17, 917, 527, 467, 249, 540, 725, 252, 302, 966, 66, 464, 816, 665, 596, 298, 285, 701, 698, 758, 750, 825, 35, 375, 877, 867, 435, 793, 466, 500, 635, 874, 109, 295, 318, 387, 117, 752, 905, 317, 653, 373, 711, 984, 617, 327, 53, 967, 396, 615, 869, 598, 213, 348, 330, 149, 88, 353, 351, 537, 561, 256, 414, 293, 710, 160, 378, 212, 732, 589, 322, 339, 563, 163, 4, 57, 987, 937, 336, 865, 885, 255, 988, 647, 391, 691, 208, 886, 356, 646, 689, 436, 75, 323, 482, 392, 514, 404, 23, 903, 671, 498, 319, 840, 264, 525, 547, 224, 783, 521, 79, 506, 766, 55, 217, 27, 313, 756, 831, 828, 578, 137, 29, 930, 834, 282, 899, 986, 770, 304, 590, 376, 603, 675, 38, 952, 645, 520, 839, 89, 570, 223, 509, 24, 458, 684, 42, 497, 678, 660, 801, 894, 767, 557, 775, 154, 531, 45, 641, 656, 90, 895, 751, 246, 910, 309, 651, 876, 228, 211, 970, 906, 405, 140, 526, 769, 229, 316, 306, 553, 81, 879, 412, 720, 804, 254, 649, 461, 116, 92, 474, 418, 703, 206, 700, 945, 113, 416, 175, 918, 447, 85, 432, 800, 359, 730, 106, 60, 573, 609, 713, 131, 132, 811, 998, 541, 13, 479, 844, 22, 410, 278, 169, 523, 999, 935, 67, 485, 417, 674, 928, 582, 854, 345, 579, 622, 749, 841, 10, 172, 943, 492, 761, 504, 735, 923, 991, 933, 529, 519, 722, 630, 681, 855, 614, 5, 242, 955, 957, 857, 950, 332, 401, 476, 276, 670, 231, 268, 815, 728, 580, 33, 736, 408, 235, 70, 203, 201, 805, 189, 613, 884, 706, 127, 838, 593, 940, 289, 273, 584, 938, 944, 112, 566, 733, 878, 759, 981, 202, 791, 545, 279, 385, 659, 128, 65, 554, 383, 161, 134, 818, 534, 824, 883, 429, 419, 152, 236, 262, 167, 636, 657, 861, 896, 43, 156, 398, 941, 388, 399, 533, 377, 18, 423, 692, 68, 250, 328, 460, 773, 297, 355, 673, 54, 606, 192, 105, 153, 963, 959, 346, 362, 437, 430, 340, 808, 261, 227, 784, 16, 168, 210, 360, 848, 124, 253, 440, 450, 868, 972, 702, 680, 238, 308, 719, 535, 882, 37, 694, 817, 381, 333, 170, 974, 790, 661, 929, 58, 847, 441, 2, 496, 310, 495, 846, 822, 415, 200, 727, 146, 390, 666, 182, 836, 577, 260, 539, 369, 177, 120, 637, 215, 187, 366, 147, 856, 968, 819, 850, 916, 643, 184, 50, 270, 746, 139, 183, 220, 946, 605, 11, 421, 852, 144, 568, 448, 32, 272, 431, 564, 315, 443, 948, 507, 21, 178, 488, 244, 976, 872, 69, 690, 209, 652, 890, 101, 300, 216, 806, 771, 444, 779, 936, 785, 138, 591, 618, 39, 143, 290, 331, 185, 179, 932, 307, 753, 365, 361, 851, 505, 196, 347, 964, 927, 190, 989, 581, 631, 19, 72, 748, 91, 71, 532, 283, 524, 810, 103, 654, 173, 583, 602, 934, 341, 909, 949, 159, 624, 425, 820, 745, 682, 926, 747, 892, 625, 729, 679, 627, 40, 130, 409, 845, 672, 695, 511, 543, 233, 368, 960, 31, 979, 586, 219, 898, 677, 742, 594, 562, 629, 267, 522, 411, 772, 685, 397, 194, 84, 150, 188, 155, 63, 171, 78, 619, 487, 456, 585, 551, 924, 501, 61, 835, 778, 107, 56, 499, 683, 237]\n"
     ]
    }
   ],
   "source": [
    "#find min L and respective city\n",
    "L_arr_nearest=onp.array(L_lst_nearest)\n",
    "L_min_nearest=L_arr_nearest.min() # smallest L\n",
    "city_min_nearest=L_arr_nearest.argmin() # respective city \n",
    "tour_min_nearest=tour_lst_nearest[city_min_nearest] #respective permutation \n",
    "\n",
    "print(L_min_nearest)\n",
    "print(city_min_nearest)\n",
    "print(tour_min_nearest)"
   ]
  },
  {
   "cell_type": "markdown",
   "metadata": {},
   "source": [
    "# Cheapet insert algo"
   ]
  },
  {
   "cell_type": "code",
   "execution_count": 10,
   "metadata": {},
   "outputs": [],
   "source": [
    "def min_dist_k(tour,k,cities):\n",
    "    '''\n",
    "    Finds out the min distance when city k is inserted and the relative position\n",
    "    '''\n",
    "    min_dist=999999999\n",
    "    insert_pos=None\n",
    "    for i in range(len(tour)):\n",
    "        dist_ij=norm(cities[tour[i%len(tour)]]-cities[tour[(i+1)%len(tour)]])\n",
    "        dist_ik=norm(cities[tour[i%len(tour)]]-cities[k])\n",
    "        dist_kj=norm(cities[k]-cities[tour[(i+1)%len(tour)]])\n",
    "        dist=dist_ik+dist_kj-dist_ij\n",
    "        #print(i)\n",
    "        #print(dist)\n",
    "        if dist <min_dist : # only add in if the \n",
    "            insert_pos=i+1\n",
    "            min_dist=dist\n",
    "        #print(min_dist)\n",
    "    #print(insert_pos)\n",
    "    #when tour has only 2 cities, the min distance calculated is actually the same regardless of the position to insert k at\n",
    "    #hence insert it at the end if the min distance is poistive (adding city k lengthens the path)\n",
    "    if len(tour)==2 and min_dist>0:\n",
    "        insert_pos=len(tour)\n",
    "\n",
    "    return [min_dist,insert_pos]\n",
    "\n",
    "        "
   ]
  },
  {
   "cell_type": "code",
   "execution_count": 11,
   "metadata": {},
   "outputs": [],
   "source": [
    "def insert_cheapest(tour,left,cities):\n",
    "    dist_pos=[] #build a matrix to store the min distance, postion each city is inserted into, and number of the city\n",
    "    #used to compare which city is the next to be inserted \n",
    "    \n",
    "    for i in left:\n",
    "        temp=min_dist_k(tour,i,cities)\n",
    "        temp.append(i)\n",
    "        dist_pos.append(temp)\n",
    "    dist_pos_array=onp.array(dist_pos) #change into array\n",
    "    #print(dist_pos_array)\n",
    "    x=dist_pos_array[dist_pos_array.argmin(axis=0)[0],:]\n",
    "    #print(x)\n",
    "    tour.insert(int(x[1]),int(x[2]))\n",
    "    left.remove(int(x[2]))\n",
    "    \n",
    "    \n",
    "    "
   ]
  },
  {
   "cell_type": "code",
   "execution_count": 12,
   "metadata": {},
   "outputs": [],
   "source": [
    "def tsp_cheapest_insertion(city1,cities,dist):\n",
    "    #intialise left list \n",
    "    left=list(range(len(cities)))\n",
    "\n",
    "    left.remove(city1)\n",
    "    #2nd city is the one nearest to city 1\n",
    "    city2=left[dist[city1,left].argmin()]\n",
    "    left.remove(city2)\n",
    "    tour=[city1,city2]\n",
    "    #iteration=0\n",
    "    while len(tour)<len(cities):\n",
    "        #iteration+=1\n",
    "        insert_cheapest(tour,left,cities)\n",
    "    cheapest_insert_total_dist=sum(norm(cities[tour[i]]-cities[tour[i+1]]) for i in range(len(tour)-1))\n",
    "    return cheapest_insert_total_dist,tour"
   ]
  },
  {
   "cell_type": "code",
   "execution_count": 13,
   "metadata": {},
   "outputs": [
    {
     "data": {
      "text/plain": [
       "74.35237829287847"
      ]
     },
     "execution_count": 13,
     "metadata": {},
     "output_type": "execute_result"
    }
   ],
   "source": [
    "# using the starting city that produces the lowest L in nearest insertion as starting city of cheapest insertion \n",
    "#city1=588\n",
    "start=time.time()\n",
    "L_588_cheapest,tour_588_cheapest=tsp_cheapest_insertion(588,cities,dist)\n",
    "end=time.time()\n",
    "(end-start)/60 #about 74mins "
   ]
  },
  {
   "cell_type": "code",
   "execution_count": null,
   "metadata": {},
   "outputs": [],
   "source": [
    "#time in seconds \n",
    "(end-start)"
   ]
  },
  {
   "cell_type": "code",
   "execution_count": 55,
   "metadata": {},
   "outputs": [
    {
     "name": "stdout",
     "output_type": "stream",
     "text": [
      "27.74670354295936\n",
      "[588, 993, 342, 248, 122, 922, 475, 451, 664, 218, 688, 864, 985, 174, 571, 990, 204, 125, 965, 402, 907, 195, 395, 709, 983, 198, 257, 668, 502, 569, 911, 853, 915, 110, 663, 454, 920, 283, 77, 484, 193, 893, 349, 821, 274, 518, 962, 1, 83, 95, 919, 73, 559, 286, 693, 600, 969, 760, 350, 6, 956, 93, 230, 165, 544, 809, 459, 180, 468, 827, 787, 754, 118, 413, 240, 445, 15, 874, 635, 109, 275, 59, 830, 774, 873, 379, 676, 400, 25, 803, 239, 41, 743, 438, 483, 52, 490, 508, 114, 160, 378, 212, 732, 589, 322, 339, 563, 163, 4, 57, 987, 937, 336, 865, 885, 988, 647, 391, 691, 208, 886, 356, 646, 689, 436, 75, 323, 482, 392, 514, 840, 498, 319, 264, 525, 547, 224, 79, 506, 766, 55, 217, 27, 313, 869, 396, 967, 615, 521, 783, 348, 213, 598, 330, 671, 903, 404, 23, 353, 88, 149, 351, 537, 561, 256, 414, 293, 255, 710, 699, 433, 595, 881, 314, 623, 731, 494, 48, 607, 567, 136, 611, 442, 997, 799, 46, 887, 434, 795, 221, 905, 752, 387, 117, 317, 711, 53, 756, 831, 828, 578, 137, 29, 930, 834, 282, 899, 617, 327, 984, 653, 590, 304, 373, 770, 986, 675, 38, 952, 645, 200, 415, 822, 846, 495, 310, 573, 496, 2, 441, 847, 58, 929, 661, 790, 974, 170, 333, 381, 694, 37, 882, 535, 719, 308, 238, 680, 702, 972, 868, 450, 440, 817, 253, 124, 848, 360, 210, 168, 16, 784, 227, 841, 492, 761, 504, 943, 172, 10, 735, 923, 991, 519, 722, 630, 681, 529, 933, 855, 614, 5, 242, 955, 957, 857, 950, 401, 476, 276, 670, 231, 268, 815, 728, 580, 408, 33, 736, 235, 332, 70, 203, 201, 805, 189, 613, 884, 706, 127, 838, 105, 153, 854, 963, 582, 928, 674, 959, 346, 192, 944, 593, 940, 273, 289, 584, 938, 112, 566, 54, 733, 878, 606, 485, 417, 474, 418, 935, 67, 362, 345, 579, 622, 749, 261, 808, 340, 430, 437, 999, 523, 169, 410, 22, 844, 479, 13, 541, 998, 811, 132, 131, 713, 609, 60, 106, 412, 879, 730, 359, 720, 81, 553, 306, 316, 839, 85, 432, 800, 278, 447, 918, 175, 416, 254, 113, 945, 649, 700, 703, 206, 461, 116, 92, 895, 751, 246, 910, 405, 970, 906, 211, 228, 876, 651, 309, 531, 154, 767, 656, 641, 45, 90, 981, 759, 202, 68, 460, 773, 328, 250, 692, 423, 18, 377, 533, 399, 388, 941, 398, 156, 43, 896, 861, 657, 355, 673, 297, 636, 167, 262, 236, 152, 419, 429, 883, 824, 534, 818, 134, 161, 65, 128, 659, 791, 385, 545, 279, 775, 557, 894, 801, 660, 311, 678, 497, 42, 140, 526, 804, 223, 509, 24, 458, 684, 89, 570, 769, 229, 520, 146, 727, 390, 35, 825, 375, 666, 750, 836, 577, 182, 701, 260, 66, 966, 302, 252, 540, 249, 467, 527, 917, 17, 875, 640, 860, 234, 119, 716, 718, 20, 334, 768, 889, 925, 299, 763, 129, 842, 80, 294, 383, 554, 832, 549, 164, 367, 639, 446, 343, 337, 0, 74, 813, 904, 951, 8, 36, 762, 707, 555, 111, 288, 655, 126, 480, 942, 802, 947, 512, 866, 245, 102, 141, 550, 142, 28, 829, 608, 658, 64, 833, 528, 291, 96, 26, 62, 542, 797, 320, 428, 266, 992, 287, 382, 452, 104, 263, 47, 148, 871, 650, 426, 858, 145, 449, 477, 44, 592, 515, 870, 628, 214, 686, 354, 536, 961, 372, 740, 912, 789, 638, 363, 633, 644, 814, 465, 708, 3, 386, 757, 12, 491, 620, 616, 642, 82, 863, 574, 86, 765, 14, 303, 744, 87, 455, 891, 994, 913, 621, 384, 123, 565, 705, 473, 788, 662, 982, 296, 207, 422, 394, 971, 222, 764, 954, 975, 197, 226, 977, 667, 186, 232, 837, 481, 99, 995, 364, 258, 739, 610, 632, 996, 849, 781, 572, 780, 281, 166, 798, 489, 352, 517, 326, 371, 786, 420, 687, 953, 51, 601, 389, 406, 338, 738, 470, 880, 176, 225, 901, 335, 597, 794, 151, 697, 357, 548, 576, 546, 247, 486, 76, 726, 958, 403, 843, 737, 462, 792, 530, 453, 277, 712, 158, 312, 724, 493, 271, 558, 859, 284, 162, 374, 575, 191, 269, 648, 931, 251, 407, 280, 133, 469, 826, 147, 856, 968, 819, 973, 177, 135, 560, 946, 244, 488, 178, 21, 936, 138, 785, 507, 948, 443, 315, 564, 431, 272, 32, 605, 448, 11, 421, 852, 144, 568, 183, 270, 50, 184, 643, 850, 916, 746, 139, 220, 329, 587, 897, 755, 366, 725, 187, 120, 215, 637, 464, 816, 369, 539, 665, 596, 298, 285, 698, 758, 877, 603, 867, 376, 435, 466, 793, 500, 295, 318, 478, 121, 538, 94, 715, 472, 34, 292, 723, 599, 324, 516, 243, 325, 358, 741, 626, 604, 301, 669, 115, 777, 181, 9, 776, 704, 457, 556, 796, 503, 717, 344, 902, 205, 978, 393, 812, 696, 424, 471, 980, 634, 914, 939, 921, 782, 241, 510, 30, 513, 380, 908, 734, 370, 439, 157, 7, 823, 259, 612, 199, 721, 108, 100, 49, 98, 714, 427, 321, 552, 900, 807, 888, 97, 69, 690, 209, 652, 890, 872, 976, 101, 300, 216, 72, 748, 91, 71, 532, 524, 810, 19, 806, 771, 444, 779, 591, 618, 39, 143, 290, 331, 185, 179, 196, 932, 307, 753, 365, 361, 851, 505, 347, 964, 927, 190, 989, 581, 631, 173, 583, 654, 103, 602, 934, 862, 341, 909, 949, 159, 624, 425, 820, 682, 745, 926, 747, 892, 625, 729, 679, 40, 409, 845, 672, 695, 511, 543, 233, 368, 960, 979, 31, 586, 219, 898, 677, 742, 594, 562, 629, 267, 522, 411, 772, 685, 397, 194, 84, 130, 150, 627, 188, 155, 63, 171, 78, 619, 487, 456, 585, 551, 924, 501, 61, 835, 778, 56, 107, 499, 683, 237, 463, 265, 305]\n"
     ]
    }
   ],
   "source": [
    "print(L_588_cheapest)\n",
    "print(tour_588_cheapest)\n",
    "#performs better than nearest insertion \n",
    "#but took a longer time "
   ]
  }
 ],
 "metadata": {
  "colab": {
   "provenance": []
  },
  "kernelspec": {
   "display_name": "Python 3 (ipykernel)",
   "language": "python",
   "name": "python3"
  },
  "language_info": {
   "codemirror_mode": {
    "name": "ipython",
    "version": 3
   },
   "file_extension": ".py",
   "mimetype": "text/x-python",
   "name": "python",
   "nbconvert_exporter": "python",
   "pygments_lexer": "ipython3",
   "version": "3.10.9"
  }
 },
 "nbformat": 4,
 "nbformat_minor": 1
}
