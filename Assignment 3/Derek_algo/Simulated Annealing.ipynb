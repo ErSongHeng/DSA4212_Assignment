{
 "cells": [
  {
   "cell_type": "code",
   "execution_count": 5,
   "id": "c07e7903",
   "metadata": {},
   "outputs": [],
   "source": [
    "import numpy as np\n",
    "import pickle\n",
    "import random"
   ]
  },
  {
   "cell_type": "code",
   "execution_count": 24,
   "id": "bb3c9bc3",
   "metadata": {},
   "outputs": [],
   "source": [
    "cities = np.load(\"cities.npy\", allow_pickle = True)\n",
    "def distance(point1, point2):\n",
    "    return np.sqrt(np.sum((point1 - point2)**2))\n",
    "\n",
    "dist_matrix = [[distance(c1, c2) for c2 in cities] for c1 in cities]\n",
    "a = np.array(dist_matrix)\n",
    "city_graph = a.reshape(1000,1000)"
   ]
  },
  {
   "cell_type": "code",
   "execution_count": 54,
   "id": "e0f0f4f0",
   "metadata": {},
   "outputs": [],
   "source": [
    "# graph is the distance matrix and path is a list containing the order in which the cities are visited\n",
    "def path_cost(graph, path):\n",
    "    cost = 0\n",
    "    for index in range(len(path) - 1):\n",
    "        cost = cost + graph[path[index]][path[index + 1]]\n",
    "    # add last edge to form a cycle.\n",
    "    cost = cost + graph[path[-1]][path[0]]\n",
    "    return cost\n",
    "\n",
    "def simulated_annealing(graph,path = None, temp = 100, n_iterations = 50, alpha = 0.99):\n",
    "    if (path == None):\n",
    "        path = [i for i in range(0,1000)]\n",
    "    OG_cost = path_cost(graph,path)\n",
    "    for i in range(n_iterations): # This will give us n_iterations different overall paths\n",
    "        temp *= alpha\n",
    "        for j in range(500):\n",
    "            r1,r2 = np.random.randint(0,len(path),2)\n",
    "            temp = path[r1]\n",
    "            path[r1] = path[r2]\n",
    "            path[r2] = temp\n",
    "            \n",
    "            # Get new total cost\n",
    "            new_cost = path_cost(graph,path)\n",
    "            \n",
    "            if (new_cost<OG_cost):\n",
    "                OG_cost = new_cost\n",
    "            else:\n",
    "                x = np.random.uniform()\n",
    "                if (x < np.exp((OG_cost - new_cost)/temp)):\n",
    "                    OG_cost = new_cost\n",
    "                else:\n",
    "                    temp = path[r2]\n",
    "                    path[r2] = path[r1]\n",
    "                    path[r1] = temp\n",
    "    return(path)\n"
   ]
  },
  {
   "cell_type": "code",
   "execution_count": 78,
   "id": "184d813b",
   "metadata": {},
   "outputs": [
    {
     "name": "stderr",
     "output_type": "stream",
     "text": [
      "C:\\ProgramData\\Anaconda3\\lib\\site-packages\\ipykernel_launcher.py:29: RuntimeWarning: divide by zero encountered in double_scalars\n"
     ]
    }
   ],
   "source": [
    "best_path = simulated_annealing(city_graph,n_iterations = 200)"
   ]
  },
  {
   "cell_type": "code",
   "execution_count": 79,
   "id": "0f22c3dd",
   "metadata": {},
   "outputs": [],
   "source": [
    "# Far from optimum\n",
    "total_dist = 0\n",
    "for i in range(0,999):\n",
    "    total_dist += dist_matrix[best_path[i]][best_path[i+1]]"
   ]
  },
  {
   "cell_type": "code",
   "execution_count": 80,
   "id": "7a36aa8c",
   "metadata": {},
   "outputs": [
    {
     "data": {
      "text/plain": [
       "515.1665912516688"
      ]
     },
     "execution_count": 80,
     "metadata": {},
     "output_type": "execute_result"
    }
   ],
   "source": [
    "total_dist"
   ]
  },
  {
   "cell_type": "code",
   "execution_count": 81,
   "id": "c9dd2f43",
   "metadata": {},
   "outputs": [],
   "source": [
    "with open('christofides_path', 'rb') as f:\n",
    "    mynewlist = pickle.load(f)\n",
    "\n",
    "chris_path = mynewlist"
   ]
  },
  {
   "cell_type": "code",
   "execution_count": 82,
   "id": "7bdfe134",
   "metadata": {},
   "outputs": [
    {
     "name": "stderr",
     "output_type": "stream",
     "text": [
      "C:\\ProgramData\\Anaconda3\\lib\\site-packages\\ipykernel_launcher.py:29: RuntimeWarning: divide by zero encountered in double_scalars\n"
     ]
    }
   ],
   "source": [
    "cbest_path = simulated_annealing(graph = city_graph,path = chris_path)"
   ]
  },
  {
   "cell_type": "code",
   "execution_count": 83,
   "id": "2833405c",
   "metadata": {},
   "outputs": [],
   "source": [
    "# Far from optimum\n",
    "total_dist = 0\n",
    "for i in range(0,1000):\n",
    "    total_dist += dist_matrix[cbest_path[i]][cbest_path[i+1]]"
   ]
  },
  {
   "cell_type": "code",
   "execution_count": 84,
   "id": "20effb2e",
   "metadata": {},
   "outputs": [
    {
     "data": {
      "text/plain": [
       "522.4227434338529"
      ]
     },
     "execution_count": 84,
     "metadata": {},
     "output_type": "execute_result"
    }
   ],
   "source": [
    "# Simulated annealing made the christofides path worse\n",
    "total_dist\n"
   ]
  }
 ],
 "metadata": {
  "kernelspec": {
   "display_name": "Python 3 (ipykernel)",
   "language": "python",
   "name": "python3"
  },
  "language_info": {
   "codemirror_mode": {
    "name": "ipython",
    "version": 3
   },
   "file_extension": ".py",
   "mimetype": "text/x-python",
   "name": "python",
   "nbconvert_exporter": "python",
   "pygments_lexer": "ipython3",
   "version": "3.7.3"
  }
 },
 "nbformat": 4,
 "nbformat_minor": 5
}
