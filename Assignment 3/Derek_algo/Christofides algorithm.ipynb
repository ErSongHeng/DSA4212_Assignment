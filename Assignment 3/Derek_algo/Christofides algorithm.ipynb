{
 "cells": [
  {
   "cell_type": "code",
   "execution_count": 65,
   "id": "701847a6",
   "metadata": {},
   "outputs": [],
   "source": [
    "import numpy as np\n",
    "from random import randint\n",
    "import networkx as nx\n",
    "from networkx.algorithms.matching import max_weight_matching\n",
    "from networkx.algorithms.euler import eulerian_circuit\n",
    "import itertools\n",
    "import pickle\n"
   ]
  },
  {
   "cell_type": "code",
   "execution_count": 9,
   "id": "d0d224a6",
   "metadata": {},
   "outputs": [
    {
     "data": {
      "text/plain": [
       "list"
      ]
     },
     "execution_count": 9,
     "metadata": {},
     "output_type": "execute_result"
    }
   ],
   "source": [
    "cities = np.load(\"cities.npy\", allow_pickle = True)\n",
    "\n",
    "def distance(point1, point2):\n",
    "    return np.sqrt(np.sum((point1 - point2)**2))\n",
    "\n",
    "dist_matrix = [[distance(c1, c2) for c2 in cities] for c1 in cities]\n"
   ]
  },
  {
   "cell_type": "code",
   "execution_count": 19,
   "id": "42303e93",
   "metadata": {},
   "outputs": [],
   "source": [
    "graph = np.array(dist_matrix)"
   ]
  },
  {
   "cell_type": "markdown",
   "id": "552c2c08",
   "metadata": {},
   "source": [
    "# Christofides algorithm"
   ]
  },
  {
   "cell_type": "code",
   "execution_count": 49,
   "id": "671037ef",
   "metadata": {},
   "outputs": [],
   "source": [
    "# http://matejgazda.com/christofides-algorithm-in-python/#:~:text=Christofides%20algorithm%20is%20an%20approximative,the%20distance%20matrix%20are%20symmetric.\n",
    "def _minimal_spanning_tree_prim(graph, starting_node):\n",
    "    \"\"\"\n",
    "    Args:\n",
    "        graph: weighted adj. matrix as 2d np.array\n",
    "        starting_node: node number to start construction of minimal spanning tree\n",
    "    Returns:\n",
    "        minimal spanning tree as 2d array calculted by Prim\n",
    "    \"\"\"\n",
    "\n",
    "    node_count = len(graph)\n",
    "    all_nodes = [i for i in range(node_count)]\n",
    "\n",
    "    if starting_node is None:\n",
    "        starting_node = randint(0, node_count-1)\n",
    "\n",
    "    unvisited_nodes = all_nodes\n",
    "    visited_nodes = [starting_node]\n",
    "    unvisited_nodes.remove(starting_node)\n",
    "    mst = np.zeros((node_count, node_count))\n",
    "\n",
    "    while len(visited_nodes) != node_count:\n",
    "        selected_subgraph = graph[np.array(visited_nodes)[:, None], np.array(unvisited_nodes)]\n",
    "        # we mask non-exist edges with -- so it doesn't crash the argmin\n",
    "        min_edge_index = np.unravel_index(np.ma.masked_equal(selected_subgraph, 0, copy=False).argmin(),\n",
    "                                          selected_subgraph.shape)\n",
    "        edge_from = visited_nodes[min_edge_index[0]]\n",
    "        edge_to = unvisited_nodes[min_edge_index[1]]\n",
    "        mst[edge_from, edge_to] = graph[edge_from, edge_to]\n",
    "        mst[edge_to, edge_from] = graph[edge_from, edge_to]\n",
    "        unvisited_nodes.remove(edge_to)\n",
    "        visited_nodes.append(edge_to)\n",
    "    return mst\n",
    "\n",
    "\n",
    "def route_cost(graph, path):\n",
    "    cost = 0\n",
    "    for index in range(len(path) - 1):\n",
    "        cost = cost + graph[path[index]][path[index + 1]]\n",
    "    # add last edge to form a cycle.\n",
    "    cost = cost + graph[path[-1], path[0]]\n",
    "    return cost"
   ]
  },
  {
   "cell_type": "code",
   "execution_count": 50,
   "id": "d6a65db7",
   "metadata": {},
   "outputs": [],
   "source": [
    "MST = _minimal_spanning_tree_prim(graph,5)"
   ]
  },
  {
   "cell_type": "code",
   "execution_count": 51,
   "id": "04ba235b",
   "metadata": {},
   "outputs": [],
   "source": [
    "# Save odd degree vertices into list\n",
    "odd_vert = []\n",
    "for i in range(0,1000):\n",
    "    if (np.count_nonzero(MST[i])%2 == 1):\n",
    "        odd_vert.append(i)\n",
    "\n",
    "odd_degree_nodes_ix = np.ix_(odd_vert, odd_vert)"
   ]
  },
  {
   "cell_type": "code",
   "execution_count": 55,
   "id": "16d22523",
   "metadata": {},
   "outputs": [
    {
     "ename": "TypeError",
     "evalue": "'NoneType' object is not subscriptable",
     "output_type": "error",
     "traceback": [
      "\u001b[1;31m---------------------------------------------------------------------------\u001b[0m",
      "\u001b[1;31mTypeError\u001b[0m                                 Traceback (most recent call last)",
      "\u001b[1;32mC:\\Users\\Public\\Documents\\Wondershare\\CreatorTemp\\ipykernel_20292\\1252110723.py\u001b[0m in \u001b[0;36m<module>\u001b[1;34m\u001b[0m\n\u001b[0;32m      8\u001b[0m \u001b[0mpath\u001b[0m \u001b[1;33m=\u001b[0m \u001b[0mlist\u001b[0m\u001b[1;33m(\u001b[0m\u001b[0mitertools\u001b[0m\u001b[1;33m.\u001b[0m\u001b[0mchain\u001b[0m\u001b[1;33m.\u001b[0m\u001b[0mfrom_iterable\u001b[0m\u001b[1;33m(\u001b[0m\u001b[0meuler_tour\u001b[0m\u001b[1;33m)\u001b[0m\u001b[1;33m)\u001b[0m\u001b[1;33m\u001b[0m\u001b[1;33m\u001b[0m\u001b[0m\n\u001b[0;32m      9\u001b[0m \u001b[0mpath\u001b[0m \u001b[1;33m=\u001b[0m \u001b[0mlist\u001b[0m\u001b[1;33m(\u001b[0m\u001b[0mdict\u001b[0m\u001b[1;33m.\u001b[0m\u001b[0mfromkeys\u001b[0m\u001b[1;33m(\u001b[0m\u001b[0mpath\u001b[0m\u001b[1;33m)\u001b[0m\u001b[1;33m.\u001b[0m\u001b[0mkeys\u001b[0m\u001b[1;33m(\u001b[0m\u001b[1;33m)\u001b[0m\u001b[1;33m)\u001b[0m\u001b[1;33m\u001b[0m\u001b[1;33m\u001b[0m\u001b[0m\n\u001b[1;32m---> 10\u001b[1;33m \u001b[0mpath\u001b[0m\u001b[1;33m.\u001b[0m\u001b[0mappend\u001b[0m\u001b[1;33m(\u001b[0m\u001b[1;36m5\u001b[0m\u001b[1;33m)\u001b[0m\u001b[1;33m[\u001b[0m\u001b[1;33m:\u001b[0m\u001b[1;33m-\u001b[0m\u001b[1;36m1\u001b[0m\u001b[1;33m]\u001b[0m\u001b[1;33m\u001b[0m\u001b[1;33m\u001b[0m\u001b[0m\n\u001b[0m",
      "\u001b[1;31mTypeError\u001b[0m: 'NoneType' object is not subscriptable"
     ]
    }
   ],
   "source": [
    "nx_graph = nx.from_numpy_array(-1 * graph[odd_degree_nodes_ix])\n",
    "matching = nx.max_weight_matching(nx_graph, maxcardinality=True)\n",
    "euler_multigraph = nx.MultiGraph(MST)\n",
    "for edge in matching:\n",
    "    euler_multigraph.add_edge(odd_vert[edge[0]], odd_vert[edge[1]],\n",
    "                                  weight=graph[odd_vert[edge[0]]][odd_vert[edge[1]]])\n",
    "euler_tour = list(eulerian_circuit(euler_multigraph, source=5))\n",
    "path = list(itertools.chain.from_iterable(euler_tour))\n",
    "path = list(dict.fromkeys(path).keys())\n",
    "#path.append(5)[:-1]"
   ]
  },
  {
   "cell_type": "code",
   "execution_count": 68,
   "id": "8d3f44b2",
   "metadata": {},
   "outputs": [],
   "source": [
    "with open(\"christofides_path\", \"wb\") as fp:   #Pickling\n",
    "    pickle.dump(path, fp)"
   ]
  },
  {
   "cell_type": "code",
   "execution_count": 69,
   "id": "403722b2",
   "metadata": {},
   "outputs": [],
   "source": [
    "total_dist = 0\n",
    "for i in range(0,1000):\n",
    "    total_dist += dist_matrix[path[i]][path[i+1]]"
   ]
  },
  {
   "cell_type": "code",
   "execution_count": 70,
   "id": "2cdfcebf",
   "metadata": {},
   "outputs": [
    {
     "data": {
      "text/plain": [
       "26.529455409432007"
      ]
     },
     "execution_count": 70,
     "metadata": {},
     "output_type": "execute_result"
    }
   ],
   "source": [
    "total_dist"
   ]
  },
  {
   "cell_type": "code",
   "execution_count": 72,
   "id": "da8bfa90",
   "metadata": {},
   "outputs": [],
   "source": [
    "#path"
   ]
  },
  {
   "cell_type": "code",
   "execution_count": null,
   "id": "69557f4e",
   "metadata": {},
   "outputs": [],
   "source": []
  }
 ],
 "metadata": {
  "kernelspec": {
   "display_name": "Python 3 (ipykernel)",
   "language": "python",
   "name": "python3"
  },
  "language_info": {
   "codemirror_mode": {
    "name": "ipython",
    "version": 3
   },
   "file_extension": ".py",
   "mimetype": "text/x-python",
   "name": "python",
   "nbconvert_exporter": "python",
   "pygments_lexer": "ipython3",
   "version": "3.7.3"
  }
 },
 "nbformat": 4,
 "nbformat_minor": 5
}
