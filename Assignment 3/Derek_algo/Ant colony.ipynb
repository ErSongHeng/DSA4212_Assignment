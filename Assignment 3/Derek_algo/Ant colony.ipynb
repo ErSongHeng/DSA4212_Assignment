{
 "cells": [
  {
   "cell_type": "code",
   "execution_count": 1,
   "id": "cc4798c6",
   "metadata": {},
   "outputs": [],
   "source": [
    "import numpy as np\n",
    "#import matplotlib.pyplot as plt\n",
    "#from mpl_toolkits.mplot3d import Axes3D"
   ]
  },
  {
   "cell_type": "code",
   "execution_count": 2,
   "id": "e5792499",
   "metadata": {},
   "outputs": [],
   "source": [
    "cities = np.load(\"cities.npy\", allow_pickle = True)\n",
    "#cities"
   ]
  },
  {
   "cell_type": "markdown",
   "id": "4539e7fc",
   "metadata": {},
   "source": [
    "# 1. Ant Colony algorithm"
   ]
  },
  {
   "cell_type": "code",
   "execution_count": 7,
   "id": "fd3acd17",
   "metadata": {},
   "outputs": [],
   "source": [
    "# Ant Colony\n",
    "# https://induraj2020.medium.com/implementation-of-ant-colony-optimization-using-python-solve-traveling-salesman-problem-9c14d3114475"
   ]
  },
  {
   "cell_type": "code",
   "execution_count": 21,
   "id": "e046c9ba",
   "metadata": {},
   "outputs": [],
   "source": [
    "def distance(point1, point2):\n",
    "    return np.sqrt(np.sum((point1 - point2)**2))\n",
    "\n",
    "def ant_colony_optimization(points, n_ants, n_iterations, alpha, beta, evaporation_rate, Q):\n",
    "    n_points = len(points)\n",
    "    pheromone = np.ones((n_points, n_points)) # Initialise pheromones for each path between each city\n",
    "    best_path = None\n",
    "    best_path_length = np.inf\n",
    "    \n",
    "    for iteration in range(n_iterations): # Number of simulations for all ants to find path\n",
    "        paths = [] # To store converged path in this iteration\n",
    "        path_lengths = [] # To store the length of the coenverged path\n",
    "        \n",
    "        for ant in range(n_ants): # For each ant where each ant travels through all the cities\n",
    "            visited = [False]*n_points # Initialise ant has not travelled to any city yet\n",
    "            current_point = np.random.randint(n_points) # Randomly choose a city to visit\n",
    "            visited[current_point] = True # Update visited city\n",
    "            path = [current_point] # Update path of this ant \n",
    "            path_length = 0 # \n",
    "            \n",
    "            while False in visited: # This while loop ensures that the ant runs through all cities\n",
    "                unvisited = np.where(np.logical_not(visited))[0] # Get all non-visited cities\n",
    "                probabilities = np.zeros(len(unvisited))# Initialise probability vector\n",
    "                \n",
    "                for i, unvisited_point in enumerate(unvisited):\n",
    "                    # Updating probabilities of each unvisited city path \n",
    "                    probabilities[i] = pheromone[current_point, unvisited_point]**alpha / distance(points[current_point], points[unvisited_point])**beta\n",
    "                \n",
    "                # Convert to probabilities\n",
    "                probabilities /= np.sum(probabilities)\n",
    "                \n",
    "                \n",
    "                next_point = np.random.choice(unvisited, p=probabilities)# To decide next city to visit based off probability\n",
    "                path.append(next_point) # Add next city to path\n",
    "                path_length += distance(points[current_point], points[next_point]) # Update path length\n",
    "                visited[next_point] = True # Update that the city has been visited\n",
    "                current_point = next_point # Update current position\n",
    "            \n",
    "            paths.append(path)# Updates the whole path the ant took, each path is a list of numbers\n",
    "            path_lengths.append(path_length)# Updates the best \n",
    "            \n",
    "            if path_length < best_path_length: # Update best path and best path length\n",
    "                best_path = path\n",
    "                best_path_length = path_length\n",
    "        \n",
    "        pheromone *= evaporation_rate # This assumes that pheromones changes after each ants journey\n",
    "        \n",
    "        for path, path_length in zip(paths, path_lengths):\n",
    "            for i in range(n_points-1):\n",
    "                pheromone[path[i], path[i+1]] += Q/path_length\n",
    "            pheromone[path[-1], path[0]] += Q/path_length\n",
    "            \n",
    "            \n",
    "    return(best_path,best_path_length)\n",
    "    \n",
    "# Example usage:\n",
    "#points = np.random.rand(10, 3) # Generate 10 random 3D points\n",
    "\n",
    "#ant_colony_optimization(points, n_ants=10, n_iterations=100, alpha=1, beta=1, evaporation_rate=0.5, Q=1)\n",
    "#cities"
   ]
  },
  {
   "cell_type": "code",
   "execution_count": 6,
   "id": "63de6488",
   "metadata": {},
   "outputs": [],
   "source": [
    "# Random parameters, this took 30min to run\n",
    "best_path,best_length = ant_colony_optimization(cities, n_ants=10, n_iterations=10, alpha=1, beta=1, evaporation_rate=0.5, Q=1)"
   ]
  },
  {
   "cell_type": "code",
   "execution_count": 9,
   "id": "12db1385",
   "metadata": {},
   "outputs": [],
   "source": [
    "import pickle\n",
    "with open(\"ant_colony_base_path\", \"wb\") as fp:   #Pickling\n",
    "    pickle.dump(best_path, fp)\n",
    "#best_path\n",
    "#best_length # 318.36"
   ]
  },
  {
   "cell_type": "code",
   "execution_count": 10,
   "id": "98057dbe",
   "metadata": {},
   "outputs": [],
   "source": [
    "# Parameters decided from paper, ran it overnight\n",
    "# http://article.nadiapub.com/IJUNESST/vol7_no4/16.pdf \n",
    "best_path_s,best_length_s = ant_colony_optimization(cities, n_ants=250, n_iterations=10, alpha=1, beta=5, evaporation_rate=0.5, Q=1)"
   ]
  },
  {
   "cell_type": "code",
   "execution_count": 16,
   "id": "dc2e4b0b",
   "metadata": {},
   "outputs": [
    {
     "data": {
      "text/plain": [
       "0.5882100091453807"
      ]
     },
     "execution_count": 16,
     "metadata": {},
     "output_type": "execute_result"
    }
   ],
   "source": [
    "#with open(\"ant_colony_tuned_path\", \"wb\") as fp:   #Pickling\n",
    "#    pickle.dump(best_path_s, fp)\n",
    "    \n",
    "# best_length_s # 28.377\n",
    "#best_path_s[]\n",
    "#distance(cities[393],cities[0])"
   ]
  },
  {
   "cell_type": "markdown",
   "id": "dc2ba262",
   "metadata": {},
   "source": [
    "# 1.1 Extensions of Ant Colony\n",
    "1. Using MST distance as stopping condition for number of iterations\n",
    "2. Changing the way probabilites of each path is derived for each path\n",
    "## 1. Using MST as stopping condition"
   ]
  },
  {
   "cell_type": "code",
   "execution_count": 38,
   "id": "71626ccd",
   "metadata": {},
   "outputs": [],
   "source": [
    "# Kruskal's Algorithm to get MST length\n",
    "# https://www.pythonpool.com/kruskals-algorithm-python/\n",
    "class Graph:\n",
    "    def __init__(self, vertex):\n",
    "        self.V = vertex\n",
    "        self.graph = []\n",
    " \n",
    "    def add_edge(self, u, v, w):\n",
    "        self.graph.append([u, v, w])\n",
    " \n",
    " \n",
    "    def search(self, parent, i):\n",
    "        if parent[i] == i:\n",
    "            return i\n",
    "        return self.search(parent, parent[i])\n",
    " \n",
    "    def apply_union(self, parent, rank, x, y):\n",
    "        xroot = self.search(parent, x)\n",
    "        yroot = self.search(parent, y)\n",
    "        if rank[xroot] < rank[yroot]:\n",
    "            parent[xroot] = yroot\n",
    "        elif rank[xroot] > rank[yroot]:\n",
    "            parent[yroot] = xroot\n",
    "        else:\n",
    "            parent[yroot] = xroot\n",
    "            rank[xroot] += 1\n",
    " \n",
    "  \n",
    "    def kruskal(self):\n",
    "        result = []\n",
    "        i, e = 0, 0\n",
    "        self.graph = sorted(self.graph, key=lambda item: item[2])\n",
    "        parent = []\n",
    "        rank = []\n",
    "        for node in range(self.V):\n",
    "            parent.append(node)\n",
    "            rank.append(0)\n",
    "        while e < self.V - 1:\n",
    "            u, v, w = self.graph[i]\n",
    "            i = i + 1\n",
    "            x = self.search(parent, u)\n",
    "            y = self.search(parent, v)\n",
    "            if x != y:\n",
    "                e = e + 1\n",
    "                result.append([u, v, w])\n",
    "                self.apply_union(parent, rank, x, y)\n",
    "        total = 0\n",
    "        for u, v, weight in result:\n",
    "            #print(\"Edge:\",u, v,end =\" \")\n",
    "            #print(\"-\",weight)\n",
    "            total += weight\n",
    "        print(total)\n",
    "        return(total,result)\n",
    "#g = Graph(5)\n",
    "#g.add_edge(0, 1, 8)\n",
    "#g.add_edge(0, 2, 5)\n",
    "#g.add_edge(1, 2, 9)\n",
    "#g.add_edge(1, 3, 11)\n",
    "#g.add_edge(2, 3, 15)\n",
    "#g.add_edge(2, 4, 10)\n",
    "#g.add_edge(3, 4, 7)\n",
    "#g.kruskal()"
   ]
  },
  {
   "cell_type": "code",
   "execution_count": 39,
   "id": "d098691f",
   "metadata": {},
   "outputs": [],
   "source": [
    "dist_matrix = [[distance(c1, c2) for c2 in cities] for c1 in cities]\n",
    "g = Graph(1000)\n",
    "for i in range(0,1000):\n",
    "    for j in range(i,1000):\n",
    "        g.add_edge(i,j,dist_matrix[i][j])\n",
    "min_length, path = g.kruskal()"
   ]
  },
  {
   "cell_type": "code",
   "execution_count": 22,
   "id": "21e44995",
   "metadata": {},
   "outputs": [],
   "source": [
    "def distance(point1, point2):\n",
    "    return np.sqrt(np.sum((point1 - point2)**2))\n",
    "\n",
    "def ant_colony_optimization_MST(points, n_ants, n_iterations, alpha, beta, evaporation_rate, Q,start_point):\n",
    "    n_points = len(points)\n",
    "    pheromone = np.ones((n_points, n_points)) # Initialise pheromones for each path between each city\n",
    "    best_path = None\n",
    "    best_path_length = np.inf\n",
    "    \n",
    "    for iteration in range(n_iterations): # Number of simulations for all ants to find path\n",
    "        paths = [] # To store converged path in this iteration\n",
    "        path_lengths = [] # To store the length of the coenverged path\n",
    "        \n",
    "        for ant in range(n_ants): # For each ant where each ant travels through all the cities\n",
    "            visited = [False]*n_points # Initialise ant has not travelled to any city yet\n",
    "            current_point = start_point\n",
    "            visited[current_point] = True # Update visited city\n",
    "            path = [current_point] # Update path of this ant \n",
    "            path_length = 0 # \n",
    "            \n",
    "            while False in visited: # This while loop ensures that the ant runs through all cities\n",
    "                unvisited = np.where(np.logical_not(visited))[0] # Get all non-visited cities\n",
    "                probabilities = np.zeros(len(unvisited))# Initialise probability vector\n",
    "                \n",
    "                for i, unvisited_point in enumerate(unvisited):\n",
    "                    # Updating probabilities of each unvisited city path \n",
    "                    probabilities[i] = pheromone[current_point, unvisited_point]**alpha / distance(points[current_point], points[unvisited_point])**beta\n",
    "                \n",
    "                # Convert to probabilities\n",
    "                probabilities /= np.sum(probabilities)\n",
    "                \n",
    "                \n",
    "                next_point = np.random.choice(unvisited, p=probabilities)# To decide next city to visit based off probability\n",
    "                path.append(next_point) # Add next city to path\n",
    "                path_length += distance(points[current_point], points[next_point]) # Update path length\n",
    "                visited[next_point] = True # Update that the city has been visited\n",
    "                current_point = next_point # Update current position\n",
    "            \n",
    "            paths.append(path)# Updates the whole path the ant took, each path is a list of numbers\n",
    "            path_lengths.append(path_length)# Updates the best \n",
    "            \n",
    "            if path_length < best_path_length: # Update best path and best path length\n",
    "                best_path = path\n",
    "                best_path_length = path_length\n",
    "        pheromone *= evaporation_rate # This assumes that pheromones changes after each ants journey\n",
    "        \n",
    "        for path, path_length in zip(paths, path_lengths):\n",
    "            for i in range(n_points-1):\n",
    "                pheromone[path[i], path[i+1]] += Q/path_length\n",
    "            pheromone[path[-1], path[0]] += Q/path_length\n",
    "            \n",
    "        if (best_path_length <= 25): # This is to check for the path if the length is already the best we can get by MST\n",
    "            break\n",
    "            \n",
    "    return(best_path,best_path_length)\n",
    "    \n",
    "# Example usage:\n",
    "#points = np.random.rand(10, 3) # Generate 10 random 3D points\n",
    "\n",
    "#ant_colony_optimization(points, n_ants=10, n_iterations=100, alpha=1, beta=1, evaporation_rate=0.5, Q=1)\n",
    "#cities"
   ]
  },
  {
   "cell_type": "code",
   "execution_count": 25,
   "id": "57ed5c8a",
   "metadata": {},
   "outputs": [],
   "source": [
    "# best_path_s_1,best_path_length_s_2 = ant_colony_optimization_MST(cities, n_ants=100, n_iterations=100, alpha=1, beta=5, evaporation_rate=0.5, Q=1,start_point = 3)\n",
    "# yielded similar results as the tuned base ant colony algo"
   ]
  },
  {
   "cell_type": "markdown",
   "id": "a8d45fb6",
   "metadata": {},
   "source": [
    "# 2. Extensions\n",
    "## 2.2. Ant colony system  \n",
    "### Differences\n",
    "#### 1. State transition rule is different, ie the probability distribution of which path the ant takes at each step is different\n",
    "#### 2. Global updating rule is only applied to the path of the best ant, ie the pheromone evaporation rule, note that the paper stated that using the local best as opposed to the global best yield minimal differences\n",
    "#### 3. Local updating rule stays the same"
   ]
  },
  {
   "cell_type": "code",
   "execution_count": 3,
   "id": "0ed1785a",
   "metadata": {},
   "outputs": [],
   "source": [
    "def distance(point1, point2):\n",
    "    return np.sqrt(np.sum((point1 - point2)**2))\n",
    "\n",
    "def ACS(points, n_ants, n_iterations, alpha, beta, evaporation_rate, Q,start_point,q0):\n",
    "    n_points = len(points)\n",
    "    pheromone = np.ones((n_points, n_points)) \n",
    "    best_path = None\n",
    "    best_path_length = np.inf\n",
    "    for iteration in range(n_iterations):\n",
    "        paths = [] \n",
    "        path_lengths = [] \n",
    "        \n",
    "        for ant in range(n_ants): \n",
    "            visited = [False]*n_points \n",
    "            current_point = start_point\n",
    "            visited[current_point] = True \n",
    "            path = [current_point] \n",
    "            path_length = 0 # \n",
    "            \n",
    "            while False in visited: \n",
    "                unvisited = np.where(np.logical_not(visited))[0] \n",
    "                probabilities = np.zeros(len(unvisited))\n",
    "                storage = np.zeros(len(unvisited))\n",
    "                for i, unvisited_point in enumerate(unvisited):\n",
    "                    probabilities[i] = pheromone[current_point, unvisited_point]**alpha / distance(points[current_point], points[unvisited_point])**beta\n",
    "                    storage[i] = pheromone[current_point, unvisited_point]**alpha / distance(points[current_point], points[unvisited_point])**beta\n",
    "                probabilities /= np.sum(probabilities)\n",
    "                \n",
    "                # DIFFERENCE 1: STATE TRANSITION RULE\n",
    "                decider = np.random.uniform(0,1,1)\n",
    "                \n",
    "                if (decider>q0):\n",
    "                    next_point = np.random.choice(unvisited, p=probabilities)\n",
    "                else:\n",
    "                    next_point = np.argmax(storage)\n",
    "                \n",
    "                path.append(next_point)\n",
    "                path_length += distance(points[current_point], points[next_point]) \n",
    "                visited[next_point] = True \n",
    "                current_point = next_point \n",
    "            \n",
    "            paths.append(path)\n",
    "            path_lengths.append(path_length)\n",
    "            \n",
    "            if path_length < best_path_length: \n",
    "                best_path = path\n",
    "                best_path_length = path_length\n",
    "                \n",
    "        # DIFFERENCE 2: CHANGE IN GLOBAL UPDATING RULE WHERE BEST PATH GETS UPDATED DIFFERENTLY\n",
    "        pheromone *= evaporation_rate\n",
    "        for i in range(0,n_points-1):\n",
    "            pheromone[best_path[i]][best_path[i+1]] += evaporation_rate * (distance(points[best_path[i]],points[best_path[i+1]]))**(-1)\n",
    "        \n",
    "        # DIFFERENCE 3: CHANGE IN LOCAL UPDATING RULE\n",
    "        for path, path_length in zip(paths, path_lengths): # This is to add the pheromone from current ant\n",
    "            for i in range(n_points-1):\n",
    "                pheromone[path[i], path[i+1]] += Q/path_length\n",
    "            pheromone[path[-1], path[0]] += Q/path_length\n",
    "            \n",
    "            \n",
    "    return(best_path,best_path_length)\n",
    "    \n"
   ]
  },
  {
   "cell_type": "code",
   "execution_count": 4,
   "id": "53969e20",
   "metadata": {},
   "outputs": [
    {
     "name": "stderr",
     "output_type": "stream",
     "text": [
      "C:\\ProgramData\\Anaconda3\\lib\\site-packages\\ipykernel_launcher.py:52: RuntimeWarning: divide by zero encountered in double_scalars\n"
     ]
    }
   ],
   "source": [
    "best_path_ACS,best_length_ACS = ACS(cities, n_ants=250, n_iterations=10, alpha=1, beta=5, evaporation_rate=0.5, Q=1,start_point = 1,q0 = 0.3)"
   ]
  },
  {
   "cell_type": "code",
   "execution_count": 6,
   "id": "8b4d6942",
   "metadata": {},
   "outputs": [
    {
     "data": {
      "text/plain": [
       "184.5945289180284"
      ]
     },
     "execution_count": 6,
     "metadata": {},
     "output_type": "execute_result"
    }
   ],
   "source": [
    "#This took 12 hrs to run\n",
    "#best_path_ACS # 184.59\n",
    "#best_length_ACS with tuned parameters from original ACO"
   ]
  },
  {
   "cell_type": "code",
   "execution_count": 8,
   "id": "838166e3",
   "metadata": {},
   "outputs": [],
   "source": [
    "import pickle\n",
    "with open(\"ACS_path\", \"wb\") as fp:   #Pickling\n",
    "    pickle.dump(best_path_ACS, fp)"
   ]
  },
  {
   "cell_type": "code",
   "execution_count": null,
   "id": "82efcc0e",
   "metadata": {},
   "outputs": [],
   "source": []
  }
 ],
 "metadata": {
  "kernelspec": {
   "display_name": "Python 3 (ipykernel)",
   "language": "python",
   "name": "python3"
  },
  "language_info": {
   "codemirror_mode": {
    "name": "ipython",
    "version": 3
   },
   "file_extension": ".py",
   "mimetype": "text/x-python",
   "name": "python",
   "nbconvert_exporter": "python",
   "pygments_lexer": "ipython3",
   "version": "3.7.3"
  }
 },
 "nbformat": 4,
 "nbformat_minor": 5
}
