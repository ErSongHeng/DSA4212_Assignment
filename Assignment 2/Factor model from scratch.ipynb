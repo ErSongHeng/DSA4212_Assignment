{
 "cells": [
  {
   "cell_type": "code",
   "execution_count": 105,
   "id": "f0c548f8",
   "metadata": {},
   "outputs": [],
   "source": [
    "import numpy as np\n",
    "import pandas as pd\n",
    "from collections import Counter\n",
    "from sklearn.model_selection import train_test_split\n",
    "from scipy.sparse import csc_matrix\n",
    "import tqdm"
   ]
  },
  {
   "cell_type": "code",
   "execution_count": 106,
   "id": "1c14b80a",
   "metadata": {},
   "outputs": [],
   "source": [
    "anime_data = pd.read_csv('assignment_2_anime.csv')\n",
    "train_data = pd.read_csv('assignment_2_ratings_train.csv')\n",
    "test_data = pd.read_csv('assignment_2_ratings_test.csv')"
   ]
  },
  {
   "cell_type": "markdown",
   "id": "41702280",
   "metadata": {},
   "source": [
    "## Splitting training and validation data"
   ]
  },
  {
   "cell_type": "code",
   "execution_count": 107,
   "id": "946470ac",
   "metadata": {},
   "outputs": [],
   "source": [
    "train, valid = train_test_split(train_data, test_size = 0.2)\n",
    "\n",
    "# Reset index for train and valid\n",
    "train = train.reset_index()[['user_id', 'anime_id', 'rating']]\n",
    "valid = valid.reset_index()[['user_id', 'anime_id', 'rating']]"
   ]
  },
  {
   "cell_type": "markdown",
   "id": "e35d5077",
   "metadata": {},
   "source": [
    "## Encoding columns"
   ]
  },
  {
   "cell_type": "code",
   "execution_count": 108,
   "id": "27ae0f8f",
   "metadata": {},
   "outputs": [],
   "source": [
    "def encode_column(column):\n",
    "    keys = column.unique()\n",
    "    key_to_id = {key:idx for idx,key in enumerate(keys)}\n",
    "    return key_to_id, np.array([key_to_id[x] for x in column]), len(keys)"
   ]
  },
  {
   "cell_type": "code",
   "execution_count": 109,
   "id": "9a33bd70",
   "metadata": {},
   "outputs": [],
   "source": [
    "def encode_df(data):\n",
    "    anime_ids, data['anime_id'], num_anime = encode_column(data['anime_id'])\n",
    "    user_ids, data['user_id'], num_users = encode_column(data['user_id'])\n",
    "    return data, num_users, num_anime, user_ids, anime_ids"
   ]
  },
  {
   "cell_type": "code",
   "execution_count": 110,
   "id": "0ec92a58",
   "metadata": {},
   "outputs": [],
   "source": [
    "train_data, num_users, num_anime, user_ids, anime_ids = encode_df(train_data)"
   ]
  },
  {
   "cell_type": "code",
   "execution_count": 111,
   "id": "d12e241f",
   "metadata": {},
   "outputs": [],
   "source": [
    "def create_embeddings(n, K):\n",
    "    \"\"\"\n",
    "    Creates a random numpy matrix of shape n, K with uniform values in (0, 11/K)\n",
    "    n: number of items/users\n",
    "    K: number of factors in the embedding \n",
    "    \"\"\"\n",
    "    return 11*np.random.random((n, K)) / K"
   ]
  },
  {
   "cell_type": "markdown",
   "id": "9d241333",
   "metadata": {},
   "source": [
    "## Create sparse matrix"
   ]
  },
  {
   "cell_type": "code",
   "execution_count": 112,
   "id": "69562d99",
   "metadata": {},
   "outputs": [],
   "source": [
    "def sparse_matrix_init(arraydata, rows, cols, colname): \n",
    "    return csc_matrix((arraydata[colname].values, (arraydata['user_id'].values, arraydata['anime_id'].values)), shape=(rows, cols))"
   ]
  },
  {
   "cell_type": "markdown",
   "id": "331f7288",
   "metadata": {},
   "source": [
    "## Prediction without doing U x V transpose"
   ]
  },
  {
   "cell_type": "code",
   "execution_count": 113,
   "id": "0b7a4dc7",
   "metadata": {},
   "outputs": [],
   "source": [
    "def predict(data, encoded_user, encoded_anime):\n",
    "    data['prediction'] = np.sum(np.multiply(encoded_anime[data['anime_id']], encoded_user[data['user_id']]), axis = 1)\n",
    "    return data"
   ]
  },
  {
   "cell_type": "code",
   "execution_count": 114,
   "id": "b4164921",
   "metadata": {},
   "outputs": [],
   "source": [
    "def mse(data, encoded_user, encoded_anime):\n",
    "    A = sparse_matrix_init(data, encoded_user.shape[0], encoded_anime.shape[0], 'rating')\n",
    "    A_approx = sparse_matrix_init(predict(data, encoded_user, encoded_anime), encoded_user.shape[0], encoded_anime.shape[0], 'prediction')\n",
    "    MSE = np.sum((A - A_approx).power(2))/data.shape[0]\n",
    "    \n",
    "    return MSE"
   ]
  },
  {
   "cell_type": "code",
   "execution_count": 115,
   "id": "bc51da7a",
   "metadata": {},
   "outputs": [],
   "source": [
    "def gradient(data, encoded_user, encoded_anime):\n",
    "    A = sparse_matrix_init(data, encoded_user.shape[0], encoded_anime.shape[0], 'rating')\n",
    "    A_approx = sparse_matrix_init(predict(data, encoded_user, encoded_anime), encoded_user.shape[0], encoded_anime.shape[0], 'prediction')\n",
    "    \n",
    "    lamb = 0.0002\n",
    "    grad_user = (-2/data.shape[0])*((A - A_approx)*encoded_anime) + 2*lamb*encoded_user\n",
    "    grad_anime = (-2/data.shape[0])*((A - A_approx).T*encoded_user) + 2*lamb*encoded_anime\n",
    "    \n",
    "    return grad_user, grad_anime"
   ]
  },
  {
   "cell_type": "code",
   "execution_count": 116,
   "id": "e0024847",
   "metadata": {},
   "outputs": [],
   "source": [
    "def model(data, encoded_user, encoded_anime, iter, lr):\n",
    "    \n",
    "    for i in tqdm.tqdm(range(iter)):\n",
    "        grad_user, grad_anime = gradient(data, encoded_user, encoded_anime)\n",
    "        \n",
    "        encoded_user = encoded_user - lr*grad_user\n",
    "        encoded_anime = encoded_anime - lr*grad_anime\n",
    "\n",
    "    return encoded_user, encoded_anime"
   ]
  },
  {
   "cell_type": "code",
   "execution_count": 117,
   "id": "755614b6",
   "metadata": {},
   "outputs": [
    {
     "name": "stderr",
     "output_type": "stream",
     "text": [
      "100%|████████████████████████████████████████████████████████████████████████████████| 800/800 [12:49<00:00,  1.04it/s]\n"
     ]
    }
   ],
   "source": [
    "encoded_user = create_embeddings(num_users, 3)\n",
    "encoded_anime = create_embeddings(num_anime, 3)\n",
    "\n",
    "encoded_user, encoded_anime = model(train_data, encoded_user, encoded_anime, 800, 1)"
   ]
  },
  {
   "cell_type": "code",
   "execution_count": 119,
   "id": "72dfa774",
   "metadata": {},
   "outputs": [
    {
     "name": "stderr",
     "output_type": "stream",
     "text": [
      "C:\\Users\\SONGHE~1\\AppData\\Local\\Temp/ipykernel_16136/1680268977.py:6: SettingWithCopyWarning: \n",
      "A value is trying to be set on a copy of a slice from a DataFrame.\n",
      "Try using .loc[row_indexer,col_indexer] = value instead\n",
      "\n",
      "See the caveats in the documentation: https://pandas.pydata.org/pandas-docs/stable/user_guide/indexing.html#returning-a-view-versus-a-copy\n",
      "  test_data['anime_id'] =  np.array([anime_ids[x] for x in test_data['anime_id']])\n",
      "C:\\Users\\SONGHE~1\\AppData\\Local\\Temp/ipykernel_16136/1680268977.py:7: SettingWithCopyWarning: \n",
      "A value is trying to be set on a copy of a slice from a DataFrame.\n",
      "Try using .loc[row_indexer,col_indexer] = value instead\n",
      "\n",
      "See the caveats in the documentation: https://pandas.pydata.org/pandas-docs/stable/user_guide/indexing.html#returning-a-view-versus-a-copy\n",
      "  test_data['user_id'] = np.array([user_ids[x] for x in test_data['user_id']])\n"
     ]
    }
   ],
   "source": [
    "def encode_new_data(test_data, user_ids, anime_ids):\n",
    "    \"\"\" Encodes valid_df with the same encoding as train_df.\n",
    "    \"\"\"\n",
    "    df_val_chosen = test_data['anime_id'].isin(anime_ids.keys()) & test_data['user_id'].isin(user_ids.keys())\n",
    "    test_data = test_data[df_val_chosen]\n",
    "    test_data['anime_id'] =  np.array([anime_ids[x] for x in test_data['anime_id']])\n",
    "    test_data['user_id'] = np.array([user_ids[x] for x in test_data['user_id']])\n",
    "    return test_data\n",
    "\n",
    "test_data = encode_new_data(test_data, user_ids, anime_ids)"
   ]
  },
  {
   "cell_type": "code",
   "execution_count": 121,
   "id": "e3382358",
   "metadata": {},
   "outputs": [
    {
     "name": "stdout",
     "output_type": "stream",
     "text": [
      "6.036747635875389 6.06862669626926\n"
     ]
    },
    {
     "name": "stderr",
     "output_type": "stream",
     "text": [
      "C:\\Users\\SONGHE~1\\AppData\\Local\\Temp/ipykernel_16136/830864127.py:2: SettingWithCopyWarning: \n",
      "A value is trying to be set on a copy of a slice from a DataFrame.\n",
      "Try using .loc[row_indexer,col_indexer] = value instead\n",
      "\n",
      "See the caveats in the documentation: https://pandas.pydata.org/pandas-docs/stable/user_guide/indexing.html#returning-a-view-versus-a-copy\n",
      "  data['prediction'] = np.sum(np.multiply(encoded_anime[data['anime_id']], encoded_user[data['user_id']]), axis = 1)\n"
     ]
    }
   ],
   "source": [
    "train_mse = mse(train_data, encoded_user, encoded_anime)\n",
    "val_mse = mse(test_data, encoded_user, encoded_anime)\n",
    "print(train_mse, val_mse)"
   ]
  }
 ],
 "metadata": {
  "kernelspec": {
   "display_name": "Python 3 (ipykernel)",
   "language": "python",
   "name": "python3"
  },
  "language_info": {
   "codemirror_mode": {
    "name": "ipython",
    "version": 3
   },
   "file_extension": ".py",
   "mimetype": "text/x-python",
   "name": "python",
   "nbconvert_exporter": "python",
   "pygments_lexer": "ipython3",
   "version": "3.9.7"
  }
 },
 "nbformat": 4,
 "nbformat_minor": 5
}
