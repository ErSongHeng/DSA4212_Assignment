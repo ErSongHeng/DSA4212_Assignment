{
  "nbformat": 4,
  "nbformat_minor": 0,
  "metadata": {
    "colab": {
      "provenance": []
    },
    "kernelspec": {
      "name": "python3",
      "display_name": "Python 3"
    },
    "language_info": {
      "name": "python"
    },
    "accelerator": "GPU",
    "gpuClass": "standard"
  },
  "cells": [
    {
      "cell_type": "code",
      "execution_count": 21,
      "metadata": {
        "id": "r9ue8oiURsz6"
      },
      "outputs": [],
      "source": [
        "import numpy as np\n",
        "import pandas as pd\n",
        "from collections import Counter\n",
        "from sklearn.model_selection import train_test_split\n",
        "from scipy.sparse import csc_matrix\n",
        "import tqdm\n",
        "import jax \n",
        "from jax.config import config\n",
        "config.update('jax_enable_x64', True)  # often needed for LBFGS that requires high-precision\n",
        "import jax.numpy as jnp\n",
        "import math"
      ]
    },
    {
      "cell_type": "code",
      "source": [
        "# mount the Google Drive\n",
        "from google.colab import drive\n",
        "\n",
        "drive.mount(\"/content/drive\")"
      ],
      "metadata": {
        "colab": {
          "base_uri": "https://localhost:8080/"
        },
        "id": "HBvMP-zTR0qP",
        "outputId": "9f74d5c8-85bb-4a7a-da6c-dc7bcf4461d9"
      },
      "execution_count": 2,
      "outputs": [
        {
          "output_type": "stream",
          "name": "stdout",
          "text": [
            "Mounted at /content/drive\n"
          ]
        }
      ]
    },
    {
      "cell_type": "code",
      "source": [
        "%cd /content/drive/MyDrive/DSA4212/assignment_2\n",
        "%ls"
      ],
      "metadata": {
        "colab": {
          "base_uri": "https://localhost:8080/"
        },
        "id": "QsnzILtxR5QS",
        "outputId": "62e6f217-6e64-4e18-eb4b-1352fc528079"
      },
      "execution_count": 3,
      "outputs": [
        {
          "output_type": "stream",
          "name": "stdout",
          "text": [
            "/content/drive/MyDrive/DSA4212/assignment_2\n",
            " \u001b[0m\u001b[01;34massignment_2_data\u001b[0m/                'Normal baseline model'\n",
            " dsa4212_2022_assignment_2-2.pdf    tutorial_matrix_factorization_CLASS.ipynb\n",
            "'Factor model from scratch.ipynb'   tutorial_matrix_factorization.ipynb\n",
            "'Factor model using lecture'\n"
          ]
        }
      ]
    },
    {
      "cell_type": "code",
      "source": [
        "import jax \n",
        "from jax.config import config\n",
        "config.update('jax_enable_x64', True)  # often needed for LBFGS that requires high-precision\n",
        "\n",
        "\n",
        "import jax.numpy as jnp\n",
        "import numpy as onp\n",
        "import pylab as plt\n",
        "import tqdm\n",
        "\n",
        "import imageio\n",
        "import os\n",
        "from skimage.transform import rescale, resize, downscale_local_mean\n",
        "import pandas as pd\n",
        "import time\n",
        "import scipy"
      ],
      "metadata": {
        "id": "BNfxPOoyR7uF"
      },
      "execution_count": 4,
      "outputs": []
    },
    {
      "cell_type": "code",
      "source": [
        "anime_data = pd.read_csv('assignment_2_data/assignment_2_anime.csv')\n",
        "train_data = pd.read_csv('assignment_2_data/assignment_2_ratings_train.csv')\n",
        "test_data = pd.read_csv('assignment_2_data/assignment_2_ratings_test.csv')"
      ],
      "metadata": {
        "id": "z0ImgjJqRvHJ"
      },
      "execution_count": 5,
      "outputs": []
    },
    {
      "cell_type": "code",
      "source": [
        "#train, valid = train_test_split(train_data, test_size = 0.2)\n",
        "\n",
        "# Reset index for train and valid\n",
        "#train = train.reset_index()[['user_id', 'anime_id', 'rating']]\n",
        "#valid = valid.reset_index()[['user_id', 'anime_id', 'rating']]"
      ],
      "metadata": {
        "id": "UJeLd8YKSR37"
      },
      "execution_count": 6,
      "outputs": []
    },
    {
      "cell_type": "code",
      "source": [
        "# This function takes a column that might have repeats and assigns all unique values an id\n",
        "# first output key_to_id is a dictionary {unique_id:index}\n",
        "# second output is for each value in the column we get the index\n",
        "# third output is just the no. of unique values\n",
        "def encode_column(column):\n",
        "    keys = column.unique()\n",
        "    key_to_id = {key:idx for idx,key in enumerate(keys)}\n",
        "    return key_to_id, np.array([key_to_id[x] for x in column]), len(keys)"
      ],
      "metadata": {
        "id": "E2Qfj-HZSU6N"
      },
      "execution_count": 7,
      "outputs": []
    },
    {
      "cell_type": "code",
      "source": [
        "# This is basically to apply the encode_column function on our columns of choice\n",
        "def encode_df(data):\n",
        "    anime_ids, data['anime_id'], num_anime = encode_column(data['anime_id'])\n",
        "    user_ids, data['user_id'], num_users = encode_column(data['user_id'])\n",
        "    return data, num_users, num_anime, user_ids, anime_ids"
      ],
      "metadata": {
        "id": "7AMSrhGiSX0f"
      },
      "execution_count": 8,
      "outputs": []
    },
    {
      "cell_type": "code",
      "source": [
        "## This is to initalise our sparse matrix\n",
        "# How this works is csc_matrix(data,(row_ind,col_ind),shape) , data contains the values and row_ind and col_ind are the indices where the values are\n",
        "# if there are repeating [row_ind[k], col_ind[k]], they will just add the values in data[k]\n",
        "# where data, row_ind and col_ind satisfy the relationship a[row_ind[k], col_ind[k]] = data[k]\n",
        "\n",
        "# What this is doing in our context is that rating is the data, row_ind is user_id and col_ind is anime_id \n",
        "#def sparse_matrix_init(arraydata, rows, cols, colname): \n",
        " #   return csc_matrix((arraydata[colname].values, (arraydata['user_id'].values, arraydata['anime_id'].values)), shape=(rows, cols))"
      ],
      "metadata": {
        "id": "5cRHx-XtuwsI"
      },
      "execution_count": null,
      "outputs": []
    },
    {
      "cell_type": "code",
      "source": [
        "train_data, num_users, num_anime, user_ids, anime_ids = encode_df(train_data)\n",
        "# Multiple entries of user_id meaning that\n",
        "#train_data.groupby(\"user_id\").count()\n",
        "#train_data.groupby(\"rating\").count()"
      ],
      "metadata": {
        "id": "TMGlERGcSZ7N"
      },
      "execution_count": 40,
      "outputs": []
    },
    {
      "cell_type": "code",
      "source": [
        "# Basically the main difference between this implementation and the prof's implementation\n",
        "# is that we were given a pxq sparse matrix A with the ratings of all users+anime_id combinations\n",
        "# we also assumed that we had a u_list/user list where the entries range from 1-p and f_list/anime list where the entries range from 1-q\n",
        "# Rating of first person = A[u_list[0],f_list[0]]\n",
        "# But for our case it is not possible as we are given a list of anime_ids and user_ids so we need to think of someway to reexpress them as indices so that they will\n",
        "# be bound by values (1-p) and (1-q) respectively\n",
        "\n",
        "ratings_list = train_data.rating.values\n",
        "u_list = train_data.user_id.values\n",
        "v_list = train_data.anime_id.values\n",
        "\n",
        "def model(U, V):\n",
        "  \"\"\"\n",
        "  U -- (p, r) -- factors of the p users\n",
        "  V -- (q, r) -- factors of the q films\n",
        "  \"\"\"\n",
        "  predictions = jnp.sum(U[u_list.astype(int)] * V[v_list.astype(int)], axis=1)\n",
        "  MSE = np.mean( (predictions - ratings_list)**2 )\n",
        "  return MSE\n"
      ],
      "metadata": {
        "id": "TD1V4rx_lDGm"
      },
      "execution_count": 51,
      "outputs": []
    },
    {
      "cell_type": "code",
      "source": [
        "# Getting gradient like in lecture\n",
        "model_grad_U = jax.jit( jax.grad(model, argnums=0) )\n",
        "model_grad_V = jax.jit( jax.grad(model, argnums=1) )"
      ],
      "metadata": {
        "id": "Av7JYurmkzML"
      },
      "execution_count": 52,
      "outputs": []
    },
    {
      "cell_type": "code",
      "source": [
        "# 68421 x 3 U init matrix\n",
        "U_init = onp.random.normal(0,1,size=(68421,3))\n",
        "\n",
        "# 9632 x 3 matrix V init matrix\n",
        "V_init = onp.random.normal(0,1,size=(9632,3))\n",
        "\n",
        "#model(U_init,V_init)"
      ],
      "metadata": {
        "id": "mWef8WQBvCyT"
      },
      "execution_count": 53,
      "outputs": []
    },
    {
      "cell_type": "code",
      "source": [
        "# Gradient descent\n",
        "niter = 100\n",
        "eta = 100.\n",
        "loss_traj = []\n",
        "\n",
        "U = onp.copy(U_init)\n",
        "V = onp.copy(V_init)\n",
        "\n",
        "for _ in tqdm.tqdm(range(niter)):\n",
        "  # compute my gradients\n",
        "  grad_u = model_grad_U(U,V)\n",
        "  grad_v = model_grad_V(U,V)\n",
        "\n",
        "  # do the GD update\n",
        "  U = U - eta * grad_u\n",
        "  V = V - eta * grad_v\n",
        "\n",
        "  # monitor the loss\n",
        "  loss_traj.append( model(U,V) )\n"
      ],
      "metadata": {
        "colab": {
          "base_uri": "https://localhost:8080/"
        },
        "id": "r-tA_E97_5xV",
        "outputId": "0e1cf22d-8ec6-462b-b9d9-807bdf13a385"
      },
      "execution_count": 54,
      "outputs": [
        {
          "output_type": "stream",
          "name": "stderr",
          "text": [
            "100%|██████████| 100/100 [00:10<00:00,  9.87it/s]\n"
          ]
        }
      ]
    },
    {
      "cell_type": "code",
      "source": [
        "# Encode test data with the same as training data which is just saying that we want to make sure that the same user/anime are given the \n",
        "# same index mapping in both data sets\n",
        "def encode_new_data(test_data, user_ids, anime_ids):\n",
        "    \"\"\" Encodes test_df with the same encoding as train_df.\n",
        "    \"\"\"\n",
        "    # This is to check for each row entry in the test data set if it exists in the training set\n",
        "    df_val_chosen = test_data['anime_id'].isin(anime_ids.keys()) & test_data['user_id'].isin(user_ids.keys())\n",
        "\n",
        "    # Only use rows in the test data that exists for \n",
        "    test_data = test_data[df_val_chosen]\n",
        "    test_data['anime_id'] =  np.array([anime_ids[x] for x in test_data['anime_id']])\n",
        "    test_data['user_id'] = np.array([user_ids[x] for x in test_data['user_id']])\n",
        "    return test_data\n",
        "\n",
        "test_data = encode_new_data(test_data, user_ids, anime_ids)"
      ],
      "metadata": {
        "id": "eG7quGZ_PfVE"
      },
      "execution_count": 34,
      "outputs": []
    },
    {
      "cell_type": "code",
      "source": [
        "#df_val_chosen = test_data['anime_id'].isin(anime_ids.keys()) & test_data['user_id'].isin(user_ids.keys())\n",
        "test_data.groupby(\"rating\").count()"
      ],
      "metadata": {
        "colab": {
          "base_uri": "https://localhost:8080/",
          "height": 394
        },
        "id": "46H3yDZMKJCH",
        "outputId": "b285462e-79df-4f06-e744-348c96216ba3"
      },
      "execution_count": 41,
      "outputs": [
        {
          "output_type": "execute_result",
          "data": {
            "text/plain": [
              "        user_id  anime_id\n",
              "rating                   \n",
              "1          3208      3208\n",
              "2          4360      4360\n",
              "3          7472      7472\n",
              "4         19237     19237\n",
              "5         51642     51642\n",
              "6        112503    112503\n",
              "7        238470    238470\n",
              "8        280069    280069\n",
              "9        217471    217471\n",
              "10       175266    175266"
            ],
            "text/html": [
              "\n",
              "  <div id=\"df-6b463d22-a2b8-4480-a30b-905ffbc9f2ac\">\n",
              "    <div class=\"colab-df-container\">\n",
              "      <div>\n",
              "<style scoped>\n",
              "    .dataframe tbody tr th:only-of-type {\n",
              "        vertical-align: middle;\n",
              "    }\n",
              "\n",
              "    .dataframe tbody tr th {\n",
              "        vertical-align: top;\n",
              "    }\n",
              "\n",
              "    .dataframe thead th {\n",
              "        text-align: right;\n",
              "    }\n",
              "</style>\n",
              "<table border=\"1\" class=\"dataframe\">\n",
              "  <thead>\n",
              "    <tr style=\"text-align: right;\">\n",
              "      <th></th>\n",
              "      <th>user_id</th>\n",
              "      <th>anime_id</th>\n",
              "    </tr>\n",
              "    <tr>\n",
              "      <th>rating</th>\n",
              "      <th></th>\n",
              "      <th></th>\n",
              "    </tr>\n",
              "  </thead>\n",
              "  <tbody>\n",
              "    <tr>\n",
              "      <th>1</th>\n",
              "      <td>3208</td>\n",
              "      <td>3208</td>\n",
              "    </tr>\n",
              "    <tr>\n",
              "      <th>2</th>\n",
              "      <td>4360</td>\n",
              "      <td>4360</td>\n",
              "    </tr>\n",
              "    <tr>\n",
              "      <th>3</th>\n",
              "      <td>7472</td>\n",
              "      <td>7472</td>\n",
              "    </tr>\n",
              "    <tr>\n",
              "      <th>4</th>\n",
              "      <td>19237</td>\n",
              "      <td>19237</td>\n",
              "    </tr>\n",
              "    <tr>\n",
              "      <th>5</th>\n",
              "      <td>51642</td>\n",
              "      <td>51642</td>\n",
              "    </tr>\n",
              "    <tr>\n",
              "      <th>6</th>\n",
              "      <td>112503</td>\n",
              "      <td>112503</td>\n",
              "    </tr>\n",
              "    <tr>\n",
              "      <th>7</th>\n",
              "      <td>238470</td>\n",
              "      <td>238470</td>\n",
              "    </tr>\n",
              "    <tr>\n",
              "      <th>8</th>\n",
              "      <td>280069</td>\n",
              "      <td>280069</td>\n",
              "    </tr>\n",
              "    <tr>\n",
              "      <th>9</th>\n",
              "      <td>217471</td>\n",
              "      <td>217471</td>\n",
              "    </tr>\n",
              "    <tr>\n",
              "      <th>10</th>\n",
              "      <td>175266</td>\n",
              "      <td>175266</td>\n",
              "    </tr>\n",
              "  </tbody>\n",
              "</table>\n",
              "</div>\n",
              "      <button class=\"colab-df-convert\" onclick=\"convertToInteractive('df-6b463d22-a2b8-4480-a30b-905ffbc9f2ac')\"\n",
              "              title=\"Convert this dataframe to an interactive table.\"\n",
              "              style=\"display:none;\">\n",
              "        \n",
              "  <svg xmlns=\"http://www.w3.org/2000/svg\" height=\"24px\"viewBox=\"0 0 24 24\"\n",
              "       width=\"24px\">\n",
              "    <path d=\"M0 0h24v24H0V0z\" fill=\"none\"/>\n",
              "    <path d=\"M18.56 5.44l.94 2.06.94-2.06 2.06-.94-2.06-.94-.94-2.06-.94 2.06-2.06.94zm-11 1L8.5 8.5l.94-2.06 2.06-.94-2.06-.94L8.5 2.5l-.94 2.06-2.06.94zm10 10l.94 2.06.94-2.06 2.06-.94-2.06-.94-.94-2.06-.94 2.06-2.06.94z\"/><path d=\"M17.41 7.96l-1.37-1.37c-.4-.4-.92-.59-1.43-.59-.52 0-1.04.2-1.43.59L10.3 9.45l-7.72 7.72c-.78.78-.78 2.05 0 2.83L4 21.41c.39.39.9.59 1.41.59.51 0 1.02-.2 1.41-.59l7.78-7.78 2.81-2.81c.8-.78.8-2.07 0-2.86zM5.41 20L4 18.59l7.72-7.72 1.47 1.35L5.41 20z\"/>\n",
              "  </svg>\n",
              "      </button>\n",
              "      \n",
              "  <style>\n",
              "    .colab-df-container {\n",
              "      display:flex;\n",
              "      flex-wrap:wrap;\n",
              "      gap: 12px;\n",
              "    }\n",
              "\n",
              "    .colab-df-convert {\n",
              "      background-color: #E8F0FE;\n",
              "      border: none;\n",
              "      border-radius: 50%;\n",
              "      cursor: pointer;\n",
              "      display: none;\n",
              "      fill: #1967D2;\n",
              "      height: 32px;\n",
              "      padding: 0 0 0 0;\n",
              "      width: 32px;\n",
              "    }\n",
              "\n",
              "    .colab-df-convert:hover {\n",
              "      background-color: #E2EBFA;\n",
              "      box-shadow: 0px 1px 2px rgba(60, 64, 67, 0.3), 0px 1px 3px 1px rgba(60, 64, 67, 0.15);\n",
              "      fill: #174EA6;\n",
              "    }\n",
              "\n",
              "    [theme=dark] .colab-df-convert {\n",
              "      background-color: #3B4455;\n",
              "      fill: #D2E3FC;\n",
              "    }\n",
              "\n",
              "    [theme=dark] .colab-df-convert:hover {\n",
              "      background-color: #434B5C;\n",
              "      box-shadow: 0px 1px 3px 1px rgba(0, 0, 0, 0.15);\n",
              "      filter: drop-shadow(0px 1px 2px rgba(0, 0, 0, 0.3));\n",
              "      fill: #FFFFFF;\n",
              "    }\n",
              "  </style>\n",
              "\n",
              "      <script>\n",
              "        const buttonEl =\n",
              "          document.querySelector('#df-6b463d22-a2b8-4480-a30b-905ffbc9f2ac button.colab-df-convert');\n",
              "        buttonEl.style.display =\n",
              "          google.colab.kernel.accessAllowed ? 'block' : 'none';\n",
              "\n",
              "        async function convertToInteractive(key) {\n",
              "          const element = document.querySelector('#df-6b463d22-a2b8-4480-a30b-905ffbc9f2ac');\n",
              "          const dataTable =\n",
              "            await google.colab.kernel.invokeFunction('convertToInteractive',\n",
              "                                                     [key], {});\n",
              "          if (!dataTable) return;\n",
              "\n",
              "          const docLinkHtml = 'Like what you see? Visit the ' +\n",
              "            '<a target=\"_blank\" href=https://colab.research.google.com/notebooks/data_table.ipynb>data table notebook</a>'\n",
              "            + ' to learn more about interactive tables.';\n",
              "          element.innerHTML = '';\n",
              "          dataTable['output_type'] = 'display_data';\n",
              "          await google.colab.output.renderOutput(dataTable, element);\n",
              "          const docLink = document.createElement('div');\n",
              "          docLink.innerHTML = docLinkHtml;\n",
              "          element.appendChild(docLink);\n",
              "        }\n",
              "      </script>\n",
              "    </div>\n",
              "  </div>\n",
              "  "
            ]
          },
          "metadata": {},
          "execution_count": 41
        }
      ]
    },
    {
      "cell_type": "code",
      "source": [
        "u_list = test_data.user_id.values\n",
        "v_list = test_data.anime_id.values\n",
        "ratings_list = test_data.rating.values\n",
        "predictions = jnp.sum(U[u_list.astype(int)] * V[v_list.astype(int)], axis=1)\n",
        "MSE = np.mean( (predictions - ratings_list)**2 )\n",
        "MSE"
      ],
      "metadata": {
        "colab": {
          "base_uri": "https://localhost:8080/"
        },
        "id": "nopDRv0bNZ73",
        "outputId": "67f684d6-9e0b-4ac9-be0a-3429819a21af"
      },
      "execution_count": 43,
      "outputs": [
        {
          "output_type": "execute_result",
          "data": {
            "text/plain": [
              "Array(31.40143141, dtype=float64)"
            ]
          },
          "metadata": {},
          "execution_count": 43
        }
      ]
    }
  ]
}