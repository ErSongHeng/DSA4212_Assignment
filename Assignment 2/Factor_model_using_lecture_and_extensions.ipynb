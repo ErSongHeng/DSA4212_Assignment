{
  "nbformat": 4,
  "nbformat_minor": 0,
  "metadata": {
    "colab": {
      "provenance": []
    },
    "kernelspec": {
      "name": "python3",
      "display_name": "Python 3"
    },
    "language_info": {
      "name": "python"
    },
    "accelerator": "GPU",
    "gpuClass": "standard"
  },
  "cells": [
    {
      "cell_type": "code",
      "execution_count": null,
      "metadata": {
        "id": "r9ue8oiURsz6"
      },
      "outputs": [],
      "source": [
        "import pandas as pd\n",
        "from collections import Counter\n",
        "from sklearn.model_selection import train_test_split\n",
        "from scipy.sparse import csc_matrix\n",
        "import tqdm\n",
        "import jax \n",
        "from jax.config import config\n",
        "config.update('jax_enable_x64', True)  # often needed for LBFGS that requires high-precision\n",
        "import jax.numpy as jnp\n",
        "import math"
      ]
    },
    {
      "cell_type": "code",
      "source": [
        "# mount the Google Drive\n",
        "from google.colab import drive\n",
        "\n",
        "drive.mount(\"/content/drive\")"
      ],
      "metadata": {
        "colab": {
          "base_uri": "https://localhost:8080/"
        },
        "id": "HBvMP-zTR0qP",
        "outputId": "275c8e32-80fd-4faa-8e27-2eff8535cdf0"
      },
      "execution_count": null,
      "outputs": [
        {
          "output_type": "stream",
          "name": "stdout",
          "text": [
            "Mounted at /content/drive\n"
          ]
        }
      ]
    },
    {
      "cell_type": "code",
      "source": [
        "%cd /content/drive/MyDrive/DSA4212/assignment_2\n",
        "%ls"
      ],
      "metadata": {
        "colab": {
          "base_uri": "https://localhost:8080/"
        },
        "id": "QsnzILtxR5QS",
        "outputId": "3527ede1-e48c-4975-b66f-54902afbb2c1"
      },
      "execution_count": null,
      "outputs": [
        {
          "output_type": "stream",
          "name": "stdout",
          "text": [
            "/content/drive/MyDrive/DSA4212/assignment_2\n",
            " \u001b[0m\u001b[01;34massignment_2_data\u001b[0m/\n",
            " dsa4212_2022_assignment_2-2.pdf\n",
            "'Extension using collaborative filtering'\n",
            "'Factor model from scratch.ipynb'\n",
            "'Factor model using lecture and extensions'\n",
            "'Normal baseline model'\n",
            " train_data.csv\n",
            " tutorial_matrix_factorization_CLASS.ipynb\n",
            " tutorial_matrix_factorization.ipynb\n",
            " tutorial_newton.ipynb\n",
            " tutorial_reconstruction.ipynb\n",
            " valid_data.csv\n"
          ]
        }
      ]
    },
    {
      "cell_type": "code",
      "source": [
        "import jax \n",
        "from jax.config import config\n",
        "config.update('jax_enable_x64', True)  # often needed for LBFGS that requires high-precision\n",
        "\n",
        "\n",
        "import jax.numpy as jnp\n",
        "import numpy as onp\n",
        "import pylab as plt\n",
        "import tqdm\n",
        "\n",
        "import imageio\n",
        "import os\n",
        "from skimage.transform import rescale, resize, downscale_local_mean\n",
        "import pandas as pd\n",
        "import time\n",
        "import scipy"
      ],
      "metadata": {
        "id": "BNfxPOoyR7uF"
      },
      "execution_count": null,
      "outputs": []
    },
    {
      "cell_type": "markdown",
      "source": [
        "## Reading in data ##"
      ],
      "metadata": {
        "id": "ARgFWoxypaId"
      }
    },
    {
      "cell_type": "code",
      "source": [
        "anime_data = pd.read_csv('assignment_2_data/assignment_2_anime.csv')\n",
        "train_data_og = pd.read_csv('assignment_2_data/assignment_2_ratings_train.csv')\n",
        "test_data_og = pd.read_csv('assignment_2_data/assignment_2_ratings_test.csv')"
      ],
      "metadata": {
        "id": "z0ImgjJqRvHJ"
      },
      "execution_count": null,
      "outputs": []
    },
    {
      "cell_type": "markdown",
      "source": [
        "## Functions needed to transform data into usable form for factor model ##"
      ],
      "metadata": {
        "id": "kUCT9uCepdd7"
      }
    },
    {
      "cell_type": "code",
      "source": [
        "# This function takes a column that might have repeats and assigns all unique values an id\n",
        "# first output key_to_id is a dictionary {unique_id:index}\n",
        "# second output is for each value in the column we get the index\n",
        "# third output is just the no. of unique values\n",
        "def encode_column(column):\n",
        "    keys = column.unique()\n",
        "    key_to_id = {key:idx for idx,key in enumerate(keys)}\n",
        "    return key_to_id, onp.array([key_to_id[x] for x in column]), len(keys)"
      ],
      "metadata": {
        "id": "E2Qfj-HZSU6N"
      },
      "execution_count": null,
      "outputs": []
    },
    {
      "cell_type": "code",
      "source": [
        "# This is basically to apply the encode_column function on our columns of choice\n",
        "def encode_df(data):\n",
        "    anime_ids, data['anime_id'], num_anime = encode_column(data['anime_id'])\n",
        "    user_ids, data['user_id'], num_users = encode_column(data['user_id'])\n",
        "    return data, num_users, num_anime, user_ids, anime_ids"
      ],
      "metadata": {
        "id": "7AMSrhGiSX0f"
      },
      "execution_count": null,
      "outputs": []
    },
    {
      "cell_type": "markdown",
      "source": [
        "## Train and validation split ##"
      ],
      "metadata": {
        "id": "e-L4wBFW5Dmy"
      }
    },
    {
      "cell_type": "code",
      "source": [
        "onp.random.seed(15)\n",
        "train, valid = train_test_split(train_data_og, test_size = 0.2)\n",
        "\n",
        "train_data = train.reset_index()[['user_id', 'anime_id', 'rating']]\n",
        "valid_data = valid.reset_index()[['user_id', 'anime_id', 'rating']]\n",
        "\n",
        "train_data, num_users, num_anime, user_ids, anime_ids = encode_df(train_data)\n",
        "# Multiple entries of user_id meaning that\n",
        "#train_data.groupby(\"anime_id\").count()\n",
        "#train_data.groupby(\"rating\").count()\n"
      ],
      "metadata": {
        "id": "TMGlERGcSZ7N"
      },
      "execution_count": null,
      "outputs": []
    },
    {
      "cell_type": "code",
      "source": [
        "ratings_list = train_data_og.rating.values\n",
        "u_list = train_data.user_id.values\n",
        "v_list = train_data.anime_id.values\n",
        "\n"
      ],
      "metadata": {
        "id": "9h7T_fCXf33z"
      },
      "execution_count": null,
      "outputs": []
    },
    {
      "cell_type": "markdown",
      "source": [
        "## First factor model ##\n",
        "1. Number of latent factors : 3  \n",
        "2. Initialisation distrubtion : N(0,1)\n",
        "3. Validation MSE: 27 - 36\n",
        "\n",
        "Observations:  \n",
        "It was observed that MSE is quite high relative to our other models. This is because our predictions tend to go past 10 which does not make sense. This could be remedied with smaller initiasations for our latent factor values or by flooring the predictions to be 10 if the predictions are above 10. Also it is likely that the gradient descent has not converged to minimum.  \n",
        "This could be due to to low number of iterations, large starting point or eta being too high."
      ],
      "metadata": {
        "id": "eflSP8AUpYCT"
      }
    },
    {
      "cell_type": "code",
      "source": [
        "# Basically the main difference between this implementation and the prof's implementation\n",
        "# is that we were given a pxq sparse matrix A with the ratings of all users+anime_id combinations\n",
        "# we also assumed that we had a u_list/user list where the entries range from 1-p and f_list/anime list where the entries range from 1-q\n",
        "# Rating of first person = A[u_list[0],f_list[0]]\n",
        "# But for our case it is not possible as we are given a list of anime_ids and user_ids so we need to think of someway to reexpress them as indices so that they will\n",
        "# be bound by values (1-p) and (1-q) respectively\n",
        "\n",
        "ratings_list = train_data.rating.values\n",
        "u_list = train_data.user_id.values\n",
        "v_list = train_data.anime_id.values\n",
        "\n",
        "def model(U, V):\n",
        "  \"\"\"\n",
        "  U -- (p, r) -- factors of the p users\n",
        "  V -- (q, r) -- factors of the q films\n",
        "  \"\"\"\n",
        "  predictions = jnp.sum(U[u_list.astype(int)] * V[v_list.astype(int)], axis=1)\n",
        "  MSE = onp.mean( (predictions - ratings_list)**2 )\n",
        "  return MSE\n"
      ],
      "metadata": {
        "id": "TD1V4rx_lDGm"
      },
      "execution_count": null,
      "outputs": []
    },
    {
      "cell_type": "code",
      "source": [
        "# Getting gradient like in lecture\n",
        "model_grad_U = jax.jit( jax.grad(model, argnums=0) )\n",
        "model_grad_V = jax.jit( jax.grad(model, argnums=1) )"
      ],
      "metadata": {
        "id": "Av7JYurmkzML"
      },
      "execution_count": null,
      "outputs": []
    },
    {
      "cell_type": "code",
      "source": [
        "onp.random.seed(13)\n",
        "# 67601 x 3 U init matrix\n",
        "U_init = onp.random.normal(0,1,size=(67601,3))\n",
        "\n",
        "# 9430 x 3 matrix V init matrix\n",
        "V_init = onp.random.normal(0,1,size=(9430,3))\n",
        "\n",
        "#model(U_init,V_init)"
      ],
      "metadata": {
        "id": "mWef8WQBvCyT"
      },
      "execution_count": null,
      "outputs": []
    },
    {
      "cell_type": "code",
      "source": [
        "#rate_getter = lambda x: 1 if x<1 else (10 if x>10 else x) \n",
        "#vfunc = onp.vectorize(rate_getter)\n",
        "#a = U_init[u_list.astype(int)] * V_init[v_list.astype(int)]\n",
        "#b = a.sum(axis = 1)\n",
        "#int_mat = U_init[u_list.astype(int)] * V_init[v_list.astype(int)]\n",
        "#predictions = vfunc(int_mat.sum(axis = 1))\n",
        "#predictions = int_mat.sum(axis = 1)\n",
        "#predictions.shape"
      ],
      "metadata": {
        "colab": {
          "base_uri": "https://localhost:8080/"
        },
        "id": "dy9McHJSMoP1",
        "outputId": "b537b2a8-cc2d-441f-d79d-e02c57a52115"
      },
      "execution_count": null,
      "outputs": [
        {
          "output_type": "execute_result",
          "data": {
            "text/plain": [
              "(3548854,)"
            ]
          },
          "metadata": {},
          "execution_count": 73
        }
      ]
    },
    {
      "cell_type": "code",
      "source": [
        "# Gradient descent\n",
        "niter = 100\n",
        "eta = 100.\n",
        "loss_traj = []\n",
        "\n",
        "U = onp.copy(U_init)\n",
        "V = onp.copy(V_init)\n",
        "\n",
        "for _ in tqdm.tqdm(range(niter)):\n",
        "  # compute my gradients\n",
        "  grad_u = model_grad_U(U,V)\n",
        "  grad_v = model_grad_V(U,V)\n",
        "\n",
        "  # do the GD update\n",
        "  U = U - eta * grad_u\n",
        "  V = V - eta * grad_v\n",
        "\n",
        "  # monitor the loss\n",
        "  loss_traj.append( model(U,V) )\n"
      ],
      "metadata": {
        "colab": {
          "base_uri": "https://localhost:8080/"
        },
        "id": "r-tA_E97_5xV",
        "outputId": "78f9d874-cc8c-41c6-b47f-90a0924f459e"
      },
      "execution_count": null,
      "outputs": [
        {
          "output_type": "stream",
          "name": "stderr",
          "text": [
            "100%|██████████| 100/100 [00:07<00:00, 13.79it/s]\n"
          ]
        }
      ]
    },
    {
      "cell_type": "code",
      "source": [
        "# Encode test data with the same as training data which is just saying that we want to make sure that the same user/anime are given the \n",
        "# same index mapping in both data sets\n",
        "def encode_new_data(test_data, user_ids, anime_ids):\n",
        "    \"\"\" Encodes test_df with the same encoding as train_df.\n",
        "    \"\"\"\n",
        "    # This is to check for each row entry in the test data set if it exists in the training set\n",
        "    df_val_chosen = test_data['anime_id'].isin(anime_ids.keys()) or test_data['user_id'].isin(user_ids.keys())\n",
        "\n",
        "    # Only use rows in the test data that exists for \n",
        "    test_data = test_data[df_val_chosen]\n",
        "    test_data['anime_id'] =  onp.array([anime_ids[x] for x in test_data['anime_id']])\n",
        "    test_data['user_id'] = onp.array([user_ids[x] for x in test_data['user_id']])\n",
        "    return test_data\n",
        "\n",
        "valid_data = encode_new_data(valid_data, user_ids, anime_ids)"
      ],
      "metadata": {
        "id": "eG7quGZ_PfVE",
        "colab": {
          "base_uri": "https://localhost:8080/"
        },
        "outputId": "fbd45186-15af-4385-a10f-cf190eedf32c"
      },
      "execution_count": null,
      "outputs": [
        {
          "output_type": "stream",
          "name": "stderr",
          "text": [
            "<ipython-input-39-e5adc736ebea>:11: SettingWithCopyWarning: \n",
            "A value is trying to be set on a copy of a slice from a DataFrame.\n",
            "Try using .loc[row_indexer,col_indexer] = value instead\n",
            "\n",
            "See the caveats in the documentation: https://pandas.pydata.org/pandas-docs/stable/user_guide/indexing.html#returning-a-view-versus-a-copy\n",
            "  test_data['anime_id'] =  onp.array([anime_ids[x] for x in test_data['anime_id']])\n",
            "<ipython-input-39-e5adc736ebea>:12: SettingWithCopyWarning: \n",
            "A value is trying to be set on a copy of a slice from a DataFrame.\n",
            "Try using .loc[row_indexer,col_indexer] = value instead\n",
            "\n",
            "See the caveats in the documentation: https://pandas.pydata.org/pandas-docs/stable/user_guide/indexing.html#returning-a-view-versus-a-copy\n",
            "  test_data['user_id'] = onp.array([user_ids[x] for x in test_data['user_id']])\n"
          ]
        }
      ]
    },
    {
      "cell_type": "code",
      "source": [
        "#df_val_chosen = test_data['anime_id'].isin(anime_ids.keys()) & test_data['user_id'].isin(user_ids.keys())\n",
        "#test_data.groupby(\"rating\").count()"
      ],
      "metadata": {
        "id": "46H3yDZMKJCH"
      },
      "execution_count": null,
      "outputs": []
    },
    {
      "cell_type": "code",
      "source": [
        "u_list_val = valid_data.user_id.values\n",
        "v_list_val = valid_data.anime_id.values\n",
        "ratings_list_val = valid_data.rating.values\n",
        "predictions = jnp.sum(U[u_list_val.astype(int)] * V[v_list_val.astype(int)], axis=1)\n",
        "MSE = onp.mean( (predictions - ratings_list_val)**2 )\n",
        "MSE\n"
      ],
      "metadata": {
        "colab": {
          "base_uri": "https://localhost:8080/"
        },
        "id": "nopDRv0bNZ73",
        "outputId": "179cd952-13d2-4efd-d6c8-32131fce6a88"
      },
      "execution_count": null,
      "outputs": [
        {
          "output_type": "execute_result",
          "data": {
            "text/plain": [
              "Array(36.68778128, dtype=float64)"
            ]
          },
          "metadata": {},
          "execution_count": 40
        }
      ]
    },
    {
      "cell_type": "code",
      "source": [
        "plt.plot(loss_traj)"
      ],
      "metadata": {
        "colab": {
          "base_uri": "https://localhost:8080/",
          "height": 448
        },
        "id": "Y58ijJZLT855",
        "outputId": "af7c4d22-d825-4ede-e847-61aa0f0a5e66"
      },
      "execution_count": null,
      "outputs": [
        {
          "output_type": "execute_result",
          "data": {
            "text/plain": [
              "[<matplotlib.lines.Line2D at 0x7f72d45513d0>]"
            ]
          },
          "metadata": {},
          "execution_count": 41
        },
        {
          "output_type": "display_data",
          "data": {
            "text/plain": [
              "<Figure size 640x480 with 1 Axes>"
            ],
            "image/png": "[encoded data removed]"
          },
          "metadata": {}
        }
      ]
    },
    {
      "cell_type": "markdown",
      "source": [
        "## Second model experimentation ##\n",
        "- Experimenting with different SDs for our initialisation distribution\n",
        "1. N(0,1/10^2) : 24.99\n",
        "2. N(0,1/10^4) : 26.79\n",
        "3. N(0,1/10^6) : 29.868   \n",
        "Observations:  \n",
        "It was also observed from the loss trajectory graphs that as we decrease the SD of the normal distribution that we use to initialise the U_init and V_init, the model takes a longer time to start decreasing training MSE."
      ],
      "metadata": {
        "id": "9vM5bEoGqdEX"
      }
    },
    {
      "cell_type": "code",
      "source": [
        "# Getting gradient like in lecture\n",
        "model_grad_U = jax.jit( jax.grad(model, argnums=0) )\n",
        "model_grad_V = jax.jit( jax.grad(model, argnums=1) )"
      ],
      "metadata": {
        "id": "csd4iOkOq-Rb"
      },
      "execution_count": null,
      "outputs": []
    },
    {
      "cell_type": "code",
      "source": [
        "onp.random.seed(13)\n",
        "# 67601 x 3 U init matrix\n",
        "U_init = onp.random.normal(0,1,size=(67601,3))\n",
        "\n",
        "# 9430 x 3 matrix V init matrix\n",
        "V_init = onp.random.normal(0,1,size=(9430,3))\n",
        "\n",
        "#model(U_init,V_init)\n",
        "# Gradient descent\n",
        "niter = 100\n",
        "eta = 100.\n",
        "loss_traj = []\n",
        "\n",
        "U = onp.copy(U_init)\n",
        "V = onp.copy(V_init)\n",
        "\n",
        "for _ in tqdm.tqdm(range(niter)):\n",
        "  # compute my gradients\n",
        "  grad_u = model_grad_U(U,V)\n",
        "  grad_v = model_grad_V(U,V)\n",
        "\n",
        "  # do the GD update\n",
        "  U = U - eta * grad_u\n",
        "  V = V - eta * grad_v\n",
        "\n",
        "  # monitor the loss\n",
        "  loss_traj.append( model(U,V) )\n",
        "\n",
        "# Test MSE\n",
        "u_list_val = valid_data.user_id.values\n",
        "v_list_val = valid_data.anime_id.values\n",
        "ratings_list_val = valid_data.rating.values\n",
        "predictions = jnp.sum(U[u_list_val.astype(int)] * V[v_list_val.astype(int)], axis=1)\n",
        "MSE = onp.mean( (predictions - ratings_list_val)**2 )\n",
        "MSE"
      ],
      "metadata": {
        "colab": {
          "base_uri": "https://localhost:8080/"
        },
        "id": "n4aidEcJrNqe",
        "outputId": "fdcb43c2-03df-4ad4-a176-69b1234db0fc"
      },
      "execution_count": null,
      "outputs": [
        {
          "output_type": "stream",
          "name": "stderr",
          "text": [
            "100%|██████████| 100/100 [00:04<00:00, 22.96it/s]\n"
          ]
        },
        {
          "output_type": "execute_result",
          "data": {
            "text/plain": [
              "Array(29.86772856, dtype=float64)"
            ]
          },
          "metadata": {},
          "execution_count": 30
        }
      ]
    },
    {
      "cell_type": "code",
      "source": [
        "plt.plot(loss_traj)"
      ],
      "metadata": {
        "colab": {
          "base_uri": "https://localhost:8080/",
          "height": 448
        },
        "id": "4ijpIDc8WlP9",
        "outputId": "3bcb4a37-3ab4-4a06-bff1-3f2b812312c8"
      },
      "execution_count": null,
      "outputs": [
        {
          "output_type": "execute_result",
          "data": {
            "text/plain": [
              "[<matplotlib.lines.Line2D at 0x7f6e2adaa1f0>]"
            ]
          },
          "metadata": {},
          "execution_count": 31
        },
        {
          "output_type": "display_data",
          "data": {
            "text/plain": [
              "<Figure size 640x480 with 1 Axes>"
            ],
            "image/png": "[encoded data removed]"
          },
          "metadata": {}
        }
      ]
    },
    {
      "cell_type": "markdown",
      "source": [
        "## Third model experimentation ##\n",
        "- Experiment with different number of latent factors  \n",
        "- Initialisation distribution : N(0,1)  \n",
        "1. 20: 33.04\n",
        "2. 50: 46.93\n",
        "3. 100: 75.12  \n",
        "Observations:  \n",
        "While we can see that the validation MSE gets considerably worse, it is also observed from the loss trajectory plots starts decreasing faster as we increase the number of latent factors. This is probably from overfitting as increasing the number of latent factors makes our model more flexible.\n"
      ],
      "metadata": {
        "id": "sJpY5mBl0T6i"
      }
    },
    {
      "cell_type": "code",
      "source": [
        "# Getting gradient like in lecture\n",
        "model_grad_U = jax.jit( jax.grad(model, argnums=0) )\n",
        "model_grad_V = jax.jit( jax.grad(model, argnums=1) )\n",
        "\n",
        "onp.random.seed(13)\n",
        "# 67601 x 3 U init matrix\n",
        "U_init = onp.random.normal(0,1,size=(67601,3))\n",
        "\n",
        "# 9430 x 3 matrix V init matrix\n",
        "V_init = onp.random.normal(0,1,size=(9430,3))\n",
        "\n",
        "#model(U_init,V_init)\n",
        "\n",
        "# Gradient descent\n",
        "niter = 100\n",
        "eta = 100.\n",
        "loss_traj = []\n",
        "\n",
        "U = onp.copy(U_init)\n",
        "V = onp.copy(V_init)\n",
        "\n",
        "for _ in tqdm.tqdm(range(niter)):\n",
        "  # compute my gradients\n",
        "  grad_u = model_grad_U(U,V)\n",
        "  grad_v = model_grad_V(U,V)\n",
        "\n",
        "  # do the GD update\n",
        "  U = U - eta * grad_u\n",
        "  V = V - eta * grad_v\n",
        "\n",
        "  # monitor the loss\n",
        "  loss_traj.append( model(U,V) )\n",
        "\n",
        "# Test MSE\n",
        "u_list_val = valid_data.user_id.values\n",
        "v_list_val = valid_data.anime_id.values\n",
        "ratings_list_val = valid_data.rating.values\n",
        "predictions = jnp.sum(U[u_list_val.astype(int)] * V[v_list_val.astype(int)], axis=1)\n",
        "MSE = onp.mean( (predictions - ratings_list_val)**2 )\n",
        "MSE"
      ],
      "metadata": {
        "colab": {
          "base_uri": "https://localhost:8080/"
        },
        "id": "Jm3egM8Z0ivR",
        "outputId": "a020bb50-fc76-4bf7-ae46-f65716552b70"
      },
      "execution_count": null,
      "outputs": [
        {
          "output_type": "stream",
          "name": "stderr",
          "text": [
            "100%|██████████| 100/100 [00:25<00:00,  3.85it/s]\n"
          ]
        },
        {
          "output_type": "execute_result",
          "data": {
            "text/plain": [
              "Array(75.11673468, dtype=float64)"
            ]
          },
          "metadata": {},
          "execution_count": 32
        }
      ]
    },
    {
      "cell_type": "code",
      "source": [
        "plt.plot(loss_traj)"
      ],
      "metadata": {
        "colab": {
          "base_uri": "https://localhost:8080/",
          "height": 448
        },
        "id": "TvcXbTN_XaSQ",
        "outputId": "d549dfd9-40a5-4b3f-a0d4-4ec1f8337abf"
      },
      "execution_count": null,
      "outputs": [
        {
          "output_type": "execute_result",
          "data": {
            "text/plain": [
              "[<matplotlib.lines.Line2D at 0x7f6e2ad23a30>]"
            ]
          },
          "metadata": {},
          "execution_count": 33
        },
        {
          "output_type": "display_data",
          "data": {
            "text/plain": [
              "<Figure size 640x480 with 1 Axes>"
            ],
            "image/png": "[encoded data removed]"
          },
          "metadata": {}
        }
      ]
    },
    {
      "cell_type": "markdown",
      "source": [
        "## Fourth model experimentation ##  \n",
        "- Regularisation. The aim is to get great validation MSE with a relative small number of latent factors.  \n",
        "1. Lambda  \n",
        "- 0.001, MSE : 27.18  \n",
        "- 0.01, MSE : 28.23 \n",
        "- 1, MSE : 29.288  \n",
        "- It seems that the lambda regularisation does not do much to validation MSE but it does cause the decrease in training MSE to be slower.  \n",
        "2. Alternative minimisation  \n",
        "- MSE : 65.495  \n",
        "- It seems that decrease in training MSE is way slower.  \n",
        "\n",
        "3. Change in eta  \n",
        "- 50 : 43.61\n",
        "- 10 : 65.72\n",
        "- 1 : 66.471  \n",
        "- Not surprisingly, decrease in training MSE is slower as eta is slower.\n",
        "\n",
        "\n"
      ],
      "metadata": {
        "id": "ZdK0CD538XYI"
      }
    },
    {
      "cell_type": "code",
      "source": [
        "def model_reg_lam(U, V):\n",
        "  \"\"\"\n",
        "  U -- (p, r) -- factors of the p users\n",
        "  V -- (q, r) -- factors of the q films\n",
        "  \"\"\"\n",
        "  lamb = 1\n",
        "  predictions = jnp.sum(U[u_list.astype(int)] * V[v_list.astype(int)], axis=1)\n",
        "  MSE = onp.mean( (predictions - ratings_list)**2 )\n",
        "  # Penalising\n",
        "  reg = lamb * jnp.mean( U**2 ) + lamb * jnp.mean( V**2 )\n",
        "  MSE += reg\n",
        "  return MSE\n",
        "\n",
        "# Getting gradient like in lecture\n",
        "model_grad_U = jax.jit( jax.grad(model_reg_lam, argnums=0) )\n",
        "model_grad_V = jax.jit( jax.grad(model_reg_lam, argnums=1) )\n",
        "\n",
        "onp.random.seed(13)\n",
        "# 67601 x 3 U init matrix\n",
        "U_init = onp.random.normal(0,1,size=(67601,3))\n",
        "\n",
        "# 9430 x 3 matrix V init matrix\n",
        "V_init = onp.random.normal(0,1,size=(9430,3))\n",
        "\n",
        "#model(U_init,V_init)\n",
        "# Gradient descent\n",
        "niter = 100\n",
        "eta = 100.\n",
        "loss_traj = []\n",
        "\n",
        "U = onp.copy(U_init)\n",
        "V = onp.copy(V_init)\n",
        "\n",
        "for _ in tqdm.tqdm(range(niter)):\n",
        "  # compute my gradients\n",
        "  grad_u = model_grad_U(U,V)\n",
        "  grad_v = model_grad_V(U,V)\n",
        "\n",
        "  # do the GD update\n",
        "  U = U - eta * grad_u\n",
        "  V = V - eta * grad_v\n",
        "\n",
        "  # monitor the loss\n",
        "  loss_traj.append( model_reg_lam(U,V) )\n",
        "\n",
        "# Test MSE\n",
        "u_list_val = valid_data.user_id.values\n",
        "v_list_val = valid_data.anime_id.values\n",
        "ratings_list_val = valid_data.rating.values\n",
        "predictions = jnp.sum(U[u_list_val.astype(int)] * V[v_list_val.astype(int)], axis=1)\n",
        "MSE = onp.mean( (predictions - ratings_list_val)**2 )\n",
        "\n",
        "MSE\n"
      ],
      "metadata": {
        "colab": {
          "base_uri": "https://localhost:8080/"
        },
        "id": "j3yMQzg5A2RA",
        "outputId": "cd90a6eb-5981-4193-feaf-933cf0225a72"
      },
      "execution_count": null,
      "outputs": [
        {
          "output_type": "stream",
          "name": "stderr",
          "text": [
            "100%|██████████| 100/100 [00:06<00:00, 14.59it/s]\n"
          ]
        },
        {
          "output_type": "execute_result",
          "data": {
            "text/plain": [
              "Array(29.28763524, dtype=float64)"
            ]
          },
          "metadata": {},
          "execution_count": 35
        }
      ]
    },
    {
      "cell_type": "code",
      "source": [
        "plt.plot(loss_traj)"
      ],
      "metadata": {
        "colab": {
          "base_uri": "https://localhost:8080/",
          "height": 451
        },
        "id": "aCynZIHdaKE2",
        "outputId": "a3e48449-10dc-4873-9b8f-9335a508e6ef"
      },
      "execution_count": null,
      "outputs": [
        {
          "output_type": "execute_result",
          "data": {
            "text/plain": [
              "[<matplotlib.lines.Line2D at 0x7f6e245c2b20>]"
            ]
          },
          "metadata": {},
          "execution_count": 36
        },
        {
          "output_type": "display_data",
          "data": {
            "text/plain": [
              "<Figure size 640x480 with 1 Axes>"
            ],
            "image/png": "[encoded data removed]"
          },
          "metadata": {}
        }
      ]
    },
    {
      "cell_type": "code",
      "source": [
        "onp.random.seed(13)\n",
        "# 67601 x 3 U init matrix\n",
        "U_init = onp.random.normal(0,1,size=(67601,3))\n",
        "\n",
        "# 9430 x 3 matrix V init matrix\n",
        "V_init = onp.random.normal(0,1,size=(9430,3))\n",
        "\n",
        "#model(U_init,V_init)\n",
        "\n",
        "\n",
        "\n",
        "U = onp.copy(U_init)\n",
        "V = onp.copy(V_init)\n",
        "\n",
        "def model(U, V):\n",
        "  \"\"\"\n",
        "  U -- (p, r) -- factors of the p users\n",
        "  V -- (q, r) -- factors of the q films\n",
        "  \"\"\"\n",
        "  #lamb = 0.001\n",
        "  predictions = jnp.sum(U[u_list.astype(int)] * V[v_list.astype(int)], axis=1)\n",
        "  MSE = onp.mean( (predictions - ratings_list)**2 )\n",
        "  # Penalising\n",
        "  #reg = lamb * jnp.mean( U**2 ) + lamb * jnp.mean( V**2 )\n",
        "  #MSE += reg\n",
        "  return MSE\n",
        "\n",
        "# Getting gradient like in lecture\n",
        "model_grad_U = jax.jit( jax.grad(model, argnums=0) )\n",
        "model_grad_V = jax.jit( jax.grad(model, argnums=1) )\n",
        "\n",
        "\n",
        "# Gradient descent\n",
        "niter = 100\n",
        "eta = 100.\n",
        "loss_traj = []\n",
        "\n",
        "\n",
        "for _ in tqdm.tqdm(range(niter)):\n",
        "  # compute my gradients\n",
        "  grad_u = model_grad_U(U,V)\n",
        "  #grad_v = model_grad_V(U,V)\n",
        "\n",
        "\n",
        "  # do the GD update\n",
        "  U = U - eta * grad_u\n",
        "  #V = V - eta * grad_v\n",
        "\n",
        "  # monitor the loss\n",
        "  loss_traj.append( model(U,V) )\n",
        "\n",
        "for _ in tqdm.tqdm(range(niter)):\n",
        "  # compute my gradients\n",
        "  grad_v = model_grad_V(U,V)\n",
        "\n",
        "  # do the GD update\n",
        "  V = V - eta * grad_v\n",
        "\n",
        "  # monitor the loss\n",
        "  loss_traj.append( model(U,V) )\n",
        "\n",
        "# Test MSE\n",
        "u_list_val = valid_data.user_id.values\n",
        "v_list_val = valid_data.anime_id.values\n",
        "ratings_list_val = valid_data.rating.values\n",
        "predictions = jnp.sum(U[u_list_val.astype(int)] * V[v_list_val.astype(int)], axis=1)\n",
        "MSE = onp.mean( (predictions - ratings_list_val)**2 )\n",
        "\n",
        "MSE\n"
      ],
      "metadata": {
        "colab": {
          "base_uri": "https://localhost:8080/"
        },
        "id": "vPMYEQlMcAsY",
        "outputId": "c23ad393-a02c-414f-d60f-174ec4b26bab"
      },
      "execution_count": null,
      "outputs": [
        {
          "output_type": "stream",
          "name": "stderr",
          "text": [
            "100%|██████████| 100/100 [00:12<00:00,  7.95it/s]\n",
            "100%|██████████| 100/100 [00:05<00:00, 18.62it/s]\n"
          ]
        },
        {
          "output_type": "execute_result",
          "data": {
            "text/plain": [
              "Array(65.49526344, dtype=float64)"
            ]
          },
          "metadata": {},
          "execution_count": 38
        }
      ]
    },
    {
      "cell_type": "code",
      "source": [
        "plt.plot(loss_traj)"
      ],
      "metadata": {
        "colab": {
          "base_uri": "https://localhost:8080/",
          "height": 448
        },
        "id": "SNNlYF3wc06I",
        "outputId": "37f53776-73e0-420f-e645-b6b671d631d5"
      },
      "execution_count": null,
      "outputs": [
        {
          "output_type": "execute_result",
          "data": {
            "text/plain": [
              "[<matplotlib.lines.Line2D at 0x7f6e24506580>]"
            ]
          },
          "metadata": {},
          "execution_count": 39
        },
        {
          "output_type": "display_data",
          "data": {
            "text/plain": [
              "<Figure size 640x480 with 1 Axes>"
            ],
            "image/png": "[encoded data removed]"
          },
          "metadata": {}
        }
      ]
    },
    {
      "cell_type": "code",
      "source": [
        "onp.random.seed(13)\n",
        "# 67601 x 3 U init matrix\n",
        "U_init = onp.random.normal(0,1,size=(67601,3))\n",
        "\n",
        "# 9430 x 3 matrix V init matrix\n",
        "V_init = onp.random.normal(0,1,size=(9430,3))\n",
        "\n",
        "#model(U_init,V_init)\n",
        "\n",
        "\n",
        "\n",
        "U = onp.copy(U_init)\n",
        "V = onp.copy(V_init)\n",
        "\n",
        "def model(U, V):\n",
        "  \"\"\"\n",
        "  U -- (p, r) -- factors of the p users\n",
        "  V -- (q, r) -- factors of the q films\n",
        "  \"\"\"\n",
        "  #lamb = 0.001\n",
        "  predictions = jnp.sum(U[u_list.astype(int)] * V[v_list.astype(int)], axis=1)\n",
        "  MSE = onp.mean( (predictions - ratings_list)**2 )\n",
        "  # Penalising\n",
        "  #reg = lamb * jnp.mean( U**2 ) + lamb * jnp.mean( V**2 )\n",
        "  #MSE += reg\n",
        "  return MSE\n",
        "\n",
        "# Getting gradient like in lecture\n",
        "model_grad_U = jax.jit( jax.grad(model, argnums=0) )\n",
        "model_grad_V = jax.jit( jax.grad(model, argnums=1) )\n",
        "\n",
        "\n",
        "# Gradient descent\n",
        "niter = 100\n",
        "eta = 1.\n",
        "loss_traj = []\n",
        "\n",
        "\n",
        "for _ in tqdm.tqdm(range(niter)):\n",
        "  # compute my gradients\n",
        "  grad_u = model_grad_U(U,V)\n",
        "  grad_v = model_grad_V(U,V)\n",
        "\n",
        "\n",
        "  # do the GD update\n",
        "  U = U - eta * grad_u\n",
        "  V = V - eta * grad_v\n",
        "\n",
        "  # monitor the loss\n",
        "  loss_traj.append( model(U,V) )\n",
        "\n",
        "\n",
        "# valid MSE\n",
        "u_list_val = valid_data.user_id.values\n",
        "v_list_val = valid_data.anime_id.values\n",
        "ratings_list_val = valid_data.rating.values\n",
        "predictions = jnp.sum(U[u_list_val.astype(int)] * V[v_list_val.astype(int)], axis=1)\n",
        "MSE = onp.mean( (predictions - ratings_list_val)**2 )\n",
        "\n",
        "MSE\n"
      ],
      "metadata": {
        "colab": {
          "base_uri": "https://localhost:8080/"
        },
        "id": "29qFscbj1UV1",
        "outputId": "1c22017d-27fe-4ef0-a895-b5dbc99be151"
      },
      "execution_count": null,
      "outputs": [
        {
          "output_type": "stream",
          "name": "stderr",
          "text": [
            "100%|██████████| 100/100 [00:06<00:00, 14.84it/s]\n"
          ]
        },
        {
          "output_type": "execute_result",
          "data": {
            "text/plain": [
              "Array(66.47096463, dtype=float64)"
            ]
          },
          "metadata": {},
          "execution_count": 46
        }
      ]
    },
    {
      "cell_type": "code",
      "source": [
        "plt.plot(loss_traj)"
      ],
      "metadata": {
        "colab": {
          "base_uri": "https://localhost:8080/",
          "height": 448
        },
        "id": "wtX6cLvW2lkj",
        "outputId": "bef0b682-c7c6-4c53-f165-f0d0d7c513c4"
      },
      "execution_count": null,
      "outputs": [
        {
          "output_type": "execute_result",
          "data": {
            "text/plain": [
              "[<matplotlib.lines.Line2D at 0x7f6e2726d8e0>]"
            ]
          },
          "metadata": {},
          "execution_count": 47
        },
        {
          "output_type": "display_data",
          "data": {
            "text/plain": [
              "<Figure size 640x480 with 1 Axes>"
            ],
            "image/png": "[encoded data removed]"
          },
          "metadata": {}
        }
      ]
    },
    {
      "cell_type": "markdown",
      "source": [
        "## Fifth model experimentation ##\n",
        "- Using Momentum, doesn't seem to change the convergence in the loss trajectory plot.\n",
        "- Using annealing method"
      ],
      "metadata": {
        "id": "EnchwmQy44EA"
      }
    },
    {
      "cell_type": "code",
      "source": [
        "ratings_list = train_data.rating.values\n",
        "u_list = train_data.user_id.values\n",
        "v_list = train_data.anime_id.values\n",
        "\n",
        "def model(U, V):\n",
        "  \"\"\"\n",
        "  U -- (p, r) -- factors of the p users\n",
        "  V -- (q, r) -- factors of the q films\n",
        "  \"\"\"\n",
        "  predictions = jnp.sum(U[u_list.astype(int)] * V[v_list.astype(int)], axis=1)\n",
        "  MSE = onp.mean( (predictions - ratings_list)**2 )\n",
        "  return MSE\n",
        "\n",
        "# Getting gradient like in lecture\n",
        "model_grad_U = jax.jit( jax.grad(model, argnums=0) )\n",
        "model_grad_V = jax.jit( jax.grad(model, argnums=1) )\n",
        "\n",
        "onp.random.seed(13)\n",
        "# 67601 x 3 U init matrix\n",
        "U_init = onp.random.normal(0,1,size=(67601,3))\n",
        "\n",
        "# 9430 x 3 matrix V init matrix\n",
        "V_init = onp.random.normal(0,1,size=(9430,3))\n",
        "\n",
        "#model(U_init,V_init)\n",
        "\n",
        "# Gradient descent\n",
        "niter = 100\n",
        "eta = 100.\n",
        "loss_traj = []\n",
        "B = 0.9\n",
        "U = onp.copy(U_init)\n",
        "V = onp.copy(V_init)\n",
        "\n",
        "U_tracker = [U_init]\n",
        "V_tracker = [V_init]\n",
        "\n",
        "for _ in tqdm.tqdm(range(niter)):\n",
        "  # compute my gradients\n",
        "  grad_u = model_grad_U(U,V)\n",
        "  grad_v = model_grad_V(U,V)\n",
        "  \n",
        "  # do the GD update\n",
        "  U = U - eta * grad_u + B*(U-U_tracker[-1])\n",
        "  V = V - eta * grad_v + B*(V-V_tracker[-1])\n",
        "\n",
        "  U_tracker.append(U)\n",
        "  V_tracker.append(V)\n",
        "  # monitor the loss\n",
        "  loss_traj.append( model(U,V) )\n",
        "\n",
        "u_list_val = valid_data.user_id.values\n",
        "v_list_val = valid_data.anime_id.values\n",
        "ratings_list_val = valid_data.rating.values\n",
        "predictions = jnp.sum(U[u_list_val.astype(int)] * V[v_list_val.astype(int)], axis=1)\n",
        "MSE = onp.mean( (predictions - ratings_list_val)**2 )\n",
        "MSE\n"
      ],
      "metadata": {
        "id": "UxMIw3cT43Wk",
        "colab": {
          "base_uri": "https://localhost:8080/"
        },
        "outputId": "f0835128-0d59-401c-889d-5015fc11e835"
      },
      "execution_count": null,
      "outputs": [
        {
          "output_type": "stream",
          "name": "stderr",
          "text": [
            "100%|██████████| 100/100 [00:06<00:00, 14.58it/s]\n"
          ]
        },
        {
          "output_type": "execute_result",
          "data": {
            "text/plain": [
              "Array(36.68778128, dtype=float64)"
            ]
          },
          "metadata": {},
          "execution_count": 50
        }
      ]
    },
    {
      "cell_type": "code",
      "source": [
        "plt.plot(loss_traj)\n",
        "loss_traj[-1]"
      ],
      "metadata": {
        "colab": {
          "base_uri": "https://localhost:8080/",
          "height": 448
        },
        "id": "-hgBPyaS9aq9",
        "outputId": "8299fbe2-964d-40cc-aeb1-f2fc4057974e"
      },
      "execution_count": null,
      "outputs": [
        {
          "output_type": "execute_result",
          "data": {
            "text/plain": [
              "Array(3.48069216, dtype=float64)"
            ]
          },
          "metadata": {},
          "execution_count": 51
        },
        {
          "output_type": "display_data",
          "data": {
            "text/plain": [
              "<Figure size 640x480 with 1 Axes>"
            ],
            "image/png": "[encoded data removed]"
          },
          "metadata": {}
        }
      ]
    },
    {
      "cell_type": "code",
      "source": [
        "# Using annealing\n",
        "ratings_list = train_data.rating.values\n",
        "u_list = train_data.user_id.values\n",
        "v_list = train_data.anime_id.values\n",
        "\n",
        "def model(U, V):\n",
        "  \"\"\"\n",
        "  U -- (p, r) -- factors of the p users\n",
        "  V -- (q, r) -- factors of the q films\n",
        "  \"\"\"\n",
        "  predictions = jnp.sum(U[u_list.astype(int)] * V[v_list.astype(int)], axis=1)\n",
        "  MSE = onp.mean( (predictions - ratings_list)**2 )\n",
        "  return MSE\n",
        "\n",
        "# Getting gradient like in lecture\n",
        "model_grad_U = jax.jit( jax.grad(model, argnums=0) )\n",
        "model_grad_V = jax.jit( jax.grad(model, argnums=1) )\n",
        "\n",
        "onp.random.seed(13)\n",
        "# 67601 x 3 U init matrix\n",
        "U_init = onp.random.normal(0,1,size=(67601,3))\n",
        "\n",
        "# 9430 x 3 matrix V init matrix\n",
        "V_init = onp.random.normal(0,1,size=(9430,3))\n",
        "\n",
        "#model(U_init,V_init)\n",
        "\n",
        "# Gradient descent\n",
        "niter = 100\n",
        "eta = 100.\n",
        "loss_traj = []\n",
        "B = 0.9\n",
        "U = onp.copy(U_init)\n",
        "V = onp.copy(V_init)\n",
        "\n",
        "U_tracker = [U_init]\n",
        "V_tracker = [V_init]\n",
        "\n",
        "for _ in tqdm.tqdm(range(niter)):\n",
        "  # compute my gradients\n",
        "  grad_u = model_grad_U(U,V)\n",
        "  grad_v = model_grad_V(U,V)\n",
        "  \n",
        "  # do the GD update\n",
        "  U = U - eta * grad_u #+ B*(U-U_tracker[-1])\n",
        "  V = V - eta * grad_v #+ B*(V-V_tracker[-1])\n",
        "\n",
        "  eta = eta* 0.9\n",
        "  U_tracker.append(U)\n",
        "  V_tracker.append(V)\n",
        "  # monitor the loss\n",
        "  loss_traj.append( model(U,V) )\n",
        "\n",
        "u_list_val = valid_data.user_id.values\n",
        "v_list_val = valid_data.anime_id.values\n",
        "ratings_list_val = valid_data.rating.values\n",
        "predictions = jnp.sum(U[u_list_val.astype(int)] * V[v_list_val.astype(int)], axis=1)\n",
        "MSE = onp.mean( (predictions - ratings_list_val)**2 )\n",
        "MSE\n",
        "\n"
      ],
      "metadata": {
        "colab": {
          "base_uri": "https://localhost:8080/"
        },
        "id": "LUs_6szWAcPN",
        "outputId": "8fa97867-f4c0-4b42-dfb2-56484137cb11"
      },
      "execution_count": null,
      "outputs": [
        {
          "output_type": "stream",
          "name": "stderr",
          "text": [
            "100%|██████████| 100/100 [00:06<00:00, 14.64it/s]\n"
          ]
        },
        {
          "output_type": "execute_result",
          "data": {
            "text/plain": [
              "Array(66.63523263, dtype=float64)"
            ]
          },
          "metadata": {},
          "execution_count": 56
        }
      ]
    },
    {
      "cell_type": "code",
      "source": [
        "plt.plot(loss_traj)"
      ],
      "metadata": {
        "colab": {
          "base_uri": "https://localhost:8080/",
          "height": 449
        },
        "id": "4Qf6iCADIHs_",
        "outputId": "275a30b8-8507-4c21-c883-9ebf77bd862c"
      },
      "execution_count": null,
      "outputs": [
        {
          "output_type": "execute_result",
          "data": {
            "text/plain": [
              "[<matplotlib.lines.Line2D at 0x7f72d4207d60>]"
            ]
          },
          "metadata": {},
          "execution_count": 57
        },
        {
          "output_type": "display_data",
          "data": {
            "text/plain": [
              "<Figure size 640x480 with 1 Axes>"
            ],
            "image/png": "[encoded data removed]"
          },
          "metadata": {}
        }
      ]
    },
    {
      "cell_type": "markdown",
      "source": [
        "## Altering predictions ##\n",
        "- Make predicted scores that go below 1 equals to 1 and scores that go above 10 as 10 as this might greatly affect MSE."
      ],
      "metadata": {
        "id": "JWgB3NOpUrfC"
      }
    },
    {
      "cell_type": "code",
      "source": [
        "rate_getter = lambda x: 1 if x<1 else (10 if x>10 else x) \n",
        "vfunc = onp.vectorize(rate_getter)\n",
        "#a = U_init[u_list.astype(int)] * V_init[v_list.astype(int)]\n",
        "#b = a.sum(axis = 1)\n",
        "#int_mat = U_init[u_list.astype(int)] * V_init[v_list.astype(int)]\n",
        "#predictions = vfunc(int_mat.sum(axis = 1))\n",
        "#MSE = onp.mean( (predictions - ratings_list)**2 )\n",
        "#predictions = int_mat.sum(axis = 1)\n",
        "#predictions.shape"
      ],
      "metadata": {
        "id": "H9t4iEgKVaqr"
      },
      "execution_count": null,
      "outputs": []
    },
    {
      "cell_type": "code",
      "source": [
        "ratings_list = train_data.rating.values\n",
        "u_list = train_data.user_id.values\n",
        "v_list = train_data.anime_id.values\n",
        "\n",
        "def model(U, V):\n",
        "  \"\"\"\n",
        "  U -- (p, r) -- factors of the p users\n",
        "  V -- (q, r) -- factors of the q films\n",
        "  \"\"\"\n",
        "  #predictions = jnp.sum(U[u_list.astype(int)] * V[v_list.astype(int)], axis=1)\n",
        "  int_mat = U[u_list.astype(int)] * V[v_list.astype(int)]\n",
        "  predictions = int_mat.sum(axis = 1)\n",
        "  MSE = onp.mean( (predictions - ratings_list)**2 )\n",
        "  return MSE\n",
        "\n",
        "# Getting gradient like in lecture\n",
        "model_grad_U = jax.jit( jax.grad(model, argnums=0) )\n",
        "model_grad_V = jax.jit( jax.grad(model, argnums=1) )\n",
        "\n",
        "onp.random.seed(13)\n",
        "# 67601 x 3 U init matrix\n",
        "U_init = onp.random.normal(0,1,size=(67601,3))\n",
        "\n",
        "# 9430 x 3 matrix V init matrix\n",
        "V_init = onp.random.normal(0,1,size=(9430,3))\n",
        "\n",
        "#model(U_init,V_init)\n",
        "\n",
        "# Gradient descent\n",
        "niter = 100\n",
        "eta = 100.\n",
        "loss_traj = []\n",
        "\n",
        "U = onp.copy(U_init)\n",
        "V = onp.copy(V_init)\n",
        "\n",
        "for _ in tqdm.tqdm(range(niter)):\n",
        "  # compute my gradients\n",
        "  grad_u = model_grad_U(U,V)\n",
        "  grad_v = model_grad_V(U,V)\n",
        "\n",
        "  # do the GD update\n",
        "  U = U - eta * grad_u\n",
        "  V = V - eta * grad_v\n",
        "\n",
        "  # monitor the loss\n",
        "  loss_traj.append( model(U,V) )\n",
        "\n",
        "# valid MSE\n",
        "u_list_val = valid_data.user_id.values\n",
        "v_list_val = valid_data.anime_id.values\n",
        "ratings_list_val = valid_data.rating.values\n",
        "int_mat = U[u_list_val.astype(int)] * V[v_list_val.astype(int)]\n",
        "predictions = vfunc(int_mat.sum(axis = 1))\n",
        "MSE = onp.mean( (predictions - ratings_list_val)**2 )\n",
        "\n",
        "MSE"
      ],
      "metadata": {
        "colab": {
          "base_uri": "https://localhost:8080/"
        },
        "id": "VERvdJdfUqo0",
        "outputId": "baba5453-1642-4be2-8738-d9d880a998aa"
      },
      "execution_count": null,
      "outputs": [
        {
          "output_type": "stream",
          "name": "stderr",
          "text": [
            "100%|██████████| 100/100 [00:07<00:00, 12.74it/s]\n"
          ]
        },
        {
          "output_type": "execute_result",
          "data": {
            "text/plain": [
              "35.18307533469941"
            ]
          },
          "metadata": {},
          "execution_count": 107
        }
      ]
    },
    {
      "cell_type": "code",
      "source": [],
      "metadata": {
        "colab": {
          "base_uri": "https://localhost:8080/"
        },
        "id": "JCZsjDBLXEuS",
        "outputId": "0389d307-e155-49aa-99a0-57d2ed7c330d"
      },
      "execution_count": null,
      "outputs": [
        {
          "output_type": "execute_result",
          "data": {
            "text/plain": [
              "array([1, 5, 3, ..., 1, 1, 7])"
            ]
          },
          "metadata": {},
          "execution_count": 108
        }
      ]
    }
  ]
}