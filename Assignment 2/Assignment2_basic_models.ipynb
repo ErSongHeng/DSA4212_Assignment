{
  "nbformat": 4,
  "nbformat_minor": 0,
  "metadata": {
    "colab": {
      "provenance": [],
      "toc_visible": true
    },
    "kernelspec": {
      "name": "python3",
      "display_name": "Python 3"
    },
    "language_info": {
      "name": "python"
    }
  },
  "cells": [
    {
      "cell_type": "code",
      "execution_count": null,
      "metadata": {
        "colab": {
          "base_uri": "https://localhost:8080/"
        },
        "id": "cmP6w-E6k2vs",
        "outputId": "3701d63d-1098-4885-996c-dbecdf7600f6"
      },
      "outputs": [
        {
          "output_type": "stream",
          "name": "stdout",
          "text": [
            "Mounted at /content/drive\n",
            "/content/drive/MyDrive/DSA4212/dataset/assignment_2\n"
          ]
        }
      ],
      "source": [
        "# mount the Google Drive\n",
        "from google.colab import drive\n",
        "drive.mount(\"/content/drive\")\n",
        "%cd /content/drive/MyDrive/DSA4212/dataset/assignment_2"
      ]
    },
    {
      "cell_type": "code",
      "source": [
        "import jax \n",
        "from jax.config import config\n",
        "config.update('jax_enable_x64', True)  # often needed for LBFGS that requires high-precision\n",
        "\n",
        "\n",
        "import jax.numpy as jnp\n",
        "import numpy as np\n",
        "import pylab as plt\n",
        "\n",
        "import imageio\n",
        "import os\n",
        "from skimage.transform import rescale, resize, downscale_local_mean\n",
        "import pandas as pd\n",
        "import time\n",
        "import scipy"
      ],
      "metadata": {
        "id": "_2NbMa1zlWrY"
      },
      "execution_count": null,
      "outputs": []
    },
    {
      "cell_type": "code",
      "source": [
        "V=pd.read_csv('assignment_2_anime.csv')\n",
        "U_test=pd.read_csv('assignment_2_ratings_test.csv')\n",
        "U_train=pd.read_csv('assignment_2_ratings_train.csv')"
      ],
      "metadata": {
        "id": "rmbW2fSwlgN7"
      },
      "execution_count": null,
      "outputs": []
    },
    {
      "cell_type": "code",
      "source": [
        "def mse(pred,y):\n",
        "  return np.mean((pred-y)**2)"
      ],
      "metadata": {
        "id": "gxBIiFLHakif"
      },
      "execution_count": null,
      "outputs": []
    },
    {
      "cell_type": "code",
      "source": [
        "def user_mean_model(df_train,df_test):\n",
        "  \"\"\"\n",
        "  Takes input as training data frame and test data frame\n",
        "  finds the user mean from training data frame and apply as prediction for test data frame and find the relevant test mse \n",
        "  \"\"\"\n",
        "  user_mean= df_train.groupby('user_id')['rating'].mean().to_frame().reset_index()\n",
        "  user_mean.rename(columns = {'rating':'prediction'},\n",
        "          inplace = True)\n",
        "  df_test_with_pred=pd.merge(df_test,user_mean,how=\"left\",on=\"user_id\").fillna(0)\n",
        "  #return df_test_with_pred\n",
        "  return mse(df_test_with_pred[\"prediction\"],df_test_with_pred[\"rating\"])"
      ],
      "metadata": {
        "id": "qjDhxB20oN31"
      },
      "execution_count": null,
      "outputs": []
    },
    {
      "cell_type": "code",
      "source": [
        "user_mean_model(U_train,U_test)"
      ],
      "metadata": {
        "colab": {
          "base_uri": "https://localhost:8080/"
        },
        "id": "Fh_0LDtVuOTT",
        "outputId": "5e0054fd-1820-4ea8-83d8-7c4ab2fed550"
      },
      "execution_count": null,
      "outputs": [
        {
          "output_type": "execute_result",
          "data": {
            "text/plain": [
              "1.9264275564706208"
            ]
          },
          "metadata": {},
          "execution_count": 77
        }
      ]
    },
    {
      "cell_type": "code",
      "source": [
        "def anime_mean_model(df_train,df_test):\n",
        "  \"\"\"\n",
        "  Takes input as training data frame and test data frame\n",
        "  finds the anime mean from training data frame and apply as prediction for test data frame and find the relevant test mse \n",
        "  \"\"\"\n",
        "  anime_mean= df_train.groupby('anime_id')['rating'].mean().to_frame().reset_index()\n",
        "  anime_mean.rename(columns = {'rating':'prediction'},\n",
        "          inplace = True)\n",
        "  df_test_with_pred=pd.merge(df_test,anime_mean,how=\"left\",on=\"anime_id\").fillna(0)\n",
        "  #return df_test_with_pred\n",
        "  return mse(df_test_with_pred[\"prediction\"],df_test_with_pred[\"rating\"])"
      ],
      "metadata": {
        "id": "9wgI7_Gos1Ec"
      },
      "execution_count": null,
      "outputs": []
    },
    {
      "cell_type": "code",
      "source": [
        "anime_mean_model(U_train,U_test)"
      ],
      "metadata": {
        "colab": {
          "base_uri": "https://localhost:8080/"
        },
        "id": "LlD0MzreuUtl",
        "outputId": "6ea553c6-df79-4fb2-a539-77639f370212"
      },
      "execution_count": null,
      "outputs": [
        {
          "output_type": "execute_result",
          "data": {
            "text/plain": [
              "2.066542133906232"
            ]
          },
          "metadata": {},
          "execution_count": 80
        }
      ]
    },
    {
      "cell_type": "code",
      "source": [
        "def global_mean_model(df_train,df_test):\n",
        "  \"\"\"\n",
        "  Takes input as training data frame and test data frame\n",
        "  finds the global mean from training data frame and apply as prediction for test data frame and find the relevant test mse \n",
        "  \"\"\"\n",
        "  mean= df_train['rating'].mean()\n",
        "\n",
        "  \n",
        "\n",
        "  return mse(mean,df_test[\"rating\"])"
      ],
      "metadata": {
        "id": "RFvWKx_ytcUe"
      },
      "execution_count": null,
      "outputs": []
    },
    {
      "cell_type": "code",
      "source": [
        "global_mean_model(U_train,U_test)"
      ],
      "metadata": {
        "colab": {
          "base_uri": "https://localhost:8080/"
        },
        "id": "vopKcNzsuNdE",
        "outputId": "193f1061-02c3-4f50-cb3a-a4b2865a0605"
      },
      "execution_count": null,
      "outputs": [
        {
          "output_type": "execute_result",
          "data": {
            "text/plain": [
              "2.472703843572946"
            ]
          },
          "metadata": {},
          "execution_count": 81
        }
      ]
    }
  ]
}