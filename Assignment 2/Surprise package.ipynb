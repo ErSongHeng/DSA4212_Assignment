{
 "cells": [
  {
   "cell_type": "markdown",
   "id": "370014b8",
   "metadata": {},
   "source": [
    "# DSA4212 Group 2 Assignment 2"
   ]
  },
  {
   "cell_type": "code",
   "execution_count": 1,
   "id": "23324c55",
   "metadata": {},
   "outputs": [],
   "source": [
    "import pandas as pd\n",
    "import numpy as np"
   ]
  },
  {
   "cell_type": "code",
   "execution_count": 2,
   "id": "58d65002",
   "metadata": {},
   "outputs": [],
   "source": [
    "# Read in the data\n",
    "\n",
    "anime_data = pd.read_csv('assignment_2_anime.csv')\n",
    "ratings_test = pd.read_csv('assignment_2_ratings_test.csv')\n",
    "ratings_train = pd.read_csv('assignment_2_ratings_train.csv')"
   ]
  },
  {
   "cell_type": "code",
   "execution_count": 3,
   "id": "fc3a76ef",
   "metadata": {},
   "outputs": [],
   "source": [
    "from surprise import Dataset, Reader, accuracy"
   ]
  },
  {
   "cell_type": "code",
   "execution_count": 4,
   "id": "a78d788e",
   "metadata": {},
   "outputs": [],
   "source": [
    "# Find the minimum and maximum rating for the Reader object\n",
    "\n",
    "min_rating = ratings_train.rating.min()\n",
    "max_rating = ratings_train.rating.max()"
   ]
  },
  {
   "cell_type": "code",
   "execution_count": 5,
   "id": "dca7fd2c",
   "metadata": {},
   "outputs": [],
   "source": [
    "# Train data\n",
    "reader = Reader(rating_scale = (min_rating, max_rating))\n",
    "\n",
    "train_data = Dataset.load_from_df(ratings_train[['user_id', 'anime_id', 'rating']], reader)\n",
    "\n",
    "trainset = train_data.build_full_trainset()"
   ]
  },
  {
   "cell_type": "code",
   "execution_count": 6,
   "id": "4737e9f7",
   "metadata": {},
   "outputs": [],
   "source": [
    "# Test data\n",
    "reader = Reader(rating_scale = (min_rating, max_rating))\n",
    "\n",
    "test_data = Dataset.load_from_df(ratings_test[['user_id', 'anime_id', 'rating']], reader)\n",
    "\n",
    "testset = test_data.build_full_trainset().build_testset()"
   ]
  },
  {
   "cell_type": "markdown",
   "id": "4d37c731",
   "metadata": {},
   "source": [
    "## 1. Model based Collaborative Filtering\n",
    "### Matrix factorization based algorithm: NMF"
   ]
  },
  {
   "cell_type": "code",
   "execution_count": 7,
   "id": "78ac3753",
   "metadata": {},
   "outputs": [],
   "source": [
    "from surprise import NMF"
   ]
  },
  {
   "cell_type": "code",
   "execution_count": 37,
   "id": "2b32dbcf",
   "metadata": {},
   "outputs": [
    {
     "data": {
      "text/plain": [
       "<surprise.prediction_algorithms.matrix_factorization.NMF at 0x1d4112209a0>"
      ]
     },
     "execution_count": 37,
     "metadata": {},
     "output_type": "execute_result"
    }
   ],
   "source": [
    "nmf = NMF()\n",
    "nmf.fit(trainset)"
   ]
  },
  {
   "cell_type": "code",
   "execution_count": 38,
   "id": "99e0a6a2",
   "metadata": {
    "scrolled": true
   },
   "outputs": [
    {
     "name": "stdout",
     "output_type": "stream",
     "text": [
      "MSE: 5.0285\n"
     ]
    },
    {
     "data": {
      "text/plain": [
       "5.028504428382759"
      ]
     },
     "execution_count": 38,
     "metadata": {},
     "output_type": "execute_result"
    }
   ],
   "source": [
    "predictions = nmf.test(testset)\n",
    "accuracy.mse(predictions)"
   ]
  },
  {
   "cell_type": "markdown",
   "id": "33803c70",
   "metadata": {},
   "source": [
    "### Matrix factorization based algorithm: SVD"
   ]
  },
  {
   "cell_type": "code",
   "execution_count": 8,
   "id": "ce052486",
   "metadata": {},
   "outputs": [],
   "source": [
    "from surprise import SVD\n",
    "from surprise.model_selection import cross_validate"
   ]
  },
  {
   "cell_type": "code",
   "execution_count": 40,
   "id": "91dd5ab9",
   "metadata": {},
   "outputs": [
    {
     "data": {
      "text/plain": [
       "<surprise.prediction_algorithms.matrix_factorization.SVD at 0x1d4bdedf3a0>"
      ]
     },
     "execution_count": 40,
     "metadata": {},
     "output_type": "execute_result"
    }
   ],
   "source": [
    "svd = SVD()\n",
    "svd.fit(trainset)"
   ]
  },
  {
   "cell_type": "code",
   "execution_count": 41,
   "id": "4b980eb7",
   "metadata": {},
   "outputs": [
    {
     "name": "stdout",
     "output_type": "stream",
     "text": [
      "MSE: 1.3172\n"
     ]
    },
    {
     "data": {
      "text/plain": [
       "1.317221988049183"
      ]
     },
     "execution_count": 41,
     "metadata": {},
     "output_type": "execute_result"
    }
   ],
   "source": [
    "predictions = svd.test(testset)\n",
    "accuracy.mse(predictions)"
   ]
  },
  {
   "cell_type": "markdown",
   "id": "9d801249",
   "metadata": {},
   "source": [
    "#### Cross validation"
   ]
  },
  {
   "cell_type": "code",
   "execution_count": 10,
   "id": "da81b7db",
   "metadata": {},
   "outputs": [
    {
     "name": "stdout",
     "output_type": "stream",
     "text": [
      "Evaluating MSE of algorithm SVD on 10 split(s).\n",
      "\n",
      "                  Fold 1  Fold 2  Fold 3  Fold 4  Fold 5  Fold 6  Fold 7  Fold 8  Fold 9  Fold 10 Mean    Std     \n",
      "MSE (testset)     1.3434  1.3439  1.3382  1.3433  1.3426  1.3489  1.3417  1.3402  1.3487  1.3506  1.3442  0.0038  \n",
      "Fit time          52.98   53.01   57.81   59.37   58.78   58.93   58.75   58.47   58.55   64.95   58.16   3.20    \n",
      "Test time         2.82    4.29    4.48    2.68    2.66    4.45    4.46    4.44    4.45    4.44    3.92    0.79    \n"
     ]
    }
   ],
   "source": [
    "svd2 = SVD()\n",
    "results = cross_validate(svd2, train_data, measures=['MSE'], cv=10, verbose=True)"
   ]
  },
  {
   "cell_type": "code",
   "execution_count": 11,
   "id": "b8ede7ec",
   "metadata": {},
   "outputs": [
    {
     "name": "stdout",
     "output_type": "stream",
     "text": [
      "MSE: 1.3441\n"
     ]
    },
    {
     "data": {
      "text/plain": [
       "1.344138026055986"
      ]
     },
     "execution_count": 11,
     "metadata": {},
     "output_type": "execute_result"
    }
   ],
   "source": [
    "predictions2 = svd2.test(testset)\n",
    "accuracy.mse(predictions2)"
   ]
  },
  {
   "cell_type": "markdown",
   "id": "d2f0156c",
   "metadata": {},
   "source": [
    "#### Hyperparameter Tuning"
   ]
  },
  {
   "cell_type": "code",
   "execution_count": 15,
   "id": "ca253b42",
   "metadata": {},
   "outputs": [
    {
     "name": "stdout",
     "output_type": "stream",
     "text": [
      "1.3234832570445836\n",
      "{'n_factors': 20, 'n_epochs': 20}\n"
     ]
    }
   ],
   "source": [
    "from surprise.model_selection import GridSearchCV\n",
    " \n",
    "param_grid = {\n",
    "  'n_factors': [20, 50, 100],\n",
    "  'n_epochs': [5, 10, 20]\n",
    "}\n",
    " \n",
    "tuning = GridSearchCV(SVD, param_grid, measures=['mse'], cv=10)\n",
    "tuning.fit(train_data)\n",
    "print(tuning.best_mse['mse'])\n",
    "print(tuning.best_params['mse'])"
   ]
  },
  {
   "cell_type": "markdown",
   "id": "0f7d9457",
   "metadata": {},
   "source": [
    "## paramgrid test"
   ]
  },
  {
   "cell_type": "code",
   "execution_count": null,
   "id": "0cfb0b97",
   "metadata": {
    "scrolled": true
   },
   "outputs": [],
   "source": [
    "from surprise.model_selection import GridSearchCV\n",
    "param_grid = {\n",
    "    'n_factors': [10, 100, 500],\n",
    "    'n_epochs': [5, 20, 50], \n",
    "    'lr_all': [0.001, 0.005, 0.02],\n",
    "    'reg_all': [0.005, 0.02, 0.1]}\n",
    "\n",
    "tuning = GridSearchCV(SVD, param_grid, measures=['mse'], cv=10)\n",
    "tuning.fit(train_data)"
   ]
  },
  {
   "cell_type": "code",
   "execution_count": 17,
   "id": "fd42d3c4",
   "metadata": {},
   "outputs": [
    {
     "name": "stdout",
     "output_type": "stream",
     "text": [
      "500\n",
      "50\n",
      "0.005\n",
      "0.1\n"
     ]
    }
   ],
   "source": [
    "print(tuning.best_params['mse']['n_factors'])\n",
    "print(tuning.best_params['mse']['n_epochs'])\n",
    "print(tuning.best_params['mse']['lr_all'])\n",
    "print(tuning.best_params['mse']['reg_all'])"
   ]
  },
  {
   "cell_type": "code",
   "execution_count": 18,
   "id": "bdbb93e6",
   "metadata": {},
   "outputs": [
    {
     "data": {
      "text/plain": [
       "<surprise.prediction_algorithms.matrix_factorization.SVD at 0x1197249ac10>"
      ]
     },
     "execution_count": 18,
     "metadata": {},
     "output_type": "execute_result"
    }
   ],
   "source": [
    "params = tuning.best_params['mse']\n",
    "svd = SVD(n_factors=params['n_factors'], n_epochs=params['n_epochs'],lr_all=params['lr_all'], reg_all=params['reg_all'])\n",
    "svd.fit(trainset)"
   ]
  },
  {
   "cell_type": "code",
   "execution_count": 19,
   "id": "6dfb7e95",
   "metadata": {},
   "outputs": [
    {
     "name": "stdout",
     "output_type": "stream",
     "text": [
      "MSE: 1.2660\n"
     ]
    },
    {
     "data": {
      "text/plain": [
       "1.2660169206778658"
      ]
     },
     "execution_count": 19,
     "metadata": {},
     "output_type": "execute_result"
    }
   ],
   "source": [
    "predictions = svd.test(testset)\n",
    "accuracy.mse(predictions)"
   ]
  },
  {
   "cell_type": "markdown",
   "id": "be077ff4",
   "metadata": {},
   "source": [
    "## end test"
   ]
  },
  {
   "cell_type": "code",
   "execution_count": 17,
   "id": "bb064f8c",
   "metadata": {},
   "outputs": [
    {
     "data": {
      "text/plain": [
       "<surprise.prediction_algorithms.matrix_factorization.SVD at 0x1be76731b50>"
      ]
     },
     "execution_count": 17,
     "metadata": {},
     "output_type": "execute_result"
    }
   ],
   "source": [
    "# best hyperparameters\n",
    "best_factor = tuning.best_params['mse']['n_factors']\n",
    "best_epoch = tuning.best_params['mse']['n_epochs']\n",
    "\n",
    "svd = SVD(n_factors=best_factor, n_epochs=best_epoch)\n",
    "svd.fit(trainset)"
   ]
  },
  {
   "cell_type": "code",
   "execution_count": 18,
   "id": "1909b4de",
   "metadata": {},
   "outputs": [
    {
     "name": "stdout",
     "output_type": "stream",
     "text": [
      "MSE: 1.3059\n"
     ]
    },
    {
     "data": {
      "text/plain": [
       "1.3058940788466915"
      ]
     },
     "execution_count": 18,
     "metadata": {},
     "output_type": "execute_result"
    }
   ],
   "source": [
    "predictions = svd.test(testset)\n",
    "accuracy.mse(predictions)"
   ]
  },
  {
   "cell_type": "markdown",
   "id": "68b28eee",
   "metadata": {},
   "source": [
    "## Fast.ai"
   ]
  },
  {
   "cell_type": "code",
   "execution_count": 48,
   "id": "efcca7ef",
   "metadata": {},
   "outputs": [],
   "source": [
    "from fastai.collab import *\n",
    "from fastai.tabular.all import *"
   ]
  },
  {
   "cell_type": "code",
   "execution_count": 59,
   "id": "55cfee68",
   "metadata": {},
   "outputs": [
    {
     "data": {
      "text/html": [
       "<div>\n",
       "<style scoped>\n",
       "    .dataframe tbody tr th:only-of-type {\n",
       "        vertical-align: middle;\n",
       "    }\n",
       "\n",
       "    .dataframe tbody tr th {\n",
       "        vertical-align: top;\n",
       "    }\n",
       "\n",
       "    .dataframe thead th {\n",
       "        text-align: right;\n",
       "    }\n",
       "</style>\n",
       "<table border=\"1\" class=\"dataframe\">\n",
       "  <thead>\n",
       "    <tr style=\"text-align: right;\">\n",
       "      <th></th>\n",
       "      <th>user_id</th>\n",
       "      <th>anime_id</th>\n",
       "      <th>rating</th>\n",
       "      <th>name</th>\n",
       "    </tr>\n",
       "  </thead>\n",
       "  <tbody>\n",
       "    <tr>\n",
       "      <th>0</th>\n",
       "      <td>20170</td>\n",
       "      <td>10794</td>\n",
       "      <td>6</td>\n",
       "      <td>IS: Infinite Stratos Encore - Koi ni Kogareru Rokujuusou</td>\n",
       "    </tr>\n",
       "    <tr>\n",
       "      <th>1</th>\n",
       "      <td>40606</td>\n",
       "      <td>10794</td>\n",
       "      <td>7</td>\n",
       "      <td>IS: Infinite Stratos Encore - Koi ni Kogareru Rokujuusou</td>\n",
       "    </tr>\n",
       "    <tr>\n",
       "      <th>2</th>\n",
       "      <td>541</td>\n",
       "      <td>10794</td>\n",
       "      <td>9</td>\n",
       "      <td>IS: Infinite Stratos Encore - Koi ni Kogareru Rokujuusou</td>\n",
       "    </tr>\n",
       "    <tr>\n",
       "      <th>3</th>\n",
       "      <td>14637</td>\n",
       "      <td>10794</td>\n",
       "      <td>8</td>\n",
       "      <td>IS: Infinite Stratos Encore - Koi ni Kogareru Rokujuusou</td>\n",
       "    </tr>\n",
       "    <tr>\n",
       "      <th>4</th>\n",
       "      <td>24072</td>\n",
       "      <td>10794</td>\n",
       "      <td>8</td>\n",
       "      <td>IS: Infinite Stratos Encore - Koi ni Kogareru Rokujuusou</td>\n",
       "    </tr>\n",
       "  </tbody>\n",
       "</table>\n",
       "</div>"
      ],
      "text/plain": [
       "   user_id  anime_id  rating  \\\n",
       "0    20170     10794       6   \n",
       "1    40606     10794       7   \n",
       "2      541     10794       9   \n",
       "3    14637     10794       8   \n",
       "4    24072     10794       8   \n",
       "\n",
       "                                                       name  \n",
       "0  IS: Infinite Stratos Encore - Koi ni Kogareru Rokujuusou  \n",
       "1  IS: Infinite Stratos Encore - Koi ni Kogareru Rokujuusou  \n",
       "2  IS: Infinite Stratos Encore - Koi ni Kogareru Rokujuusou  \n",
       "3  IS: Infinite Stratos Encore - Koi ni Kogareru Rokujuusou  \n",
       "4  IS: Infinite Stratos Encore - Koi ni Kogareru Rokujuusou  "
      ]
     },
     "execution_count": 59,
     "metadata": {},
     "output_type": "execute_result"
    }
   ],
   "source": [
    "anime = pd.read_csv('assignment_2_anime.csv', usecols = (0,1))\n",
    "\n",
    "ratings_train = ratings_train.merge(anime)\n",
    "ratings_test = ratings_test.merge(anime)\n",
    "\n",
    "ratings_train.head()"
   ]
  },
  {
   "cell_type": "code",
   "execution_count": 60,
   "id": "69e4cfa3",
   "metadata": {},
   "outputs": [
    {
     "data": {
      "text/html": [
       "<table border=\"1\" class=\"dataframe\">\n",
       "  <thead>\n",
       "    <tr style=\"text-align: right;\">\n",
       "      <th></th>\n",
       "      <th>user_id</th>\n",
       "      <th>name</th>\n",
       "      <th>rating</th>\n",
       "    </tr>\n",
       "  </thead>\n",
       "  <tbody>\n",
       "    <tr>\n",
       "      <th>0</th>\n",
       "      <td>50720</td>\n",
       "      <td>IS: Infinite Stratos</td>\n",
       "      <td>5</td>\n",
       "    </tr>\n",
       "    <tr>\n",
       "      <th>1</th>\n",
       "      <td>68730</td>\n",
       "      <td>Gangsta.</td>\n",
       "      <td>8</td>\n",
       "    </tr>\n",
       "    <tr>\n",
       "      <th>2</th>\n",
       "      <td>35286</td>\n",
       "      <td>Sword Art Online II</td>\n",
       "      <td>7</td>\n",
       "    </tr>\n",
       "    <tr>\n",
       "      <th>3</th>\n",
       "      <td>1938</td>\n",
       "      <td>K-On!!</td>\n",
       "      <td>7</td>\n",
       "    </tr>\n",
       "    <tr>\n",
       "      <th>4</th>\n",
       "      <td>68271</td>\n",
       "      <td>Darkside Blues</td>\n",
       "      <td>6</td>\n",
       "    </tr>\n",
       "    <tr>\n",
       "      <th>5</th>\n",
       "      <td>45904</td>\n",
       "      <td>Dog Days</td>\n",
       "      <td>7</td>\n",
       "    </tr>\n",
       "    <tr>\n",
       "      <th>6</th>\n",
       "      <td>57447</td>\n",
       "      <td>Kamen no Maid Guy</td>\n",
       "      <td>6</td>\n",
       "    </tr>\n",
       "    <tr>\n",
       "      <th>7</th>\n",
       "      <td>22477</td>\n",
       "      <td>One Punch Man: Road to Hero</td>\n",
       "      <td>5</td>\n",
       "    </tr>\n",
       "    <tr>\n",
       "      <th>8</th>\n",
       "      <td>25209</td>\n",
       "      <td>Softenni</td>\n",
       "      <td>7</td>\n",
       "    </tr>\n",
       "    <tr>\n",
       "      <th>9</th>\n",
       "      <td>59735</td>\n",
       "      <td>Ookamikakushi</td>\n",
       "      <td>6</td>\n",
       "    </tr>\n",
       "  </tbody>\n",
       "</table>"
      ],
      "text/plain": [
       "<IPython.core.display.HTML object>"
      ]
     },
     "metadata": {},
     "output_type": "display_data"
    }
   ],
   "source": [
    "dls = CollabDataLoaders.from_df(ratings_train, item_name='name', bs=64)\n",
    "dls.show_batch()"
   ]
  },
  {
   "cell_type": "code",
   "execution_count": 61,
   "id": "092f0a23",
   "metadata": {},
   "outputs": [],
   "source": [
    "# Understanding pytorch definiton of latent factors\n",
    "\n",
    "n_users  = len(dls.classes['user_id'])\n",
    "n_movies = len(dls.classes['name'])\n",
    "n_factors = 5\n",
    "\n",
    "user_factors = torch.randn(n_users, n_factors)\n",
    "movie_factors = torch.randn(n_movies, n_factors)"
   ]
  },
  {
   "cell_type": "code",
   "execution_count": 62,
   "id": "e0d64bd4",
   "metadata": {},
   "outputs": [],
   "source": [
    "class DotProduct(Module):\n",
    "    def __init__(self, n_users, n_movies, n_factors):\n",
    "        self.user_factors = Embedding(n_users, n_factors)\n",
    "        self.movie_factors = Embedding(n_movies, n_factors)\n",
    "        \n",
    "    def forward(self, x):\n",
    "        users = self.user_factors(x[:,0])\n",
    "        movies = self.movie_factors(x[:,1])\n",
    "        return (users * movies).sum(dim=1)"
   ]
  },
  {
   "cell_type": "code",
   "execution_count": 64,
   "id": "caddda31",
   "metadata": {},
   "outputs": [],
   "source": [
    "model = DotProduct(n_users, n_movies, 50)\n",
    "learn = Learner(dls, model, loss_func=MSELossFlat())"
   ]
  },
  {
   "cell_type": "code",
   "execution_count": 65,
   "id": "1dda9d5a",
   "metadata": {},
   "outputs": [
    {
     "data": {
      "text/html": [
       "\n",
       "<style>\n",
       "    /* Turns off some styling */\n",
       "    progress {\n",
       "        /* gets rid of default border in Firefox and Opera. */\n",
       "        border: none;\n",
       "        /* Needs to be in here for Safari polyfill so background images work as expected. */\n",
       "        background-size: auto;\n",
       "    }\n",
       "    progress:not([value]), progress:not([value])::-webkit-progress-bar {\n",
       "        background: repeating-linear-gradient(45deg, #7e7e7e, #7e7e7e 10px, #5c5c5c 10px, #5c5c5c 20px);\n",
       "    }\n",
       "    .progress-bar-interrupted, .progress-bar-interrupted::-webkit-progress-bar {\n",
       "        background: #F44336;\n",
       "    }\n",
       "</style>\n"
      ],
      "text/plain": [
       "<IPython.core.display.HTML object>"
      ]
     },
     "metadata": {},
     "output_type": "display_data"
    },
    {
     "data": {
      "text/html": [
       "<table border=\"1\" class=\"dataframe\">\n",
       "  <thead>\n",
       "    <tr style=\"text-align: left;\">\n",
       "      <th>epoch</th>\n",
       "      <th>train_loss</th>\n",
       "      <th>valid_loss</th>\n",
       "      <th>time</th>\n",
       "    </tr>\n",
       "  </thead>\n",
       "  <tbody>\n",
       "    <tr>\n",
       "      <td>0</td>\n",
       "      <td>5.179986</td>\n",
       "      <td>5.164547</td>\n",
       "      <td>06:18</td>\n",
       "    </tr>\n",
       "    <tr>\n",
       "      <td>1</td>\n",
       "      <td>4.443039</td>\n",
       "      <td>4.559471</td>\n",
       "      <td>06:44</td>\n",
       "    </tr>\n",
       "    <tr>\n",
       "      <td>2</td>\n",
       "      <td>3.554875</td>\n",
       "      <td>3.603416</td>\n",
       "      <td>06:52</td>\n",
       "    </tr>\n",
       "    <tr>\n",
       "      <td>3</td>\n",
       "      <td>2.664872</td>\n",
       "      <td>2.692226</td>\n",
       "      <td>07:21</td>\n",
       "    </tr>\n",
       "    <tr>\n",
       "      <td>4</td>\n",
       "      <td>2.245420</td>\n",
       "      <td>2.397890</td>\n",
       "      <td>06:26</td>\n",
       "    </tr>\n",
       "  </tbody>\n",
       "</table>"
      ],
      "text/plain": [
       "<IPython.core.display.HTML object>"
      ]
     },
     "metadata": {},
     "output_type": "display_data"
    }
   ],
   "source": [
    "learn.fit_one_cycle(5, 5e-3)"
   ]
  },
  {
   "cell_type": "markdown",
   "id": "a5456d4e",
   "metadata": {},
   "source": [
    "## TEST"
   ]
  },
  {
   "cell_type": "code",
   "execution_count": 110,
   "id": "1bc5ccb9",
   "metadata": {},
   "outputs": [
    {
     "name": "stdout",
     "output_type": "stream",
     "text": [
      "Estimating biases using als...\n",
      "MSE: 1.4599\n"
     ]
    },
    {
     "data": {
      "text/plain": [
       "1.4598653587259132"
      ]
     },
     "execution_count": 110,
     "metadata": {},
     "output_type": "execute_result"
    }
   ],
   "source": [
    "from surprise import BaselineOnly\n",
    "\n",
    "baseline = BaselineOnly()\n",
    "baseline.fit(trainset)\n",
    "\n",
    "predictions = baseline.test(testset)\n",
    "accuracy.mse(predictions)"
   ]
  },
  {
   "cell_type": "code",
   "execution_count": 9,
   "id": "45fc061f",
   "metadata": {},
   "outputs": [
    {
     "name": "stdout",
     "output_type": "stream",
     "text": [
      "MSE: 1.4204\n"
     ]
    },
    {
     "data": {
      "text/plain": [
       "1.4203963100495411"
      ]
     },
     "execution_count": 9,
     "metadata": {},
     "output_type": "execute_result"
    }
   ],
   "source": [
    "from surprise import SVDpp\n",
    "\n",
    "svdpp = SVDpp()\n",
    "svdpp.fit(trainset)\n",
    "\n",
    "predictions = svdpp.test(testset)\n",
    "accuracy.mse(predictions)"
   ]
  },
  {
   "cell_type": "code",
   "execution_count": 9,
   "id": "bb853a9a",
   "metadata": {},
   "outputs": [
    {
     "name": "stdout",
     "output_type": "stream",
     "text": [
      "Evaluating MSE of algorithm SVDpp on 10 split(s).\n",
      "\n",
      "                  Fold 1  Fold 2  Fold 3  Fold 4  Fold 5  Fold 6  Fold 7  Fold 8  Fold 9  Fold 10 Mean    Std     \n",
      "MSE (testset)     1.4323  1.4465  1.4498  1.4308  1.4373  1.4375  1.4416  1.4502  1.4486  1.4504  1.4425  0.0072  \n",
      "Fit time          958.72  954.14  975.88  1006.00 1014.02 974.10  966.35  973.68  975.92  969.92  976.87  18.04   \n",
      "Test time         68.25   67.82   90.14   75.87   68.79   68.59   67.88   68.27   67.57   68.88   71.21   6.72    \n",
      "MSE: 1.4446\n"
     ]
    },
    {
     "data": {
      "text/plain": [
       "1.4445884154098154"
      ]
     },
     "execution_count": 9,
     "metadata": {},
     "output_type": "execute_result"
    }
   ],
   "source": [
    "from surprise import SVDpp\n",
    "\n",
    "svdpp = SVDpp()\n",
    "results = cross_validate(svdpp, train_data, measures=['MSE'], cv=10, verbose=True)\n",
    "\n",
    "predictions2 = svdpp.test(testset)\n",
    "accuracy.mse(predictions2)"
   ]
  }
 ],
 "metadata": {
  "kernelspec": {
   "display_name": "Python 3 (ipykernel)",
   "language": "python",
   "name": "python3"
  },
  "language_info": {
   "codemirror_mode": {
    "name": "ipython",
    "version": 3
   },
   "file_extension": ".py",
   "mimetype": "text/x-python",
   "name": "python",
   "nbconvert_exporter": "python",
   "pygments_lexer": "ipython3",
   "version": "3.9.7"
  }
 },
 "nbformat": 4,
 "nbformat_minor": 5
}
