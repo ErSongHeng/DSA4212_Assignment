{
 "cells": [
  {
   "cell_type": "markdown",
   "id": "370014b8",
   "metadata": {},
   "source": [
    "# DSA4212 Group 2 Assignment 2"
   ]
  },
  {
   "cell_type": "code",
   "execution_count": 1,
   "id": "23324c55",
   "metadata": {},
   "outputs": [],
   "source": [
    "import pandas as pd\n",
    "import numpy as np"
   ]
  },
  {
   "cell_type": "code",
   "execution_count": 2,
   "id": "58d65002",
   "metadata": {},
   "outputs": [],
   "source": [
    "# Read in the data\n",
    "\n",
    "anime_data = pd.read_csv('assignment_2_anime.csv')\n",
    "ratings_test = pd.read_csv('assignment_2_ratings_test.csv')\n",
    "ratings_train = pd.read_csv('assignment_2_ratings_train.csv')"
   ]
  },
  {
   "cell_type": "code",
   "execution_count": 3,
   "id": "fc3a76ef",
   "metadata": {},
   "outputs": [],
   "source": [
    "from surprise import Dataset, Reader, accuracy"
   ]
  },
  {
   "cell_type": "code",
   "execution_count": 4,
   "id": "a78d788e",
   "metadata": {},
   "outputs": [],
   "source": [
    "# Find the minimum and maximum rating for the Reader object\n",
    "\n",
    "min_rating = ratings_train.rating.min()\n",
    "max_rating = ratings_train.rating.max()"
   ]
  },
  {
   "cell_type": "code",
   "execution_count": 5,
   "id": "dca7fd2c",
   "metadata": {},
   "outputs": [],
   "source": [
    "# Train data\n",
    "reader = Reader(rating_scale = (min_rating, max_rating))\n",
    "\n",
    "train_data = Dataset.load_from_df(ratings_train[['user_id', 'anime_id', 'rating']], reader)\n",
    "\n",
    "trainset = train_data.build_full_trainset()"
   ]
  },
  {
   "cell_type": "code",
   "execution_count": 6,
   "id": "4737e9f7",
   "metadata": {},
   "outputs": [],
   "source": [
    "# Test data\n",
    "reader = Reader(rating_scale = (min_rating, max_rating))\n",
    "\n",
    "test_data = Dataset.load_from_df(ratings_test[['user_id', 'anime_id', 'rating']], reader)\n",
    "\n",
    "testset = test_data.build_full_trainset().build_testset()"
   ]
  },
  {
   "cell_type": "markdown",
   "id": "4d37c731",
   "metadata": {},
   "source": [
    "## 1. Model based Collaborative Filtering\n",
    "### NMF"
   ]
  },
  {
   "cell_type": "code",
   "execution_count": 9,
   "id": "78ac3753",
   "metadata": {},
   "outputs": [],
   "source": [
    "from surprise import NMF\n",
    "from surprise.model_selection import cross_validate"
   ]
  },
  {
   "cell_type": "code",
   "execution_count": 10,
   "id": "2b32dbcf",
   "metadata": {},
   "outputs": [
    {
     "name": "stdout",
     "output_type": "stream",
     "text": [
      "Evaluating MSE of algorithm NMF on 10 split(s).\n",
      "\n",
      "                  Fold 1  Fold 2  Fold 3  Fold 4  Fold 5  Fold 6  Fold 7  Fold 8  Fold 9  Fold 10 Mean    Std     \n",
      "MSE (testset)     4.9351  4.9537  4.9308  4.9697  5.0328  4.9969  4.9609  5.0152  4.8969  4.9875  4.9680  0.0393  \n",
      "Fit time          97.15   99.12   93.00   91.70   90.96   89.53   93.03   98.70   93.48   92.80   93.95   3.11    \n",
      "Test time         6.81    7.21    7.23    7.61    7.28    7.29    7.16    7.34    7.36    6.00    7.13    0.42    \n"
     ]
    }
   ],
   "source": [
    "nmf = NMF()\n",
    "results = cross_validate(nmf, train_data, measures=['MSE'], cv=10, verbose=True)"
   ]
  },
  {
   "cell_type": "code",
   "execution_count": 11,
   "id": "99e0a6a2",
   "metadata": {
    "scrolled": true
   },
   "outputs": [
    {
     "name": "stdout",
     "output_type": "stream",
     "text": [
      "MSE: 4.9878\n"
     ]
    },
    {
     "data": {
      "text/plain": [
       "4.987815612078931"
      ]
     },
     "execution_count": 11,
     "metadata": {},
     "output_type": "execute_result"
    }
   ],
   "source": [
    "predictions = nmf.test(testset)\n",
    "accuracy.mse(predictions)"
   ]
  },
  {
   "cell_type": "markdown",
   "id": "33803c70",
   "metadata": {},
   "source": [
    "### SVD (run this)"
   ]
  },
  {
   "cell_type": "code",
   "execution_count": 8,
   "id": "ce052486",
   "metadata": {},
   "outputs": [],
   "source": [
    "from surprise import SVD"
   ]
  },
  {
   "cell_type": "code",
   "execution_count": 10,
   "id": "da81b7db",
   "metadata": {},
   "outputs": [
    {
     "name": "stdout",
     "output_type": "stream",
     "text": [
      "Evaluating MSE of algorithm SVD on 10 split(s).\n",
      "\n",
      "                  Fold 1  Fold 2  Fold 3  Fold 4  Fold 5  Fold 6  Fold 7  Fold 8  Fold 9  Fold 10 Mean    Std     \n",
      "MSE (testset)     1.3434  1.3439  1.3382  1.3433  1.3426  1.3489  1.3417  1.3402  1.3487  1.3506  1.3442  0.0038  \n",
      "Fit time          52.98   53.01   57.81   59.37   58.78   58.93   58.75   58.47   58.55   64.95   58.16   3.20    \n",
      "Test time         2.82    4.29    4.48    2.68    2.66    4.45    4.46    4.44    4.45    4.44    3.92    0.79    \n"
     ]
    }
   ],
   "source": [
    "svd = SVD()\n",
    "results = cross_validate(svd, train_data, measures=['MSE'], cv=10, verbose=True)"
   ]
  },
  {
   "cell_type": "code",
   "execution_count": 11,
   "id": "b8ede7ec",
   "metadata": {},
   "outputs": [
    {
     "name": "stdout",
     "output_type": "stream",
     "text": [
      "MSE: 1.3441\n"
     ]
    },
    {
     "data": {
      "text/plain": [
       "1.344138026055986"
      ]
     },
     "execution_count": 11,
     "metadata": {},
     "output_type": "execute_result"
    }
   ],
   "source": [
    "predictions = svd.test(testset)\n",
    "accuracy.mse(predictions2)"
   ]
  },
  {
   "cell_type": "markdown",
   "id": "d2f0156c",
   "metadata": {},
   "source": [
    "#### Hyperparameter Tuning"
   ]
  },
  {
   "cell_type": "code",
   "execution_count": null,
   "id": "0cfb0b97",
   "metadata": {
    "scrolled": true
   },
   "outputs": [],
   "source": [
    "from surprise.model_selection import GridSearchCV\n",
    "param_grid = {\n",
    "    'n_factors': [10, 100, 500],\n",
    "    'n_epochs': [5, 20, 50], \n",
    "    'lr_all': [0.001, 0.005, 0.02],\n",
    "    'reg_all': [0.005, 0.02, 0.1]}\n",
    "\n",
    "tuning = GridSearchCV(SVD, param_grid, measures=['mse'], cv=10)\n",
    "tuning.fit(train_data)"
   ]
  },
  {
   "cell_type": "code",
   "execution_count": 17,
   "id": "fd42d3c4",
   "metadata": {},
   "outputs": [
    {
     "name": "stdout",
     "output_type": "stream",
     "text": [
      "500\n",
      "50\n",
      "0.005\n",
      "0.1\n"
     ]
    }
   ],
   "source": [
    "print(tuning.best_params['mse']['n_factors'])\n",
    "print(tuning.best_params['mse']['n_epochs'])\n",
    "print(tuning.best_params['mse']['lr_all'])\n",
    "print(tuning.best_params['mse']['reg_all'])"
   ]
  },
  {
   "cell_type": "code",
   "execution_count": 18,
   "id": "bdbb93e6",
   "metadata": {},
   "outputs": [
    {
     "data": {
      "text/plain": [
       "<surprise.prediction_algorithms.matrix_factorization.SVD at 0x1197249ac10>"
      ]
     },
     "execution_count": 18,
     "metadata": {},
     "output_type": "execute_result"
    }
   ],
   "source": [
    "params = tuning.best_params['mse']\n",
    "svd = SVD(n_factors=params['n_factors'], n_epochs=params['n_epochs'],lr_all=params['lr_all'], reg_all=params['reg_all'])\n",
    "svd.fit(trainset)"
   ]
  },
  {
   "cell_type": "code",
   "execution_count": 19,
   "id": "6dfb7e95",
   "metadata": {},
   "outputs": [
    {
     "name": "stdout",
     "output_type": "stream",
     "text": [
      "MSE: 1.2660\n"
     ]
    },
    {
     "data": {
      "text/plain": [
       "1.2660169206778658"
      ]
     },
     "execution_count": 19,
     "metadata": {},
     "output_type": "execute_result"
    }
   ],
   "source": [
    "predictions = svd.test(testset)\n",
    "accuracy.mse(predictions)"
   ]
  },
  {
   "cell_type": "markdown",
   "id": "2e391a4c",
   "metadata": {},
   "source": [
    "### SVD++ (run this)"
   ]
  },
  {
   "cell_type": "code",
   "execution_count": 9,
   "id": "bb853a9a",
   "metadata": {},
   "outputs": [
    {
     "name": "stdout",
     "output_type": "stream",
     "text": [
      "Evaluating MSE of algorithm SVDpp on 10 split(s).\n",
      "\n",
      "                  Fold 1  Fold 2  Fold 3  Fold 4  Fold 5  Fold 6  Fold 7  Fold 8  Fold 9  Fold 10 Mean    Std     \n",
      "MSE (testset)     1.4323  1.4465  1.4498  1.4308  1.4373  1.4375  1.4416  1.4502  1.4486  1.4504  1.4425  0.0072  \n",
      "Fit time          958.72  954.14  975.88  1006.00 1014.02 974.10  966.35  973.68  975.92  969.92  976.87  18.04   \n",
      "Test time         68.25   67.82   90.14   75.87   68.79   68.59   67.88   68.27   67.57   68.88   71.21   6.72    \n",
      "MSE: 1.4446\n"
     ]
    },
    {
     "data": {
      "text/plain": [
       "1.4445884154098154"
      ]
     },
     "execution_count": 9,
     "metadata": {},
     "output_type": "execute_result"
    }
   ],
   "source": [
    "from surprise import SVDpp\n",
    "\n",
    "svdpp = SVDpp()\n",
    "results = cross_validate(svdpp, train_data, measures=['MSE'], cv=10, verbose=True)\n",
    "\n",
    "predictions2 = svdpp.test(testset)\n",
    "accuracy.mse(predictions2)"
   ]
  }
 ],
 "metadata": {
  "kernelspec": {
   "display_name": "Python 3 (ipykernel)",
   "language": "python",
   "name": "python3"
  },
  "language_info": {
   "codemirror_mode": {
    "name": "ipython",
    "version": 3
   },
   "file_extension": ".py",
   "mimetype": "text/x-python",
   "name": "python",
   "nbconvert_exporter": "python",
   "pygments_lexer": "ipython3",
   "version": "3.9.7"
  }
 },
 "nbformat": 4,
 "nbformat_minor": 5
}
