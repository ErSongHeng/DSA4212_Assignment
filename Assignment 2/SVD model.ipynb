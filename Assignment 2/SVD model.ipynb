{
 "cells": [
  {
   "cell_type": "markdown",
   "id": "370014b8",
   "metadata": {},
   "source": [
    "# DSA4212 Group 2 Assignment 2"
   ]
  },
  {
   "cell_type": "code",
   "execution_count": 12,
   "id": "23324c55",
   "metadata": {},
   "outputs": [],
   "source": [
    "import pandas as pd\n",
    "import numpy as np"
   ]
  },
  {
   "cell_type": "code",
   "execution_count": 13,
   "id": "58d65002",
   "metadata": {},
   "outputs": [],
   "source": [
    "# Read in the data\n",
    "\n",
    "anime_data = pd.read_csv('assignment_2_anime.csv')\n",
    "ratings_test = pd.read_csv('assignment_2_ratings_test.csv')\n",
    "ratings_train = pd.read_csv('assignment_2_ratings_train.csv')"
   ]
  },
  {
   "cell_type": "code",
   "execution_count": 14,
   "id": "27a9093d",
   "metadata": {},
   "outputs": [],
   "source": [
    "# train_data = ratings_train.iloc[:int(ratings_train.shape[0]*0.80)]\n",
    "# val_data = ratings_train.iloc[int(ratings_train.shape[0]*0.80):]"
   ]
  },
  {
   "cell_type": "code",
   "execution_count": 15,
   "id": "81eb6f13",
   "metadata": {},
   "outputs": [],
   "source": [
    "# val_data.shape"
   ]
  },
  {
   "cell_type": "markdown",
   "id": "33803c70",
   "metadata": {},
   "source": [
    "## 1. Collaborative Filtering"
   ]
  },
  {
   "cell_type": "code",
   "execution_count": 16,
   "id": "ce052486",
   "metadata": {},
   "outputs": [],
   "source": [
    "from surprise import SVD\n",
    "from surprise import Reader, Dataset, accuracy\n",
    "from surprise.model_selection import cross_validate"
   ]
  },
  {
   "cell_type": "code",
   "execution_count": 17,
   "id": "a78d788e",
   "metadata": {},
   "outputs": [],
   "source": [
    "# Find the minimum and maximum rating for the Reader object\n",
    "\n",
    "min_rating = ratings_train.rating.min()\n",
    "max_rating = ratings_train.rating.max()"
   ]
  },
  {
   "cell_type": "code",
   "execution_count": 18,
   "id": "dca7fd2c",
   "metadata": {},
   "outputs": [],
   "source": [
    "# Train data\n",
    "reader = Reader(rating_scale = (min_rating, max_rating))\n",
    "\n",
    "train_data = Dataset.load_from_df(ratings_train[['user_id', 'anime_id', 'rating']], reader)\n",
    "\n",
    "trainset = train_data.build_full_trainset()"
   ]
  },
  {
   "cell_type": "code",
   "execution_count": 19,
   "id": "4737e9f7",
   "metadata": {},
   "outputs": [],
   "source": [
    "# Train data\n",
    "reader = Reader(rating_scale = (min_rating, max_rating))\n",
    "\n",
    "test_data = Dataset.load_from_df(ratings_test[['user_id', 'anime_id', 'rating']], reader)\n",
    "\n",
    "testset = test_data.build_full_trainset().build_testset()"
   ]
  },
  {
   "cell_type": "code",
   "execution_count": 20,
   "id": "91dd5ab9",
   "metadata": {},
   "outputs": [
    {
     "name": "stdout",
     "output_type": "stream",
     "text": [
      "Processing epoch 0\n",
      "Processing epoch 1\n",
      "Processing epoch 2\n",
      "Processing epoch 3\n",
      "Processing epoch 4\n",
      "Processing epoch 5\n",
      "Processing epoch 6\n",
      "Processing epoch 7\n",
      "Processing epoch 8\n",
      "Processing epoch 9\n",
      "Processing epoch 10\n",
      "Processing epoch 11\n",
      "Processing epoch 12\n",
      "Processing epoch 13\n",
      "Processing epoch 14\n",
      "Processing epoch 15\n",
      "Processing epoch 16\n",
      "Processing epoch 17\n",
      "Processing epoch 18\n",
      "Processing epoch 19\n"
     ]
    },
    {
     "data": {
      "text/plain": [
       "<surprise.prediction_algorithms.matrix_factorization.SVD at 0x2d0e2c3c040>"
      ]
     },
     "execution_count": 20,
     "metadata": {},
     "output_type": "execute_result"
    }
   ],
   "source": [
    "svd = SVD(verbose = True)\n",
    "svd.fit(trainset)"
   ]
  },
  {
   "cell_type": "code",
   "execution_count": 21,
   "id": "4b980eb7",
   "metadata": {},
   "outputs": [
    {
     "name": "stdout",
     "output_type": "stream",
     "text": [
      "MSE: 1.3167\n"
     ]
    },
    {
     "data": {
      "text/plain": [
       "1.3167322681291542"
      ]
     },
     "execution_count": 21,
     "metadata": {},
     "output_type": "execute_result"
    }
   ],
   "source": [
    "predictions = svd.test(testset)\n",
    "accuracy.mse(predictions)"
   ]
  },
  {
   "cell_type": "code",
   "execution_count": 22,
   "id": "da81b7db",
   "metadata": {},
   "outputs": [
    {
     "name": "stdout",
     "output_type": "stream",
     "text": [
      "Evaluating MSE of algorithm SVD on 10 split(s).\n",
      "\n",
      "                  Fold 1  Fold 2  Fold 3  Fold 4  Fold 5  Fold 6  Fold 7  Fold 8  Fold 9  Fold 10 Mean    Std     \n",
      "MSE (testset)     1.3438  1.3535  1.3365  1.3465  1.3403  1.3415  1.3432  1.3441  1.3450  1.3484  1.3443  0.0044  \n",
      "Fit time          52.67   53.54   54.32   59.69   53.04   52.06   55.97   59.69   53.74   57.45   55.22   2.69    \n",
      "Test time         2.59    4.97    2.62    5.06    2.46    4.79    2.83    4.96    2.80    2.52    3.56    1.14    \n"
     ]
    }
   ],
   "source": [
    "svd2 = SVD()\n",
    "results = cross_validate(svd2, train_data, measures=['MSE'], cv=10, verbose=True)"
   ]
  },
  {
   "cell_type": "code",
   "execution_count": 23,
   "id": "b8ede7ec",
   "metadata": {},
   "outputs": [
    {
     "name": "stdout",
     "output_type": "stream",
     "text": [
      "MSE: 1.3431\n"
     ]
    },
    {
     "data": {
      "text/plain": [
       "1.3431404221431618"
      ]
     },
     "execution_count": 23,
     "metadata": {},
     "output_type": "execute_result"
    }
   ],
   "source": [
    "predictions2 = svd2.test(testset)\n",
    "accuracy.mse(predictions2)"
   ]
  },
  {
   "cell_type": "code",
   "execution_count": null,
   "id": "ca253b42",
   "metadata": {},
   "outputs": [],
   "source": []
  }
 ],
 "metadata": {
  "kernelspec": {
   "display_name": "Python 3 (ipykernel)",
   "language": "python",
   "name": "python3"
  },
  "language_info": {
   "codemirror_mode": {
    "name": "ipython",
    "version": 3
   },
   "file_extension": ".py",
   "mimetype": "text/x-python",
   "name": "python",
   "nbconvert_exporter": "python",
   "pygments_lexer": "ipython3",
   "version": "3.9.7"
  }
 },
 "nbformat": 4,
 "nbformat_minor": 5
}
