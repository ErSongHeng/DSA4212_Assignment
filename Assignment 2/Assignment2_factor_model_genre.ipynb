{
  "nbformat": 4,
  "nbformat_minor": 0,
  "metadata": {
    "colab": {
      "provenance": [],
      "gpuType": "T4"
    },
    "kernelspec": {
      "name": "python3",
      "display_name": "Python 3"
    },
    "language_info": {
      "name": "python"
    },
    "accelerator": "GPU",
    "gpuClass": "standard"
  },
  "cells": [
    {
      "cell_type": "code",
      "execution_count": 56,
      "metadata": {
        "colab": {
          "base_uri": "https://localhost:8080/"
        },
        "id": "cmP6w-E6k2vs",
        "outputId": "5cfc5a6c-72a8-42f1-856a-2fc681859b8d"
      },
      "outputs": [
        {
          "output_type": "stream",
          "name": "stdout",
          "text": [
            "Drive already mounted at /content/drive; to attempt to forcibly remount, call drive.mount(\"/content/drive\", force_remount=True).\n",
            "/content/drive/MyDrive/DSA4212/dataset/assignment_2\n"
          ]
        }
      ],
      "source": [
        "# mount the Google Drive\n",
        "from google.colab import drive\n",
        "drive.mount(\"/content/drive\")\n",
        "%cd /content/drive/MyDrive/DSA4212/dataset/assignment_2"
      ]
    },
    {
      "cell_type": "code",
      "source": [
        "import jax \n",
        "from jax.config import config\n",
        "config.update('jax_enable_x64', True)  # often needed for LBFGS that requires high-precision\n",
        "\n",
        "\n",
        "import jax.numpy as jnp\n",
        "import numpy as np\n",
        "import pylab as plt\n",
        "\n",
        "import imageio\n",
        "import os\n",
        "from skimage.transform import rescale, resize, downscale_local_mean\n",
        "import pandas as pd\n",
        "import time\n",
        "import scipy\n",
        "from pandas.tseries.frequencies import unique"
      ],
      "metadata": {
        "id": "_2NbMa1zlWrY"
      },
      "execution_count": 57,
      "outputs": []
    },
    {
      "cell_type": "code",
      "source": [
        "test_data=pd.read_csv('assignment_2_ratings_test.csv')\n",
        "train_data=pd.read_csv('assignment_2_ratings_train.csv')"
      ],
      "metadata": {
        "id": "rmbW2fSwlgN7"
      },
      "execution_count": 58,
      "outputs": []
    },
    {
      "cell_type": "code",
      "source": [
        "#creating a data frame with only anime id and genre, with each genre in the seperate rows \n",
        "anime_data=pd.read_csv('assignment_2_anime.csv')\n",
        "anime_data.genre.fillna(\"None\",inplace=True)\n",
        "anime_data.genre=anime_data[\"genre\"].apply(lambda x : x.split(','))\n",
        "anime_data['weights']=1/anime_data.genre.apply(len) #added weights of the genre on anime id\n",
        "anime_genre=anime_data.explode(\"genre\")[['anime_id','genre','weights']]\n",
        "anime_genre.genre=anime_genre.genre.apply(lambda x : x.strip())\n",
        "anime_genre"
      ],
      "metadata": {
        "colab": {
          "base_uri": "https://localhost:8080/",
          "height": 424
        },
        "id": "ZGOPt1eX_a9X",
        "outputId": "0516dbe6-f152-4628-d775-ba1356bdf013"
      },
      "execution_count": 59,
      "outputs": [
        {
          "output_type": "execute_result",
          "data": {
            "text/plain": [
              "       anime_id         genre   weights\n",
              "0         32281         Drama  0.250000\n",
              "0         32281       Romance  0.250000\n",
              "0         32281        School  0.250000\n",
              "0         32281  Supernatural  0.250000\n",
              "1          5114        Action  0.142857\n",
              "...         ...           ...       ...\n",
              "12289      9316        Hentai  1.000000\n",
              "12290      5543        Hentai  1.000000\n",
              "12291      5621        Hentai  1.000000\n",
              "12292      6133        Hentai  1.000000\n",
              "12293     26081        Hentai  1.000000\n",
              "\n",
              "[36347 rows x 3 columns]"
            ],
            "text/html": [
              "\n",
              "  <div id=\"df-26226b62-8ad4-495c-a4b2-95b6284b783a\">\n",
              "    <div class=\"colab-df-container\">\n",
              "      <div>\n",
              "<style scoped>\n",
              "    .dataframe tbody tr th:only-of-type {\n",
              "        vertical-align: middle;\n",
              "    }\n",
              "\n",
              "    .dataframe tbody tr th {\n",
              "        vertical-align: top;\n",
              "    }\n",
              "\n",
              "    .dataframe thead th {\n",
              "        text-align: right;\n",
              "    }\n",
              "</style>\n",
              "<table border=\"1\" class=\"dataframe\">\n",
              "  <thead>\n",
              "    <tr style=\"text-align: right;\">\n",
              "      <th></th>\n",
              "      <th>anime_id</th>\n",
              "      <th>genre</th>\n",
              "      <th>weights</th>\n",
              "    </tr>\n",
              "  </thead>\n",
              "  <tbody>\n",
              "    <tr>\n",
              "      <th>0</th>\n",
              "      <td>32281</td>\n",
              "      <td>Drama</td>\n",
              "      <td>0.250000</td>\n",
              "    </tr>\n",
              "    <tr>\n",
              "      <th>0</th>\n",
              "      <td>32281</td>\n",
              "      <td>Romance</td>\n",
              "      <td>0.250000</td>\n",
              "    </tr>\n",
              "    <tr>\n",
              "      <th>0</th>\n",
              "      <td>32281</td>\n",
              "      <td>School</td>\n",
              "      <td>0.250000</td>\n",
              "    </tr>\n",
              "    <tr>\n",
              "      <th>0</th>\n",
              "      <td>32281</td>\n",
              "      <td>Supernatural</td>\n",
              "      <td>0.250000</td>\n",
              "    </tr>\n",
              "    <tr>\n",
              "      <th>1</th>\n",
              "      <td>5114</td>\n",
              "      <td>Action</td>\n",
              "      <td>0.142857</td>\n",
              "    </tr>\n",
              "    <tr>\n",
              "      <th>...</th>\n",
              "      <td>...</td>\n",
              "      <td>...</td>\n",
              "      <td>...</td>\n",
              "    </tr>\n",
              "    <tr>\n",
              "      <th>12289</th>\n",
              "      <td>9316</td>\n",
              "      <td>Hentai</td>\n",
              "      <td>1.000000</td>\n",
              "    </tr>\n",
              "    <tr>\n",
              "      <th>12290</th>\n",
              "      <td>5543</td>\n",
              "      <td>Hentai</td>\n",
              "      <td>1.000000</td>\n",
              "    </tr>\n",
              "    <tr>\n",
              "      <th>12291</th>\n",
              "      <td>5621</td>\n",
              "      <td>Hentai</td>\n",
              "      <td>1.000000</td>\n",
              "    </tr>\n",
              "    <tr>\n",
              "      <th>12292</th>\n",
              "      <td>6133</td>\n",
              "      <td>Hentai</td>\n",
              "      <td>1.000000</td>\n",
              "    </tr>\n",
              "    <tr>\n",
              "      <th>12293</th>\n",
              "      <td>26081</td>\n",
              "      <td>Hentai</td>\n",
              "      <td>1.000000</td>\n",
              "    </tr>\n",
              "  </tbody>\n",
              "</table>\n",
              "<p>36347 rows × 3 columns</p>\n",
              "</div>\n",
              "      <button class=\"colab-df-convert\" onclick=\"convertToInteractive('df-26226b62-8ad4-495c-a4b2-95b6284b783a')\"\n",
              "              title=\"Convert this dataframe to an interactive table.\"\n",
              "              style=\"display:none;\">\n",
              "        \n",
              "  <svg xmlns=\"http://www.w3.org/2000/svg\" height=\"24px\"viewBox=\"0 0 24 24\"\n",
              "       width=\"24px\">\n",
              "    <path d=\"M0 0h24v24H0V0z\" fill=\"none\"/>\n",
              "    <path d=\"M18.56 5.44l.94 2.06.94-2.06 2.06-.94-2.06-.94-.94-2.06-.94 2.06-2.06.94zm-11 1L8.5 8.5l.94-2.06 2.06-.94-2.06-.94L8.5 2.5l-.94 2.06-2.06.94zm10 10l.94 2.06.94-2.06 2.06-.94-2.06-.94-.94-2.06-.94 2.06-2.06.94z\"/><path d=\"M17.41 7.96l-1.37-1.37c-.4-.4-.92-.59-1.43-.59-.52 0-1.04.2-1.43.59L10.3 9.45l-7.72 7.72c-.78.78-.78 2.05 0 2.83L4 21.41c.39.39.9.59 1.41.59.51 0 1.02-.2 1.41-.59l7.78-7.78 2.81-2.81c.8-.78.8-2.07 0-2.86zM5.41 20L4 18.59l7.72-7.72 1.47 1.35L5.41 20z\"/>\n",
              "  </svg>\n",
              "      </button>\n",
              "      \n",
              "  <style>\n",
              "    .colab-df-container {\n",
              "      display:flex;\n",
              "      flex-wrap:wrap;\n",
              "      gap: 12px;\n",
              "    }\n",
              "\n",
              "    .colab-df-convert {\n",
              "      background-color: #E8F0FE;\n",
              "      border: none;\n",
              "      border-radius: 50%;\n",
              "      cursor: pointer;\n",
              "      display: none;\n",
              "      fill: #1967D2;\n",
              "      height: 32px;\n",
              "      padding: 0 0 0 0;\n",
              "      width: 32px;\n",
              "    }\n",
              "\n",
              "    .colab-df-convert:hover {\n",
              "      background-color: #E2EBFA;\n",
              "      box-shadow: 0px 1px 2px rgba(60, 64, 67, 0.3), 0px 1px 3px 1px rgba(60, 64, 67, 0.15);\n",
              "      fill: #174EA6;\n",
              "    }\n",
              "\n",
              "    [theme=dark] .colab-df-convert {\n",
              "      background-color: #3B4455;\n",
              "      fill: #D2E3FC;\n",
              "    }\n",
              "\n",
              "    [theme=dark] .colab-df-convert:hover {\n",
              "      background-color: #434B5C;\n",
              "      box-shadow: 0px 1px 3px 1px rgba(0, 0, 0, 0.15);\n",
              "      filter: drop-shadow(0px 1px 2px rgba(0, 0, 0, 0.3));\n",
              "      fill: #FFFFFF;\n",
              "    }\n",
              "  </style>\n",
              "\n",
              "      <script>\n",
              "        const buttonEl =\n",
              "          document.querySelector('#df-26226b62-8ad4-495c-a4b2-95b6284b783a button.colab-df-convert');\n",
              "        buttonEl.style.display =\n",
              "          google.colab.kernel.accessAllowed ? 'block' : 'none';\n",
              "\n",
              "        async function convertToInteractive(key) {\n",
              "          const element = document.querySelector('#df-26226b62-8ad4-495c-a4b2-95b6284b783a');\n",
              "          const dataTable =\n",
              "            await google.colab.kernel.invokeFunction('convertToInteractive',\n",
              "                                                     [key], {});\n",
              "          if (!dataTable) return;\n",
              "\n",
              "          const docLinkHtml = 'Like what you see? Visit the ' +\n",
              "            '<a target=\"_blank\" href=https://colab.research.google.com/notebooks/data_table.ipynb>data table notebook</a>'\n",
              "            + ' to learn more about interactive tables.';\n",
              "          element.innerHTML = '';\n",
              "          dataTable['output_type'] = 'display_data';\n",
              "          await google.colab.output.renderOutput(dataTable, element);\n",
              "          const docLink = document.createElement('div');\n",
              "          docLink.innerHTML = docLinkHtml;\n",
              "          element.appendChild(docLink);\n",
              "        }\n",
              "      </script>\n",
              "    </div>\n",
              "  </div>\n",
              "  "
            ]
          },
          "metadata": {},
          "execution_count": 59
        }
      ]
    },
    {
      "cell_type": "code",
      "source": [
        "def encode_column(column):\n",
        "    keys = column.unique()\n",
        "    key_to_id = {key:idx for idx,key in enumerate(keys)}\n",
        "    return key_to_id, np.array([key_to_id[x] for x in column]), len(keys)\n",
        "\n",
        "def encode_column_dict(column):\n",
        "    keys = column.unique()\n",
        "    key_to_id = {key:idx for idx,key in enumerate(keys)}\n",
        "    return key_to_id\n",
        "\n",
        "# This is basically to apply the encode_column function on our columns of choice\n",
        "def encode_df(data):\n",
        "    anime_ids, data['anime_id'], num_anime = encode_column(data['anime_id'])\n",
        "    user_ids, data['user_id'], num_users = encode_column(data['user_id'])\n",
        "    return data, num_users, num_anime, user_ids, anime_ids"
      ],
      "metadata": {
        "id": "wT1dbl13-qYm"
      },
      "execution_count": 60,
      "outputs": []
    },
    {
      "cell_type": "code",
      "source": [
        "#creating V matrix \n",
        "#values are the weights of each genre on each film \n",
        "\n",
        "V_df=anime_genre.groupby([anime_genre.anime_id, 'genre'])['weights'].first().unstack().fillna(0)\n",
        "\n",
        "#creating a dictonary to convert anime id to the correct row index of matrix V\n",
        "anime_id_V_dict=encode_column_dict(V_df.index)\n",
        "V_init=np.array(V_df)\n"
      ],
      "metadata": {
        "id": "pjR08i_wmfY2"
      },
      "execution_count": 61,
      "outputs": []
    },
    {
      "cell_type": "code",
      "source": [
        "#addindg genre to training data and test data, \n",
        "train_data_genre=pd.merge(train_data,anime_genre,how=\"left\",on=\"anime_id\")\n",
        "test_data_genre=pd.merge(test_data,anime_genre,how=\"left\",on=\"anime_id\")\n",
        "\n",
        "\n"
      ],
      "metadata": {
        "id": "EmKzz2QtKC--"
      },
      "execution_count": 62,
      "outputs": []
    },
    {
      "cell_type": "code",
      "source": [
        "# Using group by to display only the average rating per user per genre of anime for both test and train\n",
        "train_data_grouped=train_data_genre.groupby(['user_id','genre'],as_index=False)[\"rating\"].mean()\n",
        "test_data_grouped=test_data_genre.groupby(['user_id','genre'],as_index=False)[\"rating\"].mean()"
      ],
      "metadata": {
        "id": "ucBOnZvMZlNH"
      },
      "execution_count": 63,
      "outputs": []
    },
    {
      "cell_type": "code",
      "source": [
        "#creating U matrix \n",
        "# user id are the indexs \n",
        "#values are the average rating per genre \n",
        "U_train_df=train_data_grouped.groupby([train_data_grouped.user_id, 'genre'])['rating'].first().unstack().fillna(0)\n",
        "\n",
        "\n",
        "#creating a dictonary to convert user id to the correct row index of matrix U\n",
        "user_id_U_train_dict=encode_column_dict(U_train_df.index)\n",
        "#creating matrix U\n",
        "U_init=np.array(U_train_df)\n"
      ],
      "metadata": {
        "id": "I_IqUOEfqWnR"
      },
      "execution_count": 64,
      "outputs": []
    },
    {
      "cell_type": "code",
      "source": [
        "#changing the user id  to the encoded ones from train data set\n",
        "train_data['user_id_encoded']= [user_id_U_train_dict[x] for x in train_data['user_id']]\n",
        "#changing anime id to those enocded from V matrix \n",
        "train_data['anime_id_encoded']= [anime_id_V_dict[x] for x in train_data['anime_id']]\n"
      ],
      "metadata": {
        "id": "aon9VREMNS-V"
      },
      "execution_count": 65,
      "outputs": []
    },
    {
      "cell_type": "code",
      "source": [
        "# changing test data ids to encoded ids\n",
        "\n",
        "def change_code_test(x,dic):\n",
        "  try:\n",
        "    result=dic[x]\n",
        "  except KeyError:\n",
        "    result=len(dic) # those users not in training set is given the last row of matrix which will be a 0 row \n",
        "  return result\n",
        "\n",
        "test_data['user_id_encoded']=[change_code_test(x,user_id_U_train_dict) for x in test_data['user_id']]\n",
        "test_data.loc[test_data['user_id_encoded']==0]\n",
        "\n",
        "test_data['anime_id_encoded']= [change_code_test(x,anime_id_V_dict)for x in test_data['anime_id']]\n",
        "\n",
        "\n"
      ],
      "metadata": {
        "id": "BVIzeHsSakFG"
      },
      "execution_count": 66,
      "outputs": []
    },
    {
      "cell_type": "code",
      "source": [
        "# addind last 0 row to U V matrix\n",
        "\n",
        "U_init=np.vstack([U_init, np.zeros(44)]) \n",
        "#len(U_init)==68422\n",
        "V_init=np.vstack([V_init, np.zeros(44)])\n",
        "#len(V_init)=12294\n",
        "\n",
        "#so for user/film that is in test set but not training set the encoded value will be the last row of U/V\n",
        "#eg user_id 2\n",
        "test_data.loc[test_data.user_id==2]"
      ],
      "metadata": {
        "colab": {
          "base_uri": "https://localhost:8080/",
          "height": 81
        },
        "id": "YmSkaCRTjx1h",
        "outputId": "41742905-0310-4bf9-8d90-18ca05109365"
      },
      "execution_count": 67,
      "outputs": [
        {
          "output_type": "execute_result",
          "data": {
            "text/plain": [
              "         user_id  anime_id  rating  user_id_encoded  anime_id_encoded\n",
              "1490816        2     11771      10            68421              6632"
            ],
            "text/html": [
              "\n",
              "  <div id=\"df-58a72923-df9b-4bf4-a7d4-2ac1fa586405\">\n",
              "    <div class=\"colab-df-container\">\n",
              "      <div>\n",
              "<style scoped>\n",
              "    .dataframe tbody tr th:only-of-type {\n",
              "        vertical-align: middle;\n",
              "    }\n",
              "\n",
              "    .dataframe tbody tr th {\n",
              "        vertical-align: top;\n",
              "    }\n",
              "\n",
              "    .dataframe thead th {\n",
              "        text-align: right;\n",
              "    }\n",
              "</style>\n",
              "<table border=\"1\" class=\"dataframe\">\n",
              "  <thead>\n",
              "    <tr style=\"text-align: right;\">\n",
              "      <th></th>\n",
              "      <th>user_id</th>\n",
              "      <th>anime_id</th>\n",
              "      <th>rating</th>\n",
              "      <th>user_id_encoded</th>\n",
              "      <th>anime_id_encoded</th>\n",
              "    </tr>\n",
              "  </thead>\n",
              "  <tbody>\n",
              "    <tr>\n",
              "      <th>1490816</th>\n",
              "      <td>2</td>\n",
              "      <td>11771</td>\n",
              "      <td>10</td>\n",
              "      <td>68421</td>\n",
              "      <td>6632</td>\n",
              "    </tr>\n",
              "  </tbody>\n",
              "</table>\n",
              "</div>\n",
              "      <button class=\"colab-df-convert\" onclick=\"convertToInteractive('df-58a72923-df9b-4bf4-a7d4-2ac1fa586405')\"\n",
              "              title=\"Convert this dataframe to an interactive table.\"\n",
              "              style=\"display:none;\">\n",
              "        \n",
              "  <svg xmlns=\"http://www.w3.org/2000/svg\" height=\"24px\"viewBox=\"0 0 24 24\"\n",
              "       width=\"24px\">\n",
              "    <path d=\"M0 0h24v24H0V0z\" fill=\"none\"/>\n",
              "    <path d=\"M18.56 5.44l.94 2.06.94-2.06 2.06-.94-2.06-.94-.94-2.06-.94 2.06-2.06.94zm-11 1L8.5 8.5l.94-2.06 2.06-.94-2.06-.94L8.5 2.5l-.94 2.06-2.06.94zm10 10l.94 2.06.94-2.06 2.06-.94-2.06-.94-.94-2.06-.94 2.06-2.06.94z\"/><path d=\"M17.41 7.96l-1.37-1.37c-.4-.4-.92-.59-1.43-.59-.52 0-1.04.2-1.43.59L10.3 9.45l-7.72 7.72c-.78.78-.78 2.05 0 2.83L4 21.41c.39.39.9.59 1.41.59.51 0 1.02-.2 1.41-.59l7.78-7.78 2.81-2.81c.8-.78.8-2.07 0-2.86zM5.41 20L4 18.59l7.72-7.72 1.47 1.35L5.41 20z\"/>\n",
              "  </svg>\n",
              "      </button>\n",
              "      \n",
              "  <style>\n",
              "    .colab-df-container {\n",
              "      display:flex;\n",
              "      flex-wrap:wrap;\n",
              "      gap: 12px;\n",
              "    }\n",
              "\n",
              "    .colab-df-convert {\n",
              "      background-color: #E8F0FE;\n",
              "      border: none;\n",
              "      border-radius: 50%;\n",
              "      cursor: pointer;\n",
              "      display: none;\n",
              "      fill: #1967D2;\n",
              "      height: 32px;\n",
              "      padding: 0 0 0 0;\n",
              "      width: 32px;\n",
              "    }\n",
              "\n",
              "    .colab-df-convert:hover {\n",
              "      background-color: #E2EBFA;\n",
              "      box-shadow: 0px 1px 2px rgba(60, 64, 67, 0.3), 0px 1px 3px 1px rgba(60, 64, 67, 0.15);\n",
              "      fill: #174EA6;\n",
              "    }\n",
              "\n",
              "    [theme=dark] .colab-df-convert {\n",
              "      background-color: #3B4455;\n",
              "      fill: #D2E3FC;\n",
              "    }\n",
              "\n",
              "    [theme=dark] .colab-df-convert:hover {\n",
              "      background-color: #434B5C;\n",
              "      box-shadow: 0px 1px 3px 1px rgba(0, 0, 0, 0.15);\n",
              "      filter: drop-shadow(0px 1px 2px rgba(0, 0, 0, 0.3));\n",
              "      fill: #FFFFFF;\n",
              "    }\n",
              "  </style>\n",
              "\n",
              "      <script>\n",
              "        const buttonEl =\n",
              "          document.querySelector('#df-58a72923-df9b-4bf4-a7d4-2ac1fa586405 button.colab-df-convert');\n",
              "        buttonEl.style.display =\n",
              "          google.colab.kernel.accessAllowed ? 'block' : 'none';\n",
              "\n",
              "        async function convertToInteractive(key) {\n",
              "          const element = document.querySelector('#df-58a72923-df9b-4bf4-a7d4-2ac1fa586405');\n",
              "          const dataTable =\n",
              "            await google.colab.kernel.invokeFunction('convertToInteractive',\n",
              "                                                     [key], {});\n",
              "          if (!dataTable) return;\n",
              "\n",
              "          const docLinkHtml = 'Like what you see? Visit the ' +\n",
              "            '<a target=\"_blank\" href=https://colab.research.google.com/notebooks/data_table.ipynb>data table notebook</a>'\n",
              "            + ' to learn more about interactive tables.';\n",
              "          element.innerHTML = '';\n",
              "          dataTable['output_type'] = 'display_data';\n",
              "          await google.colab.output.renderOutput(dataTable, element);\n",
              "          const docLink = document.createElement('div');\n",
              "          docLink.innerHTML = docLinkHtml;\n",
              "          element.appendChild(docLink);\n",
              "        }\n",
              "      </script>\n",
              "    </div>\n",
              "  </div>\n",
              "  "
            ]
          },
          "metadata": {},
          "execution_count": 67
        }
      ]
    },
    {
      "cell_type": "code",
      "source": [
        "u_list_train=train_data.user_id_encoded\n",
        "v_list_train=train_data.anime_id_encoded\n",
        "x=jnp.sum(U_init[u_list_train]*V_init[v_list_train],axis=1)\n"
      ],
      "metadata": {
        "id": "0pVlJxo-oTB_"
      },
      "execution_count": 68,
      "outputs": []
    },
    {
      "cell_type": "code",
      "source": [
        "len(x)"
      ],
      "metadata": {
        "colab": {
          "base_uri": "https://localhost:8080/"
        },
        "id": "bEmatHvqKEiC",
        "outputId": "68169e3e-8d71-4651-b059-b64dad88e350"
      },
      "execution_count": 69,
      "outputs": [
        {
          "output_type": "execute_result",
          "data": {
            "text/plain": [
              "4436068"
            ]
          },
          "metadata": {},
          "execution_count": 69
        }
      ]
    },
    {
      "cell_type": "code",
      "source": [
        "ratings_list_train=train_data.rating\n",
        "len(ratings_list_train)"
      ],
      "metadata": {
        "colab": {
          "base_uri": "https://localhost:8080/"
        },
        "id": "-zQgBLg7KGds",
        "outputId": "33fd2365-0b6f-4cf4-8a9c-baf2ec61f6a0"
      },
      "execution_count": 70,
      "outputs": [
        {
          "output_type": "execute_result",
          "data": {
            "text/plain": [
              "4436068"
            ]
          },
          "metadata": {},
          "execution_count": 70
        }
      ]
    },
    {
      "cell_type": "code",
      "source": [
        "## model using training data \n",
        "\n",
        "u_list_train=train_data.user_id_encoded.values\n",
        "v_list_train=train_data.anime_id_encoded.values\n",
        "ratings_list_train=train_data.rating.values\n"
      ],
      "metadata": {
        "id": "Ku1xlqHfktwE"
      },
      "execution_count": 71,
      "outputs": []
    },
    {
      "cell_type": "code",
      "source": [
        "@jax.jit\n",
        "def model(U, V):\n",
        "  \"\"\"\n",
        "  U: p*r matrix \n",
        "  V: q*r matrix\n",
        "  where p is number of users in training set q is number of anime in the anime data set and r is number of genres\n",
        "  \"\"\"\n",
        "  predictions = jnp.sum(U[u_list_train.astype(int)]*V[v_list_train.astype(int)],axis=1)\n",
        "  MSE = jnp.mean((predictions -ratings_list_train)**2 )\n",
        "  return MSE"
      ],
      "metadata": {
        "id": "MznZkeVQKTkU"
      },
      "execution_count": 72,
      "outputs": []
    },
    {
      "cell_type": "code",
      "source": [
        "#find gradient \n",
        "model_grad_U = jax.jit( jax.grad(model, argnums=0) )\n",
        "model_grad_V = jax.jit( jax.grad(model, argnums=1) )\n",
        "     "
      ],
      "metadata": {
        "id": "qnNUemT0EuUM"
      },
      "execution_count": 73,
      "outputs": []
    },
    {
      "cell_type": "code",
      "source": [
        "import tqdm\n",
        "# doing Gradient descent\n",
        "niter = 500\n",
        "eta = 0.001\n",
        "loss_traj = []\n",
        "\n",
        "U = np.copy(U_init)\n",
        "V = np.copy(V_init)\n",
        "\n",
        "for _ in tqdm.tqdm(range(niter)):\n",
        "  # compute my gradients\n",
        "  grad_u = model_grad_U(U,V)\n",
        "  grad_v = model_grad_V(U,V)\n",
        "\n",
        "  # do the GD update\n",
        "  U = U - eta * grad_u\n",
        "  V = V - eta * grad_v\n",
        "\n",
        "  # monitor the loss\n",
        "  loss_traj.append( model(U,V) )"
      ],
      "metadata": {
        "colab": {
          "base_uri": "https://localhost:8080/"
        },
        "id": "QEEUJISWFa_t",
        "outputId": "00bafca0-74bf-4a9b-9804-0c9b88ae4463"
      },
      "execution_count": 114,
      "outputs": [
        {
          "output_type": "stream",
          "name": "stderr",
          "text": [
            "100%|██████████| 500/500 [00:42<00:00, 11.72it/s]\n"
          ]
        }
      ]
    },
    {
      "cell_type": "code",
      "source": [
        "plt.plot(loss_traj)"
      ],
      "metadata": {
        "colab": {
          "base_uri": "https://localhost:8080/",
          "height": 447
        },
        "id": "MjweOE29L7W2",
        "outputId": "31b2e459-4ee2-41b5-f2e4-88bb44164f8a"
      },
      "execution_count": 115,
      "outputs": [
        {
          "output_type": "execute_result",
          "data": {
            "text/plain": [
              "[<matplotlib.lines.Line2D at 0x7f5711f5d3a0>]"
            ]
          },
          "metadata": {},
          "execution_count": 115
        },
        {
          "output_type": "display_data",
          "data": {
            "text/plain": [
              "<Figure size 640x480 with 1 Axes>"
            ],
            "image/png": "[encoded data removed]"
          },
          "metadata": {}
        }
      ]
    },
    {
      "cell_type": "code",
      "source": [
        "u_list_test = test_data.user_id_encoded.values\n",
        "v_list_test = test_data.anime_id_encoded.values\n",
        "ratings_list_test = test_data.rating.values\n",
        "predictions = jnp.sum(U[u_list_test.astype(int)] * V[v_list_test.astype(int)], axis=1)\n",
        "MSE = np.mean( (predictions - ratings_list_test)**2 )\n",
        "MSE"
      ],
      "metadata": {
        "colab": {
          "base_uri": "https://localhost:8080/"
        },
        "id": "mCaUfO5TNVNF",
        "outputId": "8575b631-009c-40f4-b603-c348a982abb2"
      },
      "execution_count": 116,
      "outputs": [
        {
          "output_type": "execute_result",
          "data": {
            "text/plain": [
              "Array(1.9875558, dtype=float64)"
            ]
          },
          "metadata": {},
          "execution_count": 116
        }
      ]
    },
    {
      "cell_type": "code",
      "source": [
        "predictions "
      ],
      "metadata": {
        "colab": {
          "base_uri": "https://localhost:8080/"
        },
        "id": "ArwXF__beaDt",
        "outputId": "bc05bfeb-7697-4fbd-b6b8-076bd889d880"
      },
      "execution_count": 117,
      "outputs": [
        {
          "output_type": "execute_result",
          "data": {
            "text/plain": [
              "Array([7.30472294, 6.52982734, 9.46881302, ..., 5.88941255, 7.84824515,\n",
              "       7.19146451], dtype=float64)"
            ]
          },
          "metadata": {},
          "execution_count": 117
        }
      ]
    },
    {
      "cell_type": "markdown",
      "source": [
        "Adding regularization "
      ],
      "metadata": {
        "id": "Q-556nfqcjqI"
      }
    },
    {
      "cell_type": "code",
      "source": [
        "jnp.mean(U[u_list_train.astype(int)]**2 ,axis=1)"
      ],
      "metadata": {
        "colab": {
          "base_uri": "https://localhost:8080/"
        },
        "id": "DwH85fkBdrcB",
        "outputId": "b9f96f08-24a2-4702-a6f8-312443aed269"
      },
      "execution_count": 88,
      "outputs": [
        {
          "output_type": "execute_result",
          "data": {
            "text/plain": [
              "Array([32.40654782, 38.23711776, 72.62829267, ..., 54.13472913,\n",
              "       54.30172507, 57.66302668], dtype=float64)"
            ]
          },
          "metadata": {},
          "execution_count": 88
        }
      ]
    },
    {
      "cell_type": "code",
      "source": [
        "@jax.jit\n",
        "def reg_model(U, V):\n",
        "  \"\"\"\n",
        "  U: p*r matrix \n",
        "  V: q*r matrix\n",
        "  where p is number of users in training set q is number of anime in the anime data set and r is number of genres\n",
        "  \"\"\"\n",
        "  predictions = jnp.sum(U[u_list_train.astype(int)]*V[v_list_train.astype(int)],axis=1)\n",
        "  MSE = jnp.mean((predictions -ratings_list_train)**2 )\n",
        "  lamb=0.1\n",
        "  #regularization\n",
        "  reg = lamb * jnp.mean( U**2 ) + lamb * jnp.mean( V**2 )\n",
        "  reg_MSE= MSE+reg\n",
        "  return reg_MSE "
      ],
      "metadata": {
        "id": "RXTOGapAcIxh"
      },
      "execution_count": 107,
      "outputs": []
    },
    {
      "cell_type": "code",
      "source": [
        "#find gradient \n",
        "reg_model_grad_U = jax.jit( jax.grad(reg_model, argnums=0) )\n",
        "reg_model_grad_V = jax.jit( jax.grad(reg_model, argnums=1) )\n",
        "     "
      ],
      "metadata": {
        "id": "nwN9j-AJcbox"
      },
      "execution_count": 108,
      "outputs": []
    },
    {
      "cell_type": "code",
      "source": [
        "import tqdm\n",
        "# doing Gradient descent\n",
        "niter = 500\n",
        "eta = 0.001\n",
        "loss_traj = []\n",
        "\n",
        "U = np.copy(U_init)\n",
        "V = np.copy(V_init)\n",
        "\n",
        "for _ in tqdm.tqdm(range(niter)):\n",
        "  # compute my gradients\n",
        "  grad_u = reg_model_grad_U(U,V)\n",
        "  grad_v = reg_model_grad_V(U,V)\n",
        "\n",
        "  # do the GD update\n",
        "  U = U - eta * grad_u\n",
        "  V = V - eta * grad_v\n",
        "\n",
        "  # monitor the loss\n",
        "  loss_traj.append( reg_model(U,V) )"
      ],
      "metadata": {
        "colab": {
          "base_uri": "https://localhost:8080/"
        },
        "id": "NZCDJGbkcpX9",
        "outputId": "bc6b41e3-1c97-480a-9e62-aa4cb7a1770e"
      },
      "execution_count": 109,
      "outputs": [
        {
          "output_type": "stream",
          "name": "stderr",
          "text": [
            "100%|██████████| 500/500 [00:51<00:00,  9.68it/s]\n"
          ]
        }
      ]
    },
    {
      "cell_type": "code",
      "source": [
        "reg_model(U_init,V_init)"
      ],
      "metadata": {
        "colab": {
          "base_uri": "https://localhost:8080/"
        },
        "id": "c0rdh_g4fCPC",
        "outputId": "56852f5b-53da-4bc8-d85c-2784f8035843"
      },
      "execution_count": 110,
      "outputs": [
        {
          "output_type": "execute_result",
          "data": {
            "text/plain": [
              "Array(5.26673277, dtype=float64)"
            ]
          },
          "metadata": {},
          "execution_count": 110
        }
      ]
    },
    {
      "cell_type": "code",
      "source": [
        "model(U_init,V_init)"
      ],
      "metadata": {
        "colab": {
          "base_uri": "https://localhost:8080/"
        },
        "id": "BFbgi8BffG3H",
        "outputId": "87b583aa-4939-4e68-f055-fc1b11195417"
      },
      "execution_count": 106,
      "outputs": [
        {
          "output_type": "execute_result",
          "data": {
            "text/plain": [
              "Array(1.45942993, dtype=float64)"
            ]
          },
          "metadata": {},
          "execution_count": 106
        }
      ]
    },
    {
      "cell_type": "code",
      "source": [
        "plt.plot(loss_traj)"
      ],
      "metadata": {
        "colab": {
          "base_uri": "https://localhost:8080/",
          "height": 447
        },
        "id": "4NbAkRvudA4q",
        "outputId": "9ff57f42-8a3e-4417-a6fc-8cb7ccd1f9fd"
      },
      "execution_count": 111,
      "outputs": [
        {
          "output_type": "execute_result",
          "data": {
            "text/plain": [
              "[<matplotlib.lines.Line2D at 0x7f5711cec550>]"
            ]
          },
          "metadata": {},
          "execution_count": 111
        },
        {
          "output_type": "display_data",
          "data": {
            "text/plain": [
              "<Figure size 640x480 with 1 Axes>"
            ],
            "image/png": "[encoded data removed]"
          },
          "metadata": {}
        }
      ]
    },
    {
      "cell_type": "code",
      "source": [
        "u_list_test = test_data.user_id_encoded.values\n",
        "v_list_test = test_data.anime_id_encoded.values\n",
        "ratings_list_test = test_data.rating.values\n",
        "predictions = jnp.sum(U[u_list_test.astype(int)] * V[v_list_test.astype(int)], axis=1)\n",
        "MSE = np.mean( (predictions - ratings_list_test)**2 )\n",
        "MSE"
      ],
      "metadata": {
        "colab": {
          "base_uri": "https://localhost:8080/"
        },
        "id": "d3NfEwQucucx",
        "outputId": "0c17167d-2295-41a6-88ba-f42dd83958d2"
      },
      "execution_count": 112,
      "outputs": [
        {
          "output_type": "execute_result",
          "data": {
            "text/plain": [
              "Array(1.98755565, dtype=float64)"
            ]
          },
          "metadata": {},
          "execution_count": 112
        }
      ]
    },
    {
      "cell_type": "markdown",
      "source": [
        "Not sure if my regularization is done correctly but it seems to not have an effect on test mse "
      ],
      "metadata": {
        "id": "PdyMFkpffVQg"
      }
    },
    {
      "cell_type": "code",
      "source": [
        "predictions"
      ],
      "metadata": {
        "colab": {
          "base_uri": "https://localhost:8080/"
        },
        "id": "qOs2Quo1eYIy",
        "outputId": "2b597a12-06fd-4e8e-ecf2-3f6e6d2ba32b"
      },
      "execution_count": 113,
      "outputs": [
        {
          "output_type": "execute_result",
          "data": {
            "text/plain": [
              "Array([7.30472207, 6.52982593, 9.46881191, ..., 5.88941204, 7.84824359,\n",
              "       7.19146363], dtype=float64)"
            ]
          },
          "metadata": {},
          "execution_count": 113
        }
      ]
    },
    {
      "cell_type": "markdown",
      "source": [
        "Predictions seems to be the same too"
      ],
      "metadata": {
        "id": "QnmuUBrFgDQs"
      }
    }
  ]
}