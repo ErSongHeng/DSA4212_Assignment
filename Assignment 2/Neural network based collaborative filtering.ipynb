{
 "cells": [
  {
   "cell_type": "code",
   "execution_count": 4,
   "id": "06606704",
   "metadata": {},
   "outputs": [],
   "source": [
    "import os\n",
    "import time\n",
    "import pandas as pd\n",
    "import numpy as np\n",
    "import math\n",
    "\n",
    "from sklearn.model_selection import train_test_split\n",
    "\n",
    "from tensorflow.keras.layers import Input, Embedding, Flatten, Dense, Multiply, Concatenate\n",
    "from tensorflow.keras.regularizers import l2\n",
    "from tensorflow.keras.models import Model\n",
    "from tensorflow.keras.optimizers import Adagrad, Adam, SGD, RMSprop\n",
    "from tensorflow.keras.callbacks import EarlyStopping\n",
    "import tensorflow.keras.backend as K\n",
    "from tensorflow.keras.models import load_model\n",
    "\n",
    "import matplotlib.pyplot as plt"
   ]
  },
  {
   "cell_type": "code",
   "execution_count": 2,
   "id": "b373042c",
   "metadata": {},
   "outputs": [],
   "source": [
    "# Read in the data\n",
    "\n",
    "anime_data = pd.read_csv('assignment_2_anime.csv')\n",
    "ratings_train = pd.read_csv('assignment_2_ratings_train.csv')\n",
    "ratings_test = pd.read_csv('assignment_2_ratings_test.csv')"
   ]
  },
  {
   "cell_type": "markdown",
   "id": "4dce1921",
   "metadata": {},
   "source": [
    "## Neural network based Collaborative Filtering"
   ]
  },
  {
   "cell_type": "markdown",
   "id": "66578b75",
   "metadata": {},
   "source": [
    "### Generalized Matrix Factorization"
   ]
  },
  {
   "cell_type": "code",
   "execution_count": 7,
   "id": "6ef0d262",
   "metadata": {},
   "outputs": [],
   "source": [
    "num_users = len(ratings_train.user_id.unique())\n",
    "num_anime = len(ratings_train.anime_id.unique())"
   ]
  },
  {
   "cell_type": "code",
   "execution_count": 8,
   "id": "0b77b886",
   "metadata": {},
   "outputs": [],
   "source": [
    "def get_GMF_model(num_users, num_anime, latent_dim, vu_reg, vi_reg):\n",
    "    \"\"\"\n",
    "    Build Generalized Matrix Factorization Model Topology\n",
    "    \n",
    "    Parameters\n",
    "    ----------\n",
    "    num_users: int, total number of users\n",
    "    num_anime: int, total number of anime\n",
    "    latent_dim: int, embedded dimension for user vector and anime vector\n",
    "    vu_reg: float, L2 regularization of user embedded layer\n",
    "    vi_reg: float, L2 regularization of anime embedded layer\n",
    "\n",
    "    Return\n",
    "    ------\n",
    "    A Keras Model with GMF model architeture\n",
    "    \"\"\"\n",
    "    # Input variables\n",
    "    user_input = Input(shape=(1,), dtype='int32', name='user_input')\n",
    "    anime_input = Input(shape=(1,), dtype='int32', name='anime_input')\n",
    "\n",
    "    MF_Embedding_User = Embedding(\n",
    "        input_dim=num_users + 1,\n",
    "        output_dim=latent_dim,\n",
    "        embeddings_initializer='uniform',\n",
    "        name='user_embedding',\n",
    "        embeddings_regularizer=l2(vu_reg),\n",
    "        input_length=1)\n",
    "    MF_Embedding_Anime = Embedding(\n",
    "        input_dim=num_anime + 1,\n",
    "        output_dim=latent_dim,\n",
    "        embeddings_initializer='uniform',\n",
    "        name='anime_embedding',\n",
    "        embeddings_regularizer=l2(vi_reg),\n",
    "        input_length=1) \n",
    "    \n",
    "    # Crucial to flatten an embedding vector!\n",
    "    user_latent = Flatten()(MF_Embedding_User(user_input))\n",
    "    anime_latent = Flatten()(MF_Embedding_Anime(anime_input))\n",
    "\n",
    "    # Element-wise product of user and anime embeddings \n",
    "    predict_vector = Multiply()([user_latent, anime_latent])\n",
    "    \n",
    "    # Final prediction layer\n",
    "    prediction = Dense(1, kernel_initializer='glorot_uniform', name='prediction')(predict_vector)\n",
    "    \n",
    "    # Stitch input and output\n",
    "    model = Model([user_input, anime_input], prediction)\n",
    "    \n",
    "    return model\n",
    "\n",
    "\n",
    "def train_model(model, learner, batch_size, epochs, val_split, inputs, outputs):\n",
    "    \"\"\"\n",
    "    define training routine, train models and save best model\n",
    "    \n",
    "    Parameters\n",
    "    ----------\n",
    "    model: a Keras model\n",
    "    learner: str, one of ['sgd', 'adam', 'rmsprop', 'adagrad']\n",
    "    batch_size: num samples per update\n",
    "    epochs: num iterations\n",
    "    val_split: split ratio for validation data\n",
    "    inputs: inputs data\n",
    "    outputs: outputs data\n",
    "    \"\"\"\n",
    "    # add customized metric\n",
    "    def mse(y_true, y_pred):\n",
    "        return K.mean(K.square(y_true - y_pred))\n",
    "    \n",
    "    # compile model\n",
    "    model.compile(optimizer=learner.lower(), loss='mean_squared_error', metrics=['mean_squared_error', mse])\n",
    "    \n",
    "    # add call backs\n",
    "    early_stopper = EarlyStopping(monitor='val_mse', patience=3, verbose=1)\n",
    "    \n",
    "    # train model\n",
    "    history = model.fit(inputs, outputs,\n",
    "                        batch_size=batch_size,\n",
    "                        epochs=epochs,\n",
    "                        validation_split=val_split,\n",
    "                        callbacks=[early_stopper])\n",
    "    return history"
   ]
  },
  {
   "cell_type": "code",
   "execution_count": 9,
   "id": "b0441f43",
   "metadata": {},
   "outputs": [
    {
     "name": "stdout",
     "output_type": "stream",
     "text": [
      "Model: \"model\"\n",
      "__________________________________________________________________________________________________\n",
      "Layer (type)                    Output Shape         Param #     Connected to                     \n",
      "==================================================================================================\n",
      "user_input (InputLayer)         [(None, 1)]          0                                            \n",
      "__________________________________________________________________________________________________\n",
      "anime_input (InputLayer)        [(None, 1)]          0                                            \n",
      "__________________________________________________________________________________________________\n",
      "user_embedding (Embedding)      (None, 1, 10)        684220      user_input[0][0]                 \n",
      "__________________________________________________________________________________________________\n",
      "anime_embedding (Embedding)     (None, 1, 10)        96330       anime_input[0][0]                \n",
      "__________________________________________________________________________________________________\n",
      "flatten (Flatten)               (None, 10)           0           user_embedding[0][0]             \n",
      "__________________________________________________________________________________________________\n",
      "flatten_1 (Flatten)             (None, 10)           0           anime_embedding[0][0]            \n",
      "__________________________________________________________________________________________________\n",
      "multiply (Multiply)             (None, 10)           0           flatten[0][0]                    \n",
      "                                                                 flatten_1[0][0]                  \n",
      "__________________________________________________________________________________________________\n",
      "prediction (Dense)              (None, 1)            11          multiply[0][0]                   \n",
      "==================================================================================================\n",
      "Total params: 780,561\n",
      "Trainable params: 780,561\n",
      "Non-trainable params: 0\n",
      "__________________________________________________________________________________________________\n"
     ]
    }
   ],
   "source": [
    "GMF_model = get_GMF_model(num_users, num_anime, 10, 0, 0)\n",
    "GMF_model.summary()"
   ]
  },
  {
   "cell_type": "code",
   "execution_count": 10,
   "id": "3e508ea9",
   "metadata": {},
   "outputs": [
    {
     "name": "stdout",
     "output_type": "stream",
     "text": [
      "Epoch 1/5\n",
      "55451/55451 [==============================] - 236s 4ms/step - loss: 5.2396 - mean_squared_error: 5.2396 - mse: 5.2396 - val_loss: 1.9458 - val_mean_squared_error: 1.9458 - val_mse: 1.9458\n",
      "Epoch 2/5\n",
      "55451/55451 [==============================] - 236s 4ms/step - loss: 1.8674 - mean_squared_error: 1.8674 - mse: 1.8674 - val_loss: 1.8792 - val_mean_squared_error: 1.8792 - val_mse: 1.8792\n",
      "Epoch 3/5\n",
      "55451/55451 [==============================] - 239s 4ms/step - loss: 1.7851 - mean_squared_error: 1.7851 - mse: 1.7851 - val_loss: 1.8618 - val_mean_squared_error: 1.8618 - val_mse: 1.8618\n",
      "Epoch 4/5\n",
      "55451/55451 [==============================] - 248s 4ms/step - loss: 1.7373 - mean_squared_error: 1.7373 - mse: 1.7373 - val_loss: 1.8621 - val_mean_squared_error: 1.8621 - val_mse: 1.8621\n",
      "Epoch 5/5\n",
      "55451/55451 [==============================] - 238s 4ms/step - loss: 1.7081 - mean_squared_error: 1.7081 - mse: 1.7081 - val_loss: 1.8608 - val_mean_squared_error: 1.8608 - val_mse: 1.8608\n"
     ]
    }
   ],
   "source": [
    "# model config\n",
    "BATCH_SIZE = 64\n",
    "EPOCHS = 5\n",
    "VAL_SPLIT = 0.20\n",
    "\n",
    "# train model\n",
    "history = train_model(GMF_model, 'adam', BATCH_SIZE, EPOCHS, VAL_SPLIT, \n",
    "                      inputs=[ratings_train.user_id.values, ratings_train.anime_id.values],\n",
    "                      outputs=ratings_train.rating.values)"
   ]
  },
  {
   "cell_type": "code",
   "execution_count": 16,
   "id": "d273b8f6",
   "metadata": {},
   "outputs": [],
   "source": [
    "def plot_learning_curve(history, metric):\n",
    "    \"\"\"\n",
    "    Plot learning curve to compare training error vs. validation error\n",
    "    \"\"\"\n",
    "    # get training error\n",
    "    errors = history.history[metric]\n",
    "    # get validation error\n",
    "    val_errors = history.history['val_{}'.format(metric)]\n",
    "    # get epochs\n",
    "    epochs = range(1, len(errors) + 1)\n",
    "\n",
    "    # plot\n",
    "    plt.figure(figsize=(12, 7))\n",
    "    plt.plot(epochs, errors, 'bo', label='training {}'.format(metric))\n",
    "    plt.plot(epochs, val_errors, 'b', label='validation {}'.format(metric))\n",
    "    plt.xlabel('number of epochs')\n",
    "    plt.ylabel(metric)\n",
    "    plt.title('Model Learning Curve')\n",
    "    plt.grid(True)\n",
    "    plt.legend()\n",
    "    plt.show()"
   ]
  },
  {
   "cell_type": "code",
   "execution_count": 17,
   "id": "19778db2",
   "metadata": {},
   "outputs": [
    {
     "data": {
      "image/png": "[encoded data removed]",
      "text/plain": [
       "<Figure size 864x504 with 1 Axes>"
      ]
     },
     "metadata": {
      "needs_background": "light"
     },
     "output_type": "display_data"
    }
   ],
   "source": [
    "plot_learning_curve(history, 'mse')"
   ]
  },
  {
   "cell_type": "code",
   "execution_count": 19,
   "id": "0c5ae1c9",
   "metadata": {},
   "outputs": [
    {
     "name": "stdout",
     "output_type": "stream",
     "text": [
      "Test MSE:  1.859\n"
     ]
    }
   ],
   "source": [
    "mse = lambda true, pred: np.mean(np.square(np.squeeze(predictions) - np.squeeze(ratings_test.rating.values)))\n",
    "\n",
    "predictions = GMF_model.predict([ratings_test.user_id.values, ratings_test.anime_id.values])\n",
    "\n",
    "error = mse(ratings_test.rating.values, predictions)\n",
    "print('Test MSE: ', round(error, 3))"
   ]
  },
  {
   "cell_type": "code",
   "execution_count": 23,
   "id": "10971c14",
   "metadata": {},
   "outputs": [],
   "source": [
    "def get_MLP_model(num_users, num_anime, layers, reg_layers):\n",
    "    \"\"\"\n",
    "    Build Multi-Layer Perceptron Model Topology\n",
    "    \n",
    "    Parameters\n",
    "    ----------\n",
    "    num_users: int, total number of users\n",
    "    num_anime: int, total number of anime\n",
    "    layers: list of int, each element is the number of hidden units for each layer,\n",
    "        with the exception of first element. First element is the sum of dims of\n",
    "        user latent vector and anime latent vector\n",
    "    reg_layers: list of int, each element is the L2 regularization parameter for\n",
    "        each layer in MLP\n",
    "\n",
    "    Return\n",
    "    ------\n",
    "    A Keras Model with MLP model architeture\n",
    "    \"\"\"\n",
    "    assert len(layers) == len(reg_layers)\n",
    "    num_layer = len(layers) # Number of layers in the MLP\n",
    "    # Input variables\n",
    "    user_input = Input(shape=(1,), dtype='int32', name='user_input')\n",
    "    anime_input = Input(shape=(1,), dtype='int32', name='anime_input')\n",
    "\n",
    "    MLP_Embedding_User = Embedding(\n",
    "        input_dim=num_users + 1,\n",
    "        output_dim=layers[0] // 2,\n",
    "        embeddings_initializer='uniform',\n",
    "        name='user_embedding',\n",
    "        embeddings_regularizer=l2(reg_layers[0]),\n",
    "        input_length=1)\n",
    "    MLP_Embedding_Anime = Embedding(\n",
    "        input_dim=num_anime + 1,\n",
    "        output_dim=layers[0] // 2,\n",
    "        embeddings_initializer='uniform',\n",
    "        name='anime_embedding',\n",
    "        embeddings_regularizer=l2(reg_layers[0]),\n",
    "        input_length=1) \n",
    "    \n",
    "    # Crucial to flatten an embedding vector!\n",
    "    user_latent = Flatten()(MLP_Embedding_User(user_input))\n",
    "    anime_latent = Flatten()(MLP_Embedding_Anime(anime_input))\n",
    "\n",
    "    # The 0-th layer is the concatenation of embedding layers\n",
    "    vector = Concatenate(axis=-1)([user_latent, anime_latent])\n",
    "\n",
    "    # MLP layers\n",
    "    for idx in range(1, num_layer):\n",
    "        layer = Dense(\n",
    "            units=layers[idx],\n",
    "            activation='relu',\n",
    "            kernel_initializer='glorot_uniform',\n",
    "            kernel_regularizer=l2(reg_layers[idx]),\n",
    "            name = 'layer%d' %idx)\n",
    "        vector = layer(vector)\n",
    "    \n",
    "    # Final prediction layer\n",
    "    prediction = Dense(1, kernel_initializer='glorot_uniform', name='prediction')(vector)\n",
    "    \n",
    "    # Stitch input and output\n",
    "    model = Model([user_input, anime_input], prediction)\n",
    "    \n",
    "    return model"
   ]
  },
  {
   "cell_type": "code",
   "execution_count": 24,
   "id": "a863e5a2",
   "metadata": {},
   "outputs": [
    {
     "name": "stdout",
     "output_type": "stream",
     "text": [
      "Model: \"model_6\"\n",
      "__________________________________________________________________________________________________\n",
      "Layer (type)                    Output Shape         Param #     Connected to                     \n",
      "==================================================================================================\n",
      "user_input (InputLayer)         [(None, 1)]          0                                            \n",
      "__________________________________________________________________________________________________\n",
      "anime_input (InputLayer)        [(None, 1)]          0                                            \n",
      "__________________________________________________________________________________________________\n",
      "user_embedding (Embedding)      (None, 1, 32)        2189504     user_input[0][0]                 \n",
      "__________________________________________________________________________________________________\n",
      "anime_embedding (Embedding)     (None, 1, 32)        308256      anime_input[0][0]                \n",
      "__________________________________________________________________________________________________\n",
      "flatten_14 (Flatten)            (None, 32)           0           user_embedding[0][0]             \n",
      "__________________________________________________________________________________________________\n",
      "flatten_15 (Flatten)            (None, 32)           0           anime_embedding[0][0]            \n",
      "__________________________________________________________________________________________________\n",
      "concatenate (Concatenate)       (None, 64)           0           flatten_14[0][0]                 \n",
      "                                                                 flatten_15[0][0]                 \n",
      "__________________________________________________________________________________________________\n",
      "layer1 (Dense)                  (None, 32)           2080        concatenate[0][0]                \n",
      "__________________________________________________________________________________________________\n",
      "layer2 (Dense)                  (None, 16)           528         layer1[0][0]                     \n",
      "__________________________________________________________________________________________________\n",
      "layer3 (Dense)                  (None, 8)            136         layer2[0][0]                     \n",
      "__________________________________________________________________________________________________\n",
      "prediction (Dense)              (None, 1)            9           layer3[0][0]                     \n",
      "==================================================================================================\n",
      "Total params: 2,500,513\n",
      "Trainable params: 2,500,513\n",
      "Non-trainable params: 0\n",
      "__________________________________________________________________________________________________\n"
     ]
    }
   ],
   "source": [
    "MLP_model = get_MLP_model(num_users, num_anime, [64, 32, 16, 8], [0, 0, 0, 0])\n",
    "MLP_model.summary()"
   ]
  },
  {
   "cell_type": "code",
   "execution_count": 25,
   "id": "c18411e3",
   "metadata": {},
   "outputs": [
    {
     "name": "stdout",
     "output_type": "stream",
     "text": [
      "Epoch 1/5\n",
      "55451/55451 [==============================] - 339s 6ms/step - loss: 1.8495 - mean_squared_error: 1.8495 - mse: 1.8495 - val_loss: 1.6650 - val_mean_squared_error: 1.6650 - val_mse: 1.6650\n",
      "Epoch 2/5\n",
      "55451/55451 [==============================] - 348s 6ms/step - loss: 1.6158 - mean_squared_error: 1.6158 - mse: 1.6158 - val_loss: 1.6217 - val_mean_squared_error: 1.6217 - val_mse: 1.6217\n",
      "Epoch 3/5\n",
      "55451/55451 [==============================] - 353s 6ms/step - loss: 1.5639 - mean_squared_error: 1.5639 - mse: 1.5639 - val_loss: 1.6163 - val_mean_squared_error: 1.6163 - val_mse: 1.6163\n",
      "Epoch 4/5\n",
      "55451/55451 [==============================] - 345s 6ms/step - loss: 1.5229 - mean_squared_error: 1.5229 - mse: 1.5229 - val_loss: 1.5996 - val_mean_squared_error: 1.5996 - val_mse: 1.5996\n",
      "Epoch 5/5\n",
      "55451/55451 [==============================] - 327s 6ms/step - loss: 1.4881 - mean_squared_error: 1.4881 - mse: 1.4881 - val_loss: 1.5953 - val_mean_squared_error: 1.5953 - val_mse: 1.5953\n"
     ]
    }
   ],
   "source": [
    "# model config\n",
    "BATCH_SIZE = 64\n",
    "EPOCHS = 5\n",
    "VAL_SPLIT = 0.2\n",
    "\n",
    "# train model\n",
    "history = train_model(MLP_model, 'adam', BATCH_SIZE, EPOCHS, VAL_SPLIT, \n",
    "                      inputs=[ratings_train.user_id.values, ratings_train.anime_id.values],\n",
    "                      outputs=ratings_train.rating.values)"
   ]
  },
  {
   "cell_type": "code",
   "execution_count": 26,
   "id": "91d9241f",
   "metadata": {},
   "outputs": [
    {
     "data": {
      "image/png": "[encoded data removed]",
      "text/plain": [
       "<Figure size 864x504 with 1 Axes>"
      ]
     },
     "metadata": {
      "needs_background": "light"
     },
     "output_type": "display_data"
    }
   ],
   "source": [
    "plot_learning_curve(history, 'mse')"
   ]
  },
  {
   "cell_type": "code",
   "execution_count": 27,
   "id": "8674c49d",
   "metadata": {},
   "outputs": [
    {
     "name": "stdout",
     "output_type": "stream",
     "text": [
      "Test MSE:  1.595\n"
     ]
    }
   ],
   "source": [
    "# make prediction using test data\n",
    "predictions = MLP_model.predict([ratings_test.user_id.values, ratings_test.anime_id.values])\n",
    "# get the MSE\n",
    "error = mse(ratings_test.rating.values, predictions)\n",
    "print('Test MSE: ', round(error, 3))"
   ]
  },
  {
   "cell_type": "code",
   "execution_count": 28,
   "id": "ec1d1ea4",
   "metadata": {},
   "outputs": [],
   "source": [
    "def get_NeuMF_model(num_users, num_anime, MF_dim, MF_reg, MLP_layers, MLP_regs):\n",
    "    \"\"\"\n",
    "    Build Neural Matrix Factorization (NeuMF) Model Topology.\n",
    "    This is stack version of both GMF and MLP\n",
    "    \n",
    "    Parameters\n",
    "    ----------\n",
    "    num_users: int, total number of users\n",
    "    num_anime: int, total number of anime\n",
    "    MF_dim: int, embedded dimension for user vector and anime vector in MF\n",
    "    MF_reg: tuple of float, L2 regularization of MF embedded layer\n",
    "    MLP_layers: list of int, each element is the number of hidden units for each MLP layer,\n",
    "        with the exception of first element. First element is the sum of dims of\n",
    "        user latent vector and anime latent vector\n",
    "    MLP_regs: list of int, each element is the L2 regularization parameter for\n",
    "        each layer in MLP\n",
    "\n",
    "    Return\n",
    "    ------\n",
    "    A Keras Model with MLP model architeture\n",
    "    \"\"\"\n",
    "    assert len(MLP_layers) == len(MLP_regs)\n",
    "    num_MLP_layer = len(MLP_layers) # Number of layers in the MLP\n",
    "    # Input variables\n",
    "    user_input = Input(shape=(1,), dtype='int32', name='user_input')\n",
    "    anime_input = Input(shape=(1,), dtype='int32', name='anime_input')\n",
    "\n",
    "    # Embedding layer\n",
    "    \n",
    "    # MF\n",
    "    MF_Embedding_User = Embedding(\n",
    "        input_dim=num_users + 1,\n",
    "        output_dim=MF_dim,\n",
    "        embeddings_initializer='uniform',\n",
    "        name='mf_user_embedding',\n",
    "        embeddings_regularizer=l2(MF_reg[0]),\n",
    "        input_length=1)\n",
    "    MF_Embedding_Anime = Embedding(\n",
    "        input_dim=num_anime + 1,\n",
    "        output_dim=MF_dim,\n",
    "        embeddings_initializer='uniform',\n",
    "        name='mf_anime_embedding',\n",
    "        embeddings_regularizer=l2(MF_reg[1]),\n",
    "        input_length=1)\n",
    "    \n",
    "    # MLP\n",
    "    MLP_Embedding_User = Embedding(\n",
    "        input_dim=num_users + 1,\n",
    "        output_dim=MLP_layers[0] // 2,\n",
    "        embeddings_initializer='uniform',\n",
    "        name='mlp_user_embedding',\n",
    "        embeddings_regularizer=l2(MLP_regs[0]),\n",
    "        input_length=1)\n",
    "    MLP_Embedding_Anime = Embedding(\n",
    "        input_dim=num_anime + 1,\n",
    "        output_dim=MLP_layers[0] // 2,\n",
    "        embeddings_initializer='uniform',\n",
    "        name='mlp_anime_embedding',\n",
    "        embeddings_regularizer=l2(MLP_regs[0]),\n",
    "        input_length=1) \n",
    "    \n",
    "    # MF part\n",
    "    mf_user_latent = Flatten()(MF_Embedding_User(user_input))\n",
    "    mf_anime_latent = Flatten()(MF_Embedding_Anime(anime_input))\n",
    "    mf_vector = Multiply()([mf_user_latent, mf_anime_latent])\n",
    "\n",
    "    # MLP part\n",
    "    mlp_user_latent = Flatten()(MLP_Embedding_User(user_input))\n",
    "    mlp_anime_latent = Flatten()(MLP_Embedding_Anime(anime_input))\n",
    "    mlp_vector = Concatenate(axis=-1)([mlp_user_latent, mlp_anime_latent])\n",
    "    for idx in range(1, num_MLP_layer):\n",
    "        layer = Dense(\n",
    "            units=MLP_layers[idx],\n",
    "            activation='relu',\n",
    "            kernel_initializer='glorot_uniform',\n",
    "            kernel_regularizer=l2(MLP_regs[idx]),\n",
    "            name = 'layer%d' %idx)\n",
    "        mlp_vector = layer(mlp_vector)\n",
    "    \n",
    "    # Concatenate MF and MLP parts\n",
    "    predict_vector = Concatenate(axis=-1)([mf_vector, mlp_vector])\n",
    "\n",
    "    # Final prediction layer\n",
    "    prediction = Dense(1, kernel_initializer='glorot_uniform', name='prediction')(predict_vector)\n",
    "    \n",
    "    # Stitch input and output\n",
    "    model = Model([user_input, anime_input], prediction)\n",
    "    \n",
    "    return model"
   ]
  },
  {
   "cell_type": "code",
   "execution_count": 29,
   "id": "b23be7a4",
   "metadata": {},
   "outputs": [
    {
     "name": "stdout",
     "output_type": "stream",
     "text": [
      "Model: \"model_7\"\n",
      "__________________________________________________________________________________________________\n",
      "Layer (type)                    Output Shape         Param #     Connected to                     \n",
      "==================================================================================================\n",
      "user_input (InputLayer)         [(None, 1)]          0                                            \n",
      "__________________________________________________________________________________________________\n",
      "anime_input (InputLayer)        [(None, 1)]          0                                            \n",
      "__________________________________________________________________________________________________\n",
      "mlp_user_embedding (Embedding)  (None, 1, 32)        2189504     user_input[0][0]                 \n",
      "__________________________________________________________________________________________________\n",
      "mlp_anime_embedding (Embedding) (None, 1, 32)        308256      anime_input[0][0]                \n",
      "__________________________________________________________________________________________________\n",
      "flatten_18 (Flatten)            (None, 32)           0           mlp_user_embedding[0][0]         \n",
      "__________________________________________________________________________________________________\n",
      "flatten_19 (Flatten)            (None, 32)           0           mlp_anime_embedding[0][0]        \n",
      "__________________________________________________________________________________________________\n",
      "concatenate_1 (Concatenate)     (None, 64)           0           flatten_18[0][0]                 \n",
      "                                                                 flatten_19[0][0]                 \n",
      "__________________________________________________________________________________________________\n",
      "mf_user_embedding (Embedding)   (None, 1, 10)        684220      user_input[0][0]                 \n",
      "__________________________________________________________________________________________________\n",
      "mf_anime_embedding (Embedding)  (None, 1, 10)        96330       anime_input[0][0]                \n",
      "__________________________________________________________________________________________________\n",
      "layer1 (Dense)                  (None, 32)           2080        concatenate_1[0][0]              \n",
      "__________________________________________________________________________________________________\n",
      "flatten_16 (Flatten)            (None, 10)           0           mf_user_embedding[0][0]          \n",
      "__________________________________________________________________________________________________\n",
      "flatten_17 (Flatten)            (None, 10)           0           mf_anime_embedding[0][0]         \n",
      "__________________________________________________________________________________________________\n",
      "layer2 (Dense)                  (None, 16)           528         layer1[0][0]                     \n",
      "__________________________________________________________________________________________________\n",
      "multiply_6 (Multiply)           (None, 10)           0           flatten_16[0][0]                 \n",
      "                                                                 flatten_17[0][0]                 \n",
      "__________________________________________________________________________________________________\n",
      "layer3 (Dense)                  (None, 8)            136         layer2[0][0]                     \n",
      "__________________________________________________________________________________________________\n",
      "concatenate_2 (Concatenate)     (None, 18)           0           multiply_6[0][0]                 \n",
      "                                                                 layer3[0][0]                     \n",
      "__________________________________________________________________________________________________\n",
      "prediction (Dense)              (None, 1)            19          concatenate_2[0][0]              \n",
      "==================================================================================================\n",
      "Total params: 3,281,073\n",
      "Trainable params: 3,281,073\n",
      "Non-trainable params: 0\n",
      "__________________________________________________________________________________________________\n"
     ]
    }
   ],
   "source": [
    "NeuMF_model = get_NeuMF_model(\n",
    "    num_users=num_users,\n",
    "    num_anime=num_anime,\n",
    "    MF_dim=10,\n",
    "    MF_reg=(0, 0),\n",
    "    MLP_layers=[64, 32, 16, 8],\n",
    "    MLP_regs=[0, 0, 0, 0])\n",
    "NeuMF_model.summary()"
   ]
  },
  {
   "cell_type": "code",
   "execution_count": 30,
   "id": "230b8ba9",
   "metadata": {},
   "outputs": [
    {
     "name": "stdout",
     "output_type": "stream",
     "text": [
      "Epoch 1/5\n",
      "55451/55451 [==============================] - 364s 7ms/step - loss: 1.8674 - mean_squared_error: 1.8674 - mse: 1.8674 - val_loss: 1.6502 - val_mean_squared_error: 1.6502 - val_mse: 1.6502\n",
      "Epoch 2/5\n",
      "55451/55451 [==============================] - 362s 7ms/step - loss: 1.5526 - mean_squared_error: 1.5526 - mse: 1.5526 - val_loss: 1.6085 - val_mean_squared_error: 1.6085 - val_mse: 1.6085\n",
      "Epoch 3/5\n",
      "55451/55451 [==============================] - 363s 7ms/step - loss: 1.4659 - mean_squared_error: 1.4659 - mse: 1.4659 - val_loss: 1.6069 - val_mean_squared_error: 1.6069 - val_mse: 1.6069\n",
      "Epoch 4/5\n",
      "55451/55451 [==============================] - 366s 7ms/step - loss: 1.4138 - mean_squared_error: 1.4138 - mse: 1.4138 - val_loss: 1.6160 - val_mean_squared_error: 1.6160 - val_mse: 1.6160\n",
      "Epoch 5/5\n",
      "55451/55451 [==============================] - 371s 7ms/step - loss: 1.3768 - mean_squared_error: 1.3768 - mse: 1.3768 - val_loss: 1.6152 - val_mean_squared_error: 1.6152 - val_mse: 1.6152\n"
     ]
    }
   ],
   "source": [
    "# model config\n",
    "BATCH_SIZE = 64\n",
    "EPOCHS = 5\n",
    "VAL_SPLIT = 0.2\n",
    "\n",
    "# train model\n",
    "history = train_model(NeuMF_model, 'adam', BATCH_SIZE, EPOCHS, VAL_SPLIT, \n",
    "                      inputs=[ratings_train.user_id.values, ratings_train.anime_id.values],\n",
    "                      outputs=ratings_train.rating.values)"
   ]
  },
  {
   "cell_type": "code",
   "execution_count": 31,
   "id": "1d2821e8",
   "metadata": {},
   "outputs": [
    {
     "data": {
      "image/png": "[encoded data removed]",
      "text/plain": [
       "<Figure size 864x504 with 1 Axes>"
      ]
     },
     "metadata": {
      "needs_background": "light"
     },
     "output_type": "display_data"
    }
   ],
   "source": [
    "plot_learning_curve(history, 'mse')"
   ]
  },
  {
   "cell_type": "code",
   "execution_count": 32,
   "id": "65630b23",
   "metadata": {},
   "outputs": [
    {
     "name": "stdout",
     "output_type": "stream",
     "text": [
      "Test MSE:  1.616\n"
     ]
    }
   ],
   "source": [
    "# make prediction using test data\n",
    "predictions = NeuMF_model.predict([ratings_test.user_id.values, ratings_test.anime_id.values])\n",
    "\n",
    "error = mse(ratings_test.rating.values, predictions)\n",
    "print('Test MSE: ', round(error, 3))"
   ]
  }
 ],
 "metadata": {
  "kernelspec": {
   "display_name": "Python 3 (ipykernel)",
   "language": "python",
   "name": "python3"
  },
  "language_info": {
   "codemirror_mode": {
    "name": "ipython",
    "version": 3
   },
   "file_extension": ".py",
   "mimetype": "text/x-python",
   "name": "python",
   "nbconvert_exporter": "python",
   "pygments_lexer": "ipython3",
   "version": "3.9.7"
  }
 },
 "nbformat": 4,
 "nbformat_minor": 5
}
