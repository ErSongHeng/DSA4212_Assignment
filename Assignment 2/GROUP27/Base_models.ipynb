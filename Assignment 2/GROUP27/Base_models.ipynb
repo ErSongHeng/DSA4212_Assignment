{
  "nbformat": 4,
  "nbformat_minor": 0,
  "metadata": {
    "colab": {
      "provenance": []
    },
    "kernelspec": {
      "name": "python3",
      "display_name": "Python 3"
    },
    "language_info": {
      "name": "python"
    }
  },
  "cells": [
    {
      "cell_type": "code",
      "execution_count": 1,
      "metadata": {
        "colab": {
          "base_uri": "https://localhost:8080/"
        },
        "id": "cmP6w-E6k2vs",
        "outputId": "2ae466fd-029f-4c97-bc14-e51c59ffc411"
      },
      "outputs": [
        {
          "output_type": "stream",
          "name": "stdout",
          "text": [
            "Mounted at /content/drive\n",
            "/content/drive/MyDrive/DSA4212/dataset/assignment_2\n"
          ]
        }
      ],
      "source": [
        "# mount the Google Drive\n",
        "from google.colab import drive\n",
        "drive.mount(\"/content/drive\")\n",
        "%cd /content/drive/MyDrive/DSA4212/dataset/assignment_2"
      ]
    },
    {
      "cell_type": "code",
      "source": [
        "import jax as jx\n",
        "from jax.config import config\n",
        "config.update('jax_enable_x64', True)  # often needed for LBFGS that requires high-precision\n",
        "\n",
        "\n",
        "import jax.numpy as jnp\n",
        "import numpy as onp\n",
        "import pylab as plt\n",
        "import tqdm\n",
        "\n",
        "import imageio\n",
        "import os\n",
        "from skimage.transform import rescale, resize, downscale_local_mean\n",
        "import pandas as pd\n",
        "import time\n",
        "import scipy\n",
        "\n",
        "try:\n",
        "    import surprise\n",
        "except ModuleNotFoundError: # Install supriise  if missing\n",
        "    !pip install --quiet surprise\n",
        "    import surprise\n",
        "     \n",
        "\n",
        "from surprise import NormalPredictor,KNNBasic\n",
        "from surprise import Dataset\n",
        "from surprise import Reader\n",
        "\n",
        "from surprise.model_selection.validation import cross_validate"
      ],
      "metadata": {
        "id": "_2NbMa1zlWrY",
        "colab": {
          "base_uri": "https://localhost:8080/"
        },
        "outputId": "38ff0861-3aa0-451d-97e3-e557ffeda2ee"
      },
      "execution_count": 3,
      "outputs": [
        {
          "output_type": "stream",
          "name": "stdout",
          "text": [
            "  Preparing metadata (setup.py) ... \u001b[?25l\u001b[?25hdone\n",
            "  Building wheel for scikit-surprise (setup.py) ... \u001b[?25l\u001b[?25hdone\n"
          ]
        }
      ]
    },
    {
      "cell_type": "code",
      "source": [
        "# Reading in data\n",
        "# anime_id,name,genre,type,rating,members\n",
        "anime_name = pd.read_csv(\"assignment_2_anime.csv\")\n",
        "\n",
        "# User_id,anime_id,rating\n",
        "train = pd.read_csv(\"assignment_2_ratings_train.csv\")\n",
        "# User_id,anime_id,rating\n",
        "test = pd.read_csv(\"assignment_2_ratings_test.csv\")"
      ],
      "metadata": {
        "id": "rmbW2fSwlgN7"
      },
      "execution_count": 19,
      "outputs": []
    },
    {
      "cell_type": "code",
      "source": [
        "#mse function \n",
        "def mse(pred,y):\n",
        "  return onp.mean((pred-y)**2)"
      ],
      "metadata": {
        "id": "gxBIiFLHakif"
      },
      "execution_count": 9,
      "outputs": []
    },
    {
      "cell_type": "markdown",
      "source": [
        "# User mean model"
      ],
      "metadata": {
        "id": "mvCE-E5ilo8K"
      }
    },
    {
      "cell_type": "code",
      "source": [
        "def user_mean_model(df_train,df_test):\n",
        "  \"\"\"\n",
        "  Takes input as training data frame and test data frame\n",
        "  finds the user mean from training data frame and apply as prediction for test data frame and find the relevant test mse \n",
        "  \"\"\"\n",
        "  user_mean= df_train.groupby('user_id')['rating'].mean().to_frame().reset_index()\n",
        "  user_mean.rename(columns = {'rating':'prediction'},\n",
        "          inplace = True)\n",
        "  #merge prediction with test data\n",
        "  df_test_with_pred=pd.merge(df_test,user_mean,how=\"left\",on=\"user_id\").fillna(0)\n",
        "  #return the test mse \n",
        "  return mse(df_test_with_pred[\"prediction\"],df_test_with_pred[\"rating\"])"
      ],
      "metadata": {
        "id": "qjDhxB20oN31"
      },
      "execution_count": 10,
      "outputs": []
    },
    {
      "cell_type": "code",
      "source": [
        "user_mean_model(train,test)"
      ],
      "metadata": {
        "id": "QxAJVk7gBsl3",
        "outputId": "8e9bc1c2-2c6f-4f45-b8de-f9a14dbaf1bb",
        "colab": {
          "base_uri": "https://localhost:8080/"
        }
      },
      "execution_count": 20,
      "outputs": [
        {
          "output_type": "execute_result",
          "data": {
            "text/plain": [
              "1.9264275564706208"
            ]
          },
          "metadata": {},
          "execution_count": 20
        }
      ]
    },
    {
      "cell_type": "markdown",
      "source": [
        "# Anime mean model"
      ],
      "metadata": {
        "id": "P9F9dCQfmDQJ"
      }
    },
    {
      "cell_type": "code",
      "source": [
        "def anime_mean_model(df_train,df_test):\n",
        "  \"\"\"\n",
        "  Takes input as training data frame and test data frame\n",
        "  finds the anime mean from training data frame and apply as prediction for test data frame and find the relevant test mse \n",
        "  \"\"\"\n",
        "  anime_mean= df_train.groupby('anime_id')['rating'].mean().to_frame().reset_index()\n",
        "  anime_mean.rename(columns = {'rating':'prediction'},\n",
        "          inplace = True)\n",
        "  #merge prediction with test data\n",
        "  df_test_with_pred=pd.merge(df_test,anime_mean,how=\"left\",on=\"anime_id\").fillna(0)\n",
        "  #return the test mse \n",
        "  return mse(df_test_with_pred[\"prediction\"],df_test_with_pred[\"rating\"])"
      ],
      "metadata": {
        "id": "9wgI7_Gos1Ec"
      },
      "execution_count": 12,
      "outputs": []
    },
    {
      "cell_type": "code",
      "source": [
        "anime_mean_model(train,test)"
      ],
      "metadata": {
        "colab": {
          "base_uri": "https://localhost:8080/"
        },
        "id": "LlD0MzreuUtl",
        "outputId": "f026ac21-d8fa-42d5-a2fe-a94dc4055920"
      },
      "execution_count": 21,
      "outputs": [
        {
          "output_type": "execute_result",
          "data": {
            "text/plain": [
              "2.066542133906232"
            ]
          },
          "metadata": {},
          "execution_count": 21
        }
      ]
    },
    {
      "cell_type": "markdown",
      "source": [
        "# Global mean model"
      ],
      "metadata": {
        "id": "2kp7ebPhmH3k"
      }
    },
    {
      "cell_type": "code",
      "source": [
        "def global_mean_model(df_train,df_test):\n",
        "  \"\"\"\n",
        "  Takes input as training data frame and test data frame\n",
        "  finds the global mean from training data frame and apply as prediction for test data frame and find the relevant test mse \n",
        "  \"\"\"\n",
        "  mean= df_train['rating'].mean()\n",
        "\n",
        "  \n",
        "\n",
        "  return mse(mean,df_test[\"rating\"])"
      ],
      "metadata": {
        "id": "RFvWKx_ytcUe"
      },
      "execution_count": 14,
      "outputs": []
    },
    {
      "cell_type": "code",
      "source": [
        "global_mean_model(train,test)"
      ],
      "metadata": {
        "colab": {
          "base_uri": "https://localhost:8080/"
        },
        "id": "vopKcNzsuNdE",
        "outputId": "c82c12c3-2238-4b5a-a4e7-23e57da7daaa"
      },
      "execution_count": 22,
      "outputs": [
        {
          "output_type": "execute_result",
          "data": {
            "text/plain": [
              "2.472703843572946"
            ]
          },
          "metadata": {},
          "execution_count": 22
        }
      ]
    },
    {
      "cell_type": "markdown",
      "source": [
        "# Normal approximation model"
      ],
      "metadata": {
        "id": "VsELlePvnT0Z"
      }
    },
    {
      "cell_type": "code",
      "source": [
        "\n",
        "# Train data\n",
        "reader = Reader(rating_scale = (1, 10))\n",
        "\n",
        "train_data = Dataset.load_from_df(train[['user_id', 'anime_id', 'rating']], reader)\n",
        "\n",
        "trainset = train_data.build_full_trainset()\n",
        "\n",
        "# Test data\n",
        "reader = Reader(rating_scale = (1, 10))\n",
        "\n",
        "test_data = Dataset.load_from_df(test[['user_id', 'anime_id', 'rating']], reader)\n",
        "\n",
        "testset = test_data.build_full_trainset().build_testset()\n",
        "     \n",
        "\n",
        "\n",
        "     \n",
        "\n",
        "\n",
        "\n"
      ],
      "metadata": {
        "id": "Vf_VqgUZnOI_"
      },
      "execution_count": 23,
      "outputs": []
    },
    {
      "cell_type": "code",
      "source": [
        "algo = NormalPredictor()\n",
        "algo.fit(trainset)"
      ],
      "metadata": {
        "colab": {
          "base_uri": "https://localhost:8080/"
        },
        "id": "jQIAC8YknamR",
        "outputId": "c4f9a4b0-ecf9-44ce-b19e-5777dacdd3d7"
      },
      "execution_count": 24,
      "outputs": [
        {
          "output_type": "execute_result",
          "data": {
            "text/plain": [
              "<surprise.prediction_algorithms.random_pred.NormalPredictor at 0x7efecfe69310>"
            ]
          },
          "metadata": {},
          "execution_count": 24
        }
      ]
    },
    {
      "cell_type": "code",
      "source": [
        "predictions = algo.test(testset)\n",
        "surprise.accuracy.mse(predictions)"
      ],
      "metadata": {
        "colab": {
          "base_uri": "https://localhost:8080/"
        },
        "id": "bq6tER7pncet",
        "outputId": "572f565f-cb47-4e24-d401-be2b1a307605"
      },
      "execution_count": 26,
      "outputs": [
        {
          "output_type": "stream",
          "name": "stdout",
          "text": [
            "MSE: 4.6138\n"
          ]
        },
        {
          "output_type": "execute_result",
          "data": {
            "text/plain": [
              "4.6138226969959035"
            ]
          },
          "metadata": {},
          "execution_count": 26
        }
      ]
    }
  ]
}