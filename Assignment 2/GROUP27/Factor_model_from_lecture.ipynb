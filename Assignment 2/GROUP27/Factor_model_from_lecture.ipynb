{
  "nbformat": 4,
  "nbformat_minor": 0,
  "metadata": {
    "colab": {
      "provenance": [],
      "gpuType": "T4"
    },
    "kernelspec": {
      "name": "python3",
      "display_name": "Python 3"
    },
    "language_info": {
      "name": "python"
    },
    "accelerator": "GPU",
    "gpuClass": "standard"
  },
  "cells": [
    {
      "cell_type": "code",
      "execution_count": 1,
      "metadata": {
        "colab": {
          "base_uri": "https://localhost:8080/"
        },
        "id": "cmP6w-E6k2vs",
        "outputId": "d90d9a56-b3f5-4622-9eca-5974524a926f"
      },
      "outputs": [
        {
          "output_type": "stream",
          "name": "stdout",
          "text": [
            "Mounted at /content/drive\n",
            "/content/drive/MyDrive/DSA4212/dataset/assignment_2\n"
          ]
        }
      ],
      "source": [
        "# mount the Google Drive\n",
        "from google.colab import drive\n",
        "drive.mount(\"/content/drive\")\n",
        "%cd /content/drive/MyDrive/DSA4212/dataset/assignment_2"
      ]
    },
    {
      "cell_type": "code",
      "source": [
        "import jax \n",
        "from jax.config import config\n",
        "config.update('jax_enable_x64', True)  # often needed for LBFGS that requires high-precision\n",
        "\n",
        "\n",
        "import jax.numpy as jnp\n",
        "import numpy as np\n",
        "import pylab as plt\n",
        "\n",
        "import imageio\n",
        "import os\n",
        "from skimage.transform import rescale, resize, downscale_local_mean\n",
        "import pandas as pd\n",
        "import time\n",
        "import scipy\n",
        "from pandas.tseries.frequencies import unique\n",
        "import tqdm"
      ],
      "metadata": {
        "id": "_2NbMa1zlWrY"
      },
      "execution_count": 2,
      "outputs": []
    },
    {
      "cell_type": "code",
      "source": [
        "#reading in test and training data \n",
        "test_data=pd.read_csv('assignment_2_ratings_test.csv')\n",
        "train_data=pd.read_csv('assignment_2_ratings_train.csv')"
      ],
      "metadata": {
        "id": "rmbW2fSwlgN7"
      },
      "execution_count": 3,
      "outputs": []
    },
    {
      "cell_type": "code",
      "source": [
        "#functions that are used to encode the data \n",
        "\n",
        "def encode_column(column):\n",
        "    keys = column.unique()\n",
        "    key_to_id = {key:idx for idx,key in enumerate(keys)}\n",
        "    return key_to_id, np.array([key_to_id[x] for x in column]), len(keys)\n",
        "\n",
        "def encode_column_dict(column):\n",
        "    keys = column.unique()\n",
        "    key_to_id = {key:idx for idx,key in enumerate(keys)}\n",
        "    return key_to_id\n",
        "\n",
        "# This is basically to apply the encode_column function on our columns of choice\n",
        "def encode_df(data):\n",
        "    anime_ids, data['anime_id'], num_anime = encode_column(data['anime_id'])\n",
        "    user_ids, data['user_id'], num_users = encode_column(data['user_id'])\n",
        "    return data, num_users, num_anime, user_ids, anime_ids"
      ],
      "metadata": {
        "id": "wT1dbl13-qYm"
      },
      "execution_count": 4,
      "outputs": []
    },
    {
      "cell_type": "markdown",
      "source": [
        "# Base model \n",
        "\n",
        "Initialising U and V from a random normal distribution where U is of the  dimension (number of unique user_ids in training data x 3) and V is of the dimension (number of unique anime_ids in training data x 3)"
      ],
      "metadata": {
        "id": "-DnCplHiZHZV"
      }
    },
    {
      "cell_type": "code",
      "source": [
        "# encoding training data\n",
        "train_data, num_users, num_anime, user_ids, anime_ids = encode_df(train_data)"
      ],
      "metadata": {
        "id": "bht5TqZKZenx"
      },
      "execution_count": 5,
      "outputs": []
    },
    {
      "cell_type": "code",
      "source": [
        "#intialising training model \n",
        "\n",
        "ratings_list = train_data.rating.values\n",
        "u_list = train_data.user_id.values\n",
        "v_list = train_data.anime_id.values\n",
        "\n",
        "def model(U, V):\n",
        "  \"\"\"\n",
        "  U -- (p, r) -- factors of the p users\n",
        "  V -- (q, r) -- factors of the q films\n",
        "  \"\"\"\n",
        "  predictions = jnp.sum(U[u_list.astype(int)] * V[v_list.astype(int)], axis=1)\n",
        "  MSE = np.mean( (predictions - ratings_list)**2 )\n",
        "  return MSE\n",
        "\n",
        "\n",
        "# Getting gradient \n",
        "model_grad_U = jax.jit( jax.grad(model, argnums=0) )\n",
        "model_grad_V = jax.jit( jax.grad(model, argnums=1) )"
      ],
      "metadata": {
        "id": "KtSec9JaaLNb"
      },
      "execution_count": 6,
      "outputs": []
    },
    {
      "cell_type": "code",
      "source": [
        "#intialising U and V from random normal distribution \n",
        "\n",
        "\n",
        "# 68421 x 3 U init matrix\n",
        "U_init = np.random.normal(0,1,size=(68421,3))\n",
        "\n",
        "# 9632 x 3 matrix V init matrix\n",
        "V_init = np.random.normal(0,1,size=(9632,3))\n",
        "\n",
        "#model(U_init,V_init)"
      ],
      "metadata": {
        "id": "wH_cQORCeUlY"
      },
      "execution_count": 7,
      "outputs": []
    },
    {
      "cell_type": "code",
      "source": [
        "# Gradient descent\n",
        "niter = 100\n",
        "eta = 100\n",
        "loss_traj = []\n",
        "\n",
        "U = np.copy(U_init)\n",
        "V = np.copy(V_init)\n",
        "\n",
        "for _ in tqdm.tqdm(range(niter)):\n",
        "  # compute my gradients\n",
        "  grad_u = model_grad_U(U,V)\n",
        "  grad_v = model_grad_V(U,V)\n",
        "\n",
        "  # do the GD update\n",
        "  U = U - eta * grad_u\n",
        "  V = V - eta * grad_v\n",
        "\n",
        "  # monitor the loss\n",
        "  loss_traj.append( model(U,V) )"
      ],
      "metadata": {
        "colab": {
          "base_uri": "https://localhost:8080/"
        },
        "id": "5pHPP-pKedyy",
        "outputId": "1f071ccc-e84c-46f5-b1ce-b00f2fe28e88"
      },
      "execution_count": 8,
      "outputs": [
        {
          "output_type": "stream",
          "name": "stderr",
          "text": [
            "100%|██████████| 100/100 [00:18<00:00,  5.53it/s]\n"
          ]
        }
      ]
    },
    {
      "cell_type": "code",
      "source": [
        "plt.plot(loss_traj)"
      ],
      "metadata": {
        "colab": {
          "base_uri": "https://localhost:8080/",
          "height": 447
        },
        "id": "7FOAJ_vSegYq",
        "outputId": "f446cb40-2208-46fb-b8dd-64685a632542"
      },
      "execution_count": 9,
      "outputs": [
        {
          "output_type": "execute_result",
          "data": {
            "text/plain": [
              "[<matplotlib.lines.Line2D at 0x7f875dbe9100>]"
            ]
          },
          "metadata": {},
          "execution_count": 9
        },
        {
          "output_type": "display_data",
          "data": {
            "text/plain": [
              "<Figure size 640x480 with 1 Axes>"
            ],
            "image/png": "[encoded data removed]"
          },
          "metadata": {}
        }
      ]
    },
    {
      "cell_type": "code",
      "source": [
        "# Encode test data with the same as training data which is just saying that we want to make sure that the same user/anime are given the \n",
        "# same index mapping in both data sets\n",
        "def encode_new_data(test_data, user_ids, anime_ids):\n",
        "    \"\"\" Encodes test_df with the same encoding as train_df.\n",
        "    \"\"\"\n",
        "    # This is to check for each row entry in the test data set if it exists in the training set\n",
        "    df_val_chosen = test_data['anime_id'].isin(anime_ids.keys()) & test_data['user_id'].isin(user_ids.keys())\n",
        "\n",
        "    # Only use rows in the test data that exists for \n",
        "    test_data = test_data[df_val_chosen]\n",
        "    test_data['anime_id'] =  np.array([anime_ids[x] for x in test_data['anime_id']])\n",
        "    test_data['user_id'] = np.array([user_ids[x] for x in test_data['user_id']])\n",
        "    return test_data\n",
        "\n",
        "test_data = encode_new_data(test_data, user_ids, anime_ids)"
      ],
      "metadata": {
        "colab": {
          "base_uri": "https://localhost:8080/"
        },
        "id": "ZrN7cLP_eikG",
        "outputId": "541b28ba-e601-47e4-ae45-7f150a0554cd"
      },
      "execution_count": 10,
      "outputs": [
        {
          "output_type": "stream",
          "name": "stderr",
          "text": [
            "<ipython-input-10-6fcc334f631a>:11: SettingWithCopyWarning: \n",
            "A value is trying to be set on a copy of a slice from a DataFrame.\n",
            "Try using .loc[row_indexer,col_indexer] = value instead\n",
            "\n",
            "See the caveats in the documentation: https://pandas.pydata.org/pandas-docs/stable/user_guide/indexing.html#returning-a-view-versus-a-copy\n",
            "  test_data['anime_id'] =  np.array([anime_ids[x] for x in test_data['anime_id']])\n",
            "<ipython-input-10-6fcc334f631a>:12: SettingWithCopyWarning: \n",
            "A value is trying to be set on a copy of a slice from a DataFrame.\n",
            "Try using .loc[row_indexer,col_indexer] = value instead\n",
            "\n",
            "See the caveats in the documentation: https://pandas.pydata.org/pandas-docs/stable/user_guide/indexing.html#returning-a-view-versus-a-copy\n",
            "  test_data['user_id'] = np.array([user_ids[x] for x in test_data['user_id']])\n"
          ]
        }
      ]
    },
    {
      "cell_type": "code",
      "source": [
        "# finding test mse \n",
        "u_list = test_data.user_id.values\n",
        "v_list = test_data.anime_id.values\n",
        "ratings_list = test_data.rating.values\n",
        "predictions = jnp.sum(U[u_list.astype(int)] * V[v_list.astype(int)], axis=1)\n",
        "MSE = np.mean( (predictions - ratings_list)**2 )\n",
        "MSE"
      ],
      "metadata": {
        "colab": {
          "base_uri": "https://localhost:8080/"
        },
        "id": "X3SVPmFues2D",
        "outputId": "3f48d115-cf22-42fd-f17a-d797d437e357"
      },
      "execution_count": 11,
      "outputs": [
        {
          "output_type": "execute_result",
          "data": {
            "text/plain": [
              "Array(3.58074157, dtype=float64)"
            ]
          },
          "metadata": {},
          "execution_count": 11
        }
      ]
    },
    {
      "cell_type": "markdown",
      "source": [
        "# Using genre as a factor "
      ],
      "metadata": {
        "id": "Ep_P7BTGZ5Zs"
      }
    },
    {
      "cell_type": "code",
      "source": [
        "#re read the test and training data \n",
        "test_data=pd.read_csv('assignment_2_ratings_test.csv')\n",
        "train_data=pd.read_csv('assignment_2_ratings_train.csv')"
      ],
      "metadata": {
        "id": "HsSp2k24ZGz1"
      },
      "execution_count": 12,
      "outputs": []
    },
    {
      "cell_type": "code",
      "source": [
        "#creating a data frame with only anime id and genre, with each genre in seperate rows \n",
        "anime_data=pd.read_csv('assignment_2_anime.csv')\n",
        "anime_data.genre.fillna(\"None\",inplace=True)\n",
        "anime_data.genre=anime_data[\"genre\"].apply(lambda x : x.split(','))\n",
        "anime_data['weights']=1/anime_data.genre.apply(len) #added weights of the genre on anime id\n",
        "anime_genre=anime_data.explode(\"genre\")[['anime_id','genre','weights']] \n",
        "anime_genre.genre=anime_genre.genre.apply(lambda x : x.strip())\n",
        "anime_genre"
      ],
      "metadata": {
        "colab": {
          "base_uri": "https://localhost:8080/",
          "height": 424
        },
        "id": "ZGOPt1eX_a9X",
        "outputId": "8930ae09-d3ba-449f-d4c7-a666cf797ac7"
      },
      "execution_count": 13,
      "outputs": [
        {
          "output_type": "execute_result",
          "data": {
            "text/plain": [
              "       anime_id         genre   weights\n",
              "0         32281         Drama  0.250000\n",
              "0         32281       Romance  0.250000\n",
              "0         32281        School  0.250000\n",
              "0         32281  Supernatural  0.250000\n",
              "1          5114        Action  0.142857\n",
              "...         ...           ...       ...\n",
              "12289      9316        Hentai  1.000000\n",
              "12290      5543        Hentai  1.000000\n",
              "12291      5621        Hentai  1.000000\n",
              "12292      6133        Hentai  1.000000\n",
              "12293     26081        Hentai  1.000000\n",
              "\n",
              "[36347 rows x 3 columns]"
            ],
            "text/html": [
              "\n",
              "  <div id=\"df-4002a64a-08e4-4f8d-947a-aa6185001f64\">\n",
              "    <div class=\"colab-df-container\">\n",
              "      <div>\n",
              "<style scoped>\n",
              "    .dataframe tbody tr th:only-of-type {\n",
              "        vertical-align: middle;\n",
              "    }\n",
              "\n",
              "    .dataframe tbody tr th {\n",
              "        vertical-align: top;\n",
              "    }\n",
              "\n",
              "    .dataframe thead th {\n",
              "        text-align: right;\n",
              "    }\n",
              "</style>\n",
              "<table border=\"1\" class=\"dataframe\">\n",
              "  <thead>\n",
              "    <tr style=\"text-align: right;\">\n",
              "      <th></th>\n",
              "      <th>anime_id</th>\n",
              "      <th>genre</th>\n",
              "      <th>weights</th>\n",
              "    </tr>\n",
              "  </thead>\n",
              "  <tbody>\n",
              "    <tr>\n",
              "      <th>0</th>\n",
              "      <td>32281</td>\n",
              "      <td>Drama</td>\n",
              "      <td>0.250000</td>\n",
              "    </tr>\n",
              "    <tr>\n",
              "      <th>0</th>\n",
              "      <td>32281</td>\n",
              "      <td>Romance</td>\n",
              "      <td>0.250000</td>\n",
              "    </tr>\n",
              "    <tr>\n",
              "      <th>0</th>\n",
              "      <td>32281</td>\n",
              "      <td>School</td>\n",
              "      <td>0.250000</td>\n",
              "    </tr>\n",
              "    <tr>\n",
              "      <th>0</th>\n",
              "      <td>32281</td>\n",
              "      <td>Supernatural</td>\n",
              "      <td>0.250000</td>\n",
              "    </tr>\n",
              "    <tr>\n",
              "      <th>1</th>\n",
              "      <td>5114</td>\n",
              "      <td>Action</td>\n",
              "      <td>0.142857</td>\n",
              "    </tr>\n",
              "    <tr>\n",
              "      <th>...</th>\n",
              "      <td>...</td>\n",
              "      <td>...</td>\n",
              "      <td>...</td>\n",
              "    </tr>\n",
              "    <tr>\n",
              "      <th>12289</th>\n",
              "      <td>9316</td>\n",
              "      <td>Hentai</td>\n",
              "      <td>1.000000</td>\n",
              "    </tr>\n",
              "    <tr>\n",
              "      <th>12290</th>\n",
              "      <td>5543</td>\n",
              "      <td>Hentai</td>\n",
              "      <td>1.000000</td>\n",
              "    </tr>\n",
              "    <tr>\n",
              "      <th>12291</th>\n",
              "      <td>5621</td>\n",
              "      <td>Hentai</td>\n",
              "      <td>1.000000</td>\n",
              "    </tr>\n",
              "    <tr>\n",
              "      <th>12292</th>\n",
              "      <td>6133</td>\n",
              "      <td>Hentai</td>\n",
              "      <td>1.000000</td>\n",
              "    </tr>\n",
              "    <tr>\n",
              "      <th>12293</th>\n",
              "      <td>26081</td>\n",
              "      <td>Hentai</td>\n",
              "      <td>1.000000</td>\n",
              "    </tr>\n",
              "  </tbody>\n",
              "</table>\n",
              "<p>36347 rows × 3 columns</p>\n",
              "</div>\n",
              "      <button class=\"colab-df-convert\" onclick=\"convertToInteractive('df-4002a64a-08e4-4f8d-947a-aa6185001f64')\"\n",
              "              title=\"Convert this dataframe to an interactive table.\"\n",
              "              style=\"display:none;\">\n",
              "        \n",
              "  <svg xmlns=\"http://www.w3.org/2000/svg\" height=\"24px\"viewBox=\"0 0 24 24\"\n",
              "       width=\"24px\">\n",
              "    <path d=\"M0 0h24v24H0V0z\" fill=\"none\"/>\n",
              "    <path d=\"M18.56 5.44l.94 2.06.94-2.06 2.06-.94-2.06-.94-.94-2.06-.94 2.06-2.06.94zm-11 1L8.5 8.5l.94-2.06 2.06-.94-2.06-.94L8.5 2.5l-.94 2.06-2.06.94zm10 10l.94 2.06.94-2.06 2.06-.94-2.06-.94-.94-2.06-.94 2.06-2.06.94z\"/><path d=\"M17.41 7.96l-1.37-1.37c-.4-.4-.92-.59-1.43-.59-.52 0-1.04.2-1.43.59L10.3 9.45l-7.72 7.72c-.78.78-.78 2.05 0 2.83L4 21.41c.39.39.9.59 1.41.59.51 0 1.02-.2 1.41-.59l7.78-7.78 2.81-2.81c.8-.78.8-2.07 0-2.86zM5.41 20L4 18.59l7.72-7.72 1.47 1.35L5.41 20z\"/>\n",
              "  </svg>\n",
              "      </button>\n",
              "      \n",
              "  <style>\n",
              "    .colab-df-container {\n",
              "      display:flex;\n",
              "      flex-wrap:wrap;\n",
              "      gap: 12px;\n",
              "    }\n",
              "\n",
              "    .colab-df-convert {\n",
              "      background-color: #E8F0FE;\n",
              "      border: none;\n",
              "      border-radius: 50%;\n",
              "      cursor: pointer;\n",
              "      display: none;\n",
              "      fill: #1967D2;\n",
              "      height: 32px;\n",
              "      padding: 0 0 0 0;\n",
              "      width: 32px;\n",
              "    }\n",
              "\n",
              "    .colab-df-convert:hover {\n",
              "      background-color: #E2EBFA;\n",
              "      box-shadow: 0px 1px 2px rgba(60, 64, 67, 0.3), 0px 1px 3px 1px rgba(60, 64, 67, 0.15);\n",
              "      fill: #174EA6;\n",
              "    }\n",
              "\n",
              "    [theme=dark] .colab-df-convert {\n",
              "      background-color: #3B4455;\n",
              "      fill: #D2E3FC;\n",
              "    }\n",
              "\n",
              "    [theme=dark] .colab-df-convert:hover {\n",
              "      background-color: #434B5C;\n",
              "      box-shadow: 0px 1px 3px 1px rgba(0, 0, 0, 0.15);\n",
              "      filter: drop-shadow(0px 1px 2px rgba(0, 0, 0, 0.3));\n",
              "      fill: #FFFFFF;\n",
              "    }\n",
              "  </style>\n",
              "\n",
              "      <script>\n",
              "        const buttonEl =\n",
              "          document.querySelector('#df-4002a64a-08e4-4f8d-947a-aa6185001f64 button.colab-df-convert');\n",
              "        buttonEl.style.display =\n",
              "          google.colab.kernel.accessAllowed ? 'block' : 'none';\n",
              "\n",
              "        async function convertToInteractive(key) {\n",
              "          const element = document.querySelector('#df-4002a64a-08e4-4f8d-947a-aa6185001f64');\n",
              "          const dataTable =\n",
              "            await google.colab.kernel.invokeFunction('convertToInteractive',\n",
              "                                                     [key], {});\n",
              "          if (!dataTable) return;\n",
              "\n",
              "          const docLinkHtml = 'Like what you see? Visit the ' +\n",
              "            '<a target=\"_blank\" href=https://colab.research.google.com/notebooks/data_table.ipynb>data table notebook</a>'\n",
              "            + ' to learn more about interactive tables.';\n",
              "          element.innerHTML = '';\n",
              "          dataTable['output_type'] = 'display_data';\n",
              "          await google.colab.output.renderOutput(dataTable, element);\n",
              "          const docLink = document.createElement('div');\n",
              "          docLink.innerHTML = docLinkHtml;\n",
              "          element.appendChild(docLink);\n",
              "        }\n",
              "      </script>\n",
              "    </div>\n",
              "  </div>\n",
              "  "
            ]
          },
          "metadata": {},
          "execution_count": 13
        }
      ]
    },
    {
      "cell_type": "code",
      "source": [
        "#creating V matrix \n",
        "#values are the weights of each genre on each film \n",
        "\n",
        "V_df=anime_genre.groupby([anime_genre.anime_id, 'genre'])['weights'].first().unstack().fillna(0)\n",
        "\n",
        "#creating a dictonary to convert anime id to the correct row index of matrix V\n",
        "anime_id_V_dict=encode_column_dict(V_df.index)\n",
        "V_init=np.array(V_df)\n"
      ],
      "metadata": {
        "id": "pjR08i_wmfY2"
      },
      "execution_count": 14,
      "outputs": []
    },
    {
      "cell_type": "code",
      "source": [
        "#addindg genre to training data and test data, \n",
        "train_data_genre=pd.merge(train_data,anime_genre,how=\"left\",on=\"anime_id\")\n",
        "test_data_genre=pd.merge(test_data,anime_genre,how=\"left\",on=\"anime_id\")"
      ],
      "metadata": {
        "id": "EmKzz2QtKC--"
      },
      "execution_count": 15,
      "outputs": []
    },
    {
      "cell_type": "code",
      "source": [
        "# Using group by to display only the average rating per user per genre of anime for both test and train\n",
        "train_data_grouped=train_data_genre.groupby(['user_id','genre'],as_index=False)[\"rating\"].mean()\n",
        "test_data_grouped=test_data_genre.groupby(['user_id','genre'],as_index=False)[\"rating\"].mean()"
      ],
      "metadata": {
        "id": "ucBOnZvMZlNH"
      },
      "execution_count": 16,
      "outputs": []
    },
    {
      "cell_type": "code",
      "source": [
        "#creating U matrix \n",
        "# user id are the indexs \n",
        "#values are the average rating per genre \n",
        "U_train_df=train_data_grouped.groupby([train_data_grouped.user_id, 'genre'])['rating'].first().unstack().fillna(0)\n",
        "\n",
        "\n",
        "#creating a dictonary to convert user id to the correct row index of matrix U\n",
        "user_id_U_train_dict=encode_column_dict(U_train_df.index)\n",
        "#creating matrix U\n",
        "U_init=np.array(U_train_df)\n"
      ],
      "metadata": {
        "id": "I_IqUOEfqWnR"
      },
      "execution_count": 17,
      "outputs": []
    },
    {
      "cell_type": "code",
      "source": [
        "#changing the user id  to the encoded ones from train data set\n",
        "train_data['user_id_encoded']= [user_id_U_train_dict[x] for x in train_data['user_id']]\n",
        "#changing anime id to those enocded from V matrix \n",
        "train_data['anime_id_encoded']= [anime_id_V_dict[x] for x in train_data['anime_id']]\n"
      ],
      "metadata": {
        "id": "aon9VREMNS-V"
      },
      "execution_count": 18,
      "outputs": []
    },
    {
      "cell_type": "code",
      "source": [
        "# encoding function for test data \n",
        "#ensures test data user and anime has the same index corressponding to the U V matrix \n",
        "\n",
        "def change_code_test(x,dic):\n",
        "  try:\n",
        "    result=dic[x]\n",
        "  except KeyError:\n",
        "    dic[x]=len(dic)# to add the users/anime not in training set into the U or V matrix \n",
        "    result=dic[x] \n",
        "  return result\n",
        "\n",
        " #adding the encoded values of users into test data \n",
        "test_data['user_id_encoded']=[change_code_test(x,user_id_U_train_dict) for x in test_data['user_id']]\n",
        "\n",
        " #adding the encoded values of anime into test data \n",
        "test_data['anime_id_encoded']= [change_code_test(x,anime_id_V_dict)for x in test_data['anime_id']]\n",
        "\n",
        "\n"
      ],
      "metadata": {
        "id": "BVIzeHsSakFG"
      },
      "execution_count": 19,
      "outputs": []
    },
    {
      "cell_type": "code",
      "source": [
        "# adding rows to U V matrix for test id that are not in train set \n",
        "\n",
        "#for U add a vector with value of 5 in each column for each missing user\n",
        "extras_U=np.repeat(5,(max(test_data.user_id_encoded)+1-U_init.shape[0])*44)\n",
        "extras_U=extras_U.reshape(max(test_data.user_id_encoded)+1-U_init.shape[0],44)\n",
        "U_init=np.concatenate((U_init, extras_U))\n",
        "#print(len(U_init)==len(user_id_U_train_dict.values()))\n",
        "\n",
        "\n",
        "#for V add a vector with value of 1/44 in each column for each missing anime \n",
        "extras_V=np.repeat(1/V_init.shape[1],(max(test_data.anime_id_encoded)+1-V_init.shape[0])*44)\n",
        "extras_V=extras_V.reshape((max(test_data.anime_id_encoded)+1-V_init.shape[0]),44)\n",
        "V_init=np.concatenate((V_init, extras_V))\n",
        "#print(len(V_init)==len(anime_id_V_dict))\n",
        "\n"
      ],
      "metadata": {
        "id": "YmSkaCRTjx1h"
      },
      "execution_count": 20,
      "outputs": []
    },
    {
      "cell_type": "code",
      "source": [
        "## model using training data \n",
        "\n",
        "u_list_train=train_data.user_id_encoded.values\n",
        "v_list_train=train_data.anime_id_encoded.values\n",
        "ratings_list_train=train_data.rating.values\n",
        "\n",
        "@jax.jit\n",
        "def model(U, V):\n",
        "  \"\"\"\n",
        "  U: p*r matrix \n",
        "  V: q*r matrix\n",
        "  where p is number of users in training set q is number of anime in the anime data set and r is number of genres\n",
        "  \"\"\"\n",
        "  \n",
        "  predictions = jnp.sum(U[u_list_train.astype(int)]*V[v_list_train.astype(int)],axis=1)\n",
        "  MSE = jnp.mean((predictions -ratings_list_train)**2 )\n",
        "  return MSE"
      ],
      "metadata": {
        "id": "Ku1xlqHfktwE"
      },
      "execution_count": 21,
      "outputs": []
    },
    {
      "cell_type": "code",
      "source": [
        "#find gradient \n",
        "model_grad_U = jax.jit( jax.grad(model, argnums=0) )\n",
        "model_grad_V = jax.jit( jax.grad(model, argnums=1) )\n",
        "     "
      ],
      "metadata": {
        "id": "qnNUemT0EuUM"
      },
      "execution_count": 22,
      "outputs": []
    },
    {
      "cell_type": "code",
      "source": [
        "\n",
        "# doing Gradient descent\n",
        "niter = 1000\n",
        "eta = 0.01\n",
        "loss_traj = []\n",
        "\n",
        "U = np.copy(U_init)\n",
        "V = np.copy(V_init)\n",
        "\n",
        "for _ in tqdm.tqdm(range(niter)):\n",
        "  # compute my gradients\n",
        "  grad_u = model_grad_U(U,V)\n",
        "  grad_v = model_grad_V(U,V)\n",
        "\n",
        "  # do the GD update\n",
        "  U = U - eta * grad_u\n",
        "  V = V - eta * grad_v\n",
        "\n",
        "  # monitor the loss\n",
        "  loss_traj.append( model(U,V) )\n"
      ],
      "metadata": {
        "colab": {
          "base_uri": "https://localhost:8080/"
        },
        "id": "QEEUJISWFa_t",
        "outputId": "ce55a072-3f93-4bd3-8586-d50e9cf38409"
      },
      "execution_count": 23,
      "outputs": [
        {
          "output_type": "stream",
          "name": "stderr",
          "text": [
            "100%|██████████| 1000/1000 [01:29<00:00, 11.18it/s]\n"
          ]
        }
      ]
    },
    {
      "cell_type": "code",
      "source": [
        "plt.plot(loss_traj)"
      ],
      "metadata": {
        "colab": {
          "base_uri": "https://localhost:8080/",
          "height": 447
        },
        "id": "MjweOE29L7W2",
        "outputId": "2eff721c-ac74-49d0-bfaf-aeca55bf3a0e"
      },
      "execution_count": 24,
      "outputs": [
        {
          "output_type": "execute_result",
          "data": {
            "text/plain": [
              "[<matplotlib.lines.Line2D at 0x7f875ea046d0>]"
            ]
          },
          "metadata": {},
          "execution_count": 24
        },
        {
          "output_type": "display_data",
          "data": {
            "text/plain": [
              "<Figure size 640x480 with 1 Axes>"
            ],
            "image/png": "[encoded data removed]"
          },
          "metadata": {}
        }
      ]
    },
    {
      "cell_type": "code",
      "source": [
        "u_list_test = test_data.user_id_encoded.values\n",
        "v_list_test = test_data.anime_id_encoded.values\n",
        "ratings_list_test = test_data.rating.values\n",
        "predictions = jnp.sum(U[u_list_test.astype(int)] * V[v_list_test.astype(int)], axis=1)\n",
        "MSE = np.mean( (predictions - ratings_list_test)**2 )\n",
        "MSE"
      ],
      "metadata": {
        "colab": {
          "base_uri": "https://localhost:8080/"
        },
        "id": "mCaUfO5TNVNF",
        "outputId": "98d57a21-1012-4a1d-8d9c-32372a767e8e"
      },
      "execution_count": 25,
      "outputs": [
        {
          "output_type": "execute_result",
          "data": {
            "text/plain": [
              "Array(1.86882588, dtype=float64)"
            ]
          },
          "metadata": {},
          "execution_count": 25
        }
      ]
    },
    {
      "cell_type": "markdown",
      "source": [
        "# Using different optimization methods"
      ],
      "metadata": {
        "id": "9rPvOOMiYbj8"
      }
    },
    {
      "cell_type": "markdown",
      "source": [
        "# Gradient descent Momentum "
      ],
      "metadata": {
        "id": "M4ZQV5kKjs4o"
      }
    },
    {
      "cell_type": "code",
      "source": [
        "# Gradient descent\n",
        "niter = 100\n",
        "eta = 0.01\n",
        "loss_traj = []\n",
        "B = 0.9\n",
        "U = np.copy(U_init)\n",
        "V = np.copy(V_init)\n",
        "\n",
        "U_tracker = [U_init]\n",
        "V_tracker = [V_init]\n",
        "\n",
        "for _ in tqdm.tqdm(range(niter)):\n",
        "  # compute my gradients\n",
        "  grad_u = model_grad_U(U,V)\n",
        "  grad_v = model_grad_V(U,V)\n",
        "  \n",
        "  # do the GD update\n",
        "  U = U - eta * grad_u + B*(U-U_tracker[-1])\n",
        "  V = V - eta * grad_v + B*(V-V_tracker[-1])\n",
        "\n",
        "  U_tracker.append(U)\n",
        "  V_tracker.append(V)\n",
        "  # monitor the loss\n",
        "  loss_traj.append( model(U,V) )\n",
        "\n"
      ],
      "metadata": {
        "id": "JNK5yMcxjsfd",
        "colab": {
          "base_uri": "https://localhost:8080/"
        },
        "outputId": "cfcf5161-b15e-4aeb-a7f4-714f52ab7471"
      },
      "execution_count": 33,
      "outputs": [
        {
          "output_type": "stream",
          "name": "stderr",
          "text": [
            "100%|██████████| 100/100 [00:08<00:00, 11.48it/s]\n"
          ]
        }
      ]
    },
    {
      "cell_type": "code",
      "source": [
        "plt.plot(loss_traj)"
      ],
      "metadata": {
        "colab": {
          "base_uri": "https://localhost:8080/",
          "height": 447
        },
        "id": "7GgTtnS2lOVb",
        "outputId": "9d02c65a-5858-4edf-a1f4-33e8cb13dbb7"
      },
      "execution_count": 34,
      "outputs": [
        {
          "output_type": "execute_result",
          "data": {
            "text/plain": [
              "[<matplotlib.lines.Line2D at 0x7fab75ef9dc0>]"
            ]
          },
          "metadata": {},
          "execution_count": 34
        },
        {
          "output_type": "display_data",
          "data": {
            "text/plain": [
              "<Figure size 640x480 with 1 Axes>"
            ],
            "image/png": "[encoded data removed]"
          },
          "metadata": {}
        }
      ]
    },
    {
      "cell_type": "code",
      "source": [
        "# Test MSE using GD momentum optimization method \n",
        "u_list_test = test_data.user_id_encoded.values\n",
        "v_list_test = test_data.anime_id_encoded.values\n",
        "ratings_list_test = test_data.rating.values\n",
        "predictions = jnp.sum(U[u_list_test.astype(int)] * V[v_list_test.astype(int)], axis=1)\n",
        "MSE = np.mean( (predictions - ratings_list_test)**2 )\n",
        "MSE"
      ],
      "metadata": {
        "colab": {
          "base_uri": "https://localhost:8080/"
        },
        "id": "lX0467lBEd5Q",
        "outputId": "c498ef3c-c641-470e-e01f-9cfa073afbd9"
      },
      "execution_count": 35,
      "outputs": [
        {
          "output_type": "execute_result",
          "data": {
            "text/plain": [
              "Array(1.90414079, dtype=float64)"
            ]
          },
          "metadata": {},
          "execution_count": 35
        }
      ]
    },
    {
      "cell_type": "markdown",
      "source": [
        "Alternating minimization "
      ],
      "metadata": {
        "id": "vqyik33Bh0hw"
      }
    },
    {
      "cell_type": "code",
      "source": [
        "import tqdm\n",
        "# doing Gradient descent\n",
        "niter = 1000\n",
        "eta = 0.01\n",
        "loss_traj = []\n",
        "\n",
        "U = np.copy(U_init)\n",
        "V = np.copy(V_init)\n",
        "\n",
        "for _ in tqdm.tqdm(range(niter)):\n",
        "  # compute my gradients\n",
        "  grad_u = model_grad_U(U,V)\n",
        "\n",
        "\n",
        "  # do the GD update\n",
        "  U = U - eta * grad_u\n",
        "\n",
        "\n",
        "  # monitor the loss\n",
        "  loss_traj.append( model(U,V) )\n",
        "for _ in tqdm.tqdm(range(niter)):\n",
        "  # compute my gradients\n",
        "\n",
        "  grad_v = model_grad_V(U,V)\n",
        "\n",
        "  # do the GD update\n",
        "\n",
        "  V = V - eta * grad_v\n",
        "\n",
        "  # monitor the loss\n",
        "  loss_traj.append( model(U,V) )"
      ],
      "metadata": {
        "colab": {
          "base_uri": "https://localhost:8080/"
        },
        "id": "1pZ0eIVWh17j",
        "outputId": "084159d9-915f-48d1-d162-18519de339b8"
      },
      "execution_count": 36,
      "outputs": [
        {
          "output_type": "stream",
          "name": "stderr",
          "text": [
            "100%|██████████| 1000/1000 [00:51<00:00, 19.45it/s]\n",
            "100%|██████████| 1000/1000 [00:49<00:00, 20.25it/s]\n"
          ]
        }
      ]
    },
    {
      "cell_type": "code",
      "source": [
        "plt.plot(loss_traj)"
      ],
      "metadata": {
        "colab": {
          "base_uri": "https://localhost:8080/",
          "height": 447
        },
        "id": "xfA4IfyxiTOF",
        "outputId": "8ac2fe31-8738-4929-f5d2-4a9759f1463a"
      },
      "execution_count": 37,
      "outputs": [
        {
          "output_type": "execute_result",
          "data": {
            "text/plain": [
              "[<matplotlib.lines.Line2D at 0x7fab75e71f70>]"
            ]
          },
          "metadata": {},
          "execution_count": 37
        },
        {
          "output_type": "display_data",
          "data": {
            "text/plain": [
              "<Figure size 640x480 with 1 Axes>"
            ],
            "image/png": "[encoded data removed]"
          },
          "metadata": {}
        }
      ]
    },
    {
      "cell_type": "code",
      "source": [
        "u_list_test = test_data.user_id_encoded.values\n",
        "v_list_test = test_data.anime_id_encoded.values\n",
        "ratings_list_test = test_data.rating.values\n",
        "predictions = jnp.sum(U[u_list_test.astype(int)] * V[v_list_test.astype(int)], axis=1)\n",
        "MSE = np.mean( (predictions - ratings_list_test)**2 )\n",
        "MSE"
      ],
      "metadata": {
        "colab": {
          "base_uri": "https://localhost:8080/"
        },
        "id": "8e1S_TXYn3fG",
        "outputId": "56ca2deb-377e-4f87-bed2-42dad9c952d1"
      },
      "execution_count": 38,
      "outputs": [
        {
          "output_type": "execute_result",
          "data": {
            "text/plain": [
              "Array(1.86882766, dtype=float64)"
            ]
          },
          "metadata": {},
          "execution_count": 38
        }
      ]
    }
  ]
}