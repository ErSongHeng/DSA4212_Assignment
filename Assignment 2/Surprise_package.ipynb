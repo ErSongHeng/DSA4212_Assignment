{
  "cells": [
    {
      "cell_type": "markdown",
      "id": "370014b8",
      "metadata": {
        "id": "370014b8"
      },
      "source": [
        "# DSA4212 Group 2 Assignment 2"
      ]
    },
    {
      "cell_type": "code",
      "execution_count": 1,
      "id": "23324c55",
      "metadata": {
        "id": "23324c55"
      },
      "outputs": [],
      "source": [
        "import pandas as pd\n",
        "import numpy as np"
      ]
    },
    {
      "cell_type": "code",
      "execution_count": 4,
      "id": "58d65002",
      "metadata": {
        "id": "58d65002"
      },
      "outputs": [],
      "source": [
        "# Read in the data\n",
        "\n",
        "anime_data = pd.read_csv('assignment_2_anime.csv')\n",
        "ratings_test = pd.read_csv('assignment_2_ratings_test.csv')\n",
        "ratings_train = pd.read_csv('assignment_2_ratings_train.csv')"
      ]
    },
    {
      "cell_type": "code",
      "execution_count": 8,
      "id": "fc3a76ef",
      "metadata": {
        "colab": {
          "base_uri": "https://localhost:8080/"
        },
        "id": "fc3a76ef",
        "outputId": "cea5af66-01cd-4cfe-d827-f80b99754475"
      },
      "outputs": [
        {
          "output_type": "stream",
          "name": "stdout",
          "text": [
            "Looking in indexes: https://pypi.org/simple, https://us-python.pkg.dev/colab-wheels/public/simple/\n",
            "Collecting scikit-surprise\n",
            "  Downloading scikit-surprise-1.1.3.tar.gz (771 kB)\n",
            "\u001b[2K     \u001b[90m━━━━━━━━━━━━━━━━━━━━━━━━━━━━━━━━━━━━━━\u001b[0m \u001b[32m772.0/772.0 KB\u001b[0m \u001b[31m16.2 MB/s\u001b[0m eta \u001b[36m0:00:00\u001b[0m\n",
            "\u001b[?25h  Preparing metadata (setup.py) ... \u001b[?25l\u001b[?25hdone\n",
            "Requirement already satisfied: joblib>=1.0.0 in /usr/local/lib/python3.9/dist-packages (from scikit-surprise) (1.1.1)\n",
            "Requirement already satisfied: numpy>=1.17.3 in /usr/local/lib/python3.9/dist-packages (from scikit-surprise) (1.22.4)\n",
            "Requirement already satisfied: scipy>=1.3.2 in /usr/local/lib/python3.9/dist-packages (from scikit-surprise) (1.10.1)\n",
            "Building wheels for collected packages: scikit-surprise\n",
            "  Building wheel for scikit-surprise (setup.py) ... \u001b[?25l\u001b[?25hdone\n",
            "  Created wheel for scikit-surprise: filename=scikit_surprise-1.1.3-cp39-cp39-linux_x86_64.whl size=3195798 sha256=8459aa45b18c51866ffa98d365d88af8ac0d01c0aea3e5dfc10b8033f861ad82\n",
            "  Stored in directory: /root/.cache/pip/wheels/c6/3a/46/9b17b3512bdf283c6cb84f59929cdd5199d4e754d596d22784\n",
            "Successfully built scikit-surprise\n",
            "Installing collected packages: scikit-surprise\n",
            "Successfully installed scikit-surprise-1.1.3\n"
          ]
        }
      ],
      "source": [
        "from surprise import Dataset, Reader, accuracy"
      ]
    },
    {
      "cell_type": "code",
      "execution_count": 9,
      "id": "a78d788e",
      "metadata": {
        "id": "a78d788e"
      },
      "outputs": [],
      "source": [
        "# Find the minimum and maximum rating for the Reader object\n",
        "\n",
        "min_rating = ratings_train.rating.min()\n",
        "max_rating = ratings_train.rating.max()"
      ]
    },
    {
      "cell_type": "code",
      "execution_count": 10,
      "id": "dca7fd2c",
      "metadata": {
        "id": "dca7fd2c"
      },
      "outputs": [],
      "source": [
        "# Train data\n",
        "reader = Reader(rating_scale = (min_rating, max_rating))\n",
        "\n",
        "train_data = Dataset.load_from_df(ratings_train[['user_id', 'anime_id', 'rating']], reader)\n",
        "\n",
        "trainset = train_data.build_full_trainset()"
      ]
    },
    {
      "cell_type": "code",
      "execution_count": 11,
      "id": "4737e9f7",
      "metadata": {
        "id": "4737e9f7"
      },
      "outputs": [],
      "source": [
        "# Test data\n",
        "reader = Reader(rating_scale = (min_rating, max_rating))\n",
        "\n",
        "test_data = Dataset.load_from_df(ratings_test[['user_id', 'anime_id', 'rating']], reader)\n",
        "\n",
        "testset = test_data.build_full_trainset().build_testset()"
      ]
    },
    {
      "cell_type": "markdown",
      "id": "4d37c731",
      "metadata": {
        "id": "4d37c731"
      },
      "source": [
        "## 1. Model based Collaborative Filtering\n",
        "### NMF"
      ]
    },
    {
      "cell_type": "code",
      "execution_count": 14,
      "id": "78ac3753",
      "metadata": {
        "id": "78ac3753"
      },
      "outputs": [],
      "source": [
        "from surprise import NMF\n",
        "from surprise.model_selection import cross_validate"
      ]
    },
    {
      "cell_type": "code",
      "execution_count": null,
      "id": "2b32dbcf",
      "metadata": {
        "id": "2b32dbcf",
        "outputId": "ee656c01-e421-421c-d49a-db81790aabcf"
      },
      "outputs": [
        {
          "name": "stdout",
          "output_type": "stream",
          "text": [
            "Evaluating MSE of algorithm NMF on 10 split(s).\n",
            "\n",
            "                  Fold 1  Fold 2  Fold 3  Fold 4  Fold 5  Fold 6  Fold 7  Fold 8  Fold 9  Fold 10 Mean    Std     \n",
            "MSE (testset)     4.9351  4.9537  4.9308  4.9697  5.0328  4.9969  4.9609  5.0152  4.8969  4.9875  4.9680  0.0393  \n",
            "Fit time          97.15   99.12   93.00   91.70   90.96   89.53   93.03   98.70   93.48   92.80   93.95   3.11    \n",
            "Test time         6.81    7.21    7.23    7.61    7.28    7.29    7.16    7.34    7.36    6.00    7.13    0.42    \n"
          ]
        }
      ],
      "source": [
        "nmf = NMF()\n",
        "results = cross_validate(nmf, train_data, measures=['MSE'], cv=10, verbose=True)"
      ]
    },
    {
      "cell_type": "code",
      "execution_count": null,
      "id": "99e0a6a2",
      "metadata": {
        "scrolled": true,
        "id": "99e0a6a2",
        "outputId": "32d4dc36-fd77-4970-8653-43172b52ed81"
      },
      "outputs": [
        {
          "name": "stdout",
          "output_type": "stream",
          "text": [
            "MSE: 4.9878\n"
          ]
        },
        {
          "data": {
            "text/plain": [
              "4.987815612078931"
            ]
          },
          "execution_count": 11,
          "metadata": {},
          "output_type": "execute_result"
        }
      ],
      "source": [
        "predictions = nmf.test(testset)\n",
        "accuracy.mse(predictions)"
      ]
    },
    {
      "cell_type": "markdown",
      "id": "33803c70",
      "metadata": {
        "id": "33803c70"
      },
      "source": [
        "### SVD (run this)"
      ]
    },
    {
      "cell_type": "code",
      "execution_count": 12,
      "id": "ce052486",
      "metadata": {
        "id": "ce052486"
      },
      "outputs": [],
      "source": [
        "from surprise import SVD"
      ]
    },
    {
      "cell_type": "code",
      "execution_count": 15,
      "id": "da81b7db",
      "metadata": {
        "colab": {
          "base_uri": "https://localhost:8080/"
        },
        "id": "da81b7db",
        "outputId": "2b40b315-6578-4be8-d774-87a96a5f2f42"
      },
      "outputs": [
        {
          "output_type": "stream",
          "name": "stdout",
          "text": [
            "Evaluating MSE of algorithm SVD on 10 split(s).\n",
            "\n",
            "                  Fold 1  Fold 2  Fold 3  Fold 4  Fold 5  Fold 6  Fold 7  Fold 8  Fold 9  Fold 10 Mean    Std     \n",
            "MSE (testset)     1.3444  1.3399  1.3498  1.3345  1.3447  1.3437  1.3471  1.3435  1.3467  1.3462  1.3441  0.0041  \n",
            "Fit time          117.81  116.58  125.58  125.10  128.60  124.26  131.92  127.03  131.16  127.37  125.54  4.79    \n",
            "Test time         14.87   11.66   16.02   15.52   15.54   14.95   15.86   15.00   15.19   14.89   14.95   1.16    \n"
          ]
        }
      ],
      "source": [
        "svd = SVD()\n",
        "results = cross_validate(svd, train_data, measures=['MSE'], cv=10, verbose=True)"
      ]
    },
    {
      "cell_type": "code",
      "execution_count": 16,
      "id": "b8ede7ec",
      "metadata": {
        "colab": {
          "base_uri": "https://localhost:8080/"
        },
        "id": "b8ede7ec",
        "outputId": "457b367e-eeca-404d-eaf6-59c3be4114f0"
      },
      "outputs": [
        {
          "output_type": "stream",
          "name": "stdout",
          "text": [
            "MSE: 1.3453\n"
          ]
        },
        {
          "output_type": "execute_result",
          "data": {
            "text/plain": [
              "1.3452554909397327"
            ]
          },
          "metadata": {},
          "execution_count": 16
        }
      ],
      "source": [
        "predictions = svd.test(testset)\n",
        "accuracy.mse(predictions)"
      ]
    },
    {
      "cell_type": "markdown",
      "id": "d2f0156c",
      "metadata": {
        "id": "d2f0156c"
      },
      "source": [
        "#### Hyperparameter Tuning"
      ]
    },
    {
      "cell_type": "code",
      "execution_count": null,
      "id": "0cfb0b97",
      "metadata": {
        "scrolled": true,
        "id": "0cfb0b97"
      },
      "outputs": [],
      "source": [
        "from surprise.model_selection import GridSearchCV\n",
        "param_grid = {\n",
        "    'n_factors': [10, 100, 500],\n",
        "    'n_epochs': [5, 20, 50], \n",
        "    'lr_all': [0.001, 0.005, 0.02],\n",
        "    'reg_all': [0.005, 0.02, 0.1]}\n",
        "\n",
        "tuning = GridSearchCV(SVD, param_grid, measures=['mse'], cv=10)\n",
        "tuning.fit(train_data)"
      ]
    },
    {
      "cell_type": "code",
      "execution_count": null,
      "id": "fd42d3c4",
      "metadata": {
        "id": "fd42d3c4",
        "outputId": "bdbaedb7-8acb-4fd9-ccd0-961af83f6262"
      },
      "outputs": [
        {
          "name": "stdout",
          "output_type": "stream",
          "text": [
            "500\n",
            "50\n",
            "0.005\n",
            "0.1\n"
          ]
        }
      ],
      "source": [
        "print(tuning.best_params['mse']['n_factors'])\n",
        "print(tuning.best_params['mse']['n_epochs'])\n",
        "print(tuning.best_params['mse']['lr_all'])\n",
        "print(tuning.best_params['mse']['reg_all'])"
      ]
    },
    {
      "cell_type": "code",
      "execution_count": null,
      "id": "bdbb93e6",
      "metadata": {
        "id": "bdbb93e6",
        "outputId": "cde6b957-b8d9-4430-bbb0-a4b6c15bea8b"
      },
      "outputs": [
        {
          "data": {
            "text/plain": [
              "<surprise.prediction_algorithms.matrix_factorization.SVD at 0x1197249ac10>"
            ]
          },
          "execution_count": 18,
          "metadata": {},
          "output_type": "execute_result"
        }
      ],
      "source": [
        "params = tuning.best_params['mse']\n",
        "svd = SVD(n_factors=params['n_factors'], n_epochs=params['n_epochs'],lr_all=params['lr_all'], reg_all=params['reg_all'])\n",
        "svd.fit(trainset)"
      ]
    },
    {
      "cell_type": "code",
      "execution_count": null,
      "id": "6dfb7e95",
      "metadata": {
        "id": "6dfb7e95",
        "outputId": "123ec2c7-22c9-4a1c-b456-cb0f355d056a"
      },
      "outputs": [
        {
          "name": "stdout",
          "output_type": "stream",
          "text": [
            "MSE: 1.2660\n"
          ]
        },
        {
          "data": {
            "text/plain": [
              "1.2660169206778658"
            ]
          },
          "execution_count": 19,
          "metadata": {},
          "output_type": "execute_result"
        }
      ],
      "source": [
        "predictions = svd.test(testset)\n",
        "accuracy.mse(predictions)"
      ]
    },
    {
      "cell_type": "markdown",
      "id": "2e391a4c",
      "metadata": {
        "id": "2e391a4c"
      },
      "source": [
        "### SVD++ (run this)"
      ]
    },
    {
      "cell_type": "code",
      "execution_count": null,
      "id": "bb853a9a",
      "metadata": {
        "id": "bb853a9a",
        "outputId": "d360022f-4cf1-464e-e11b-ff6c961fa725"
      },
      "outputs": [
        {
          "name": "stdout",
          "output_type": "stream",
          "text": [
            "Evaluating MSE of algorithm SVDpp on 10 split(s).\n",
            "\n",
            "                  Fold 1  Fold 2  Fold 3  Fold 4  Fold 5  Fold 6  Fold 7  Fold 8  Fold 9  Fold 10 Mean    Std     \n",
            "MSE (testset)     1.4323  1.4465  1.4498  1.4308  1.4373  1.4375  1.4416  1.4502  1.4486  1.4504  1.4425  0.0072  \n",
            "Fit time          958.72  954.14  975.88  1006.00 1014.02 974.10  966.35  973.68  975.92  969.92  976.87  18.04   \n",
            "Test time         68.25   67.82   90.14   75.87   68.79   68.59   67.88   68.27   67.57   68.88   71.21   6.72    \n",
            "MSE: 1.4446\n"
          ]
        },
        {
          "data": {
            "text/plain": [
              "1.4445884154098154"
            ]
          },
          "execution_count": 9,
          "metadata": {},
          "output_type": "execute_result"
        }
      ],
      "source": [
        "from surprise import SVDpp\n",
        "\n",
        "svdpp = SVDpp()\n",
        "results = cross_validate(svdpp, train_data, measures=['MSE'], cv=10, verbose=True)\n",
        "\n",
        "predictions2 = svdpp.test(testset)\n",
        "accuracy.mse(predictions2)"
      ]
    }
  ],
  "metadata": {
    "kernelspec": {
      "display_name": "Python 3 (ipykernel)",
      "language": "python",
      "name": "python3"
    },
    "language_info": {
      "codemirror_mode": {
        "name": "ipython",
        "version": 3
      },
      "file_extension": ".py",
      "mimetype": "text/x-python",
      "name": "python",
      "nbconvert_exporter": "python",
      "pygments_lexer": "ipython3",
      "version": "3.9.7"
    },
    "colab": {
      "provenance": []
    }
  },
  "nbformat": 4,
  "nbformat_minor": 5
}