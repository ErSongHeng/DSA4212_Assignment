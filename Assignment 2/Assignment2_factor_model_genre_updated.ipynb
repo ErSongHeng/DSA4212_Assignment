{
  "nbformat": 4,
  "nbformat_minor": 0,
  "metadata": {
    "colab": {
      "provenance": [],
      "gpuType": "T4"
    },
    "kernelspec": {
      "name": "python3",
      "display_name": "Python 3"
    },
    "language_info": {
      "name": "python"
    },
    "accelerator": "GPU",
    "gpuClass": "standard"
  },
  "cells": [
    {
      "cell_type": "code",
      "execution_count": null,
      "metadata": {
        "colab": {
          "base_uri": "https://localhost:8080/"
        },
        "id": "cmP6w-E6k2vs",
        "outputId": "08fb70e0-d423-4b3c-9a4c-25711623f956"
      },
      "outputs": [
        {
          "output_type": "stream",
          "name": "stdout",
          "text": [
            "Drive already mounted at /content/drive; to attempt to forcibly remount, call drive.mount(\"/content/drive\", force_remount=True).\n",
            "/content/drive/MyDrive/DSA4212/dataset/assignment_2\n"
          ]
        }
      ],
      "source": [
        "# mount the Google Drive\n",
        "from google.colab import drive\n",
        "drive.mount(\"/content/drive\")\n",
        "%cd /content/drive/MyDrive/DSA4212/dataset/assignment_2"
      ]
    },
    {
      "cell_type": "code",
      "source": [
        "import jax \n",
        "from jax.config import config\n",
        "config.update('jax_enable_x64', True)  # often needed for LBFGS that requires high-precision\n",
        "\n",
        "\n",
        "import jax.numpy as jnp\n",
        "import numpy as np\n",
        "import pylab as plt\n",
        "\n",
        "import imageio\n",
        "import os\n",
        "from skimage.transform import rescale, resize, downscale_local_mean\n",
        "import pandas as pd\n",
        "import time\n",
        "import scipy\n",
        "from pandas.tseries.frequencies import unique"
      ],
      "metadata": {
        "id": "_2NbMa1zlWrY"
      },
      "execution_count": null,
      "outputs": []
    },
    {
      "cell_type": "code",
      "source": [
        "test_data=pd.read_csv('assignment_2_ratings_test.csv')\n",
        "train_data=pd.read_csv('assignment_2_ratings_train.csv')"
      ],
      "metadata": {
        "id": "rmbW2fSwlgN7"
      },
      "execution_count": null,
      "outputs": []
    },
    {
      "cell_type": "code",
      "source": [
        "#creating a data frame with only anime id and genre, with each genre in the seperate rows \n",
        "anime_data=pd.read_csv('assignment_2_anime.csv')\n",
        "anime_data.genre.fillna(\"None\",inplace=True)\n",
        "anime_data.genre=anime_data[\"genre\"].apply(lambda x : x.split(','))\n",
        "anime_data['weights']=1/anime_data.genre.apply(len) #added weights of the genre on anime id\n",
        "anime_genre=anime_data.explode(\"genre\")[['anime_id','genre','weights']]\n",
        "anime_genre.genre=anime_genre.genre.apply(lambda x : x.strip())\n",
        "anime_genre"
      ],
      "metadata": {
        "colab": {
          "base_uri": "https://localhost:8080/",
          "height": 424
        },
        "id": "ZGOPt1eX_a9X",
        "outputId": "171eb117-0886-4708-e808-49fa9f5e8f6b"
      },
      "execution_count": null,
      "outputs": [
        {
          "output_type": "execute_result",
          "data": {
            "text/plain": [
              "       anime_id         genre   weights\n",
              "0         32281         Drama  0.250000\n",
              "0         32281       Romance  0.250000\n",
              "0         32281        School  0.250000\n",
              "0         32281  Supernatural  0.250000\n",
              "1          5114        Action  0.142857\n",
              "...         ...           ...       ...\n",
              "12289      9316        Hentai  1.000000\n",
              "12290      5543        Hentai  1.000000\n",
              "12291      5621        Hentai  1.000000\n",
              "12292      6133        Hentai  1.000000\n",
              "12293     26081        Hentai  1.000000\n",
              "\n",
              "[36347 rows x 3 columns]"
            ],
            "text/html": [
              "\n",
              "  <div id=\"df-9836b7ce-d51a-4d66-abc5-7d0b90bc1d74\">\n",
              "    <div class=\"colab-df-container\">\n",
              "      <div>\n",
              "<style scoped>\n",
              "    .dataframe tbody tr th:only-of-type {\n",
              "        vertical-align: middle;\n",
              "    }\n",
              "\n",
              "    .dataframe tbody tr th {\n",
              "        vertical-align: top;\n",
              "    }\n",
              "\n",
              "    .dataframe thead th {\n",
              "        text-align: right;\n",
              "    }\n",
              "</style>\n",
              "<table border=\"1\" class=\"dataframe\">\n",
              "  <thead>\n",
              "    <tr style=\"text-align: right;\">\n",
              "      <th></th>\n",
              "      <th>anime_id</th>\n",
              "      <th>genre</th>\n",
              "      <th>weights</th>\n",
              "    </tr>\n",
              "  </thead>\n",
              "  <tbody>\n",
              "    <tr>\n",
              "      <th>0</th>\n",
              "      <td>32281</td>\n",
              "      <td>Drama</td>\n",
              "      <td>0.250000</td>\n",
              "    </tr>\n",
              "    <tr>\n",
              "      <th>0</th>\n",
              "      <td>32281</td>\n",
              "      <td>Romance</td>\n",
              "      <td>0.250000</td>\n",
              "    </tr>\n",
              "    <tr>\n",
              "      <th>0</th>\n",
              "      <td>32281</td>\n",
              "      <td>School</td>\n",
              "      <td>0.250000</td>\n",
              "    </tr>\n",
              "    <tr>\n",
              "      <th>0</th>\n",
              "      <td>32281</td>\n",
              "      <td>Supernatural</td>\n",
              "      <td>0.250000</td>\n",
              "    </tr>\n",
              "    <tr>\n",
              "      <th>1</th>\n",
              "      <td>5114</td>\n",
              "      <td>Action</td>\n",
              "      <td>0.142857</td>\n",
              "    </tr>\n",
              "    <tr>\n",
              "      <th>...</th>\n",
              "      <td>...</td>\n",
              "      <td>...</td>\n",
              "      <td>...</td>\n",
              "    </tr>\n",
              "    <tr>\n",
              "      <th>12289</th>\n",
              "      <td>9316</td>\n",
              "      <td>Hentai</td>\n",
              "      <td>1.000000</td>\n",
              "    </tr>\n",
              "    <tr>\n",
              "      <th>12290</th>\n",
              "      <td>5543</td>\n",
              "      <td>Hentai</td>\n",
              "      <td>1.000000</td>\n",
              "    </tr>\n",
              "    <tr>\n",
              "      <th>12291</th>\n",
              "      <td>5621</td>\n",
              "      <td>Hentai</td>\n",
              "      <td>1.000000</td>\n",
              "    </tr>\n",
              "    <tr>\n",
              "      <th>12292</th>\n",
              "      <td>6133</td>\n",
              "      <td>Hentai</td>\n",
              "      <td>1.000000</td>\n",
              "    </tr>\n",
              "    <tr>\n",
              "      <th>12293</th>\n",
              "      <td>26081</td>\n",
              "      <td>Hentai</td>\n",
              "      <td>1.000000</td>\n",
              "    </tr>\n",
              "  </tbody>\n",
              "</table>\n",
              "<p>36347 rows × 3 columns</p>\n",
              "</div>\n",
              "      <button class=\"colab-df-convert\" onclick=\"convertToInteractive('df-9836b7ce-d51a-4d66-abc5-7d0b90bc1d74')\"\n",
              "              title=\"Convert this dataframe to an interactive table.\"\n",
              "              style=\"display:none;\">\n",
              "        \n",
              "  <svg xmlns=\"http://www.w3.org/2000/svg\" height=\"24px\"viewBox=\"0 0 24 24\"\n",
              "       width=\"24px\">\n",
              "    <path d=\"M0 0h24v24H0V0z\" fill=\"none\"/>\n",
              "    <path d=\"M18.56 5.44l.94 2.06.94-2.06 2.06-.94-2.06-.94-.94-2.06-.94 2.06-2.06.94zm-11 1L8.5 8.5l.94-2.06 2.06-.94-2.06-.94L8.5 2.5l-.94 2.06-2.06.94zm10 10l.94 2.06.94-2.06 2.06-.94-2.06-.94-.94-2.06-.94 2.06-2.06.94z\"/><path d=\"M17.41 7.96l-1.37-1.37c-.4-.4-.92-.59-1.43-.59-.52 0-1.04.2-1.43.59L10.3 9.45l-7.72 7.72c-.78.78-.78 2.05 0 2.83L4 21.41c.39.39.9.59 1.41.59.51 0 1.02-.2 1.41-.59l7.78-7.78 2.81-2.81c.8-.78.8-2.07 0-2.86zM5.41 20L4 18.59l7.72-7.72 1.47 1.35L5.41 20z\"/>\n",
              "  </svg>\n",
              "      </button>\n",
              "      \n",
              "  <style>\n",
              "    .colab-df-container {\n",
              "      display:flex;\n",
              "      flex-wrap:wrap;\n",
              "      gap: 12px;\n",
              "    }\n",
              "\n",
              "    .colab-df-convert {\n",
              "      background-color: #E8F0FE;\n",
              "      border: none;\n",
              "      border-radius: 50%;\n",
              "      cursor: pointer;\n",
              "      display: none;\n",
              "      fill: #1967D2;\n",
              "      height: 32px;\n",
              "      padding: 0 0 0 0;\n",
              "      width: 32px;\n",
              "    }\n",
              "\n",
              "    .colab-df-convert:hover {\n",
              "      background-color: #E2EBFA;\n",
              "      box-shadow: 0px 1px 2px rgba(60, 64, 67, 0.3), 0px 1px 3px 1px rgba(60, 64, 67, 0.15);\n",
              "      fill: #174EA6;\n",
              "    }\n",
              "\n",
              "    [theme=dark] .colab-df-convert {\n",
              "      background-color: #3B4455;\n",
              "      fill: #D2E3FC;\n",
              "    }\n",
              "\n",
              "    [theme=dark] .colab-df-convert:hover {\n",
              "      background-color: #434B5C;\n",
              "      box-shadow: 0px 1px 3px 1px rgba(0, 0, 0, 0.15);\n",
              "      filter: drop-shadow(0px 1px 2px rgba(0, 0, 0, 0.3));\n",
              "      fill: #FFFFFF;\n",
              "    }\n",
              "  </style>\n",
              "\n",
              "      <script>\n",
              "        const buttonEl =\n",
              "          document.querySelector('#df-9836b7ce-d51a-4d66-abc5-7d0b90bc1d74 button.colab-df-convert');\n",
              "        buttonEl.style.display =\n",
              "          google.colab.kernel.accessAllowed ? 'block' : 'none';\n",
              "\n",
              "        async function convertToInteractive(key) {\n",
              "          const element = document.querySelector('#df-9836b7ce-d51a-4d66-abc5-7d0b90bc1d74');\n",
              "          const dataTable =\n",
              "            await google.colab.kernel.invokeFunction('convertToInteractive',\n",
              "                                                     [key], {});\n",
              "          if (!dataTable) return;\n",
              "\n",
              "          const docLinkHtml = 'Like what you see? Visit the ' +\n",
              "            '<a target=\"_blank\" href=https://colab.research.google.com/notebooks/data_table.ipynb>data table notebook</a>'\n",
              "            + ' to learn more about interactive tables.';\n",
              "          element.innerHTML = '';\n",
              "          dataTable['output_type'] = 'display_data';\n",
              "          await google.colab.output.renderOutput(dataTable, element);\n",
              "          const docLink = document.createElement('div');\n",
              "          docLink.innerHTML = docLinkHtml;\n",
              "          element.appendChild(docLink);\n",
              "        }\n",
              "      </script>\n",
              "    </div>\n",
              "  </div>\n",
              "  "
            ]
          },
          "metadata": {},
          "execution_count": 4
        }
      ]
    },
    {
      "cell_type": "code",
      "source": [
        "def encode_column(column):\n",
        "    keys = column.unique()\n",
        "    key_to_id = {key:idx for idx,key in enumerate(keys)}\n",
        "    return key_to_id, np.array([key_to_id[x] for x in column]), len(keys)\n",
        "\n",
        "def encode_column_dict(column):\n",
        "    keys = column.unique()\n",
        "    key_to_id = {key:idx for idx,key in enumerate(keys)}\n",
        "    return key_to_id\n",
        "\n",
        "# This is basically to apply the encode_column function on our columns of choice\n",
        "def encode_df(data):\n",
        "    anime_ids, data['anime_id'], num_anime = encode_column(data['anime_id'])\n",
        "    user_ids, data['user_id'], num_users = encode_column(data['user_id'])\n",
        "    return data, num_users, num_anime, user_ids, anime_ids"
      ],
      "metadata": {
        "id": "wT1dbl13-qYm"
      },
      "execution_count": null,
      "outputs": []
    },
    {
      "cell_type": "code",
      "source": [
        "#creating V matrix \n",
        "#values are the weights of each genre on each film \n",
        "\n",
        "V_df=anime_genre.groupby([anime_genre.anime_id, 'genre'])['weights'].first().unstack().fillna(0)\n",
        "\n",
        "#creating a dictonary to convert anime id to the correct row index of matrix V\n",
        "anime_id_V_dict=encode_column_dict(V_df.index)\n",
        "V_init=np.array(V_df)\n"
      ],
      "metadata": {
        "id": "pjR08i_wmfY2"
      },
      "execution_count": null,
      "outputs": []
    },
    {
      "cell_type": "code",
      "source": [
        "#addindg genre to training data and test data, \n",
        "train_data_genre=pd.merge(train_data,anime_genre,how=\"left\",on=\"anime_id\")\n",
        "test_data_genre=pd.merge(test_data,anime_genre,how=\"left\",on=\"anime_id\")\n",
        "\n",
        "\n"
      ],
      "metadata": {
        "id": "EmKzz2QtKC--"
      },
      "execution_count": null,
      "outputs": []
    },
    {
      "cell_type": "code",
      "source": [
        "# Using group by to display only the average rating per user per genre of anime for both test and train\n",
        "train_data_grouped=train_data_genre.groupby(['user_id','genre'],as_index=False)[\"rating\"].mean()\n",
        "test_data_grouped=test_data_genre.groupby(['user_id','genre'],as_index=False)[\"rating\"].mean()"
      ],
      "metadata": {
        "id": "ucBOnZvMZlNH"
      },
      "execution_count": null,
      "outputs": []
    },
    {
      "cell_type": "code",
      "source": [
        "#creating U matrix \n",
        "# user id are the indexs \n",
        "#values are the average rating per genre \n",
        "U_train_df=train_data_grouped.groupby([train_data_grouped.user_id, 'genre'])['rating'].first().unstack().fillna(0)\n",
        "\n",
        "\n",
        "#creating a dictonary to convert user id to the correct row index of matrix U\n",
        "user_id_U_train_dict=encode_column_dict(U_train_df.index)\n",
        "#creating matrix U\n",
        "U_init=np.array(U_train_df)\n"
      ],
      "metadata": {
        "id": "I_IqUOEfqWnR"
      },
      "execution_count": null,
      "outputs": []
    },
    {
      "cell_type": "code",
      "source": [
        "#changing the user id  to the encoded ones from train data set\n",
        "train_data['user_id_encoded']= [user_id_U_train_dict[x] for x in train_data['user_id']]\n",
        "#changing anime id to those enocded from V matrix \n",
        "train_data['anime_id_encoded']= [anime_id_V_dict[x] for x in train_data['anime_id']]\n"
      ],
      "metadata": {
        "id": "aon9VREMNS-V"
      },
      "execution_count": null,
      "outputs": []
    },
    {
      "cell_type": "code",
      "source": [
        "# changing test data ids to encoded ids\n",
        "\n",
        "def change_code_test(x,dic):\n",
        "  try:\n",
        "    result=dic[x]\n",
        "  except KeyError:\n",
        "    dic[x]=len(dic)# those users not in training set is given the last row of matrix \n",
        "    result=dic[x] \n",
        "  return result\n",
        "\n",
        "test_data['user_id_encoded']=[change_code_test(x,user_id_U_train_dict) for x in test_data['user_id']]\n",
        "test_data.loc[test_data['user_id_encoded']==0]\n",
        "\n",
        "test_data['anime_id_encoded']= [change_code_test(x,anime_id_V_dict)for x in test_data['anime_id']]\n",
        "\n",
        "\n"
      ],
      "metadata": {
        "id": "BVIzeHsSakFG"
      },
      "execution_count": null,
      "outputs": []
    },
    {
      "cell_type": "code",
      "source": [
        "# addind last 0 row to U V matrix\n",
        "\n",
        "U_init=np.vstack([U_init, np.zeros(44)]) \n",
        "#len(U_init)==68422\n",
        "V_init=np.vstack([V_init, np.zeros(44)])\n",
        "#len(V_init)=12294\n",
        "\n",
        "#so for user/film that is in test set but not training set the encoded value will be the last row of U/V\n",
        "#eg user_id 2\n",
        "test_data.loc[test_data.user_id==2]"
      ],
      "metadata": {
        "colab": {
          "base_uri": "https://localhost:8080/",
          "height": 81
        },
        "id": "YmSkaCRTjx1h",
        "outputId": "16135f7f-8896-4066-8454-251d42211fea"
      },
      "execution_count": null,
      "outputs": [
        {
          "output_type": "execute_result",
          "data": {
            "text/plain": [
              "         user_id  anime_id  rating  user_id_encoded  anime_id_encoded\n",
              "1490816        2     11771      10            68421              6632"
            ],
            "text/html": [
              "\n",
              "  <div id=\"df-616301f1-c80e-46e1-87e6-38e6e062d637\">\n",
              "    <div class=\"colab-df-container\">\n",
              "      <div>\n",
              "<style scoped>\n",
              "    .dataframe tbody tr th:only-of-type {\n",
              "        vertical-align: middle;\n",
              "    }\n",
              "\n",
              "    .dataframe tbody tr th {\n",
              "        vertical-align: top;\n",
              "    }\n",
              "\n",
              "    .dataframe thead th {\n",
              "        text-align: right;\n",
              "    }\n",
              "</style>\n",
              "<table border=\"1\" class=\"dataframe\">\n",
              "  <thead>\n",
              "    <tr style=\"text-align: right;\">\n",
              "      <th></th>\n",
              "      <th>user_id</th>\n",
              "      <th>anime_id</th>\n",
              "      <th>rating</th>\n",
              "      <th>user_id_encoded</th>\n",
              "      <th>anime_id_encoded</th>\n",
              "    </tr>\n",
              "  </thead>\n",
              "  <tbody>\n",
              "    <tr>\n",
              "      <th>1490816</th>\n",
              "      <td>2</td>\n",
              "      <td>11771</td>\n",
              "      <td>10</td>\n",
              "      <td>68421</td>\n",
              "      <td>6632</td>\n",
              "    </tr>\n",
              "  </tbody>\n",
              "</table>\n",
              "</div>\n",
              "      <button class=\"colab-df-convert\" onclick=\"convertToInteractive('df-616301f1-c80e-46e1-87e6-38e6e062d637')\"\n",
              "              title=\"Convert this dataframe to an interactive table.\"\n",
              "              style=\"display:none;\">\n",
              "        \n",
              "  <svg xmlns=\"http://www.w3.org/2000/svg\" height=\"24px\"viewBox=\"0 0 24 24\"\n",
              "       width=\"24px\">\n",
              "    <path d=\"M0 0h24v24H0V0z\" fill=\"none\"/>\n",
              "    <path d=\"M18.56 5.44l.94 2.06.94-2.06 2.06-.94-2.06-.94-.94-2.06-.94 2.06-2.06.94zm-11 1L8.5 8.5l.94-2.06 2.06-.94-2.06-.94L8.5 2.5l-.94 2.06-2.06.94zm10 10l.94 2.06.94-2.06 2.06-.94-2.06-.94-.94-2.06-.94 2.06-2.06.94z\"/><path d=\"M17.41 7.96l-1.37-1.37c-.4-.4-.92-.59-1.43-.59-.52 0-1.04.2-1.43.59L10.3 9.45l-7.72 7.72c-.78.78-.78 2.05 0 2.83L4 21.41c.39.39.9.59 1.41.59.51 0 1.02-.2 1.41-.59l7.78-7.78 2.81-2.81c.8-.78.8-2.07 0-2.86zM5.41 20L4 18.59l7.72-7.72 1.47 1.35L5.41 20z\"/>\n",
              "  </svg>\n",
              "      </button>\n",
              "      \n",
              "  <style>\n",
              "    .colab-df-container {\n",
              "      display:flex;\n",
              "      flex-wrap:wrap;\n",
              "      gap: 12px;\n",
              "    }\n",
              "\n",
              "    .colab-df-convert {\n",
              "      background-color: #E8F0FE;\n",
              "      border: none;\n",
              "      border-radius: 50%;\n",
              "      cursor: pointer;\n",
              "      display: none;\n",
              "      fill: #1967D2;\n",
              "      height: 32px;\n",
              "      padding: 0 0 0 0;\n",
              "      width: 32px;\n",
              "    }\n",
              "\n",
              "    .colab-df-convert:hover {\n",
              "      background-color: #E2EBFA;\n",
              "      box-shadow: 0px 1px 2px rgba(60, 64, 67, 0.3), 0px 1px 3px 1px rgba(60, 64, 67, 0.15);\n",
              "      fill: #174EA6;\n",
              "    }\n",
              "\n",
              "    [theme=dark] .colab-df-convert {\n",
              "      background-color: #3B4455;\n",
              "      fill: #D2E3FC;\n",
              "    }\n",
              "\n",
              "    [theme=dark] .colab-df-convert:hover {\n",
              "      background-color: #434B5C;\n",
              "      box-shadow: 0px 1px 3px 1px rgba(0, 0, 0, 0.15);\n",
              "      filter: drop-shadow(0px 1px 2px rgba(0, 0, 0, 0.3));\n",
              "      fill: #FFFFFF;\n",
              "    }\n",
              "  </style>\n",
              "\n",
              "      <script>\n",
              "        const buttonEl =\n",
              "          document.querySelector('#df-616301f1-c80e-46e1-87e6-38e6e062d637 button.colab-df-convert');\n",
              "        buttonEl.style.display =\n",
              "          google.colab.kernel.accessAllowed ? 'block' : 'none';\n",
              "\n",
              "        async function convertToInteractive(key) {\n",
              "          const element = document.querySelector('#df-616301f1-c80e-46e1-87e6-38e6e062d637');\n",
              "          const dataTable =\n",
              "            await google.colab.kernel.invokeFunction('convertToInteractive',\n",
              "                                                     [key], {});\n",
              "          if (!dataTable) return;\n",
              "\n",
              "          const docLinkHtml = 'Like what you see? Visit the ' +\n",
              "            '<a target=\"_blank\" href=https://colab.research.google.com/notebooks/data_table.ipynb>data table notebook</a>'\n",
              "            + ' to learn more about interactive tables.';\n",
              "          element.innerHTML = '';\n",
              "          dataTable['output_type'] = 'display_data';\n",
              "          await google.colab.output.renderOutput(dataTable, element);\n",
              "          const docLink = document.createElement('div');\n",
              "          docLink.innerHTML = docLinkHtml;\n",
              "          element.appendChild(docLink);\n",
              "        }\n",
              "      </script>\n",
              "    </div>\n",
              "  </div>\n",
              "  "
            ]
          },
          "metadata": {},
          "execution_count": 14
        }
      ]
    },
    {
      "cell_type": "code",
      "source": [
        "## model using training data \n",
        "\n",
        "u_list_train=train_data.user_id_encoded.values\n",
        "v_list_train=train_data.anime_id_encoded.values\n",
        "ratings_list_train=train_data.rating.values\n"
      ],
      "metadata": {
        "id": "Ku1xlqHfktwE"
      },
      "execution_count": null,
      "outputs": []
    },
    {
      "cell_type": "code",
      "source": [
        "@jax.jit\n",
        "def model(U, V):\n",
        "  \"\"\"\n",
        "  U: p*r matrix \n",
        "  V: q*r matrix\n",
        "  where p is number of users in training set q is number of anime in the anime data set and r is number of genres\n",
        "  \"\"\"\n",
        "  predictions = jnp.sum(U[u_list_train.astype(int)]*V[v_list_train.astype(int)],axis=1)\n",
        "  MSE = jnp.mean((predictions -ratings_list_train)**2 )\n",
        "  return MSE"
      ],
      "metadata": {
        "id": "MznZkeVQKTkU"
      },
      "execution_count": null,
      "outputs": []
    },
    {
      "cell_type": "code",
      "source": [
        "#find gradient \n",
        "model_grad_U = jax.jit( jax.grad(model, argnums=0) )\n",
        "model_grad_V = jax.jit( jax.grad(model, argnums=1) )\n",
        "     "
      ],
      "metadata": {
        "id": "qnNUemT0EuUM"
      },
      "execution_count": null,
      "outputs": []
    },
    {
      "cell_type": "code",
      "source": [
        "import tqdm\n",
        "# doing Gradient descent\n",
        "niter = 2000\n",
        "eta = 0.01\n",
        "loss_traj = []\n",
        "\n",
        "U = np.copy(U_init)\n",
        "V = np.copy(V_init)\n",
        "\n",
        "for _ in tqdm.tqdm(range(niter)):\n",
        "  # compute my gradients\n",
        "  grad_u = model_grad_U(U,V)\n",
        "  grad_v = model_grad_V(U,V)\n",
        "\n",
        "  # do the GD update\n",
        "  U = U - eta * grad_u\n",
        "  V = V - eta * grad_v\n",
        "\n",
        "  # monitor the loss\n",
        "  loss_traj.append( model(U,V) )\n"
      ],
      "metadata": {
        "colab": {
          "base_uri": "https://localhost:8080/"
        },
        "id": "QEEUJISWFa_t",
        "outputId": "61e22d65-5e01-4be2-c5b9-295ad9580899"
      },
      "execution_count": null,
      "outputs": [
        {
          "output_type": "stream",
          "name": "stderr",
          "text": [
            "100%|██████████| 2000/2000 [02:48<00:00, 11.86it/s]\n"
          ]
        }
      ]
    },
    {
      "cell_type": "code",
      "source": [
        "plt.plot(loss_traj)"
      ],
      "metadata": {
        "colab": {
          "base_uri": "https://localhost:8080/",
          "height": 447
        },
        "id": "MjweOE29L7W2",
        "outputId": "c5a2dc28-73ef-4332-e52c-8cf784d2da1e"
      },
      "execution_count": null,
      "outputs": [
        {
          "output_type": "execute_result",
          "data": {
            "text/plain": [
              "[<matplotlib.lines.Line2D at 0x7f2db6df8c10>]"
            ]
          },
          "metadata": {},
          "execution_count": 35
        },
        {
          "output_type": "display_data",
          "data": {
            "text/plain": [
              "<Figure size 640x480 with 1 Axes>"
            ],
            "image/png": "[encoded data removed]"
          },
          "metadata": {}
        }
      ]
    },
    {
      "cell_type": "code",
      "source": [
        "u_list_test = test_data.user_id_encoded.values\n",
        "v_list_test = test_data.anime_id_encoded.values\n",
        "ratings_list_test = test_data.rating.values\n",
        "predictions = jnp.sum(U[u_list_test.astype(int)] * V[v_list_test.astype(int)], axis=1)\n",
        "MSE = np.mean( (predictions - ratings_list_test)**2 )\n",
        "MSE"
      ],
      "metadata": {
        "colab": {
          "base_uri": "https://localhost:8080/"
        },
        "id": "mCaUfO5TNVNF",
        "outputId": "f6b09387-4cb1-4b7b-a416-7f0aed0af3b4"
      },
      "execution_count": null,
      "outputs": [
        {
          "output_type": "execute_result",
          "data": {
            "text/plain": [
              "Array(1.93320641, dtype=float64)"
            ]
          },
          "metadata": {},
          "execution_count": 36
        }
      ]
    },
    {
      "cell_type": "markdown",
      "source": [
        "Alternating function "
      ],
      "metadata": {
        "id": "vqyik33Bh0hw"
      }
    },
    {
      "cell_type": "code",
      "source": [
        "import tqdm\n",
        "# doing Gradient descent\n",
        "niter = 2000\n",
        "eta = 0.01\n",
        "loss_traj = []\n",
        "\n",
        "U = np.copy(U_init)\n",
        "V = np.copy(V_init)\n",
        "\n",
        "for _ in tqdm.tqdm(range(niter)):\n",
        "  # compute my gradients\n",
        "  grad_u = model_grad_U(U,V)\n",
        "\n",
        "\n",
        "  # do the GD update\n",
        "  U = U - eta * grad_u\n",
        "\n",
        "\n",
        "  # monitor the loss\n",
        "  loss_traj.append( model(U,V) )\n",
        "for _ in tqdm.tqdm(range(niter)):\n",
        "  # compute my gradients\n",
        "\n",
        "  grad_v = model_grad_V(U,V)\n",
        "\n",
        "  # do the GD update\n",
        "\n",
        "  V = V - eta * grad_v\n",
        "\n",
        "  # monitor the loss\n",
        "  loss_traj.append( model(U,V) )"
      ],
      "metadata": {
        "colab": {
          "base_uri": "https://localhost:8080/"
        },
        "id": "1pZ0eIVWh17j",
        "outputId": "520cee28-1aa3-49a8-fcdd-9b1519ceb6e3"
      },
      "execution_count": null,
      "outputs": [
        {
          "output_type": "stream",
          "name": "stderr",
          "text": [
            "100%|██████████| 2000/2000 [01:41<00:00, 19.79it/s]\n",
            "100%|██████████| 2000/2000 [01:38<00:00, 20.26it/s]\n"
          ]
        }
      ]
    },
    {
      "cell_type": "code",
      "source": [
        "plt.plot(loss_traj)"
      ],
      "metadata": {
        "colab": {
          "base_uri": "https://localhost:8080/",
          "height": 447
        },
        "id": "xfA4IfyxiTOF",
        "outputId": "586f8e91-0329-4ff0-b49e-1884e2e7e91c"
      },
      "execution_count": null,
      "outputs": [
        {
          "output_type": "execute_result",
          "data": {
            "text/plain": [
              "[<matplotlib.lines.Line2D at 0x7f2da304ac40>]"
            ]
          },
          "metadata": {},
          "execution_count": 27
        },
        {
          "output_type": "display_data",
          "data": {
            "text/plain": [
              "<Figure size 640x480 with 1 Axes>"
            ],
            "image/png": "[encoded data removed]"
          },
          "metadata": {}
        }
      ]
    },
    {
      "cell_type": "code",
      "source": [
        "u_list_test = test_data.user_id_encoded.values\n",
        "v_list_test = test_data.anime_id_encoded.values\n",
        "ratings_list_test = test_data.rating.values\n",
        "predictions = jnp.sum(U[u_list_test.astype(int)] * V[v_list_test.astype(int)], axis=1)\n",
        "MSE = np.mean( (predictions - ratings_list_test)**2 )\n",
        "MSE"
      ],
      "metadata": {
        "colab": {
          "base_uri": "https://localhost:8080/"
        },
        "id": "egObHUbYiR4t",
        "outputId": "4ec24aba-be28-427e-d621-329fe4323031"
      },
      "execution_count": null,
      "outputs": [
        {
          "output_type": "execute_result",
          "data": {
            "text/plain": [
              "Array(1.93321055, dtype=float64)"
            ]
          },
          "metadata": {},
          "execution_count": 26
        }
      ]
    },
    {
      "cell_type": "code",
      "source": [],
      "metadata": {
        "id": "MMr1TiQHlvWb"
      },
      "execution_count": null,
      "outputs": []
    },
    {
      "cell_type": "code",
      "source": [],
      "metadata": {
        "id": "JyvY6OrwlvlS"
      },
      "execution_count": null,
      "outputs": []
    },
    {
      "cell_type": "code",
      "source": [
        "import tqdm\n",
        "# doing Gradient descent\n",
        "niter = 2000\n",
        "eta = 0.01\n",
        "loss_traj = []\n",
        "\n",
        "U = np.copy(U_init)\n",
        "V = np.copy(V_init)\n",
        "\n",
        "for _ in tqdm.tqdm(range(niter)):\n",
        "  # compute my gradients\n",
        "\n",
        "  grad_v = model_grad_V(U,V)\n",
        "\n",
        "  # do the GD update\n",
        "\n",
        "  V = V - eta * grad_v\n",
        "\n",
        "for _ in tqdm.tqdm(range(niter)):\n",
        "  # compute my gradients\n",
        "  grad_u = model_grad_U(U,V)\n",
        "\n",
        "\n",
        "  # do the GD update\n",
        "  U = U - eta * grad_u\n",
        "\n",
        "\n",
        "  # monitor the loss\n",
        "  loss_traj.append( model(U,V) )\n",
        "\n",
        "\n",
        "  # monitor the loss\n",
        "  loss_traj.append( model(U,V) )"
      ],
      "metadata": {
        "colab": {
          "base_uri": "https://localhost:8080/"
        },
        "outputId": "c41e45e8-70d6-41d5-f516-197651d74335",
        "id": "Car_1FY9lv19"
      },
      "execution_count": null,
      "outputs": [
        {
          "output_type": "stream",
          "name": "stderr",
          "text": [
            "100%|██████████| 2000/2000 [01:04<00:00, 30.84it/s]\n",
            "100%|██████████| 2000/2000 [02:20<00:00, 14.26it/s]\n"
          ]
        }
      ]
    },
    {
      "cell_type": "code",
      "source": [
        "plt.plot(loss_traj)"
      ],
      "metadata": {
        "colab": {
          "base_uri": "https://localhost:8080/",
          "height": 462
        },
        "id": "hpx8Rjlpn5fC",
        "outputId": "58446b34-bc0a-48f8-b35c-765e09842321"
      },
      "execution_count": null,
      "outputs": [
        {
          "output_type": "execute_result",
          "data": {
            "text/plain": [
              "[<matplotlib.lines.Line2D at 0x7f2d8c318250>]"
            ]
          },
          "metadata": {},
          "execution_count": 38
        },
        {
          "output_type": "display_data",
          "data": {
            "text/plain": [
              "<Figure size 640x480 with 1 Axes>"
            ],
            "image/png": "[encoded data removed]"
          },
          "metadata": {}
        }
      ]
    },
    {
      "cell_type": "code",
      "source": [
        "u_list_test = test_data.user_id_encoded.values\n",
        "v_list_test = test_data.anime_id_encoded.values\n",
        "ratings_list_test = test_data.rating.values\n",
        "predictions = jnp.sum(U[u_list_test.astype(int)] * V[v_list_test.astype(int)], axis=1)\n",
        "MSE = np.mean( (predictions - ratings_list_test)**2 )\n",
        "MSE"
      ],
      "metadata": {
        "colab": {
          "base_uri": "https://localhost:8080/"
        },
        "id": "8e1S_TXYn3fG",
        "outputId": "4ec70ab1-ac96-4a43-a250-7de83f42cfa5"
      },
      "execution_count": null,
      "outputs": [
        {
          "output_type": "execute_result",
          "data": {
            "text/plain": [
              "Array(1.93320611, dtype=float64)"
            ]
          },
          "metadata": {},
          "execution_count": 39
        }
      ]
    },
    {
      "cell_type": "markdown",
      "source": [
        "Lambda regularization "
      ],
      "metadata": {
        "id": "WIsS2_-Bm5Nw"
      }
    },
    {
      "cell_type": "code",
      "source": [
        "\n",
        "@jax.jit\n",
        "def reg_model(U, V):\n",
        "  \"\"\"\n",
        "  U: p*r matrix \n",
        "  V: q*r matrix\n",
        "  where p is number of users in training set q is number of anime in the anime data set and r is number of genres\n",
        "  \"\"\"\n",
        "  predictions = jnp.sum(U[u_list_train.astype(int)]*V[v_list_train.astype(int)],axis=1)\n",
        "  MSE = jnp.mean((predictions -ratings_list_train)**2 )\n",
        "  lamb=0.1\n",
        "  #regularization\n",
        "  reg = lamb * jnp.mean( U**2 ) + lamb * jnp.mean( V**2 )\n",
        "  reg_MSE= MSE+reg\n",
        "  return reg_MSE \n",
        "     \n",
        "\n",
        "#find gradient \n",
        "reg_model_grad_U = jax.jit( jax.grad(reg_model, argnums=0) )\n",
        "reg_model_grad_V = jax.jit( jax.grad(reg_model, argnums=1) )"
      ],
      "metadata": {
        "id": "C0P-qlhTm7RH"
      },
      "execution_count": null,
      "outputs": []
    },
    {
      "cell_type": "code",
      "source": [
        "\n",
        "import tqdm\n",
        "# doing Gradient descent\n",
        "niter = 2000\n",
        "eta = 0.01\n",
        "loss_traj = []\n",
        "\n",
        "U = np.copy(U_init)\n",
        "V = np.copy(V_init)\n",
        "\n",
        "for _ in tqdm.tqdm(range(niter)):\n",
        "  # compute my gradients\n",
        "  grad_u = reg_model_grad_U(U,V)\n",
        "  grad_v = reg_model_grad_V(U,V)\n",
        "\n",
        "  # do the GD update\n",
        "  U = U - eta * grad_u\n",
        "  V = V - eta * grad_v\n",
        "\n",
        "  # monitor the loss\n",
        "  loss_traj.append( reg_model(U,V) )"
      ],
      "metadata": {
        "colab": {
          "base_uri": "https://localhost:8080/"
        },
        "id": "R0nREEkBniR0",
        "outputId": "0bbc4f14-ea5c-4082-9f0b-d8998aaeeee0"
      },
      "execution_count": null,
      "outputs": [
        {
          "output_type": "stream",
          "name": "stderr",
          "text": [
            "100%|██████████| 2000/2000 [02:49<00:00, 11.81it/s]\n"
          ]
        }
      ]
    },
    {
      "cell_type": "code",
      "source": [],
      "metadata": {
        "colab": {
          "base_uri": "https://localhost:8080/"
        },
        "id": "shO4ikN-o8eB",
        "outputId": "b3d447e1-5a74-4dc8-d02a-c86513d1f0de"
      },
      "execution_count": null,
      "outputs": [
        {
          "output_type": "execute_result",
          "data": {
            "text/plain": [
              "Array([0., 0., 0., 0., 0., 0., 0., 0., 0., 0., 0., 0., 0., 0., 0., 0., 0.,\n",
              "       0., 0., 0., 0., 0., 0., 0., 0., 0., 0., 0., 0., 0., 0., 0., 0., 0.,\n",
              "       0., 0., 0., 0., 0., 0., 0., 0., 0., 0.], dtype=float64)"
            ]
          },
          "metadata": {},
          "execution_count": 45
        }
      ]
    },
    {
      "cell_type": "code",
      "source": [
        "V[-1]"
      ],
      "metadata": {
        "colab": {
          "base_uri": "https://localhost:8080/"
        },
        "id": "IJ0uQCalo_sW",
        "outputId": "2f559242-def4-438f-d50e-ffb0bef8a7bc"
      },
      "execution_count": null,
      "outputs": [
        {
          "output_type": "execute_result",
          "data": {
            "text/plain": [
              "Array([0., 0., 0., 0., 0., 0., 0., 0., 0., 0., 0., 0., 0., 0., 0., 0., 0.,\n",
              "       0., 0., 0., 0., 0., 0., 0., 0., 0., 0., 0., 0., 0., 0., 0., 0., 0.,\n",
              "       0., 0., 0., 0., 0., 0., 0., 0., 0., 0.], dtype=float64)"
            ]
          },
          "metadata": {},
          "execution_count": 46
        }
      ]
    },
    {
      "cell_type": "code",
      "source": [
        "plt.plot(loss_traj)"
      ],
      "metadata": {
        "colab": {
          "base_uri": "https://localhost:8080/",
          "height": 447
        },
        "id": "WpuNOjv1nryQ",
        "outputId": "b47ed48d-cc82-4777-b75e-bf5ae59f421d"
      },
      "execution_count": null,
      "outputs": [
        {
          "output_type": "execute_result",
          "data": {
            "text/plain": [
              "[<matplotlib.lines.Line2D at 0x7f2d8c166dc0>]"
            ]
          },
          "metadata": {},
          "execution_count": 43
        },
        {
          "output_type": "display_data",
          "data": {
            "text/plain": [
              "<Figure size 640x480 with 1 Axes>"
            ],
            "image/png": "[encoded data removed]"
          },
          "metadata": {}
        }
      ]
    },
    {
      "cell_type": "code",
      "source": [
        "\n",
        "u_list_test = test_data.user_id_encoded.values\n",
        "v_list_test = test_data.anime_id_encoded.values\n",
        "ratings_list_test = test_data.rating.values\n",
        "predictions = jnp.sum(U[u_list_test.astype(int)] * V[v_list_test.astype(int)], axis=1)\n",
        "MSE = np.mean( (predictions - ratings_list_test)**2 )\n",
        "MSE"
      ],
      "metadata": {
        "colab": {
          "base_uri": "https://localhost:8080/"
        },
        "id": "0t6tCW0KnuUr",
        "outputId": "c062ee45-0608-47de-dc19-eea63fc42c56"
      },
      "execution_count": null,
      "outputs": [
        {
          "output_type": "execute_result",
          "data": {
            "text/plain": [
              "Array(1.93320314, dtype=float64)"
            ]
          },
          "metadata": {},
          "execution_count": 44
        }
      ]
    },
    {
      "cell_type": "markdown",
      "source": [
        "Momentum  GD "
      ],
      "metadata": {
        "id": "M4ZQV5kKjs4o"
      }
    },
    {
      "cell_type": "code",
      "source": [
        "# Gradient descent\n",
        "niter = 100\n",
        "eta = 100.\n",
        "loss_traj = []\n",
        "B = 0.9\n",
        "U = np.copy(U_init)\n",
        "V = np.copy(V_init)\n",
        "\n",
        "U_tracker = [U_init]\n",
        "V_tracker = [V_init]\n",
        "\n",
        "for _ in tqdm.tqdm(range(niter)):\n",
        "  # compute my gradients\n",
        "  grad_u = model_grad_U(U,V)\n",
        "  grad_v = model_grad_V(U,V)\n",
        "  \n",
        "  # do the GD update\n",
        "  U = U - eta * grad_u + B*(U-U_tracker[-1])\n",
        "  V = V - eta * grad_v + B*(V-V_tracker[-1])\n",
        "\n",
        "  U_tracker.append(U)\n",
        "  V_tracker.append(V)\n",
        "  # monitor the loss\n",
        "  loss_traj.append( model(U,V) )\n",
        "\n",
        "u_list_val = valid_data.user_id.values\n",
        "v_list_val = valid_data.anime_id.values\n",
        "ratings_list_val = valid_data.rating.values\n",
        "predictions = jnp.sum(U[u_list_val.astype(int)] * V[v_list_val.astype(int)], axis=1)\n",
        "MSE = onp.mean( (predictions - ratings_list_val)**2 )\n",
        "MSE"
      ],
      "metadata": {
        "id": "JNK5yMcxjsfd"
      },
      "execution_count": null,
      "outputs": []
    }
  ]
}