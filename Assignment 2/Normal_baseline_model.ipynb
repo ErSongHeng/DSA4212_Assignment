{
  "nbformat": 4,
  "nbformat_minor": 0,
  "metadata": {
    "colab": {
      "provenance": [],
      "machine_shape": "hm"
    },
    "kernelspec": {
      "name": "python3",
      "display_name": "Python 3"
    },
    "language_info": {
      "name": "python"
    },
    "accelerator": "GPU",
    "gpuClass": "standard"
  },
  "cells": [
    {
      "cell_type": "code",
      "execution_count": null,
      "metadata": {
        "colab": {
          "base_uri": "https://localhost:8080/"
        },
        "id": "wYYH4vm6FPLX",
        "outputId": "00e293c0-1d1c-4687-ef90-6b979225a469"
      },
      "outputs": [
        {
          "output_type": "stream",
          "name": "stdout",
          "text": [
            "Drive already mounted at /content/drive; to attempt to forcibly remount, call drive.mount(\"/content/drive\", force_remount=True).\n"
          ]
        }
      ],
      "source": [
        "# mount the Google Drive\n",
        "from google.colab import drive\n",
        "\n",
        "drive.mount(\"/content/drive\")"
      ]
    },
    {
      "cell_type": "markdown",
      "source": [
        "## Normal predictor ##\n"
      ],
      "metadata": {
        "id": "aIu1K-STPYFp"
      }
    },
    {
      "cell_type": "code",
      "source": [
        "#drive/MyDrive/DSA4212/assignment_2/\n",
        "%cd /content/drive/MyDrive/DSA4212/assignment_2\n",
        "%ls"
      ],
      "metadata": {
        "colab": {
          "base_uri": "https://localhost:8080/"
        },
        "id": "thkFidA9FkO6",
        "outputId": "a4efd8d6-421a-495b-fb14-d19af817cf41"
      },
      "execution_count": null,
      "outputs": [
        {
          "output_type": "stream",
          "name": "stdout",
          "text": [
            "/content/drive/MyDrive/DSA4212/assignment_2\n",
            " \u001b[0m\u001b[01;34massignment_2_data\u001b[0m/               'DSA4212 assignment 2 code'\n",
            " dsa4212_2022_assignment_2-2.pdf   tutorial_matrix_factorization_CLASS.ipynb\n"
          ]
        }
      ]
    },
    {
      "cell_type": "code",
      "source": [
        "import jax as jx\n",
        "from jax.config import config\n",
        "config.update('jax_enable_x64', True)  # often needed for LBFGS that requires high-precision\n",
        "\n",
        "\n",
        "import jax.numpy as jnp\n",
        "import numpy as onp\n",
        "import pylab as plt\n",
        "import tqdm\n",
        "\n",
        "import imageio\n",
        "import os\n",
        "from skimage.transform import rescale, resize, downscale_local_mean\n",
        "import pandas as pd\n",
        "import time\n",
        "import scipy\n",
        "\n",
        "try:\n",
        "    import surprise\n",
        "except ModuleNotFoundError: # Install flax if missing\n",
        "    !pip install --quiet surprise\n",
        "    import surprise"
      ],
      "metadata": {
        "id": "CIppMysTF5zN"
      },
      "execution_count": null,
      "outputs": []
    },
    {
      "cell_type": "code",
      "source": [
        "from surprise import NormalPredictor,KNNBasic\n",
        "from surprise import Dataset\n",
        "from surprise import Reader\n",
        "from surprise.accuracy import mse\n",
        "from surprise.model_selection.validation import cross_validate"
      ],
      "metadata": {
        "id": "VouaopNozrew"
      },
      "execution_count": null,
      "outputs": []
    },
    {
      "cell_type": "code",
      "source": [
        "# Reading in data\n",
        "# anime_id,name,genre,type,rating,members\n",
        "anime_name = pd.read_csv(\"assignment_2_data/assignment_2_anime.csv\")\n",
        "\n",
        "# User_id,anime_id,rating\n",
        "train = pd.read_csv(\"assignment_2_data/assignment_2_ratings_train.csv\")\n",
        "# User_id,anime_id,rating\n",
        "test = pd.read_csv(\"assignment_2_data/assignment_2_ratings_test.csv\")\n",
        "\n",
        "train.info()\n"
      ],
      "metadata": {
        "colab": {
          "base_uri": "https://localhost:8080/"
        },
        "id": "BppqWsOqGPPk",
        "outputId": "7c655fa9-ea34-4d1e-d988-a38517e377c3"
      },
      "execution_count": null,
      "outputs": [
        {
          "output_type": "stream",
          "name": "stdout",
          "text": [
            "<class 'pandas.core.frame.DataFrame'>\n",
            "RangeIndex: 4436068 entries, 0 to 4436067\n",
            "Data columns (total 3 columns):\n",
            " #   Column    Dtype\n",
            "---  ------    -----\n",
            " 0   user_id   int64\n",
            " 1   anime_id  int64\n",
            " 2   rating    int64\n",
            "dtypes: int64(3)\n",
            "memory usage: 101.5 MB\n"
          ]
        }
      ]
    },
    {
      "cell_type": "code",
      "source": [
        "# Train data\n",
        "reader = Reader(rating_scale = (1, 10))\n",
        "\n",
        "train_data = Dataset.load_from_df(train[['user_id', 'anime_id', 'rating']], reader)\n",
        "\n",
        "trainset = train_data.build_full_trainset()\n",
        "\n",
        "# Test data\n",
        "reader = Reader(rating_scale = (1, 10))\n",
        "\n",
        "test_data = Dataset.load_from_df(test[['user_id', 'anime_id', 'rating']], reader)\n",
        "\n",
        "testset = test_data.build_full_trainset().build_testset()"
      ],
      "metadata": {
        "id": "58hXmMp93OJn"
      },
      "execution_count": null,
      "outputs": []
    },
    {
      "cell_type": "code",
      "source": [
        "algo = NormalPredictor()\n",
        "algo.fit(trainset)"
      ],
      "metadata": {
        "colab": {
          "base_uri": "https://localhost:8080/"
        },
        "id": "CCmeadvd3-bc",
        "outputId": "653d099d-db6a-4c67-c84e-7f9ca7f0a940"
      },
      "execution_count": null,
      "outputs": [
        {
          "output_type": "execute_result",
          "data": {
            "text/plain": [
              "<surprise.prediction_algorithms.random_pred.NormalPredictor at 0x7ff43a20e910>"
            ]
          },
          "metadata": {},
          "execution_count": 145
        }
      ]
    },
    {
      "cell_type": "code",
      "source": [
        "predictions = algo.test(testset)\n",
        "mse(predictions)"
      ],
      "metadata": {
        "colab": {
          "base_uri": "https://localhost:8080/"
        },
        "id": "-dq4JdEj5R4U",
        "outputId": "973d03cc-3cb2-4b1b-febb-6ff6c0e247ca"
      },
      "execution_count": null,
      "outputs": [
        {
          "output_type": "stream",
          "name": "stdout",
          "text": [
            "MSE: 4.6107\n"
          ]
        },
        {
          "output_type": "execute_result",
          "data": {
            "text/plain": [
              "4.610744216470551"
            ]
          },
          "metadata": {},
          "execution_count": 147
        }
      ]
    },
    {
      "cell_type": "markdown",
      "source": [],
      "metadata": {
        "id": "SA0FsN2jPclZ"
      }
    },
    {
      "cell_type": "code",
      "source": [
        "\n"
      ],
      "metadata": {
        "id": "Fo2XDs0oPUNP"
      },
      "execution_count": null,
      "outputs": []
    }
  ]
}